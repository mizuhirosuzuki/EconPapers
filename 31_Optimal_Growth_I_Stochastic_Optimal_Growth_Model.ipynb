{
 "cells": [
  {
   "cell_type": "markdown",
   "metadata": {},
   "source": [
    "# The stochastic optimal growth model with the collocation method + Gaussian quadrature approximation"
   ]
  },
  {
   "cell_type": "markdown",
   "metadata": {},
   "source": [
    "The purpose of this notebook is to demonstrate how to implement the collocation method for functional approximation and Gaussian quadrature method for the approximation of expectation.\n",
    "\n",
    "The original set up is based on [the notebook by QuantEcon](https://julia.quantecon.org/dynamic_programming/optgrowth.html).\n",
    "It uses the interpolation approximation and Monte Carlo approximation.\n",
    "I contrast these two implementations from the run-time and accuracy perspectives."
   ]
  },
  {
   "cell_type": "markdown",
   "metadata": {},
   "source": [
    "## The model"
   ]
  },
  {
   "cell_type": "markdown",
   "metadata": {},
   "source": [
    "Consider an agent with an amount $y_t$ of a consumption good at period $t$.\n",
    "This can be used for productive investment or consumption.\n",
    "\n",
    "With a production shock, $\\xi_t$, the next period output is\n",
    "\n",
    "$$\n",
    "    y_{t + 1} = f(k_{t + 1}) \\xi_{t + 1},\n",
    "$$\n",
    "\n",
    "where $f$ is the production function.\n",
    "\n",
    "The resource constraint is \n",
    "\n",
    "$$\n",
    "    k_{t + 1} + c_t \\le y_t.\n",
    "$$\n",
    "\n",
    "For more details on the set up, refer to [the original notebook](https://julia.quantecon.org/dynamic_programming/optgrowth.html)."
   ]
  },
  {
   "cell_type": "markdown",
   "metadata": {},
   "source": [
    "## Optimization"
   ]
  },
  {
   "cell_type": "markdown",
   "metadata": {},
   "source": [
    "Taking $y_0$ as given, the agent maximizes\n",
    "$$\n",
    "    E \\left[ \\sum_{t = 0}^{\\infty} \\beta^t u(c_t) \\right]\n",
    "$$\n",
    "\n",
    "subject to \n",
    "\n",
    "$$\n",
    "    y_{t + 1} = f(y_t - c_t) \\xi_{t + 1} \\quad \\forall t \\\\\n",
    "    0 \\le c_t \\le y_t \\quad \\forall t.\n",
    "$$"
   ]
  },
  {
   "cell_type": "markdown",
   "metadata": {},
   "source": [
    "The Bellman equation takes the form\n",
    "\n",
    "$$\n",
    "    w(y) = \\max_{0 \\le c \\le y} \\left\\{ u(c) + \\beta E\\left[w \\left( f(y - c) \\xi \\right) \\right] \\right\\}.\n",
    "$$"
   ]
  },
  {
   "cell_type": "markdown",
   "metadata": {},
   "source": [
    "## Computation"
   ]
  },
  {
   "cell_type": "code",
   "execution_count": 1,
   "metadata": {},
   "outputs": [],
   "source": [
    "using Pkg"
   ]
  },
  {
   "cell_type": "code",
   "execution_count": 381,
   "metadata": {},
   "outputs": [],
   "source": [
    "using LinearAlgebra, Statistics\n",
    "using LaTeXStrings, Plots, QuantEcon, Interpolations, CompEcon\n",
    "using NLsolve, Optim, Random, Parameters\n",
    "using BenchmarkTools"
   ]
  },
  {
   "cell_type": "markdown",
   "metadata": {},
   "source": [
    "For the functional forms, it is assumed that\n",
    "\n",
    "- utility function: $u(c) = log(c)$\n",
    "- production function: $f(k; \\alpha) = k^{\\alpha}$"
   ]
  },
  {
   "cell_type": "code",
   "execution_count": 348,
   "metadata": {},
   "outputs": [
    {
     "data": {
      "text/plain": [
       "f (generic function with 2 methods)"
      ]
     },
     "execution_count": 348,
     "metadata": {},
     "output_type": "execute_result"
    }
   ],
   "source": [
    "Random.seed!(42)\n",
    "u(c; p) = log(c)\n",
    "f(k; p) = k^p.α"
   ]
  },
  {
   "cell_type": "markdown",
   "metadata": {},
   "source": [
    "The production shock is assumed to follow the log-normal distribution.\n",
    "The parametric assumptions are defined here.\n",
    "Also, note that, because the analytical solution for the value function is known, it is implemented here as well."
   ]
  },
  {
   "cell_type": "code",
   "execution_count": 366,
   "metadata": {},
   "outputs": [
    {
     "data": {
      "text/plain": [
       "c_star (generic function with 1 method)"
      ]
     },
     "execution_count": 366,
     "metadata": {},
     "output_type": "execute_result"
    }
   ],
   "source": [
    "OptimalGrowthModel = @with_kw (\n",
    "    α = 0.4, β = 0.96, μ = 0.0, s = 0.1, \n",
    "    u = u, f = f,\n",
    "    y = range(1e-5, 4.0, length = 200),\n",
    "    ξ = exp.(μ .+ s * randn(250))\n",
    ")\n",
    "p = OptimalGrowthModel();\n",
    "\n",
    "function v_star(y; p)\n",
    "    @unpack α, μ, β = p\n",
    "    c1 = log(1. - α * β) / (1. - β)\n",
    "    c2 = (μ + α * log(α * β)) / (1. - α)\n",
    "    c3 = 1. / (1. - β)\n",
    "    c4 = 1. / (1. - α * β)\n",
    "    return c1 + c2 * (c3 - c4) + c4 * log(y)\n",
    "end\n",
    "c_star(y; p) = (1 - p.α * p.β) * y"
   ]
  },
  {
   "cell_type": "markdown",
   "metadata": {},
   "source": [
    "## Computation (Collocation method + Gaussian quadrature approximation)"
   ]
  },
  {
   "cell_type": "markdown",
   "metadata": {},
   "source": [
    "Here, I solve the Bellman equation by approximating the value function with the collocation.\n",
    "For this, refer to, for example, [the textbook by Miranda and Fackler](https://mitpress.mit.edu/9780262633093/applied-computational-economics-and-finance/)."
   ]
  },
  {
   "cell_type": "markdown",
   "metadata": {},
   "source": [
    "I approximate $w(y)$ by $\\sum_{j = 1}^n h_j \\phi_j(y)$.\n",
    "Using this, the Bellman equation above is approximated by\n",
    "\n",
    "$$\n",
    "    w(y) \\approx \\max_{0 \\le c \\le y} \\left\\{ u(c) + \\beta E\\left[\\sum_{j = 1}^n h_j \\phi_j \\left( f(y - c) \\xi \\right) \\right] \\right\\},\n",
    "$$\n",
    "\n",
    "where $h_j$ is a colloation coefficient at a collocation node $j$.\n"
   ]
  },
  {
   "cell_type": "markdown",
   "metadata": {},
   "source": [
    "Furthermore, I approximate the expectation with the Gaussian quadrature method:\n",
    "\n",
    "$$\n",
    "    w(y) \\approx \\max_{0 \\le c \\le y} \\left\\{ u(c) + \\beta \\sum_{k = 1}^K \\tau_k \\left[\\sum_{j = 1}^n h_j \\phi_j \\left( f(y - c) \\xi \\right) \\right] \\right\\},\n",
    "$$\n",
    "\n",
    "where $\\tau_k$ is a Gaussian quadrature weight."
   ]
  },
  {
   "cell_type": "code",
   "execution_count": 386,
   "metadata": {},
   "outputs": [],
   "source": [
    "basis = fundefn(:spli, 80, 1e-4, 4.0);\n",
    "ξ_nodes, ξ_weights = qnwlogn(10, p.μ, p.s);"
   ]
  },
  {
   "cell_type": "code",
   "execution_count": 387,
   "metadata": {},
   "outputs": [
    {
     "data": {
      "text/plain": [
       "T (generic function with 2 methods)"
      ]
     },
     "execution_count": 387,
     "metadata": {},
     "output_type": "execute_result"
    }
   ],
   "source": [
    "# Bellman Operator\n",
    "function T(w; p, basis, tol = 1e-10)\n",
    "    @unpack β, u, f, ξ, y = p\n",
    "    w_nodes = funfitxy(basis, y, w)[1]\n",
    "\n",
    "    Tw = similar(w)\n",
    "    σ = similar(w)\n",
    "    for (i, y_val) in enumerate(y)\n",
    "        results = Optim.optimize(c -> -(u(c; p=p) + β * dot(funeval(w_nodes, basis, f(y_val - c; p=p) .* ξ_nodes)[1], ξ_weights)), 1e-10, y_val - 1e-10)\n",
    "        Tw[i] = -Optim.minimum(results)\n",
    "        σ[i] = Optim.minimizer(results)\n",
    "    end\n",
    "    return (; w = Tw, σ = σ)\n",
    "end"
   ]
  },
  {
   "cell_type": "code",
   "execution_count": 390,
   "metadata": {},
   "outputs": [
    {
     "data": {
      "text/plain": [
       "solve_optgrowth (generic function with 2 methods)"
      ]
     },
     "execution_count": 390,
     "metadata": {},
     "output_type": "execute_result"
    }
   ],
   "source": [
    "function solve_optgrowth(initial_w; p, basis, iterations = 500, m = 3, show_trace = false)\n",
    "    results = fixedpoint(x -> T(x; p=p, basis=basis).w, initial_w, iterations=iterations, m=m, show_trace=show_trace)\n",
    "    v_star = results.zero\n",
    "    σ = T(results.zero; p=p, basis=basis).σ\n",
    "    return (;v_star=v_star, σ=σ, results=results)\n",
    "end"
   ]
  },
  {
   "cell_type": "code",
   "execution_count": 401,
   "metadata": {},
   "outputs": [
    {
     "name": "stdout",
     "output_type": "stream",
     "text": [
      "Converted in 17 to an ||residuals||_∞ of 1.2095711099391337e-9\n",
      "  0.618698 seconds (5.72 M allocations: 504.892 MiB, 9.55% gc time)\n"
     ]
    },
    {
     "data": {
      "image/png": "[encoded data removed]"
     },
     "execution_count": 401,
     "metadata": {},
     "output_type": "execute_result"
    }
   ],
   "source": [
    "@time begin\n",
    "initial_w = 5 * log.(p.y)\n",
    "sol = solve_optgrowth(initial_w; p=p, basis=basis)\n",
    "v_star_approx = sol.v_star\n",
    "println(\"Converted in $(sol.results.iterations) to an ||residuals||_∞ of $(sol.results.residual_norm)\")\n",
    "\n",
    "plt = plot(ylim = (-35, -24), fmt = :png)\n",
    "plot!(plt, p.y, v_star_approx, linewidth = 2, alpha = 0.6, label = \"approximate value function\")\n",
    "plot!(plt, p.y, v_star.(p.y; p=p), linewidth = 2, alpha = 0.6, label = \"true value function\")\n",
    "plot!(plt, legend = :bottomright)\n",
    "end"
   ]
  },
  {
   "cell_type": "markdown",
   "metadata": {},
   "source": [
    "## Computation (original: Interpolation approximation + Monte Carlo approximation)"
   ]
  },
  {
   "cell_type": "markdown",
   "metadata": {},
   "source": [
    "The original notebook used the interpolation approximation for the function $w$ and also Monte Carlo approximation for the expectation."
   ]
  },
  {
   "cell_type": "code",
   "execution_count": 392,
   "metadata": {},
   "outputs": [
    {
     "data": {
      "text/plain": [
       "T_orig (generic function with 1 method)"
      ]
     },
     "execution_count": 392,
     "metadata": {},
     "output_type": "execute_result"
    }
   ],
   "source": [
    "# Bellman Operator in the original implementation\n",
    "function T_orig(w; p, tol = 1e-10)\n",
    "    @unpack β, u, f, ξ, y = p\n",
    "    w_func = linear_interpolation(y, w, extrapolation_bc = Line())\n",
    "    \n",
    "    Tw = similar(w)\n",
    "    σ = similar(w)\n",
    "    for (i, y_val) in enumerate(y)\n",
    "        results = Optim.optimize(c -> -(u(c; p=p) + β * mean(w_func.(f(y_val - c; p=p) .* ξ))), 1e-10, y_val - 1e-10)\n",
    "        Tw[i] = -Optim.minimum(results)\n",
    "        σ[i] = Optim.minimizer(results)\n",
    "    end\n",
    "    return (; w = Tw, σ = σ)\n",
    "end"
   ]
  },
  {
   "cell_type": "code",
   "execution_count": 395,
   "metadata": {},
   "outputs": [
    {
     "data": {
      "text/plain": [
       "solve_optgrowth_orig (generic function with 1 method)"
      ]
     },
     "execution_count": 395,
     "metadata": {},
     "output_type": "execute_result"
    }
   ],
   "source": [
    "function solve_optgrowth_orig(initial_w; p, iterations = 500, m = 3, show_trace = false)\n",
    "    results = fixedpoint(x -> T_orig(x; p=p).w, initial_w, iterations=iterations, m=m, show_trace=show_trace)\n",
    "    v_star = results.zero\n",
    "    σ = T_orig(results.zero; p=p).σ\n",
    "    return (;v_star=v_star, σ=σ, results=results)\n",
    "end"
   ]
  },
  {
   "cell_type": "code",
   "execution_count": 400,
   "metadata": {},
   "outputs": [
    {
     "name": "stdout",
     "output_type": "stream",
     "text": [
      "Converted in 14 to an ||residuals||_∞ of 3.2168401276067016e-9\n",
      "  0.175499 seconds (66.75 k allocations: 108.872 MiB, 8.13% gc time)\n"
     ]
    },
    {
     "data": {
      "image/png": "[encoded data removed]"
     },
     "execution_count": 400,
     "metadata": {},
     "output_type": "execute_result"
    }
   ],
   "source": [
    "@time begin\n",
    "initial_w = 5 * log.(p.y)\n",
    "sol = solve_optgrowth_orig(initial_w; p=p)\n",
    "v_star_approx = sol.v_star\n",
    "println(\"Converted in $(sol.results.iterations) to an ||residuals||_∞ of $(sol.results.residual_norm)\")\n",
    "\n",
    "plt = plot(ylim = (-35, -24), fmt = :png)\n",
    "plot!(plt, p.y, v_star_approx, linewidth = 2, alpha = 0.6, label = \"approximate value function\")\n",
    "plot!(plt, p.y, v_star.(p.y; p=p), linewidth = 2, alpha = 0.6, label = \"true value function\")\n",
    "plot!(plt, legend = :bottomright)\n",
    "end"
   ]
  },
  {
   "cell_type": "markdown",
   "metadata": {},
   "source": [
    "## Run-time comparision"
   ]
  },
  {
   "cell_type": "code",
   "execution_count": 398,
   "metadata": {},
   "outputs": [
    {
     "data": {
      "text/plain": [
       "BenchmarkTools.Trial: 9 samples with 1 evaluation.\n",
       " Range \u001b[90m(\u001b[39m\u001b[36m\u001b[1mmin\u001b[22m\u001b[39m … \u001b[35mmax\u001b[39m\u001b[90m):  \u001b[39m\u001b[36m\u001b[1m536.319 ms\u001b[22m\u001b[39m … \u001b[35m619.670 ms\u001b[39m  \u001b[90m┊\u001b[39m GC \u001b[90m(\u001b[39mmin … max\u001b[90m): \u001b[39m10.25% … 9.39%\n",
       " Time  \u001b[90m(\u001b[39m\u001b[34m\u001b[1mmedian\u001b[22m\u001b[39m\u001b[90m):     \u001b[39m\u001b[34m\u001b[1m575.805 ms               \u001b[22m\u001b[39m\u001b[90m┊\u001b[39m GC \u001b[90m(\u001b[39mmedian\u001b[90m):    \u001b[39m11.86%\n",
       " Time  \u001b[90m(\u001b[39m\u001b[32m\u001b[1mmean\u001b[22m\u001b[39m ± \u001b[32mσ\u001b[39m\u001b[90m):   \u001b[39m\u001b[32m\u001b[1m582.258 ms\u001b[22m\u001b[39m ± \u001b[32m 27.008 ms\u001b[39m  \u001b[90m┊\u001b[39m GC \u001b[90m(\u001b[39mmean ± σ\u001b[90m):  \u001b[39m11.16% ± 1.15%\n",
       "\n",
       "  \u001b[39m█\u001b[39m \u001b[39m \u001b[39m \u001b[39m \u001b[39m \u001b[39m \u001b[39m \u001b[39m \u001b[39m \u001b[39m \u001b[39m \u001b[39m \u001b[39m \u001b[39m \u001b[39m \u001b[39m \u001b[39m█\u001b[39m \u001b[39m \u001b[39m \u001b[39m \u001b[39m \u001b[39m \u001b[39m█\u001b[39m \u001b[34m█\u001b[39m\u001b[39m \u001b[39m█\u001b[39m \u001b[39m \u001b[39m \u001b[39m \u001b[39m \u001b[32m \u001b[39m\u001b[39m \u001b[39m \u001b[39m \u001b[39m \u001b[39m \u001b[39m \u001b[39m█\u001b[39m \u001b[39m█\u001b[39m \u001b[39m \u001b[39m \u001b[39m \u001b[39m \u001b[39m \u001b[39m \u001b[39m \u001b[39m \u001b[39m \u001b[39m \u001b[39m \u001b[39m \u001b[39m \u001b[39m \u001b[39m█\u001b[39m█\u001b[39m \u001b[39m \n",
       "  \u001b[39m█\u001b[39m▁\u001b[39m▁\u001b[39m▁\u001b[39m▁\u001b[39m▁\u001b[39m▁\u001b[39m▁\u001b[39m▁\u001b[39m▁\u001b[39m▁\u001b[39m▁\u001b[39m▁\u001b[39m▁\u001b[39m▁\u001b[39m▁\u001b[39m▁\u001b[39m█\u001b[39m▁\u001b[39m▁\u001b[39m▁\u001b[39m▁\u001b[39m▁\u001b[39m▁\u001b[39m█\u001b[39m▁\u001b[34m█\u001b[39m\u001b[39m▁\u001b[39m█\u001b[39m▁\u001b[39m▁\u001b[39m▁\u001b[39m▁\u001b[39m▁\u001b[32m▁\u001b[39m\u001b[39m▁\u001b[39m▁\u001b[39m▁\u001b[39m▁\u001b[39m▁\u001b[39m▁\u001b[39m█\u001b[39m▁\u001b[39m█\u001b[39m▁\u001b[39m▁\u001b[39m▁\u001b[39m▁\u001b[39m▁\u001b[39m▁\u001b[39m▁\u001b[39m▁\u001b[39m▁\u001b[39m▁\u001b[39m▁\u001b[39m▁\u001b[39m▁\u001b[39m▁\u001b[39m▁\u001b[39m█\u001b[39m█\u001b[39m \u001b[39m▁\n",
       "  536 ms\u001b[90m           Histogram: frequency by time\u001b[39m          620 ms \u001b[0m\u001b[1m<\u001b[22m\n",
       "\n",
       " Memory estimate\u001b[90m: \u001b[39m\u001b[33m504.49 MiB\u001b[39m, allocs estimate\u001b[90m: \u001b[39m\u001b[33m5718276\u001b[39m."
      ]
     },
     "execution_count": 398,
     "metadata": {},
     "output_type": "execute_result"
    }
   ],
   "source": [
    "@benchmark solve_optgrowth(initial_w; p=p, basis=basis)"
   ]
  },
  {
   "cell_type": "code",
   "execution_count": 399,
   "metadata": {},
   "outputs": [
    {
     "data": {
      "text/plain": [
       "BenchmarkTools.Trial: 29 samples with 1 evaluation.\n",
       " Range \u001b[90m(\u001b[39m\u001b[36m\u001b[1mmin\u001b[22m\u001b[39m … \u001b[35mmax\u001b[39m\u001b[90m):  \u001b[39m\u001b[36m\u001b[1m166.661 ms\u001b[22m\u001b[39m … \u001b[35m185.903 ms\u001b[39m  \u001b[90m┊\u001b[39m GC \u001b[90m(\u001b[39mmin … max\u001b[90m): \u001b[39m6.28% … 11.75%\n",
       " Time  \u001b[90m(\u001b[39m\u001b[34m\u001b[1mmedian\u001b[22m\u001b[39m\u001b[90m):     \u001b[39m\u001b[34m\u001b[1m176.626 ms               \u001b[22m\u001b[39m\u001b[90m┊\u001b[39m GC \u001b[90m(\u001b[39mmedian\u001b[90m):    \u001b[39m6.03%\n",
       " Time  \u001b[90m(\u001b[39m\u001b[32m\u001b[1mmean\u001b[22m\u001b[39m ± \u001b[32mσ\u001b[39m\u001b[90m):   \u001b[39m\u001b[32m\u001b[1m175.594 ms\u001b[22m\u001b[39m ± \u001b[32m  5.395 ms\u001b[39m  \u001b[90m┊\u001b[39m GC \u001b[90m(\u001b[39mmean ± σ\u001b[90m):  \u001b[39m6.37% ±  1.07%\n",
       "\n",
       "  \u001b[39m▃\u001b[39m \u001b[39m \u001b[39m \u001b[39m \u001b[39m \u001b[39m \u001b[39m \u001b[39m▃\u001b[39m \u001b[39m \u001b[39m \u001b[39m \u001b[39m \u001b[39m \u001b[39m \u001b[39m \u001b[39m \u001b[39m▃\u001b[39m \u001b[39m \u001b[39m \u001b[39m \u001b[39m \u001b[39m \u001b[39m \u001b[39m \u001b[39m \u001b[34m \u001b[39m\u001b[39m \u001b[39m \u001b[39m \u001b[39m \u001b[39m \u001b[39m \u001b[39m█\u001b[39m \u001b[39m▃\u001b[39m \u001b[39m \u001b[39m \u001b[39m \u001b[39m \u001b[39m \u001b[39m \u001b[39m \u001b[39m \u001b[39m \u001b[39m▃\u001b[39m \u001b[39m \u001b[39m \u001b[39m \u001b[39m \u001b[39m \u001b[39m \u001b[39m \u001b[39m \u001b[39m \u001b[39m \u001b[39m \u001b[39m \u001b[39m \n",
       "  \u001b[39m█\u001b[39m▇\u001b[39m▁\u001b[39m▁\u001b[39m▁\u001b[39m▇\u001b[39m▁\u001b[39m▁\u001b[39m█\u001b[39m▁\u001b[39m▁\u001b[39m▁\u001b[39m▁\u001b[39m▁\u001b[39m▁\u001b[39m▁\u001b[39m▁\u001b[39m▇\u001b[39m█\u001b[39m▁\u001b[39m▇\u001b[39m▇\u001b[39m▇\u001b[39m▁\u001b[39m▁\u001b[39m▁\u001b[39m▇\u001b[39m▁\u001b[34m▇\u001b[39m\u001b[39m▁\u001b[39m▁\u001b[39m▇\u001b[39m▇\u001b[39m▇\u001b[39m▇\u001b[39m█\u001b[39m▇\u001b[39m█\u001b[39m▁\u001b[39m▁\u001b[39m▁\u001b[39m▁\u001b[39m▁\u001b[39m▁\u001b[39m▁\u001b[39m▁\u001b[39m▁\u001b[39m▁\u001b[39m█\u001b[39m▁\u001b[39m▁\u001b[39m▁\u001b[39m▁\u001b[39m▁\u001b[39m▁\u001b[39m▁\u001b[39m▇\u001b[39m▁\u001b[39m▇\u001b[39m▁\u001b[39m▇\u001b[39m \u001b[39m▁\n",
       "  167 ms\u001b[90m           Histogram: frequency by time\u001b[39m          186 ms \u001b[0m\u001b[1m<\u001b[22m\n",
       "\n",
       " Memory estimate\u001b[90m: \u001b[39m\u001b[33m108.50 MiB\u001b[39m, allocs estimate\u001b[90m: \u001b[39m\u001b[33m60885\u001b[39m."
      ]
     },
     "execution_count": 399,
     "metadata": {},
     "output_type": "execute_result"
    }
   ],
   "source": [
    "@benchmark solve_optgrowth_orig(initial_w; p=p)"
   ]
  },
  {
   "cell_type": "markdown",
   "metadata": {},
   "source": [
    "## Brief (naive?) conclusion"
   ]
  },
  {
   "cell_type": "markdown",
   "metadata": {},
   "source": [
    "Looking at the run time, it seems the original implementation (linear interpolation + Monte Carlo approximation) is ~3X faster.\n",
    "From some experiments, I feel the collocation method is significanly slowing down the computation.\n",
    "On the other hand, the value function based on the collocation method + the quadrature method is closer to the true value function."
   ]
  }
 ],
 "metadata": {
  "kernelspec": {
   "display_name": "Julia 1.4.2",
   "language": "julia",
   "name": "julia-1.4"
  },
  "language_info": {
   "file_extension": ".jl",
   "mimetype": "application/julia",
   "name": "julia",
   "version": "1.4.2"
  }
 },
 "nbformat": 4,
 "nbformat_minor": 4
}
