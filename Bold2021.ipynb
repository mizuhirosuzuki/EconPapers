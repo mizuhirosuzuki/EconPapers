{
 "cells": [
  {
   "cell_type": "markdown",
   "id": "e650e21b",
   "metadata": {},
   "source": [
    "# Bold and Borer (2021), [Risk Sharing in Village Economies Revisited](https://academic.oup.com/jeea/article/19/6/3207/6402907?login=true)"
   ]
  },
  {
   "cell_type": "code",
   "execution_count": null,
   "id": "c22d0c05",
   "metadata": {},
   "outputs": [],
   "source": []
  }
 ],
 "metadata": {
  "kernelspec": {
   "display_name": "Julia 1.6.2",
   "language": "julia",
   "name": "julia-1.6"
  },
  "language_info": {
   "file_extension": ".jl",
   "mimetype": "application/julia",
   "name": "julia",
   "version": "1.6.2"
  }
 },
 "nbformat": 4,
 "nbformat_minor": 5
}
