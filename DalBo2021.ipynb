{
 "cells": [
  {
   "cell_type": "markdown",
   "metadata": {},
   "source": [
    "# Dal Bó, E., Finan, F., Li, N. Y., & Schechter, L. (2021). Information Technology and Government Decentralization: Experimental Evidence from Paraguay. Econometrica, 89(2), 677-701."
   ]
  },
  {
   "cell_type": "markdown",
   "metadata": {},
   "source": [
    "## Model"
   ]
  },
  {
   "cell_type": "markdown",
   "metadata": {},
   "source": [
    "### Agents and monitoring\n",
    "\n",
    "Each agent $i$ chooses an effort level that directly determines the share of farmers he visits: $s_i \\in [0, 1]$.\n",
    "This is a function of the level of monitoring, $q_i$: $s_i(q_i) = q_i \\rho_i + \\mu_i$, where $\\rho_i$ denotes the parameter of the function capturing the agent's responsiveness to monitoring and $\\mu_i$ denotes the baseline effort (ie. the effort level when there is no monitoring)."
   ]
  },
  {
   "cell_type": "markdown",
   "metadata": {},
   "source": [
    "### New technology and treatment effects\n",
    "\n",
    "Agent $i$ faces monitoring $q_i = t_i \\Delta q$, where $t_i$ is a treatment status which is $1$ is the agent is treated with the new technology and $0$ otherwise, and $\\Delta q > 0$ is additional monitoring under treatment.\n",
    "Notice that the monitoring is normalized to $0$ when the new technology is not used.\n",
    "Substituting this into the effort function, we obtain $s_i = \\mu_i + \\rho_i (t_i \\Delta q) = \\mu_i + t_i \\beta_i$, where $\\beta_i \\equiv \\rho_i \\Delta q$.\n",
    "Hence, under treatment, the agent changes his effort by $\\beta_i$.\n",
    "It is assumed that $\\Delta q$ is common for all agents and the variation in $\\beta_i$ comes from the differences in $\\rho$, which is distributed according to a CDF $F$.\n",
    "\n",
    "By allowing the baseline effort $\\mu_i$ and the responsiveness $\\beta_i$ to depend on the agent's characteristics $X_i$ and by assuming linearity, we can write $\\mu_i = \\mu' X_i + \\epsilon_i$ and $\\beta_i = \\beta' X_i + \\eta_i$, where $E[\\epsilon_i | X_i] = 0$ and $E[\\eta_i | X_i] = 0$.\n",
    "__(The paper does not say anything about these mean independences, and these may be too strong assumptions: just linear projections seem sufficient for the arguments below.)__\n",
    "\n",
    "Then, the effort function, which will be used as an estimation equation, becomes\n",
    "$$\n",
    "    s_i = \\mu_i + t_i \\beta_i = \\mu' X_i + \\beta_0 t_i + e_i,\n",
    "$$\n",
    "where $E[\\beta_i] = \\beta_0$ and $e_i = \\epsilon_i + (\\beta_i - \\beta_0) t_i$.\n",
    "<!-- Notice that, running this regression equation, we can obtain the consistent coefficients because, due to randomized $t_i$, \n",
    "$$\n",
    "    E[X_i e_i] = E[X_i (\\epsilon_i + (\\beta_i - \\beta_0) t_i)] = E[X_i E[\\epsilon_i | X_i]] + E[X_i (\\beta_i - \\beta_0)] E[t_i] = 0\n",
    "$$\n",
    "and \n",
    "$$\n",
    "    E[t_i e_i] = E[t_i] E[\\epsilon_i] + E[(\\beta_i - \\beta_0)] E[t_i] = 0.\n",
    "$$\n",
    " -->\n",
    "Given that the treatment $t_i$ is randomized, we obtain the average treatment effect as\n",
    "$$\n",
    "    E[s_i | t_i = 1] - E[s_i | t_i = 0] \n",
    "    = E[\\mu' X_i | t_i = 1] - E[\\mu' X_i | t_i = 0] + \\beta_0 + E[e_i | t_i = 1] - E[e_i | t_i = 0] \\\\\n",
    "    = \\beta_0 + E[\\epsilon_i + (\\beta_i - \\beta_0) | t_i = 1] - E[\\epsilon_i | t_i = 0] \\\\\n",
    "    = \\beta_0 + E[\\epsilon_i + (\\beta_i - \\beta_0)] - E[\\epsilon_i] \\\\\n",
    "    = \\beta_0 + E[\\beta_i - \\beta_0] \\\\\n",
    "    = \\beta_0.\n",
    "$$"
   ]
  },
  {
   "cell_type": "markdown",
   "metadata": {},
   "source": [
    "### With supervisor's selection\n",
    "\n",
    "Let $D_i$ be the dummy which equals 1 if the agent is selected by the supervisor to receive a cellphone.\n",
    "Also, let $E[\\beta_i | D_i] = \\beta_2 + \\beta_1 D_i$.\n",
    "(Although $E[\\beta_i | D_i] = \\beta_0 + \\beta_1 D_i$ in the original paper, because $\\beta_0$ is used as ATE above, I use $\\beta_2$ to avoid confusion.)\n",
    "Then, the estimation equation becomes\n",
    "$$\n",
    "    s_i = \\mu' X_i + \\beta_2 t_i + \\beta_1 D_i t_i + e_i.\n",
    "$$\n",
    "<!-- Again, we can obtain consistent estimates because\n",
    "$$\n",
    "    E[D_i t_i e_i] = E[D_i t_i \\epsilon_i + D_i t_i (\\beta_i - \\beta_0)] = E[D_i \\epsilon_i] E[t_i] + E[D_i (\\beta_i - \\beta_0)] E[t_i] = 0.\n",
    "$$\n",
    " -->\n",
    "Here, denote the value that the supervisor assigns to treating the agent $i$ by\n",
    "$$\n",
    "    v_i = \\beta' X_i + \\eta_i + \\psi' X_i + \\zeta_i.\n",
    "$$\n",
    "This consists of two parts.\n",
    "First, $\\beta' X_i + \\eta_i$ is the true responsiveness of the agent to the treatment.\n",
    "Second, $\\psi' X_i + \\zeta_i$ captures idiosyncratic supervisor preferences.\n",
    "\n",
    "It is assumed that, while supervisor knows $\\zeta_i$, she observes a noisy measure of $\\eta_i$, which is denoted by $\\theta_i = \\eta_i + \\xi_i$.\n",
    "Here, $\\xi_i$ is uncorrelated noise.\n",
    "Consider a decision rule that the supervisor selects agents whose value $v_i$ is above some threshold $c$: $D_i = 1[E[v_i | X_i, \\theta_i, \\zeta_i] > c]$.\n",
    "Letting $\\Gamma = \\beta + \\psi$ and $u_i = E[\\eta_i | X_i, \\theta_i, \\zeta_i] + \\zeta_i$ and normalizing the threshold $c = 0$, we obtain\n",
    "$$\n",
    "    E[v_i | X_i, \\theta_i, \\zeta_i] = \\Gamma' X_i + u_i.\n",
    "$$\n",
    "Using this, we can write the selection rule such that $D_i = 1 [\\Gamma' X_i + u_i > 0]$.\n",
    "\n",
    "Now, we can write the expected performance of the agent $i$ given $(X_i, D_i, t_i)$ as\n",
    "$$\n",
    "    E[s_i | X_i, D_i, t_i] \n",
    "    = \\mu' X_i + \\beta' X_i t_i + E[\\epsilon_i | X_i, D_i, t_i] + E[\\eta_i | X_i, D_i, t_i] t_i \\\\\n",
    "    = \\mu' X_i + \\beta' X_i t_i + E[\\epsilon_i | X_i, D_i] + E[\\eta_i | X_i, D_i] t_i.\n",
    "$$\n",
    "__($E[\\epsilon_i | X_i, D_i] = 0$?)__\n",
    "Then, the treatment effect of an agent with $(X_i, D_i)$ is\n",
    "$$\n",
    "    E[s_i | X_i, D_i, t_i = 1] - E[s_i | X_i, D_i, t_i = 0] = \\beta' X_i + E[\\eta_i | X_i, D_i].\n",
    "$$\n",
    "Thus, now we want to derive the expression for $E[\\eta_i | X_i, D_i]$.\n",
    "Using the law of iterated expectations, $E[\\eta_i | X_i, D_i] = E[ E[\\eta_i | X_i, D_i, u_i] | X_i, D_i]$.\n",
    "Here, it is assumed that $(\\eta, \\zeta, \\xi)$ are normally distributed.\n",
    "Given this, \n",
    "$$\n",
    "    E[\\eta_i | X_i, D_i, u_i] \n",
    "    = E[\\eta_i | X_i, u_i] \\quad \\text{(because $D_i$ is fully determined by $X_i$ and $u_i$)} \\\\\n",
    "    = E[\\eta_i | u_i] \\quad \\text{(*)} \\\\\n",
    "    = \\frac{\\sigma_{\\eta u}}{\\sigma_u^2} u_i.\n",
    "$$\n",
    "Here,\n",
    "$$\n",
    "    \\sigma_{\\eta u} \n",
    "    = Cov \\left( u_i, \\eta_i \\right) \\\\\n",
    "    = Cov \\left( E[\\eta_i | X_i, \\theta_i, \\zeta_i] + \\zeta_i, \\eta_i \\right) \\\\\n",
    "    = Cov \\left( E[\\eta_i | \\theta_i] + \\zeta_i, \\eta_i \\right) \\quad \\text{(*)} \\\\\n",
    "    = Cov \\left( \\frac{\\sigma_{\\eta \\theta}}{\\sigma_{\\theta}^2} \\theta_i + \\zeta_i, \\eta_i \\right) \\\\ \n",
    "    = Cov \\left( \\frac{\\sigma_{\\eta}^2 + \\sigma_{\\eta \\xi}}{\\sigma_{\\eta}^2 + \\sigma_{\\xi}^2 + 2 \\sigma_{\\eta \\xi}} \\theta_i + \\zeta_i, \\eta_i \\right) \\quad \\\\ \n",
    "    = \\frac{\\sigma_{\\eta}^2 + \\sigma_{\\eta \\xi}}{\\sigma_{\\eta}^2 + \\sigma_{\\xi}^2 + 2 \\sigma_{\\eta \\xi}} \\left( \\sigma_{\\eta}^2 + \\sigma_{\\eta \\xi} \\right) + \\sigma_{\\zeta \\eta}.\n",
    "$$\n",
    "If it is assumed that there is no correlation among $(\\eta, \\zeta, \\xi)$, then we obtain the expression in the footnote 11 in the paper: $Cov(u_i, \\eta_i) = \\frac{\\sigma_{\\eta}^2}{\\sigma_{\\eta}^2 + \\sigma_{\\xi}^2} \\sigma_{\\eta}^2$.\n",
    "__(The steps (*) are not explicitly written in the paper, so these can be just wrong. But I think these transformations are necessary to get expressions in the paper.)__\n",
    "\n",
    "Hence,\n",
    "$$\n",
    "    E[\\eta_i | X_i, D_i, u_i] \n",
    "    = \\frac{\\sigma_{\\eta}^2}{\\sigma_{\\eta}^2 + \\sigma_{\\xi}^2} \\frac{\\sigma_{\\eta}^2}{\\sigma_{u}^2} u_i.\n",
    "$$\n",
    "Then,\n",
    "$$\n",
    "    E[\\eta_i | X_i, D_i] \n",
    "    = E \\left[ \\frac{\\sigma_{\\eta}^2}{\\sigma_{\\eta}^2 + \\sigma_{\\xi}^2} \\frac{\\sigma_{\\eta}^2}{\\sigma_{u}^2} u_i | X_i, D_i \\right] \\\\\n",
    "    = \\frac{\\sigma_{\\eta}^2}{\\sigma_{\\eta}^2 + \\sigma_{\\xi}^2} \\frac{\\sigma_{\\eta}^2}{\\sigma_{u}^2} E \\left[ u_i | X_i, D_i \\right] \\\\\n",
    "    = \\frac{\\sigma_{\\eta}^2}{\\sigma_{\\eta}^2 + \\sigma_{\\xi}^2} \\frac{\\sigma_{\\eta}^2}{\\sigma_{u}^2} \\lambda(X_i, D_i),\n",
    "$$\n",
    "where $\\lambda(X_i, D_i)$ is the inverse Mills ratio: $\\lambda(X_i, D_i) = \\sigma_u \\frac{\\phi \\left( \\frac{- \\Gamma' X_i}{\\sigma_u} \\right)}{D_i - \\Phi \\left( \\frac{- \\Gamma' X_i}{\\sigma_u} \\right)}$.\n",
    "__(I think, without loss of generality, we can standardize $\\sigma_u = 1$, because otherwise, we can rescale the equation of $v_i$ appropriately without changing any behaviors. This makes $\\lambda(X_i, D_i) = \\frac{\\phi \\left( - \\Gamma' X_i \\right)}{D_i - \\Phi \\left( - \\Gamma' X_i \\right)}$.)__\n",
    "Also, given the normality assumption, the selection rule becomes $D_i = 1 \\left[ \\Gamma' X_i + \\frac{\\sigma_{\\eta}^2}{\\sigma_{\\eta}^2 + \\sigma_{\\xi}^2} \\theta_i > 0 \\right]$."
   ]
  },
  {
   "cell_type": "markdown",
   "metadata": {},
   "source": [
    "## Simple simulation"
   ]
  },
  {
   "cell_type": "markdown",
   "metadata": {},
   "source": [
    "In this simulation exercise, for simplicity, I consider a unbounded outcome, whereas the original paper considers as outcome the share of visited farmers."
   ]
  },
  {
   "cell_type": "code",
   "execution_count": 608,
   "metadata": {},
   "outputs": [],
   "source": [
    "import numpy as np\n",
    "import scipy\n",
    "import scipy.optimize\n",
    "import pandas as pd\n",
    "import matplotlib.pyplot as plt\n",
    "import statsmodels.api as sm\n",
    "import seaborn as sns\n",
    "import statsmodels.discrete.discrete_model as sd\n",
    "\n",
    "%matplotlib inline"
   ]
  },
  {
   "cell_type": "code",
   "execution_count": 524,
   "metadata": {},
   "outputs": [],
   "source": [
    "# Parameter in the simulation =============================\n",
    "\n",
    "N = 5000 # sample size\n",
    "p = 0.5 # probability to be treated"
   ]
  },
  {
   "cell_type": "code",
   "execution_count": 676,
   "metadata": {},
   "outputs": [],
   "source": [
    "# Parameters in the model ==================\n",
    "\n",
    "mu = 2\n",
    "mean_X = 2\n",
    "beta = 2\n",
    "beta_0 = beta * mean_X\n",
    "beta_1 = 1\n",
    "beta_2 = beta_0 - beta_1 * p \n",
    "psi = 1.3\n",
    "sigma_epsilon = 0.5\n",
    "sigma_eta = 4.0\n",
    "sigma_zeta = 0.7\n",
    "sigma_xi = 0.3\n",
    "sigma_X = 2\n",
    "\n",
    "Gamma = beta + psi"
   ]
  },
  {
   "cell_type": "code",
   "execution_count": 677,
   "metadata": {},
   "outputs": [],
   "source": [
    "# Random variables in the model =========================\n",
    "\n",
    "# agent's characteristic\n",
    "X = np.random.normal(mean_X, sigma_X, N)\n",
    "# agent's treatment status\n",
    "t = (np.random.uniform(0, 1, N) < p) * 1\n",
    "# idiosyncratic part in agent's responsiveness to treatment\n",
    "eta = np.random.normal(0, sigma_eta, N)\n",
    "# idiosyncratic part in agent's baseline effort level\n",
    "epsilon = np.random.normal(0, sigma_epsilon, N)\n",
    "# idiosyncratic part in supervisor's preference\n",
    "zeta = np.random.normal(0, sigma_zeta, N)\n",
    "# noise in supervisor's observation of agent's responsiveness to treatment\n",
    "xi = np.random.normal(0, sigma_xi, N)\n",
    "# agent's responsiveness to treatment observed by supervisor with noise\n",
    "theta = eta + xi"
   ]
  },
  {
   "cell_type": "code",
   "execution_count": 678,
   "metadata": {},
   "outputs": [],
   "source": [
    "# Output of agent's work\n",
    "s = mu * X + epsilon + (beta * X + eta) * t\n",
    "# Supervisor's expected value of treatment\n",
    "exp_v = Gamma * X + sigma_eta**2 / (sigma_eta**2 + sigma_xi**2) * theta + zeta\n",
    "# Treatment status\n",
    "D = (exp_v > 0) * 1"
   ]
  },
  {
   "cell_type": "code",
   "execution_count": 679,
   "metadata": {},
   "outputs": [],
   "source": [
    "df = pd.DataFrame(\n",
    "    data = {\n",
    "        'X': X, \n",
    "        't': t,\n",
    "        'D': D,\n",
    "        's': s,\n",
    "        'eta': eta,\n",
    "        'epsilon': epsilon,\n",
    "        'zeta': zeta,\n",
    "        'xi': xi,\n",
    "        'Xt': X * t,\n",
    "        'betaX': beta * X,\n",
    "        'e': epsilon + t * (beta * X + eta - beta_0),\n",
    "        'Dt': D * t\n",
    "    }\n",
    ")"
   ]
  },
  {
   "cell_type": "code",
   "execution_count": 680,
   "metadata": {},
   "outputs": [],
   "source": [
    "df['treatment_effect'] = beta * df['X'] + df['eta']"
   ]
  },
  {
   "cell_type": "code",
   "execution_count": 681,
   "metadata": {},
   "outputs": [
    {
     "data": {
      "text/plain": [
       "3.9639221360491566"
      ]
     },
     "execution_count": 681,
     "metadata": {},
     "output_type": "execute_result"
    }
   ],
   "source": [
    "df['treatment_effect'].mean()"
   ]
  },
  {
   "cell_type": "code",
   "execution_count": 682,
   "metadata": {},
   "outputs": [
    {
     "data": {
      "image/png": "[encoded data removed]",
      "text/plain": [
       "<Figure size 432x288 with 1 Axes>"
      ]
     },
     "metadata": {
      "needs_background": "light"
     },
     "output_type": "display_data"
    }
   ],
   "source": [
    "fig, ax = plt.subplots()\n",
    "ax.plot(\n",
    "    range(N), \n",
    "    np.cumsum(sorted(df['treatment_effect'], reverse = True)),\n",
    "    label = \"Treatment based on supervisor's observation\"\n",
    ")\n",
    "ax.plot(\n",
    "    range(N), \n",
    "    np.cumsum(df.sort_values(by = 'betaX', ascending = False)['treatment_effect']),\n",
    "    label = \"Treatment based on analyst's observation\"\n",
    ")\n",
    "ax.plot(\n",
    "    range(N), \n",
    "    np.arange(N) * df['treatment_effect'].mean(),\n",
    "    label = \"Random treatment\"\n",
    ")\n",
    "ax.legend(bbox_to_anchor = (1.05, 1), loc = 'upper left', borderaxespad = 0.)\n",
    "plt.show()\n",
    "\n"
   ]
  },
  {
   "cell_type": "code",
   "execution_count": 683,
   "metadata": {},
   "outputs": [],
   "source": [
    "results = sm.OLS(\n",
    "    endog = df['s'], \n",
    "    exog = sm.add_constant(df[['t', 'X']])\n",
    ").fit()"
   ]
  },
  {
   "cell_type": "code",
   "execution_count": 684,
   "metadata": {},
   "outputs": [
    {
     "data": {
      "text/html": [
       "<table class=\"simpletable\">\n",
       "<caption>OLS Regression Results</caption>\n",
       "<tr>\n",
       "  <th>Dep. Variable:</th>            <td>s</td>        <th>  R-squared:         </th> <td>   0.764</td> \n",
       "</tr>\n",
       "<tr>\n",
       "  <th>Model:</th>                   <td>OLS</td>       <th>  Adj. R-squared:    </th> <td>   0.764</td> \n",
       "</tr>\n",
       "<tr>\n",
       "  <th>Method:</th>             <td>Least Squares</td>  <th>  F-statistic:       </th> <td>   8074.</td> \n",
       "</tr>\n",
       "<tr>\n",
       "  <th>Date:</th>             <td>Sun, 23 May 2021</td> <th>  Prob (F-statistic):</th>  <td>  0.00</td>  \n",
       "</tr>\n",
       "<tr>\n",
       "  <th>Time:</th>                 <td>15:51:49</td>     <th>  Log-Likelihood:    </th> <td> -13403.</td> \n",
       "</tr>\n",
       "<tr>\n",
       "  <th>No. Observations:</th>      <td>  5000</td>      <th>  AIC:               </th> <td>2.681e+04</td>\n",
       "</tr>\n",
       "<tr>\n",
       "  <th>Df Residuals:</th>          <td>  4997</td>      <th>  BIC:               </th> <td>2.683e+04</td>\n",
       "</tr>\n",
       "<tr>\n",
       "  <th>Df Model:</th>              <td>     2</td>      <th>                     </th>     <td> </td>    \n",
       "</tr>\n",
       "<tr>\n",
       "  <th>Covariance Type:</th>      <td>nonrobust</td>    <th>                     </th>     <td> </td>    \n",
       "</tr>\n",
       "</table>\n",
       "<table class=\"simpletable\">\n",
       "<tr>\n",
       "    <td></td>       <th>coef</th>     <th>std err</th>      <th>t</th>      <th>P>|t|</th>  <th>[0.025</th>    <th>0.975]</th>  \n",
       "</tr>\n",
       "<tr>\n",
       "  <th>const</th> <td>   -1.9768</td> <td>    0.086</td> <td>  -22.992</td> <td> 0.000</td> <td>   -2.145</td> <td>   -1.808</td>\n",
       "</tr>\n",
       "<tr>\n",
       "  <th>t</th>     <td>    3.8569</td> <td>    0.100</td> <td>   38.603</td> <td> 0.000</td> <td>    3.661</td> <td>    4.053</td>\n",
       "</tr>\n",
       "<tr>\n",
       "  <th>X</th>     <td>    2.9946</td> <td>    0.025</td> <td>  120.935</td> <td> 0.000</td> <td>    2.946</td> <td>    3.043</td>\n",
       "</tr>\n",
       "</table>\n",
       "<table class=\"simpletable\">\n",
       "<tr>\n",
       "  <th>Omnibus:</th>       <td>147.569</td> <th>  Durbin-Watson:     </th> <td>   1.957</td>\n",
       "</tr>\n",
       "<tr>\n",
       "  <th>Prob(Omnibus):</th> <td> 0.000</td>  <th>  Jarque-Bera (JB):  </th> <td> 351.560</td>\n",
       "</tr>\n",
       "<tr>\n",
       "  <th>Skew:</th>          <td> 0.115</td>  <th>  Prob(JB):          </th> <td>4.57e-77</td>\n",
       "</tr>\n",
       "<tr>\n",
       "  <th>Kurtosis:</th>      <td> 4.279</td>  <th>  Cond. No.          </th> <td>    6.95</td>\n",
       "</tr>\n",
       "</table><br/><br/>Warnings:<br/>[1] Standard Errors assume that the covariance matrix of the errors is correctly specified."
      ],
      "text/plain": [
       "<class 'statsmodels.iolib.summary.Summary'>\n",
       "\"\"\"\n",
       "                            OLS Regression Results                            \n",
       "==============================================================================\n",
       "Dep. Variable:                      s   R-squared:                       0.764\n",
       "Model:                            OLS   Adj. R-squared:                  0.764\n",
       "Method:                 Least Squares   F-statistic:                     8074.\n",
       "Date:                Sun, 23 May 2021   Prob (F-statistic):               0.00\n",
       "Time:                        15:51:49   Log-Likelihood:                -13403.\n",
       "No. Observations:                5000   AIC:                         2.681e+04\n",
       "Df Residuals:                    4997   BIC:                         2.683e+04\n",
       "Df Model:                           2                                         \n",
       "Covariance Type:            nonrobust                                         \n",
       "==============================================================================\n",
       "                 coef    std err          t      P>|t|      [0.025      0.975]\n",
       "------------------------------------------------------------------------------\n",
       "const         -1.9768      0.086    -22.992      0.000      -2.145      -1.808\n",
       "t              3.8569      0.100     38.603      0.000       3.661       4.053\n",
       "X              2.9946      0.025    120.935      0.000       2.946       3.043\n",
       "==============================================================================\n",
       "Omnibus:                      147.569   Durbin-Watson:                   1.957\n",
       "Prob(Omnibus):                  0.000   Jarque-Bera (JB):              351.560\n",
       "Skew:                           0.115   Prob(JB):                     4.57e-77\n",
       "Kurtosis:                       4.279   Cond. No.                         6.95\n",
       "==============================================================================\n",
       "\n",
       "Warnings:\n",
       "[1] Standard Errors assume that the covariance matrix of the errors is correctly specified.\n",
       "\"\"\""
      ]
     },
     "execution_count": 684,
     "metadata": {},
     "output_type": "execute_result"
    }
   ],
   "source": [
    "results.summary()"
   ]
  },
  {
   "cell_type": "code",
   "execution_count": 685,
   "metadata": {},
   "outputs": [
    {
     "name": "stdout",
     "output_type": "stream",
     "text": [
      "Optimization terminated successfully.\n",
      "         Current function value: 0.257710\n",
      "         Iterations 8\n"
     ]
    }
   ],
   "source": [
    "results_probit = sd.Probit(\n",
    "    endog = df['D'], \n",
    "    exog = sm.add_constant(df[['X']])\n",
    ").fit()"
   ]
  },
  {
   "cell_type": "code",
   "execution_count": 686,
   "metadata": {},
   "outputs": [
    {
     "data": {
      "text/html": [
       "<table class=\"simpletable\">\n",
       "<caption>Probit Regression Results</caption>\n",
       "<tr>\n",
       "  <th>Dep. Variable:</th>           <td>D</td>        <th>  No. Observations:  </th>  <td>  5000</td> \n",
       "</tr>\n",
       "<tr>\n",
       "  <th>Model:</th>                <td>Probit</td>      <th>  Df Residuals:      </th>  <td>  4998</td> \n",
       "</tr>\n",
       "<tr>\n",
       "  <th>Method:</th>                 <td>MLE</td>       <th>  Df Model:          </th>  <td>     1</td> \n",
       "</tr>\n",
       "<tr>\n",
       "  <th>Date:</th>            <td>Sun, 23 May 2021</td> <th>  Pseudo R-squ.:     </th>  <td>0.4933</td> \n",
       "</tr>\n",
       "<tr>\n",
       "  <th>Time:</th>                <td>15:51:50</td>     <th>  Log-Likelihood:    </th> <td> -1288.6</td>\n",
       "</tr>\n",
       "<tr>\n",
       "  <th>converged:</th>             <td>True</td>       <th>  LL-Null:           </th> <td> -2543.0</td>\n",
       "</tr>\n",
       "<tr>\n",
       "  <th>Covariance Type:</th>     <td>nonrobust</td>    <th>  LLR p-value:       </th>  <td> 0.000</td> \n",
       "</tr>\n",
       "</table>\n",
       "<table class=\"simpletable\">\n",
       "<tr>\n",
       "    <td></td>       <th>coef</th>     <th>std err</th>      <th>z</th>      <th>P>|z|</th>  <th>[0.025</th>    <th>0.975]</th>  \n",
       "</tr>\n",
       "<tr>\n",
       "  <th>const</th> <td>   -0.0496</td> <td>    0.032</td> <td>   -1.545</td> <td> 0.122</td> <td>   -0.113</td> <td>    0.013</td>\n",
       "</tr>\n",
       "<tr>\n",
       "  <th>X</th>     <td>    0.8389</td> <td>    0.025</td> <td>   33.623</td> <td> 0.000</td> <td>    0.790</td> <td>    0.888</td>\n",
       "</tr>\n",
       "</table><br/><br/>Possibly complete quasi-separation: A fraction 0.11 of observations can be<br/>perfectly predicted. This might indicate that there is complete<br/>quasi-separation. In this case some parameters will not be identified."
      ],
      "text/plain": [
       "<class 'statsmodels.iolib.summary.Summary'>\n",
       "\"\"\"\n",
       "                          Probit Regression Results                           \n",
       "==============================================================================\n",
       "Dep. Variable:                      D   No. Observations:                 5000\n",
       "Model:                         Probit   Df Residuals:                     4998\n",
       "Method:                           MLE   Df Model:                            1\n",
       "Date:                Sun, 23 May 2021   Pseudo R-squ.:                  0.4933\n",
       "Time:                        15:51:50   Log-Likelihood:                -1288.6\n",
       "converged:                       True   LL-Null:                       -2543.0\n",
       "Covariance Type:            nonrobust   LLR p-value:                     0.000\n",
       "==============================================================================\n",
       "                 coef    std err          z      P>|z|      [0.025      0.975]\n",
       "------------------------------------------------------------------------------\n",
       "const         -0.0496      0.032     -1.545      0.122      -0.113       0.013\n",
       "X              0.8389      0.025     33.623      0.000       0.790       0.888\n",
       "==============================================================================\n",
       "\n",
       "Possibly complete quasi-separation: A fraction 0.11 of observations can be\n",
       "perfectly predicted. This might indicate that there is complete\n",
       "quasi-separation. In this case some parameters will not be identified.\n",
       "\"\"\""
      ]
     },
     "execution_count": 686,
     "metadata": {},
     "output_type": "execute_result"
    }
   ],
   "source": [
    "results_probit.summary()"
   ]
  },
  {
   "cell_type": "code",
   "execution_count": 687,
   "metadata": {},
   "outputs": [
    {
     "data": {
      "text/plain": [
       "0.8126501354034559"
      ]
     },
     "execution_count": 687,
     "metadata": {},
     "output_type": "execute_result"
    }
   ],
   "source": [
    "Gamma / np.sqrt(sigma_eta**2 + sigma_zeta**2)"
   ]
  },
  {
   "cell_type": "code",
   "execution_count": 688,
   "metadata": {},
   "outputs": [],
   "source": [
    "df['probit_fit'] = results_probit.fittedvalues\n",
    "df['inv_mills_ratio'] = (\n",
    "    scipy.stats.norm.pdf(- df['probit_fit']) / \n",
    "    (df['D'] - scipy.stats.norm.cdf(- df['probit_fit']))\n",
    ")\n",
    "df['inv_mills_ratio_t'] = df['inv_mills_ratio'] * df['t']"
   ]
  },
  {
   "cell_type": "code",
   "execution_count": 689,
   "metadata": {},
   "outputs": [],
   "source": [
    "results_second = sm.OLS(\n",
    "    endog = df['s'], \n",
    "#     exog = sm.add_constant(df[['X', 't', 'Xt', 'inv_mills_ratio_t']])\n",
    "    exog = df[['X', 'Xt', 'inv_mills_ratio_t']]\n",
    ").fit()"
   ]
  },
  {
   "cell_type": "code",
   "execution_count": 690,
   "metadata": {},
   "outputs": [
    {
     "data": {
      "text/html": [
       "<table class=\"simpletable\">\n",
       "<caption>OLS Regression Results</caption>\n",
       "<tr>\n",
       "  <th>Dep. Variable:</th>            <td>s</td>        <th>  R-squared (uncentered):</th>      <td>   0.927</td> \n",
       "</tr>\n",
       "<tr>\n",
       "  <th>Model:</th>                   <td>OLS</td>       <th>  Adj. R-squared (uncentered):</th> <td>   0.927</td> \n",
       "</tr>\n",
       "<tr>\n",
       "  <th>Method:</th>             <td>Least Squares</td>  <th>  F-statistic:       </th>          <td>2.119e+04</td>\n",
       "</tr>\n",
       "<tr>\n",
       "  <th>Date:</th>             <td>Sun, 23 May 2021</td> <th>  Prob (F-statistic):</th>           <td>  0.00</td>  \n",
       "</tr>\n",
       "<tr>\n",
       "  <th>Time:</th>                 <td>15:51:52</td>     <th>  Log-Likelihood:    </th>          <td> -11734.</td> \n",
       "</tr>\n",
       "<tr>\n",
       "  <th>No. Observations:</th>      <td>  5000</td>      <th>  AIC:               </th>          <td>2.347e+04</td>\n",
       "</tr>\n",
       "<tr>\n",
       "  <th>Df Residuals:</th>          <td>  4997</td>      <th>  BIC:               </th>          <td>2.349e+04</td>\n",
       "</tr>\n",
       "<tr>\n",
       "  <th>Df Model:</th>              <td>     3</td>      <th>                     </th>              <td> </td>    \n",
       "</tr>\n",
       "<tr>\n",
       "  <th>Covariance Type:</th>      <td>nonrobust</td>    <th>                     </th>              <td> </td>    \n",
       "</tr>\n",
       "</table>\n",
       "<table class=\"simpletable\">\n",
       "<tr>\n",
       "          <td></td>             <th>coef</th>     <th>std err</th>      <th>t</th>      <th>P>|t|</th>  <th>[0.025</th>    <th>0.975]</th>  \n",
       "</tr>\n",
       "<tr>\n",
       "  <th>X</th>                 <td>    1.9996</td> <td>    0.018</td> <td>  112.139</td> <td> 0.000</td> <td>    1.965</td> <td>    2.035</td>\n",
       "</tr>\n",
       "<tr>\n",
       "  <th>Xt</th>                <td>    1.9742</td> <td>    0.025</td> <td>   78.260</td> <td> 0.000</td> <td>    1.925</td> <td>    2.024</td>\n",
       "</tr>\n",
       "<tr>\n",
       "  <th>inv_mills_ratio_t</th> <td>    3.8627</td> <td>    0.097</td> <td>   39.684</td> <td> 0.000</td> <td>    3.672</td> <td>    4.054</td>\n",
       "</tr>\n",
       "</table>\n",
       "<table class=\"simpletable\">\n",
       "<tr>\n",
       "  <th>Omnibus:</th>       <td>455.230</td> <th>  Durbin-Watson:     </th> <td>   1.975</td>\n",
       "</tr>\n",
       "<tr>\n",
       "  <th>Prob(Omnibus):</th> <td> 0.000</td>  <th>  Jarque-Bera (JB):  </th> <td>2590.225</td>\n",
       "</tr>\n",
       "<tr>\n",
       "  <th>Skew:</th>          <td> 0.231</td>  <th>  Prob(JB):          </th> <td>    0.00</td>\n",
       "</tr>\n",
       "<tr>\n",
       "  <th>Kurtosis:</th>      <td> 6.496</td>  <th>  Cond. No.          </th> <td>    8.83</td>\n",
       "</tr>\n",
       "</table><br/><br/>Warnings:<br/>[1] Standard Errors assume that the covariance matrix of the errors is correctly specified."
      ],
      "text/plain": [
       "<class 'statsmodels.iolib.summary.Summary'>\n",
       "\"\"\"\n",
       "                                 OLS Regression Results                                \n",
       "=======================================================================================\n",
       "Dep. Variable:                      s   R-squared (uncentered):                   0.927\n",
       "Model:                            OLS   Adj. R-squared (uncentered):              0.927\n",
       "Method:                 Least Squares   F-statistic:                          2.119e+04\n",
       "Date:                Sun, 23 May 2021   Prob (F-statistic):                        0.00\n",
       "Time:                        15:51:52   Log-Likelihood:                         -11734.\n",
       "No. Observations:                5000   AIC:                                  2.347e+04\n",
       "Df Residuals:                    4997   BIC:                                  2.349e+04\n",
       "Df Model:                           3                                                  \n",
       "Covariance Type:            nonrobust                                                  \n",
       "=====================================================================================\n",
       "                        coef    std err          t      P>|t|      [0.025      0.975]\n",
       "-------------------------------------------------------------------------------------\n",
       "X                     1.9996      0.018    112.139      0.000       1.965       2.035\n",
       "Xt                    1.9742      0.025     78.260      0.000       1.925       2.024\n",
       "inv_mills_ratio_t     3.8627      0.097     39.684      0.000       3.672       4.054\n",
       "==============================================================================\n",
       "Omnibus:                      455.230   Durbin-Watson:                   1.975\n",
       "Prob(Omnibus):                  0.000   Jarque-Bera (JB):             2590.225\n",
       "Skew:                           0.231   Prob(JB):                         0.00\n",
       "Kurtosis:                       6.496   Cond. No.                         8.83\n",
       "==============================================================================\n",
       "\n",
       "Warnings:\n",
       "[1] Standard Errors assume that the covariance matrix of the errors is correctly specified.\n",
       "\"\"\""
      ]
     },
     "execution_count": 690,
     "metadata": {},
     "output_type": "execute_result"
    }
   ],
   "source": [
    "results_second.summary()"
   ]
  },
  {
   "cell_type": "code",
   "execution_count": 691,
   "metadata": {},
   "outputs": [
    {
     "data": {
      "text/plain": [
       "2      -0.937512\n",
       "7      -1.285112\n",
       "8      -0.335847\n",
       "13     -1.119942\n",
       "25     -0.020156\n",
       "          ...   \n",
       "4977   -0.209051\n",
       "4982   -0.485986\n",
       "4985   -0.672076\n",
       "4989   -0.000044\n",
       "4990   -0.205622\n",
       "Name: inv_mills_ratio, Length: 1030, dtype: float64"
      ]
     },
     "execution_count": 691,
     "metadata": {},
     "output_type": "execute_result"
    }
   ],
   "source": [
    "df[df['D'] == 0]['inv_mills_ratio']"
   ]
  },
  {
   "cell_type": "code",
   "execution_count": 692,
   "metadata": {},
   "outputs": [],
   "source": [
    "df['est_treatment_effect'] = (\n",
    "    results_second.params[\"Xt\"] * df['X'] + \n",
    "    results_second.params[\"inv_mills_ratio_t\"] * df['inv_mills_ratio'] \n",
    ")\n",
    "df['est_betaX'] = results_second.params[\"Xt\"] * df['X']"
   ]
  },
  {
   "cell_type": "code",
   "execution_count": 693,
   "metadata": {},
   "outputs": [
    {
     "data": {
      "text/html": [
       "<div>\n",
       "<style scoped>\n",
       "    .dataframe tbody tr th:only-of-type {\n",
       "        vertical-align: middle;\n",
       "    }\n",
       "\n",
       "    .dataframe tbody tr th {\n",
       "        vertical-align: top;\n",
       "    }\n",
       "\n",
       "    .dataframe thead th {\n",
       "        text-align: right;\n",
       "    }\n",
       "</style>\n",
       "<table border=\"1\" class=\"dataframe\">\n",
       "  <thead>\n",
       "    <tr style=\"text-align: right;\">\n",
       "      <th></th>\n",
       "      <th>true_te</th>\n",
       "      <th>estimate_te</th>\n",
       "      <th>true_betaX</th>\n",
       "      <th>estimate_betaX</th>\n",
       "    </tr>\n",
       "  </thead>\n",
       "  <tbody>\n",
       "    <tr>\n",
       "      <th>0</th>\n",
       "      <td>10.869517</td>\n",
       "      <td>7.974060</td>\n",
       "      <td>8.072091</td>\n",
       "      <td>7.968159</td>\n",
       "    </tr>\n",
       "    <tr>\n",
       "      <th>1</th>\n",
       "      <td>12.975585</td>\n",
       "      <td>7.680076</td>\n",
       "      <td>7.771212</td>\n",
       "      <td>7.671154</td>\n",
       "    </tr>\n",
       "    <tr>\n",
       "      <th>2</th>\n",
       "      <td>-2.947027</td>\n",
       "      <td>-3.005917</td>\n",
       "      <td>0.623468</td>\n",
       "      <td>0.615441</td>\n",
       "    </tr>\n",
       "    <tr>\n",
       "      <th>3</th>\n",
       "      <td>3.768817</td>\n",
       "      <td>4.188791</td>\n",
       "      <td>3.703898</td>\n",
       "      <td>3.656208</td>\n",
       "    </tr>\n",
       "    <tr>\n",
       "      <th>4</th>\n",
       "      <td>7.861747</td>\n",
       "      <td>6.348829</td>\n",
       "      <td>6.381939</td>\n",
       "      <td>6.299768</td>\n",
       "    </tr>\n",
       "    <tr>\n",
       "      <th>...</th>\n",
       "      <td>...</td>\n",
       "      <td>...</td>\n",
       "      <td>...</td>\n",
       "      <td>...</td>\n",
       "    </tr>\n",
       "    <tr>\n",
       "      <th>4995</th>\n",
       "      <td>5.512232</td>\n",
       "      <td>4.419559</td>\n",
       "      <td>4.058126</td>\n",
       "      <td>4.005876</td>\n",
       "    </tr>\n",
       "    <tr>\n",
       "      <th>4996</th>\n",
       "      <td>-1.367524</td>\n",
       "      <td>3.837069</td>\n",
       "      <td>3.078048</td>\n",
       "      <td>3.038416</td>\n",
       "    </tr>\n",
       "    <tr>\n",
       "      <th>4997</th>\n",
       "      <td>1.964793</td>\n",
       "      <td>4.745143</td>\n",
       "      <td>4.511624</td>\n",
       "      <td>4.453535</td>\n",
       "    </tr>\n",
       "    <tr>\n",
       "      <th>4998</th>\n",
       "      <td>3.503490</td>\n",
       "      <td>5.682175</td>\n",
       "      <td>5.649375</td>\n",
       "      <td>5.576637</td>\n",
       "    </tr>\n",
       "    <tr>\n",
       "      <th>4999</th>\n",
       "      <td>20.014646</td>\n",
       "      <td>6.158921</td>\n",
       "      <td>6.177123</td>\n",
       "      <td>6.097589</td>\n",
       "    </tr>\n",
       "  </tbody>\n",
       "</table>\n",
       "<p>5000 rows × 4 columns</p>\n",
       "</div>"
      ],
      "text/plain": [
       "        true_te  estimate_te  true_betaX  estimate_betaX\n",
       "0     10.869517     7.974060    8.072091        7.968159\n",
       "1     12.975585     7.680076    7.771212        7.671154\n",
       "2     -2.947027    -3.005917    0.623468        0.615441\n",
       "3      3.768817     4.188791    3.703898        3.656208\n",
       "4      7.861747     6.348829    6.381939        6.299768\n",
       "...         ...          ...         ...             ...\n",
       "4995   5.512232     4.419559    4.058126        4.005876\n",
       "4996  -1.367524     3.837069    3.078048        3.038416\n",
       "4997   1.964793     4.745143    4.511624        4.453535\n",
       "4998   3.503490     5.682175    5.649375        5.576637\n",
       "4999  20.014646     6.158921    6.177123        6.097589\n",
       "\n",
       "[5000 rows x 4 columns]"
      ]
     },
     "execution_count": 693,
     "metadata": {},
     "output_type": "execute_result"
    }
   ],
   "source": [
    "pd.DataFrame({\n",
    "    \"true_te\": df['treatment_effect'], \n",
    "    \"estimate_te\": df['est_treatment_effect'],\n",
    "    \"true_betaX\": df['betaX'], \n",
    "    \"estimate_betaX\": df['est_betaX'],\n",
    "})"
   ]
  },
  {
   "cell_type": "code",
   "execution_count": 699,
   "metadata": {},
   "outputs": [
    {
     "data": {
      "text/plain": [
       "<matplotlib.axes._subplots.AxesSubplot at 0x7fda3ae402e0>"
      ]
     },
     "execution_count": 699,
     "metadata": {},
     "output_type": "execute_result"
    },
    {
     "data": {
      "image/png": "[encoded data removed]",
      "text/plain": [
       "<Figure size 432x288 with 1 Axes>"
      ]
     },
     "metadata": {
      "needs_background": "light"
     },
     "output_type": "display_data"
    }
   ],
   "source": [
    "sns.scatterplot(data = df, x = \"est_betaX\", y = \"betaX\")"
   ]
  },
  {
   "cell_type": "code",
   "execution_count": 697,
   "metadata": {},
   "outputs": [
    {
     "data": {
      "image/png": "[encoded data removed]",
      "text/plain": [
       "<Figure size 432x288 with 1 Axes>"
      ]
     },
     "metadata": {
      "needs_background": "light"
     },
     "output_type": "display_data"
    }
   ],
   "source": [
    "fig, ax = plt.subplots()\n",
    "ax.plot(\n",
    "    range(N), \n",
    "    np.cumsum(sorted(df['treatment_effect'], reverse = True)),\n",
    "    label = \"aaa\"\n",
    ")\n",
    "ax.plot(\n",
    "    range(N), \n",
    "    np.cumsum(sorted(df['est_treatment_effect'], reverse = True)),\n",
    "    label = \"Treatment based on supervisor's observation\"\n",
    ")\n",
    "ax.plot(\n",
    "    range(N), \n",
    "    np.cumsum(df.sort_values(by = 'est_betaX', ascending = False)['est_treatment_effect']),\n",
    "    label = \"Treatment based on analyst's observation\"\n",
    ")\n",
    "ax.plot(\n",
    "    range(N), \n",
    "    np.arange(N) * df['est_treatment_effect'].mean(),\n",
    "    label = \"Random treatment\"\n",
    ")\n",
    "ax.legend(bbox_to_anchor = (1.05, 1), loc = 'upper left', borderaxespad = 0.)\n",
    "plt.show()\n",
    "\n"
   ]
  },
  {
   "cell_type": "code",
   "execution_count": 695,
   "metadata": {},
   "outputs": [
    {
     "data": {
      "text/plain": [
       "<seaborn.axisgrid.FacetGrid at 0x7fda386a3a60>"
      ]
     },
     "execution_count": 695,
     "metadata": {},
     "output_type": "execute_result"
    },
    {
     "data": {
      "image/png": "[encoded data removed]",
      "text/plain": [
       "<Figure size 402.375x360 with 1 Axes>"
      ]
     },
     "metadata": {
      "needs_background": "light"
     },
     "output_type": "display_data"
    }
   ],
   "source": [
    "sns.displot(\n",
    "    df, x = \"inv_mills_ratio\", hue = \"D\"\n",
    ")"
   ]
  },
  {
   "cell_type": "code",
   "execution_count": null,
   "metadata": {},
   "outputs": [],
   "source": []
  }
 ],
 "metadata": {
  "kernelspec": {
   "display_name": "Python 3",
   "language": "python",
   "name": "python3"
  },
  "language_info": {
   "codemirror_mode": {
    "name": "ipython",
    "version": 3
   },
   "file_extension": ".py",
   "mimetype": "text/x-python",
   "name": "python",
   "nbconvert_exporter": "python",
   "pygments_lexer": "ipython3",
   "version": "3.8.3"
  },
  "toc": {
   "base_numbering": 1,
   "nav_menu": {},
   "number_sections": false,
   "sideBar": true,
   "skip_h1_title": false,
   "title_cell": "Table of Contents",
   "title_sidebar": "Contents",
   "toc_cell": false,
   "toc_position": {},
   "toc_section_display": true,
   "toc_window_display": false
  }
 },
 "nbformat": 4,
 "nbformat_minor": 4
}
