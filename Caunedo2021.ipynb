{
 "cells": [
  {
   "cell_type": "markdown",
   "metadata": {},
   "source": [
    "# Caunedo and Kala (2021): \"Mechanizing Agriculture\""
   ]
  },
  {
   "cell_type": "markdown",
   "metadata": {},
   "source": [
    "Farming entails two processes: preparation ($P$) and harvesting ($H$).\n",
    "Output from the preparation stage is used as an input for the harvesting stage."
   ]
  },
  {
   "cell_type": "markdown",
   "metadata": {},
   "source": [
    "## Farming households"
   ]
  },
  {
   "cell_type": "markdown",
   "metadata": {},
   "source": [
    "A farming household derives utility from consumption $c^j$ and leisure $n^j_l$ in each stage $j = \\{P, H\\}$.\n",
    "Family time in each stage is exogenously given and represented as $n^j$.\n",
    "Family time can be devoted to leisure ($n^j_l$), working on the farm ($n^j_f$), supervising workers on the farm ($n^j_s$), or working outside the farm ($n_o$):\n",
    "\n",
    "$$\n",
    "    n^j_l + n^j_f + n^j_s + n^j_o = n_j.\n",
    "$$\n",
    "\n",
    "Family income for the farming household includes the income from non-farm work at wage $w_o$ and the revenue from farming, net of capital and hired labor costs.\n",
    "Assuming that \n",
    "- factors are paid at the end of the period once agricultural output has been realized,\n",
    "- no credit constraint,\n",
    "- family labor is not compensated at market wages and distributes the profits from farming ($\\pi$), which includes the return on the land they own, and\n",
    "- interest rate is $\\frac{1}{R} - 1$, \n",
    "we obtain the following life-time budget constraint:\n",
    "\n",
    "$$\n",
    "\\begin{cases}\n",
    "    c^P + b = w_o n_o^P \\\\\n",
    "    c^H = R b + \\pi + w_o n_o^H\n",
    "\\end{cases} \\\\\n",
    "\\Rightarrow c^P + \\frac{1}{R} c^H = w_o \\left(n_o^P + \\frac{1}{R} n_o^H \\right) + \\frac{1}{R} \\pi.\n",
    "$$\n",
    "\n",
    "(Here, I use $b$ for borrowing but this is not explicitly used in the paper.)"
   ]
  },
  {
   "cell_type": "markdown",
   "metadata": {},
   "source": [
    "## Farming technology"
   ]
  },
  {
   "cell_type": "markdown",
   "metadata": {},
   "source": [
    "Let the plot size be $l$, capital services be $k$, family labor be $n_f$, and hired labor be $n$.\n",
    "The main difference between family and hired labor is that the latter has incentives to shirk: \n",
    "hired labor produces positive output only if supervised at rate $s > 0$.\n",
    "Based on the empirical findings, it is assumed that machines are used only in the preparation stage."
   ]
  },
  {
   "cell_type": "markdown",
   "metadata": {},
   "source": [
    "### Preparation stage\n",
    "\n",
    "There are continuum of tasks, $i$, from 0 to 1.\n",
    "Output from the preparation stage, $y^P$, is a Cobb-Douglas function of land and tasks, $x(i)$:\n",
    "\n",
    "$$\n",
    "    y^P = \\left( e^{\\int_{i = 0}^1 \\ln x(i) di} \\right)^\\alpha l^{1 - \\alpha}.\n",
    "$$\n",
    "\n",
    "The task can be performed by a machine, supervised hired labor, or family labor and\n",
    "\n",
    "$$\n",
    "    x(i) = \\alpha_k(i) k(i) + \\alpha_n(i) n^P(i, s) + \\alpha_n(i) n^P_f(i).\n",
    "$$\n",
    "\n",
    "Notice that $n^P(i, 0) = 0$ (i.e., unsupervised hired labor does not contribute to the production).\n",
    "Also note that the marginal product of a unit of labor in the completion of each task $i$ is the same when performed by family or hired labor, $a_n(i)$.\n",
    "\n",
    "It is assumed that $\\frac{a_n(i)}{a_k(i)}$ is continuously differentiable and increasing in $i$.\n",
    "That is, capital is relatively more productive in tasks that have a lower index.\n",
    "Because labor and capital are perfect substitutes, there will be full specialization in tasks.\n",
    "Thus, there is a threshold for $i$ below which the task is mechanized and above which only labor is used.\n",
    "Let $i$ be the measure of tasks that are mechanized."
   ]
  },
  {
   "cell_type": "markdown",
   "metadata": {},
   "source": [
    "### Harvesting stage\n",
    "\n",
    "Output in the harvesting stage, $y^H$, is final output and a Cobb-Douglas aggregator of labor, land, and output from the preparation stage.\n",
    "At this stage, there is no specific _tasks_ and only total inputs for the production are considered.\n",
    "Importantly, to allow for shifts in labor needs due to mechanization of land preparation, a labor requirement shifter, $b(I)$, is introduced:\n",
    "\n",
    "$$\n",
    "    y^H = y^P \\left(\\min \\left\\{ n^H_f, b_f(I) \\right\\} \\right)^{\\alpha^H_f} \\left( \\min \\left\\{ n^H, b(I) \\right\\} \\right)^{\\alpha^H} l^{\\alpha^H_l}.\n",
    "$$\n",
    "\n",
    "The labor requirement shifter is meant to capture that, given mechanization, too much labor input does not contribute to the production.\n",
    "It is assumed that $b_f(I) = b(I) + b$, which means that \n",
    "(i) the requirements function is proportional for family labor and hired labor, and \n",
    "(ii) it is allowed for the effects of shifters to differ for family and hired labor.\n",
    "\n"
   ]
  },
  {
   "cell_type": "markdown",
   "metadata": {},
   "source": [
    "## Contracting problem\n",
    "\n",
    "It is assumed that the workers' effort is not observable, which gives workers incentives to shirk.\n",
    "If a worker shirks, she gets a benefit proportional to the market wage, $\\omega w$.\n",
    "_(This seems strange because this means that the wage depends on shirking, which should be unobserved to the farming household.)_\n",
    "Family workers can supervise workers, in which case they can catch a shirking worker with probability $\\min \\left\\{ \\frac{n_s}{n}, 1\\right\\}$.\n",
    "This captures the effect that the probability of catching a shirking worker declines with the number of workers supervised by each family labor.\n",
    "\n",
    "Assuming that $\\frac{n^j_s}{n^j} \\le 1$ for each stage $j = \\left\\{P, H \\right\\}$, we get the following incentive compatibility constraint:\n",
    "$$\n",
    "    w \\ge \\omega w + \\left(1 - \\frac{n^j_s}{n^j} \\right) w.\n",
    "$$\n"
   ]
  },
  {
   "cell_type": "markdown",
   "metadata": {},
   "source": [
    "## Equilibrium allocations"
   ]
  },
  {
   "cell_type": "markdown",
   "metadata": {},
   "source": [
    "### Preparation stage\n",
    "\n",
    "Under the optimal allocation, the value of the marginal products for hired labor, family labor, and capital across tasks should be the same.\n",
    "Given the functional form and the assumption for the increasing $\\frac{\\alpha_n(i)}{\\alpha_k(i)}$, while all tasks with indexes $i < I$ will be mechanized, all tasks with $i > I$ will be completed with family labor or supervised hired labor.\n",
    "This makes the production function for the preparation stage \n",
    "\n",
    "$$\n",
    "    y^P = \\left( e^{\\int_{i = 0}^I \\ln(\\alpha_k(i) k(i)) di} e^{\\int_{i = I}^1 \\ln(\\alpha_n(i) (n^P(i, s) + n^P_f(i))) di} \\right)^\\alpha l^{1 - \\alpha}.\n",
    "$$\n",
    "\n",
    "Formulating the profit function such that\n",
    "\n",
    "$$\n",
    "    p \\left( e^{\\int_{i = 0}^I \\ln(\\alpha_k(i) k(i)) di} e^{\\int_{i = I}^1 \\ln(\\alpha_n(i) (n^P(i, s) + n^P_f(i))) di} \\right)^\\alpha l^{1 - \\alpha} \\\\\n",
    "    - (s w_f + w) \\int_{i = I}^1 n^P(i, s) di - w_f \\int_{i = I}^1 n_f^P(i) di - r \\int_{i = 0}^I k(i) di,\n",
    "$$\n",
    "\n",
    "the profit maximization conditions give the result that \n",
    "(i) $n^P(i, s)$ is the same for $i \\in [I, 1]$, \n",
    "(ii) $n_f^P(i)$ is the same for $i \\in [I, 1]$, and\n",
    "(iii) $k(i)$ is the same for $i \\in [0, I]$.\n",
    "Letting $n_f^P$, $n^P$, and $k$ be the amount of family labor, hired labor, and capital used by the farm, respectively, we obtain that\n",
    "- $n^P(i, s) = \\frac{n^P}{1 - I}$ for $i \\in [I, 1]$, $0$ otherwise;\n",
    "- $n_f^P(i) = \\frac{n_f^P}{1 - I}$ for $i \\in [I, 1]$, $0$ otherwise;\n",
    "- $k(i) = \\frac{k}{I}$ for $i \\in [0, 1]$, $0$ otherwise.\n",
    "\n",
    "This makes output at the preparation stage\n",
    "\n",
    "$$\n",
    "    y^P = \\left( e^{\\int_{i = 0}^I \\ln \\left( \\alpha_k(i) \\frac{k}{I} \\right) di} e^{\\int_{i = I}^1 \\ln \\left( \\alpha_n(i) \\frac{n^P + n^P_f}{1 - I} \\right) di} \\right)^\\alpha l^{1 - \\alpha} \\\\\n",
    "    = \\left( e^{\\int_{i = 0}^I \\ln \\left( \\alpha_k(i)\\right) di} \\left( \\frac{k}{I} \\right)^I e^{\\int_{i = I}^1 \\ln \\left( \\alpha_n(i) \\right) di} \\left( \\frac{n^P + n_f^P}{1 - I} \\right)^{1 - I} \\right)^\\alpha l^{1 - \\alpha} \\\\\n",
    "    = A^P k^{\\alpha I} (n^P + n^P_f)^{\\alpha (1 - I)} l^{1 - \\alpha},\n",
    "$$\n",
    "\n",
    "where $A^P = \\left(\\frac{e^{\\int_{i=0}^I \\ln \\alpha_k(i) di}}{I^I} \\right)^{\\alpha} \\left( \\frac{e^{\\int_{i=I}^1 \\ln \\alpha_n(i) di}}{(1 - I)^{1 - I}} \\right)^{\\alpha}$."
   ]
  },
  {
   "cell_type": "markdown",
   "metadata": {},
   "source": [
    "### Harvesting stage and final output\n",
    "\n",
    "Substituting the $y^P$ above into the production function in the harvesting stage, we obtain\n",
    "\n",
    "$$\n",
    "    y^H = A^P k^{\\alpha I} (n^P + n_f^P)^{\\alpha (1 - I)} \\left( n^H \\right)^{\\alpha^H} \\left( n_f^H \\right)^{\\alpha_f^H} l^{1 - \\alpha + \\alpha_l^H}.\n",
    "$$\n",
    "\n",
    "The paper assumes he constant returns to scale in inputs: $1 = \\alpha + (1 - \\alpha) + \\alpha^H_l + \\alpha_H + \\alpha^H_f$. \n",
    "_(But this implies that $\\alpha^H_l + \\alpha_H + \\alpha^H_f = 0$, which is strange because at least one of these parameters has to be non-positive.)_"
   ]
  },
  {
   "cell_type": "markdown",
   "metadata": {},
   "source": [
    "### Worker supervision\n",
    "\n",
    "The farming household chooses the labor input for supervision such that the incentive compatibility constraint of hired labor binds: $\\frac{n_s^j}{n^j} = \\omega$ for each $j$."
   ]
  },
  {
   "cell_type": "markdown",
   "metadata": {},
   "source": [
    "### Household's labor supply decisions"
   ]
  }
 ],
 "metadata": {
  "kernelspec": {
   "display_name": "Julia 1.4.1",
   "language": "julia",
   "name": "julia-1.4"
  },
  "language_info": {
   "file_extension": ".jl",
   "mimetype": "application/julia",
   "name": "julia",
   "version": "1.4.1"
  },
  "toc": {
   "base_numbering": 1,
   "nav_menu": {},
   "number_sections": false,
   "sideBar": true,
   "skip_h1_title": false,
   "title_cell": "Table of Contents",
   "title_sidebar": "Contents",
   "toc_cell": false,
   "toc_position": {},
   "toc_section_display": true,
   "toc_window_display": false
  }
 },
 "nbformat": 4,
 "nbformat_minor": 4
}
