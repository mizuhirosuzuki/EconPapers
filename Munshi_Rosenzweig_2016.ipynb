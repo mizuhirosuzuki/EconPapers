{
 "cells": [
  {
   "cell_type": "code",
   "execution_count": 1331,
   "metadata": {},
   "outputs": [],
   "source": [
    "import pandas as pd\n",
    "import numpy as np\n",
    "import scipy.optimize\n",
    "from random import sample\n",
    "import sys"
   ]
  },
  {
   "cell_type": "markdown",
   "metadata": {},
   "source": [
    "## Benchmark (single $\\nu$)"
   ]
  },
  {
   "cell_type": "markdown",
   "metadata": {},
   "source": [
    "### Run Stata do file"
   ]
  },
  {
   "cell_type": "code",
   "execution_count": 67,
   "metadata": {},
   "outputs": [
    {
     "name": "stdout",
     "output_type": "stream",
     "text": [
      "/Users/mizuhirosuzuki/Dropbox/EconPapers/MR16_data/replication files\n"
     ]
    }
   ],
   "source": [
    "cd MR16_data/replication\\ files/"
   ]
  },
  {
   "cell_type": "code",
   "execution_count": 87,
   "metadata": {},
   "outputs": [],
   "source": [
    "!stata-se -b do wage_gap_one_nu.do"
   ]
  },
  {
   "cell_type": "code",
   "execution_count": 838,
   "metadata": {},
   "outputs": [
    {
     "data": {
      "text/html": [
       "<div>\n",
       "<style scoped>\n",
       "    .dataframe tbody tr th:only-of-type {\n",
       "        vertical-align: middle;\n",
       "    }\n",
       "\n",
       "    .dataframe tbody tr th {\n",
       "        vertical-align: top;\n",
       "    }\n",
       "\n",
       "    .dataframe thead th {\n",
       "        text-align: right;\n",
       "    }\n",
       "</style>\n",
       "<table border=\"1\" class=\"dataframe\">\n",
       "  <thead>\n",
       "    <tr style=\"text-align: right;\">\n",
       "      <th></th>\n",
       "      <th>Pop</th>\n",
       "      <th>Class</th>\n",
       "      <th>MA</th>\n",
       "      <th>VA</th>\n",
       "      <th>Migration</th>\n",
       "      <th>notsure1</th>\n",
       "      <th>notsure2</th>\n",
       "      <th>nu</th>\n",
       "      <th>num_nomig</th>\n",
       "      <th>income_weight</th>\n",
       "    </tr>\n",
       "  </thead>\n",
       "  <tbody>\n",
       "    <tr>\n",
       "      <th>0</th>\n",
       "      <td>156</td>\n",
       "      <td>0</td>\n",
       "      <td>0.032125</td>\n",
       "      <td>0.022618</td>\n",
       "      <td>0.000000</td>\n",
       "      <td>1</td>\n",
       "      <td>1</td>\n",
       "      <td>23.6203</td>\n",
       "      <td>156</td>\n",
       "      <td>0.946624</td>\n",
       "    </tr>\n",
       "    <tr>\n",
       "      <th>1</th>\n",
       "      <td>156</td>\n",
       "      <td>1</td>\n",
       "      <td>0.036373</td>\n",
       "      <td>0.023784</td>\n",
       "      <td>0.000000</td>\n",
       "      <td>1</td>\n",
       "      <td>1</td>\n",
       "      <td>23.6203</td>\n",
       "      <td>156</td>\n",
       "      <td>0.963888</td>\n",
       "    </tr>\n",
       "    <tr>\n",
       "      <th>2</th>\n",
       "      <td>155</td>\n",
       "      <td>2</td>\n",
       "      <td>0.037962</td>\n",
       "      <td>0.021379</td>\n",
       "      <td>0.006452</td>\n",
       "      <td>1</td>\n",
       "      <td>1</td>\n",
       "      <td>23.6203</td>\n",
       "      <td>154</td>\n",
       "      <td>0.928850</td>\n",
       "    </tr>\n",
       "    <tr>\n",
       "      <th>3</th>\n",
       "      <td>156</td>\n",
       "      <td>3</td>\n",
       "      <td>0.042747</td>\n",
       "      <td>0.022370</td>\n",
       "      <td>0.006410</td>\n",
       "      <td>1</td>\n",
       "      <td>1</td>\n",
       "      <td>23.6203</td>\n",
       "      <td>155</td>\n",
       "      <td>0.960291</td>\n",
       "    </tr>\n",
       "    <tr>\n",
       "      <th>4</th>\n",
       "      <td>155</td>\n",
       "      <td>4</td>\n",
       "      <td>0.057714</td>\n",
       "      <td>0.042549</td>\n",
       "      <td>0.012903</td>\n",
       "      <td>1</td>\n",
       "      <td>1</td>\n",
       "      <td>23.6203</td>\n",
       "      <td>153</td>\n",
       "      <td>1.000000</td>\n",
       "    </tr>\n",
       "    <tr>\n",
       "      <th>5</th>\n",
       "      <td>161</td>\n",
       "      <td>0</td>\n",
       "      <td>0.039269</td>\n",
       "      <td>0.026786</td>\n",
       "      <td>0.000000</td>\n",
       "      <td>3</td>\n",
       "      <td>1</td>\n",
       "      <td>23.6203</td>\n",
       "      <td>161</td>\n",
       "      <td>0.796490</td>\n",
       "    </tr>\n",
       "    <tr>\n",
       "      <th>6</th>\n",
       "      <td>161</td>\n",
       "      <td>1</td>\n",
       "      <td>0.047074</td>\n",
       "      <td>0.031024</td>\n",
       "      <td>0.000000</td>\n",
       "      <td>3</td>\n",
       "      <td>1</td>\n",
       "      <td>23.6203</td>\n",
       "      <td>161</td>\n",
       "      <td>0.844159</td>\n",
       "    </tr>\n",
       "    <tr>\n",
       "      <th>7</th>\n",
       "      <td>161</td>\n",
       "      <td>2</td>\n",
       "      <td>0.051562</td>\n",
       "      <td>0.027803</td>\n",
       "      <td>0.000000</td>\n",
       "      <td>3</td>\n",
       "      <td>1</td>\n",
       "      <td>23.6203</td>\n",
       "      <td>161</td>\n",
       "      <td>0.812060</td>\n",
       "    </tr>\n",
       "    <tr>\n",
       "      <th>8</th>\n",
       "      <td>161</td>\n",
       "      <td>3</td>\n",
       "      <td>0.054943</td>\n",
       "      <td>0.030272</td>\n",
       "      <td>0.000000</td>\n",
       "      <td>3</td>\n",
       "      <td>1</td>\n",
       "      <td>23.6203</td>\n",
       "      <td>161</td>\n",
       "      <td>0.854544</td>\n",
       "    </tr>\n",
       "    <tr>\n",
       "      <th>9</th>\n",
       "      <td>161</td>\n",
       "      <td>4</td>\n",
       "      <td>0.069600</td>\n",
       "      <td>0.039060</td>\n",
       "      <td>0.000000</td>\n",
       "      <td>3</td>\n",
       "      <td>1</td>\n",
       "      <td>23.6203</td>\n",
       "      <td>161</td>\n",
       "      <td>1.000000</td>\n",
       "    </tr>\n",
       "    <tr>\n",
       "      <th>10</th>\n",
       "      <td>9</td>\n",
       "      <td>0</td>\n",
       "      <td>0.013274</td>\n",
       "      <td>0.001981</td>\n",
       "      <td>0.000000</td>\n",
       "      <td>4</td>\n",
       "      <td>1</td>\n",
       "      <td>23.6203</td>\n",
       "      <td>9</td>\n",
       "      <td>0.719076</td>\n",
       "    </tr>\n",
       "    <tr>\n",
       "      <th>11</th>\n",
       "      <td>8</td>\n",
       "      <td>1</td>\n",
       "      <td>0.016420</td>\n",
       "      <td>0.001995</td>\n",
       "      <td>0.000000</td>\n",
       "      <td>4</td>\n",
       "      <td>1</td>\n",
       "      <td>23.6203</td>\n",
       "      <td>8</td>\n",
       "      <td>0.749827</td>\n",
       "    </tr>\n",
       "    <tr>\n",
       "      <th>12</th>\n",
       "      <td>8</td>\n",
       "      <td>2</td>\n",
       "      <td>0.020999</td>\n",
       "      <td>0.014315</td>\n",
       "      <td>0.000000</td>\n",
       "      <td>4</td>\n",
       "      <td>1</td>\n",
       "      <td>23.6203</td>\n",
       "      <td>8</td>\n",
       "      <td>0.838748</td>\n",
       "    </tr>\n",
       "    <tr>\n",
       "      <th>13</th>\n",
       "      <td>8</td>\n",
       "      <td>3</td>\n",
       "      <td>0.037839</td>\n",
       "      <td>0.035640</td>\n",
       "      <td>0.000000</td>\n",
       "      <td>4</td>\n",
       "      <td>1</td>\n",
       "      <td>23.6203</td>\n",
       "      <td>8</td>\n",
       "      <td>0.943752</td>\n",
       "    </tr>\n",
       "    <tr>\n",
       "      <th>14</th>\n",
       "      <td>8</td>\n",
       "      <td>4</td>\n",
       "      <td>0.053414</td>\n",
       "      <td>0.123301</td>\n",
       "      <td>0.000000</td>\n",
       "      <td>4</td>\n",
       "      <td>1</td>\n",
       "      <td>23.6203</td>\n",
       "      <td>8</td>\n",
       "      <td>1.000000</td>\n",
       "    </tr>\n",
       "    <tr>\n",
       "      <th>15</th>\n",
       "      <td>19</td>\n",
       "      <td>0</td>\n",
       "      <td>0.027817</td>\n",
       "      <td>0.014086</td>\n",
       "      <td>0.000000</td>\n",
       "      <td>10</td>\n",
       "      <td>1</td>\n",
       "      <td>23.6203</td>\n",
       "      <td>19</td>\n",
       "      <td>0.624673</td>\n",
       "    </tr>\n",
       "    <tr>\n",
       "      <th>16</th>\n",
       "      <td>19</td>\n",
       "      <td>1</td>\n",
       "      <td>0.041407</td>\n",
       "      <td>0.024585</td>\n",
       "      <td>0.000000</td>\n",
       "      <td>10</td>\n",
       "      <td>1</td>\n",
       "      <td>23.6203</td>\n",
       "      <td>19</td>\n",
       "      <td>0.647822</td>\n",
       "    </tr>\n",
       "    <tr>\n",
       "      <th>17</th>\n",
       "      <td>19</td>\n",
       "      <td>2</td>\n",
       "      <td>0.048640</td>\n",
       "      <td>0.020556</td>\n",
       "      <td>0.000000</td>\n",
       "      <td>10</td>\n",
       "      <td>1</td>\n",
       "      <td>23.6203</td>\n",
       "      <td>19</td>\n",
       "      <td>0.637975</td>\n",
       "    </tr>\n",
       "    <tr>\n",
       "      <th>18</th>\n",
       "      <td>19</td>\n",
       "      <td>3</td>\n",
       "      <td>0.055179</td>\n",
       "      <td>0.018932</td>\n",
       "      <td>0.000000</td>\n",
       "      <td>10</td>\n",
       "      <td>1</td>\n",
       "      <td>23.6203</td>\n",
       "      <td>19</td>\n",
       "      <td>0.699838</td>\n",
       "    </tr>\n",
       "    <tr>\n",
       "      <th>19</th>\n",
       "      <td>18</td>\n",
       "      <td>4</td>\n",
       "      <td>0.113148</td>\n",
       "      <td>0.222874</td>\n",
       "      <td>0.000000</td>\n",
       "      <td>10</td>\n",
       "      <td>1</td>\n",
       "      <td>23.6203</td>\n",
       "      <td>18</td>\n",
       "      <td>1.000000</td>\n",
       "    </tr>\n",
       "    <tr>\n",
       "      <th>20</th>\n",
       "      <td>12</td>\n",
       "      <td>0</td>\n",
       "      <td>0.031185</td>\n",
       "      <td>0.020763</td>\n",
       "      <td>0.000000</td>\n",
       "      <td>22</td>\n",
       "      <td>1</td>\n",
       "      <td>23.6203</td>\n",
       "      <td>12</td>\n",
       "      <td>0.985022</td>\n",
       "    </tr>\n",
       "    <tr>\n",
       "      <th>21</th>\n",
       "      <td>11</td>\n",
       "      <td>1</td>\n",
       "      <td>0.037827</td>\n",
       "      <td>0.020792</td>\n",
       "      <td>0.000000</td>\n",
       "      <td>22</td>\n",
       "      <td>1</td>\n",
       "      <td>23.6203</td>\n",
       "      <td>11</td>\n",
       "      <td>0.954902</td>\n",
       "    </tr>\n",
       "    <tr>\n",
       "      <th>22</th>\n",
       "      <td>12</td>\n",
       "      <td>2</td>\n",
       "      <td>0.040219</td>\n",
       "      <td>0.029304</td>\n",
       "      <td>0.000000</td>\n",
       "      <td>22</td>\n",
       "      <td>1</td>\n",
       "      <td>23.6203</td>\n",
       "      <td>12</td>\n",
       "      <td>1.000000</td>\n",
       "    </tr>\n",
       "    <tr>\n",
       "      <th>23</th>\n",
       "      <td>11</td>\n",
       "      <td>3</td>\n",
       "      <td>0.044414</td>\n",
       "      <td>0.022930</td>\n",
       "      <td>0.000000</td>\n",
       "      <td>22</td>\n",
       "      <td>1</td>\n",
       "      <td>23.6203</td>\n",
       "      <td>11</td>\n",
       "      <td>0.991629</td>\n",
       "    </tr>\n",
       "    <tr>\n",
       "      <th>24</th>\n",
       "      <td>11</td>\n",
       "      <td>4</td>\n",
       "      <td>0.057849</td>\n",
       "      <td>0.038568</td>\n",
       "      <td>0.000000</td>\n",
       "      <td>22</td>\n",
       "      <td>1</td>\n",
       "      <td>23.6203</td>\n",
       "      <td>11</td>\n",
       "      <td>1.000000</td>\n",
       "    </tr>\n",
       "    <tr>\n",
       "      <th>25</th>\n",
       "      <td>82</td>\n",
       "      <td>0</td>\n",
       "      <td>0.034982</td>\n",
       "      <td>0.021772</td>\n",
       "      <td>0.012195</td>\n",
       "      <td>23</td>\n",
       "      <td>1</td>\n",
       "      <td>23.6203</td>\n",
       "      <td>81</td>\n",
       "      <td>0.679790</td>\n",
       "    </tr>\n",
       "    <tr>\n",
       "      <th>26</th>\n",
       "      <td>81</td>\n",
       "      <td>1</td>\n",
       "      <td>0.041375</td>\n",
       "      <td>0.016652</td>\n",
       "      <td>0.024691</td>\n",
       "      <td>23</td>\n",
       "      <td>1</td>\n",
       "      <td>23.6203</td>\n",
       "      <td>79</td>\n",
       "      <td>0.702687</td>\n",
       "    </tr>\n",
       "    <tr>\n",
       "      <th>27</th>\n",
       "      <td>81</td>\n",
       "      <td>2</td>\n",
       "      <td>0.047475</td>\n",
       "      <td>0.016108</td>\n",
       "      <td>0.012346</td>\n",
       "      <td>23</td>\n",
       "      <td>1</td>\n",
       "      <td>23.6203</td>\n",
       "      <td>80</td>\n",
       "      <td>0.757778</td>\n",
       "    </tr>\n",
       "    <tr>\n",
       "      <th>28</th>\n",
       "      <td>81</td>\n",
       "      <td>3</td>\n",
       "      <td>0.052572</td>\n",
       "      <td>0.007217</td>\n",
       "      <td>0.024691</td>\n",
       "      <td>23</td>\n",
       "      <td>1</td>\n",
       "      <td>23.6203</td>\n",
       "      <td>79</td>\n",
       "      <td>0.796742</td>\n",
       "    </tr>\n",
       "    <tr>\n",
       "      <th>29</th>\n",
       "      <td>81</td>\n",
       "      <td>4</td>\n",
       "      <td>0.084955</td>\n",
       "      <td>0.085712</td>\n",
       "      <td>0.061728</td>\n",
       "      <td>23</td>\n",
       "      <td>1</td>\n",
       "      <td>23.6203</td>\n",
       "      <td>76</td>\n",
       "      <td>1.000000</td>\n",
       "    </tr>\n",
       "  </tbody>\n",
       "</table>\n",
       "</div>"
      ],
      "text/plain": [
       "    Pop  Class        MA        VA  Migration  notsure1  notsure2       nu  \\\n",
       "0   156      0  0.032125  0.022618   0.000000         1         1  23.6203   \n",
       "1   156      1  0.036373  0.023784   0.000000         1         1  23.6203   \n",
       "2   155      2  0.037962  0.021379   0.006452         1         1  23.6203   \n",
       "3   156      3  0.042747  0.022370   0.006410         1         1  23.6203   \n",
       "4   155      4  0.057714  0.042549   0.012903         1         1  23.6203   \n",
       "5   161      0  0.039269  0.026786   0.000000         3         1  23.6203   \n",
       "6   161      1  0.047074  0.031024   0.000000         3         1  23.6203   \n",
       "7   161      2  0.051562  0.027803   0.000000         3         1  23.6203   \n",
       "8   161      3  0.054943  0.030272   0.000000         3         1  23.6203   \n",
       "9   161      4  0.069600  0.039060   0.000000         3         1  23.6203   \n",
       "10    9      0  0.013274  0.001981   0.000000         4         1  23.6203   \n",
       "11    8      1  0.016420  0.001995   0.000000         4         1  23.6203   \n",
       "12    8      2  0.020999  0.014315   0.000000         4         1  23.6203   \n",
       "13    8      3  0.037839  0.035640   0.000000         4         1  23.6203   \n",
       "14    8      4  0.053414  0.123301   0.000000         4         1  23.6203   \n",
       "15   19      0  0.027817  0.014086   0.000000        10         1  23.6203   \n",
       "16   19      1  0.041407  0.024585   0.000000        10         1  23.6203   \n",
       "17   19      2  0.048640  0.020556   0.000000        10         1  23.6203   \n",
       "18   19      3  0.055179  0.018932   0.000000        10         1  23.6203   \n",
       "19   18      4  0.113148  0.222874   0.000000        10         1  23.6203   \n",
       "20   12      0  0.031185  0.020763   0.000000        22         1  23.6203   \n",
       "21   11      1  0.037827  0.020792   0.000000        22         1  23.6203   \n",
       "22   12      2  0.040219  0.029304   0.000000        22         1  23.6203   \n",
       "23   11      3  0.044414  0.022930   0.000000        22         1  23.6203   \n",
       "24   11      4  0.057849  0.038568   0.000000        22         1  23.6203   \n",
       "25   82      0  0.034982  0.021772   0.012195        23         1  23.6203   \n",
       "26   81      1  0.041375  0.016652   0.024691        23         1  23.6203   \n",
       "27   81      2  0.047475  0.016108   0.012346        23         1  23.6203   \n",
       "28   81      3  0.052572  0.007217   0.024691        23         1  23.6203   \n",
       "29   81      4  0.084955  0.085712   0.061728        23         1  23.6203   \n",
       "\n",
       "    num_nomig  income_weight  \n",
       "0         156       0.946624  \n",
       "1         156       0.963888  \n",
       "2         154       0.928850  \n",
       "3         155       0.960291  \n",
       "4         153       1.000000  \n",
       "5         161       0.796490  \n",
       "6         161       0.844159  \n",
       "7         161       0.812060  \n",
       "8         161       0.854544  \n",
       "9         161       1.000000  \n",
       "10          9       0.719076  \n",
       "11          8       0.749827  \n",
       "12          8       0.838748  \n",
       "13          8       0.943752  \n",
       "14          8       1.000000  \n",
       "15         19       0.624673  \n",
       "16         19       0.647822  \n",
       "17         19       0.637975  \n",
       "18         19       0.699838  \n",
       "19         18       1.000000  \n",
       "20         12       0.985022  \n",
       "21         11       0.954902  \n",
       "22         12       1.000000  \n",
       "23         11       0.991629  \n",
       "24         11       1.000000  \n",
       "25         81       0.679790  \n",
       "26         79       0.702687  \n",
       "27         80       0.757778  \n",
       "28         79       0.796742  \n",
       "29         76       1.000000  "
      ]
     },
     "execution_count": 838,
     "metadata": {},
     "output_type": "execute_result"
    }
   ],
   "source": [
    "data_df = pd.read_fwf('data.raw', header = None)\n",
    "data_df.columns =['Pop', 'Class', 'MA', 'VA', 'Migration', 'notsure1', 'notsure2', 'nu', 'num_nomig', 'income_weight']\n",
    "data_df.head(30)"
   ]
  },
  {
   "cell_type": "code",
   "execution_count": 840,
   "metadata": {},
   "outputs": [],
   "source": [
    "Pop_array = data_df.Pop.values.reshape((5, 100), order = 'F')\n",
    "MA_array  = data_df.MA.values.reshape((5, 100), order = 'F')\n",
    "VA_array  = data_df.VA.values.reshape((5, 100), order = 'F')\n",
    "num_nomig_array = data_df.num_nomig.values.reshape((5, 100), order = 'F')\n",
    "income_weight_array = data_df.income_weight.values.reshape((5, 100), order = 'F')\n"
   ]
  },
  {
   "cell_type": "markdown",
   "metadata": {},
   "source": [
    "### Structural estimation"
   ]
  },
  {
   "cell_type": "code",
   "execution_count": 1110,
   "metadata": {},
   "outputs": [],
   "source": [
    "np.random.seed(123)\n",
    "P = sample(range(50, 501, 50), 1)[0]\n",
    "N = 5\n",
    "MA_list = []\n",
    "for i in range(N):\n",
    "    MA_list.append(np.random.uniform(i / 4 - 4, (i + 1) / 4 - 4))\n",
    "MA = np.exp(MA_list)\n",
    "VA_list = []\n",
    "for i in range(N):\n",
    "    VA_list.append(np.random.uniform(i / 6 - 5, (i + 1) / 6 - 5))\n",
    "VA = np.exp(VA_list)\n",
    "RA = VA / (MA ** 2)\n",
    "\n",
    "beta = 0.5\n",
    "nu = 23.6"
   ]
  },
  {
   "cell_type": "code",
   "execution_count": 788,
   "metadata": {},
   "outputs": [],
   "source": [
    "P = 50\n",
    "N = 5\n",
    "MA = data_df.MA[:5].to_numpy()\n",
    "VA = data_df.VA[:5].to_numpy()\n",
    "RA = VA / (MA ** 2)\n",
    "\n",
    "beta = 1.4\n",
    "nu = 23.6"
   ]
  },
  {
   "cell_type": "code",
   "execution_count": 844,
   "metadata": {},
   "outputs": [
    {
     "name": "stdout",
     "output_type": "stream",
     "text": [
      "[0.02179918 0.02526172 0.03195946 0.04450422 0.05959803]\n",
      "[0.00723025 0.00937346 0.01054052 0.0120361  0.01401005]\n",
      "[15.2150208  14.6883946  10.31960925  6.07691966  3.94435365]\n"
     ]
    }
   ],
   "source": [
    "print(MA)\n",
    "print(VA)\n",
    "print(RA)"
   ]
  },
  {
   "cell_type": "code",
   "execution_count": 845,
   "metadata": {},
   "outputs": [],
   "source": [
    "income_weight = MA[:(N - 1)] / MA[N - 1]"
   ]
  },
  {
   "cell_type": "code",
   "execution_count": 846,
   "metadata": {},
   "outputs": [],
   "source": [
    "N_part = np.repeat(P / N - 1, N)\n",
    "Pop_class = np.repeat(P/ N, N)"
   ]
  },
  {
   "cell_type": "markdown",
   "metadata": {},
   "source": [
    "If $\\beta < 1$, then all households would send migrants to the city without insurance network.\n",
    "Hence, total surplus from insurance network is\n",
    "\n",
    "\\begin{equation*}\n",
    "    W = \\sum_k \\left[ P_k \\int_0^{\\epsilon_{Ik}} \\left\\{ \\left[ \\log(M_{Ik}) - \\frac{1}{2} R_I \\right] - \\left[ \\log(M_{Ak}) - \\frac{1}{2} \\beta R_{Ak} + \\epsilon \\right] \\right\\} f(\\epsilon) d \\epsilon \\right].\n",
    "\\end{equation*}\n",
    "\n",
    "Since $N_k = P_k \\int_0^{\\epsilon_{Ik}} f(\\epsilon) d \\epsilon$,\n",
    "\n",
    "\\begin{equation*}\n",
    "    W = \\sum_k \\left[ N_k \\epsilon_{Ik} - P_k \\int_0^{\\epsilon_{Ik}} \\epsilon f(\\epsilon) d \\epsilon \\right].\n",
    "\\end{equation*}\n",
    "\n",
    "When $F(\\epsilon) = 1 - \\exp(-\\nu \\epsilon)$, the above expression becomes\n",
    "\n",
    "\\begin{equation*}\n",
    "    W = \\sum_k \\left[ N_k \\epsilon_{Ik} - P_k \\left(\\frac{1}{\\nu} - \\left(\\epsilon_{Ik} + \\frac{1}{\\nu} \\right) \\exp(- \\nu \\epsilon_{Ik}) \\right) \\right].\n",
    "\\end{equation*}\n"
   ]
  },
  {
   "cell_type": "markdown",
   "metadata": {},
   "source": [
    "On the other hand, if $\\beta > 1$, then there exists a threshold $\\epsilon_{Ak}$ below which household do not send migrants to the city even when they do not benefit from insurance network, due to high risks of urban jobs (footnote 23).\n",
    "In this case, total surplus from insurance network is\n",
    "\n",
    "\\begin{equation*}\n",
    "    W = \\sum_k \\left[ P_k \\left[ \\int_0^{\\epsilon_{Ak}} \\left\\{ \\left[ \\log(M_{Ik}) - \\frac{1}{2} R_I \\right] - \\left[ \\log(M_{Ak}) - \\frac{1}{2} R_{Ak} \\right] \\right\\} f(\\epsilon) d \\epsilon + \\int_{\\epsilon_{Ak}}^{\\epsilon_{Ik}} \\left\\{ \\left[ \\log(M_{Ik}) - \\frac{1}{2} R_I \\right] - \\left[ \\log(M_{Ak}) - \\frac{1}{2} \\beta R_{Ak} + \\epsilon \\right] \\right\\} f(\\epsilon) d \\epsilon \\right] \\right] .\n",
    "\\end{equation*}\n",
    "\n",
    "The first integral is the surplus of those who would not send migrants even without insurance: utility under insurance net of utility under autarky in a village.\n",
    "The second integral is the surplus of those who would send migrants without insurance network: utility under insurance net of utility of sending migrants to the city.\n",
    "\n",
    "Letting $N_{Ak} = P_k \\int_0^{\\epsilon_{Ak}} f(\\epsilon) d \\epsilon$, we can simplify the total surplus to\n",
    "\n",
    "\\begin{equation*}\n",
    "    W = \\sum_k \\left[ N_{k} \\epsilon_{Ik} - N_{Ak} \\epsilon_{Ak} - P_k \\int_{\\epsilon_{Ak}}^{\\epsilon_{Ik}} \\epsilon f(\\epsilon) d \\epsilon \\right]  .\n",
    "\\end{equation*}\n",
    "\n",
    "When $F(\\epsilon) = 1 - \\exp(-\\nu \\epsilon)$, the above expression becomes\n",
    "\n",
    "\\begin{equation*}\n",
    "    W = \\sum_k \\left[ N_{k} \\epsilon_{Ik} - N_{Ak} \\epsilon_{Ak} - P_k \\left( \\left(\\epsilon_{Ak} + \\frac{1}{\\nu} \\right) \\exp(- \\nu \\epsilon_{Ak}) - \\left(\\epsilon_{Ik} + \\frac{1}{\\nu} \\right) \\exp(- \\nu \\epsilon_{Ik}) \\right) \\right]  .\n",
    "\\end{equation*}\n",
    "\n",
    "\n",
    "The threshold $\\epsilon_{Ak}$ is determined from the following equation equating the utility of staying in autarky and that of sending migrants:\n",
    "\n",
    "\\begin{equation*}\n",
    "    \\log(M_{Ak}) - \\frac{1}{2} \\beta R_{Ak} + \\epsilon_{Ak} = \\log(M_{Ak}) - \\frac{1}{2} R_{Ak}.\n",
    "\\end{equation*}\n",
    "\n",
    "Hence, $\\epsilon_{Ak} = \\frac{\\beta - 1}{2} R_{Ak}$."
   ]
  },
  {
   "cell_type": "markdown",
   "metadata": {},
   "source": [
    "### ==================================="
   ]
  },
  {
   "cell_type": "code",
   "execution_count": 1850,
   "metadata": {},
   "outputs": [],
   "source": [
    "def fp_N_fun(N_part_trans, income_weight, Pop_class, MA, VA, N):\n",
    "    N_part = 1e-16 + np.exp(np.minimum(N_part_trans, 50)) / (1 + np.exp(np.minimum(N_part_trans, 50))) * ((Pop_class - 1e-16) - 1e-16)\n",
    "\n",
    "    RA = VA / np.square(MA)\n",
    "    # variables under insurance\n",
    "    MI = income_weight / np.dot(income_weight, N_part) * np.dot(N_part, MA)\n",
    "    VI = np.square(income_weight / np.dot(income_weight, N_part)) * np.dot(N_part, VA)\n",
    "    RI = np.dot(N_part, VA) / np.square(np.dot(N_part, MA))\n",
    "    return((N_part / Pop_class - (1 - np.exp(np.minimum(- nu * (np.log(MI) - np.log(MA) + 1 / 2 * beta * RA - 1 / 2 * RI), 0)))))"
   ]
  },
  {
   "cell_type": "code",
   "execution_count": 1851,
   "metadata": {},
   "outputs": [],
   "source": [
    "def calculate_W(income_weight_trans, beta, MA, VA, Pop_class, N = N):\n",
    "    income_weight = MA[:(N - 1)] / MA[N - 1] + np.exp(np.minimum(income_weight_trans, 50)) / (1 + np.exp(np.minimum(income_weight_trans, 50))) * (1 - MA[:(N - 1)] / MA[N - 1])\n",
    "    income_weight = np.append(income_weight, 1)\n",
    "\n",
    "    fp_N_res = scipy.optimize.root(fp_N_fun, np.repeat(0, N), \n",
    "                                   args = (income_weight, Pop_class, MA, VA, N), method = 'hybr',\n",
    "#                                   options = {'xtol': 1e-16}\n",
    "                                  )\n",
    "    if np.abs(fp_N_res.fun).sum() > 1e-6:\n",
    "        fp_N_res = scipy.optimize.root(fp_N_fun, np.repeat(0, N), \n",
    "                                       args = (income_weight, Pop_class, MA, VA, N), method = 'df-sane',\n",
    "    #                                   options = {'xtol': 1e-16}\n",
    "                                      )        \n",
    "    N_part = 1e-16 + np.exp(np.minimum(fp_N_res.x, 50)) / (1 + np.exp(np.minimum(fp_N_res.x, 50))) * ((Pop_class - 1e-16) - 1e-16)\n",
    "    \n",
    "    # variables under insurance\n",
    "    MI = income_weight / np.dot(income_weight, N_part) * np.dot(N_part, MA)\n",
    "    VI = np.square(income_weight / np.dot(income_weight, N_part)) * np.dot(N_part, VA)\n",
    "    RI = np.dot(N_part, VA) / np.square(np.dot(N_part, MA))\n",
    "    \n",
    "    # total surplus\n",
    "    epsilon_I = np.log(MI) - np.log(MA) + 1 / 2 * beta * RA - 1 / 2 * RI\n",
    "\n",
    "    if beta <= 1:\n",
    "        W = np.dot(N_part, epsilon_I) - np.dot(Pop_class, 1 / nu - (epsilon_I + 1 / nu) * np.exp(- nu * epsilon_I))\n",
    "    else:\n",
    "        epsilon_A = (beta - 1) / 2 * VA / np.square(MA)\n",
    "        N_A = Pop_class * (1 - np.exp(- nu * epsilon_A))\n",
    "        W = np.dot(N_part, epsilon_I) - np.dot(N_A, epsilon_A) - np.dot(Pop_class, (epsilon_A + 1 / nu) * np.exp(- nu * epsilon_A) - (epsilon_I + 1 / nu) * np.exp(- nu * epsilon_I))\n",
    "    return(-W)"
   ]
  },
  {
   "cell_type": "code",
   "execution_count": 1854,
   "metadata": {},
   "outputs": [
    {
     "name": "stderr",
     "output_type": "stream",
     "text": [
      "/Users/mizuhirosuzuki/anaconda/lib/python3.6/site-packages/ipykernel_launcher.py:29: RuntimeWarning: overflow encountered in exp\n",
      "/Users/mizuhirosuzuki/anaconda/lib/python3.6/site-packages/scipy/optimize/optimize.py:697: RuntimeWarning: invalid value encountered in double_scalars\n",
      "  grad[k] = (f(*((xk + d,) + args)) - f0) / d[k]\n",
      "/Users/mizuhirosuzuki/anaconda/lib/python3.6/site-packages/ipykernel_launcher.py:29: RuntimeWarning: overflow encountered in exp\n",
      "/Users/mizuhirosuzuki/anaconda/lib/python3.6/site-packages/ipykernel_launcher.py:29: RuntimeWarning: overflow encountered in exp\n",
      "/Users/mizuhirosuzuki/anaconda/lib/python3.6/site-packages/scipy/optimize/optimize.py:697: RuntimeWarning: invalid value encountered in double_scalars\n",
      "  grad[k] = (f(*((xk + d,) + args)) - f0) / d[k]\n",
      "/Users/mizuhirosuzuki/anaconda/lib/python3.6/site-packages/scipy/optimize/_spectral.py:144: RuntimeWarning: divide by zero encountered in double_scalars\n",
      "  sigma_k = np.vdot(s_k, s_k) / np.vdot(s_k, y_k)\n",
      "/Users/mizuhirosuzuki/anaconda/lib/python3.6/site-packages/ipykernel_launcher.py:29: RuntimeWarning: overflow encountered in exp\n",
      "/Users/mizuhirosuzuki/anaconda/lib/python3.6/site-packages/scipy/optimize/_spectral.py:144: RuntimeWarning: divide by zero encountered in double_scalars\n",
      "  sigma_k = np.vdot(s_k, s_k) / np.vdot(s_k, y_k)\n",
      "/Users/mizuhirosuzuki/anaconda/lib/python3.6/site-packages/ipykernel_launcher.py:29: RuntimeWarning: overflow encountered in exp\n",
      "/Users/mizuhirosuzuki/anaconda/lib/python3.6/site-packages/scipy/optimize/_spectral.py:144: RuntimeWarning: divide by zero encountered in double_scalars\n",
      "  sigma_k = np.vdot(s_k, s_k) / np.vdot(s_k, y_k)\n",
      "/Users/mizuhirosuzuki/anaconda/lib/python3.6/site-packages/ipykernel_launcher.py:29: RuntimeWarning: overflow encountered in exp\n",
      "/Users/mizuhirosuzuki/anaconda/lib/python3.6/site-packages/scipy/optimize/optimize.py:697: RuntimeWarning: invalid value encountered in double_scalars\n",
      "  grad[k] = (f(*((xk + d,) + args)) - f0) / d[k]\n",
      "/Users/mizuhirosuzuki/anaconda/lib/python3.6/site-packages/ipykernel_launcher.py:29: RuntimeWarning: overflow encountered in exp\n",
      "/Users/mizuhirosuzuki/anaconda/lib/python3.6/site-packages/scipy/optimize/_spectral.py:144: RuntimeWarning: divide by zero encountered in double_scalars\n",
      "  sigma_k = np.vdot(s_k, s_k) / np.vdot(s_k, y_k)\n",
      "/Users/mizuhirosuzuki/anaconda/lib/python3.6/site-packages/ipykernel_launcher.py:29: RuntimeWarning: overflow encountered in exp\n",
      "/Users/mizuhirosuzuki/anaconda/lib/python3.6/site-packages/scipy/optimize/optimize.py:697: RuntimeWarning: invalid value encountered in double_scalars\n",
      "  grad[k] = (f(*((xk + d,) + args)) - f0) / d[k]\n",
      "/Users/mizuhirosuzuki/anaconda/lib/python3.6/site-packages/ipykernel_launcher.py:29: RuntimeWarning: overflow encountered in exp\n",
      "/Users/mizuhirosuzuki/anaconda/lib/python3.6/site-packages/ipykernel_launcher.py:29: RuntimeWarning: overflow encountered in exp\n",
      "/Users/mizuhirosuzuki/anaconda/lib/python3.6/site-packages/scipy/optimize/optimize.py:697: RuntimeWarning: invalid value encountered in double_scalars\n",
      "  grad[k] = (f(*((xk + d,) + args)) - f0) / d[k]\n",
      "/Users/mizuhirosuzuki/anaconda/lib/python3.6/site-packages/ipykernel_launcher.py:29: RuntimeWarning: overflow encountered in exp\n",
      "/Users/mizuhirosuzuki/anaconda/lib/python3.6/site-packages/ipykernel_launcher.py:29: RuntimeWarning: overflow encountered in exp\n",
      "/Users/mizuhirosuzuki/anaconda/lib/python3.6/site-packages/scipy/optimize/optimize.py:697: RuntimeWarning: invalid value encountered in double_scalars\n",
      "  grad[k] = (f(*((xk + d,) + args)) - f0) / d[k]\n",
      "/Users/mizuhirosuzuki/anaconda/lib/python3.6/site-packages/ipykernel_launcher.py:29: RuntimeWarning: overflow encountered in exp\n",
      "/Users/mizuhirosuzuki/anaconda/lib/python3.6/site-packages/ipykernel_launcher.py:29: RuntimeWarning: overflow encountered in exp\n",
      "/Users/mizuhirosuzuki/anaconda/lib/python3.6/site-packages/scipy/optimize/optimize.py:697: RuntimeWarning: invalid value encountered in double_scalars\n",
      "  grad[k] = (f(*((xk + d,) + args)) - f0) / d[k]\n"
     ]
    }
   ],
   "source": [
    "lambda_N_res_array = np.zeros([(N - 1) + N, MA_array.shape[1]])\n",
    "optimization_res = np.repeat('', MA_array.shape[1])\n",
    "fp_N_res_array = np.zeros([N, MA_array.shape[1]])\n",
    "fp_N_message_array = np.repeat(\"\", MA_array.shape[1])\n",
    "for i in range(MA_array.shape[1]):\n",
    "    MA = MA_array[:, i]\n",
    "    VA = VA_array[:, i]\n",
    "    Pop_class = Pop_array[:, i]\n",
    "    lambda_N_init = np.repeat(-0, (N - 1))\n",
    "    lambda_N_res = scipy.optimize.minimize(calculate_W, lambda_N_init, \n",
    "                        args = (1.41, MA, VA, Pop_class),\n",
    "                        options = {'maxiter': 1000},\n",
    "#                         method = 'Nelder-Mead',\n",
    "#                         constraints = [{'fun': constraint_nonnegative_lambda, 'type': 'ineq'},\n",
    "#                                        {'fun': constraint_less_than_one_lambda, 'type': 'ineq'}]\n",
    "                                      )\n",
    "    optimization_res[i] = lambda_N_res.message\n",
    "    \n",
    "    income_weight = MA[:(N - 1)] / MA[N - 1] + np.exp(np.minimum(lambda_N_res.x, 50)) / (1 + np.exp(np.minimum(lambda_N_res.x, 50))) * (1 - MA[:(N - 1)] / MA[N - 1])\n",
    "    fp_N_res = scipy.optimize.root(fp_N_fun, np.repeat(0, N), \n",
    "                                   args = (np.append(income_weight, 1), Pop_class, MA, VA, N), method = 'hybr',\n",
    "                                  options = {'xtol': 1e-16}\n",
    "                                  )\n",
    "    if np.abs(fp_N_res.fun).sum() > 1e-6:\n",
    "        fp_N_res = scipy.optimize.root(fp_N_fun, np.repeat(0, N), \n",
    "                                       args = (np.append(income_weight, 1), Pop_class, MA, VA, N), method = 'df-sane',\n",
    "    #                                   options = {'xtol': 1e-16}\n",
    "                                      )        \n",
    "\n",
    "    fp_N_res_array[:,i] = fp_N_res.fun\n",
    "    fp_N_message_array[i] = fp_N_res.message\n",
    "    N_part = 1e-16 + np.exp(np.minimum(fp_N_res.x, 50)) / (1 + np.exp(np.minimum(fp_N_res.x, 50))) * ((Pop_class - 1e-16) - 1e-16)\n",
    "\n",
    "    lambda_N_res_array[:, i] = np.append(income_weight, N_part)"
   ]
  },
  {
   "cell_type": "code",
   "execution_count": 1838,
   "metadata": {},
   "outputs": [
    {
     "data": {
      "text/plain": [
       "array(['T', 'T', 'T', 'T', 'T', 'T', 'T', 'T', 'T', 'T', 'T', 'T', 'T',\n",
       "       'T', 'T', 'T', 'T', 'T', 'T', 'T', 'T', 'T', 'T', 'T', 'T', 'T',\n",
       "       'T', 'T', 'T', 'T', 'T', 'T', 'T', 'T', 'T', 'T', 'T', 'T', 'T',\n",
       "       'T', 'T', 'T', 'T', 'T', 'T', 'T', 'T', 'T', 'T', 'T', 'T', 'T',\n",
       "       'T', 'T', 'T', 'T', 'T', 'T', 'T', 'T', 'T', 'T', 'T', 'T', 'T',\n",
       "       'T', 'T', 'T', 'T', 'T', 'T', 'T', 'T', 'T', 'T', 'T', 'T', 'T',\n",
       "       'T', 'T', 'T', 'T', 'T', 'x', 'T', 'T', 'T', 'T', 'T', 'T', 'T',\n",
       "       'T', 'T', 'T', 'T', 'T', 'T', 'T', 'T', 'T'], dtype='<U1')"
      ]
     },
     "execution_count": 1838,
     "metadata": {},
     "output_type": "execute_result"
    }
   ],
   "source": [
    "fp_N_message_array"
   ]
  },
  {
   "cell_type": "code",
   "execution_count": 1855,
   "metadata": {},
   "outputs": [
    {
     "data": {
      "text/html": [
       "<div>\n",
       "<style scoped>\n",
       "    .dataframe tbody tr th:only-of-type {\n",
       "        vertical-align: middle;\n",
       "    }\n",
       "\n",
       "    .dataframe tbody tr th {\n",
       "        vertical-align: top;\n",
       "    }\n",
       "\n",
       "    .dataframe thead th {\n",
       "        text-align: right;\n",
       "    }\n",
       "</style>\n",
       "<table border=\"1\" class=\"dataframe\">\n",
       "  <thead>\n",
       "    <tr style=\"text-align: right;\">\n",
       "      <th></th>\n",
       "      <th>0</th>\n",
       "    </tr>\n",
       "  </thead>\n",
       "  <tbody>\n",
       "    <tr>\n",
       "      <th>0</th>\n",
       "      <td>1.395361e-07</td>\n",
       "    </tr>\n",
       "    <tr>\n",
       "      <th>1</th>\n",
       "      <td>7.518116e-04</td>\n",
       "    </tr>\n",
       "    <tr>\n",
       "      <th>2</th>\n",
       "      <td>5.000000e-18</td>\n",
       "    </tr>\n",
       "    <tr>\n",
       "      <th>3</th>\n",
       "      <td>5.263158e-18</td>\n",
       "    </tr>\n",
       "    <tr>\n",
       "      <th>4</th>\n",
       "      <td>5.263158e-18</td>\n",
       "    </tr>\n",
       "  </tbody>\n",
       "</table>\n",
       "</div>"
      ],
      "text/plain": [
       "              0\n",
       "0  1.395361e-07\n",
       "1  7.518116e-04\n",
       "2  5.000000e-18\n",
       "3  5.263158e-18\n",
       "4  5.263158e-18"
      ]
     },
     "execution_count": 1855,
     "metadata": {},
     "output_type": "execute_result"
    }
   ],
   "source": [
    "pd.DataFrame(fp_N_res_array[:,(np.abs(fp_N_res_array).sum(axis=0) > 1e-6)])"
   ]
  },
  {
   "cell_type": "code",
   "execution_count": 1709,
   "metadata": {},
   "outputs": [
    {
     "data": {
      "text/html": [
       "<div>\n",
       "<style scoped>\n",
       "    .dataframe tbody tr th:only-of-type {\n",
       "        vertical-align: middle;\n",
       "    }\n",
       "\n",
       "    .dataframe tbody tr th {\n",
       "        vertical-align: top;\n",
       "    }\n",
       "\n",
       "    .dataframe thead th {\n",
       "        text-align: right;\n",
       "    }\n",
       "</style>\n",
       "<table border=\"1\" class=\"dataframe\">\n",
       "  <thead>\n",
       "    <tr style=\"text-align: right;\">\n",
       "      <th></th>\n",
       "      <th>0</th>\n",
       "      <th>1</th>\n",
       "      <th>2</th>\n",
       "      <th>3</th>\n",
       "      <th>4</th>\n",
       "      <th>5</th>\n",
       "      <th>6</th>\n",
       "      <th>7</th>\n",
       "      <th>8</th>\n",
       "      <th>9</th>\n",
       "    </tr>\n",
       "  </thead>\n",
       "  <tbody>\n",
       "    <tr>\n",
       "      <th>0</th>\n",
       "      <td>-1.110223e-16</td>\n",
       "      <td>0.000000e+00</td>\n",
       "      <td>-3.048537e-02</td>\n",
       "      <td>0.000000e+00</td>\n",
       "      <td>0.000000e+00</td>\n",
       "      <td>0.000000e+00</td>\n",
       "      <td>-1.110223e-16</td>\n",
       "      <td>0.000000e+00</td>\n",
       "      <td>0.000000e+00</td>\n",
       "      <td>0.000000e+00</td>\n",
       "    </tr>\n",
       "    <tr>\n",
       "      <th>1</th>\n",
       "      <td>0.000000e+00</td>\n",
       "      <td>-1.110223e-16</td>\n",
       "      <td>1.253744e-03</td>\n",
       "      <td>1.250000e-17</td>\n",
       "      <td>0.000000e+00</td>\n",
       "      <td>0.000000e+00</td>\n",
       "      <td>-1.110223e-16</td>\n",
       "      <td>3.041594e-17</td>\n",
       "      <td>4.471318e-17</td>\n",
       "      <td>0.000000e+00</td>\n",
       "    </tr>\n",
       "    <tr>\n",
       "      <th>2</th>\n",
       "      <td>0.000000e+00</td>\n",
       "      <td>0.000000e+00</td>\n",
       "      <td>3.010162e-16</td>\n",
       "      <td>2.330800e-13</td>\n",
       "      <td>0.000000e+00</td>\n",
       "      <td>0.000000e+00</td>\n",
       "      <td>-2.220446e-16</td>\n",
       "      <td>5.000012e-18</td>\n",
       "      <td>5.874033e-16</td>\n",
       "      <td>0.000000e+00</td>\n",
       "    </tr>\n",
       "    <tr>\n",
       "      <th>3</th>\n",
       "      <td>1.110223e-16</td>\n",
       "      <td>0.000000e+00</td>\n",
       "      <td>4.204923e-02</td>\n",
       "      <td>2.437411e-13</td>\n",
       "      <td>0.000000e+00</td>\n",
       "      <td>1.110223e-16</td>\n",
       "      <td>-1.110223e-16</td>\n",
       "      <td>3.875125e-16</td>\n",
       "      <td>1.667765e-15</td>\n",
       "      <td>-1.110223e-16</td>\n",
       "    </tr>\n",
       "    <tr>\n",
       "      <th>4</th>\n",
       "      <td>0.000000e+00</td>\n",
       "      <td>0.000000e+00</td>\n",
       "      <td>4.273034e-02</td>\n",
       "      <td>2.108354e-13</td>\n",
       "      <td>7.142857e-18</td>\n",
       "      <td>0.000000e+00</td>\n",
       "      <td>0.000000e+00</td>\n",
       "      <td>3.404750e-16</td>\n",
       "      <td>1.953723e-15</td>\n",
       "      <td>3.044150e-17</td>\n",
       "    </tr>\n",
       "  </tbody>\n",
       "</table>\n",
       "</div>"
      ],
      "text/plain": [
       "              0             1             2             3             4  \\\n",
       "0 -1.110223e-16  0.000000e+00 -3.048537e-02  0.000000e+00  0.000000e+00   \n",
       "1  0.000000e+00 -1.110223e-16  1.253744e-03  1.250000e-17  0.000000e+00   \n",
       "2  0.000000e+00  0.000000e+00  3.010162e-16  2.330800e-13  0.000000e+00   \n",
       "3  1.110223e-16  0.000000e+00  4.204923e-02  2.437411e-13  0.000000e+00   \n",
       "4  0.000000e+00  0.000000e+00  4.273034e-02  2.108354e-13  7.142857e-18   \n",
       "\n",
       "              5             6             7             8             9  \n",
       "0  0.000000e+00 -1.110223e-16  0.000000e+00  0.000000e+00  0.000000e+00  \n",
       "1  0.000000e+00 -1.110223e-16  3.041594e-17  4.471318e-17  0.000000e+00  \n",
       "2  0.000000e+00 -2.220446e-16  5.000012e-18  5.874033e-16  0.000000e+00  \n",
       "3  1.110223e-16 -1.110223e-16  3.875125e-16  1.667765e-15 -1.110223e-16  \n",
       "4  0.000000e+00  0.000000e+00  3.404750e-16  1.953723e-15  3.044150e-17  "
      ]
     },
     "execution_count": 1709,
     "metadata": {},
     "output_type": "execute_result"
    }
   ],
   "source": [
    "i = 40\n",
    "pd.DataFrame(fp_N_res_array[:,i:(i+10)])"
   ]
  },
  {
   "cell_type": "code",
   "execution_count": 1710,
   "metadata": {},
   "outputs": [
    {
     "data": {
      "text/html": [
       "<div>\n",
       "<style scoped>\n",
       "    .dataframe tbody tr th:only-of-type {\n",
       "        vertical-align: middle;\n",
       "    }\n",
       "\n",
       "    .dataframe tbody tr th {\n",
       "        vertical-align: top;\n",
       "    }\n",
       "\n",
       "    .dataframe thead th {\n",
       "        text-align: right;\n",
       "    }\n",
       "</style>\n",
       "<table border=\"1\" class=\"dataframe\">\n",
       "  <thead>\n",
       "    <tr style=\"text-align: right;\">\n",
       "      <th></th>\n",
       "      <th>0</th>\n",
       "      <th>1</th>\n",
       "      <th>2</th>\n",
       "      <th>3</th>\n",
       "      <th>4</th>\n",
       "      <th>5</th>\n",
       "      <th>6</th>\n",
       "      <th>7</th>\n",
       "      <th>8</th>\n",
       "      <th>9</th>\n",
       "    </tr>\n",
       "  </thead>\n",
       "  <tbody>\n",
       "    <tr>\n",
       "      <th>0</th>\n",
       "      <td>0.786877</td>\n",
       "      <td>0.658108</td>\n",
       "      <td>4.319214e-01</td>\n",
       "      <td>5.765246e-01</td>\n",
       "      <td>6.944513e-01</td>\n",
       "      <td>0.999503</td>\n",
       "      <td>0.615719</td>\n",
       "      <td>5.887121e-01</td>\n",
       "      <td>5.862424e-01</td>\n",
       "      <td>6.712444e-01</td>\n",
       "    </tr>\n",
       "    <tr>\n",
       "      <th>1</th>\n",
       "      <td>0.852825</td>\n",
       "      <td>0.658252</td>\n",
       "      <td>6.943830e-01</td>\n",
       "      <td>6.484008e-01</td>\n",
       "      <td>7.540268e-01</td>\n",
       "      <td>0.999672</td>\n",
       "      <td>0.618151</td>\n",
       "      <td>7.064293e-01</td>\n",
       "      <td>6.804045e-01</td>\n",
       "      <td>6.712442e-01</td>\n",
       "    </tr>\n",
       "    <tr>\n",
       "      <th>2</th>\n",
       "      <td>0.895457</td>\n",
       "      <td>0.658949</td>\n",
       "      <td>6.334953e-01</td>\n",
       "      <td>7.505213e-01</td>\n",
       "      <td>8.062249e-01</td>\n",
       "      <td>0.999887</td>\n",
       "      <td>0.621613</td>\n",
       "      <td>7.644828e-01</td>\n",
       "      <td>7.315265e-01</td>\n",
       "      <td>7.364428e-01</td>\n",
       "    </tr>\n",
       "    <tr>\n",
       "      <th>3</th>\n",
       "      <td>0.854144</td>\n",
       "      <td>0.658865</td>\n",
       "      <td>8.009470e-01</td>\n",
       "      <td>8.423159e-01</td>\n",
       "      <td>9.032258e-01</td>\n",
       "      <td>0.999923</td>\n",
       "      <td>0.633483</td>\n",
       "      <td>8.528031e-01</td>\n",
       "      <td>8.853607e-01</td>\n",
       "      <td>8.808466e-01</td>\n",
       "    </tr>\n",
       "    <tr>\n",
       "      <th>4</th>\n",
       "      <td>45.000000</td>\n",
       "      <td>27.000000</td>\n",
       "      <td>8.628674e+01</td>\n",
       "      <td>7.953306e+00</td>\n",
       "      <td>1.499254e+01</td>\n",
       "      <td>21.000000</td>\n",
       "      <td>11.000000</td>\n",
       "      <td>1.873127e+01</td>\n",
       "      <td>1.289142e+01</td>\n",
       "      <td>1.100000e+01</td>\n",
       "    </tr>\n",
       "    <tr>\n",
       "      <th>5</th>\n",
       "      <td>44.000000</td>\n",
       "      <td>26.000000</td>\n",
       "      <td>2.364706e+01</td>\n",
       "      <td>1.000000e-16</td>\n",
       "      <td>1.398727e+01</td>\n",
       "      <td>20.000000</td>\n",
       "      <td>11.000000</td>\n",
       "      <td>6.083188e-16</td>\n",
       "      <td>6.259845e-16</td>\n",
       "      <td>1.000000e+01</td>\n",
       "    </tr>\n",
       "    <tr>\n",
       "      <th>6</th>\n",
       "      <td>45.000000</td>\n",
       "      <td>25.999999</td>\n",
       "      <td>2.679044e-14</td>\n",
       "      <td>1.631560e-12</td>\n",
       "      <td>1.397500e+01</td>\n",
       "      <td>21.000000</td>\n",
       "      <td>10.000000</td>\n",
       "      <td>1.000002e-16</td>\n",
       "      <td>8.223646e-15</td>\n",
       "      <td>9.994442e+00</td>\n",
       "    </tr>\n",
       "    <tr>\n",
       "      <th>7</th>\n",
       "      <td>43.999990</td>\n",
       "      <td>26.000000</td>\n",
       "      <td>3.700332e+00</td>\n",
       "      <td>1.949929e-12</td>\n",
       "      <td>1.393603e+01</td>\n",
       "      <td>19.999959</td>\n",
       "      <td>11.000000</td>\n",
       "      <td>7.750249e-15</td>\n",
       "      <td>2.334872e-14</td>\n",
       "      <td>9.970621e+00</td>\n",
       "    </tr>\n",
       "    <tr>\n",
       "      <th>8</th>\n",
       "      <td>44.000000</td>\n",
       "      <td>25.818357</td>\n",
       "      <td>3.760270e+00</td>\n",
       "      <td>1.475848e-12</td>\n",
       "      <td>1.000000e-16</td>\n",
       "      <td>20.000000</td>\n",
       "      <td>9.973396</td>\n",
       "      <td>6.469025e-15</td>\n",
       "      <td>2.735212e-14</td>\n",
       "      <td>3.044150e-16</td>\n",
       "    </tr>\n",
       "  </tbody>\n",
       "</table>\n",
       "</div>"
      ],
      "text/plain": [
       "           0          1             2             3             4          5  \\\n",
       "0   0.786877   0.658108  4.319214e-01  5.765246e-01  6.944513e-01   0.999503   \n",
       "1   0.852825   0.658252  6.943830e-01  6.484008e-01  7.540268e-01   0.999672   \n",
       "2   0.895457   0.658949  6.334953e-01  7.505213e-01  8.062249e-01   0.999887   \n",
       "3   0.854144   0.658865  8.009470e-01  8.423159e-01  9.032258e-01   0.999923   \n",
       "4  45.000000  27.000000  8.628674e+01  7.953306e+00  1.499254e+01  21.000000   \n",
       "5  44.000000  26.000000  2.364706e+01  1.000000e-16  1.398727e+01  20.000000   \n",
       "6  45.000000  25.999999  2.679044e-14  1.631560e-12  1.397500e+01  21.000000   \n",
       "7  43.999990  26.000000  3.700332e+00  1.949929e-12  1.393603e+01  19.999959   \n",
       "8  44.000000  25.818357  3.760270e+00  1.475848e-12  1.000000e-16  20.000000   \n",
       "\n",
       "           6             7             8             9  \n",
       "0   0.615719  5.887121e-01  5.862424e-01  6.712444e-01  \n",
       "1   0.618151  7.064293e-01  6.804045e-01  6.712442e-01  \n",
       "2   0.621613  7.644828e-01  7.315265e-01  7.364428e-01  \n",
       "3   0.633483  8.528031e-01  8.853607e-01  8.808466e-01  \n",
       "4  11.000000  1.873127e+01  1.289142e+01  1.100000e+01  \n",
       "5  11.000000  6.083188e-16  6.259845e-16  1.000000e+01  \n",
       "6  10.000000  1.000002e-16  8.223646e-15  9.994442e+00  \n",
       "7  11.000000  7.750249e-15  2.334872e-14  9.970621e+00  \n",
       "8   9.973396  6.469025e-15  2.735212e-14  3.044150e-16  "
      ]
     },
     "execution_count": 1710,
     "metadata": {},
     "output_type": "execute_result"
    }
   ],
   "source": [
    "pd.DataFrame(lambda_N_res_array[:,i:(i+10)])"
   ]
  },
  {
   "cell_type": "code",
   "execution_count": 1651,
   "metadata": {},
   "outputs": [
    {
     "data": {
      "text/plain": [
       "array(['O', 'O', 'O', 'O', 'O', 'O', 'D', 'O', 'D', 'D', 'D', 'D', 'D',\n",
       "       'O', 'D', 'D', 'D', 'O', 'D', 'O', 'O', 'D', 'D', 'O', 'O', 'O',\n",
       "       'O', 'O', 'O', 'O', 'D', 'D', 'D', 'D', 'O', 'O', 'O', 'D', 'D',\n",
       "       'D', 'D', 'D', 'D', 'D', 'O', 'O', 'D', 'D', 'D', 'O', 'O', 'D',\n",
       "       'O', 'O', 'O', 'D', 'D', 'O', 'D', 'O', 'D', 'O', 'D', 'O', 'O',\n",
       "       'O', 'O', 'O', 'D', 'D', 'D', 'D', 'O', 'O', 'O', 'D', 'D', 'O',\n",
       "       'D', 'O', 'D', 'O', 'O', 'D', 'D', 'O', 'O', 'O', 'O', 'O', 'O',\n",
       "       'D', 'O', 'D', 'D', 'O', 'D', 'D', 'O', 'D'], dtype='<U1')"
      ]
     },
     "execution_count": 1651,
     "metadata": {},
     "output_type": "execute_result"
    }
   ],
   "source": [
    "optimization_res"
   ]
  },
  {
   "cell_type": "code",
   "execution_count": 1653,
   "metadata": {},
   "outputs": [
    {
     "data": {
      "text/plain": [
       "48"
      ]
     },
     "execution_count": 1653,
     "metadata": {},
     "output_type": "execute_result"
    }
   ],
   "source": [
    "np.sum(optimization_res == 'D')"
   ]
  },
  {
   "cell_type": "code",
   "execution_count": 1708,
   "metadata": {},
   "outputs": [
    {
     "data": {
      "text/html": [
       "<div>\n",
       "<style scoped>\n",
       "    .dataframe tbody tr th:only-of-type {\n",
       "        vertical-align: middle;\n",
       "    }\n",
       "\n",
       "    .dataframe tbody tr th {\n",
       "        vertical-align: top;\n",
       "    }\n",
       "\n",
       "    .dataframe thead th {\n",
       "        text-align: right;\n",
       "    }\n",
       "</style>\n",
       "<table border=\"1\" class=\"dataframe\">\n",
       "  <thead>\n",
       "    <tr style=\"text-align: right;\">\n",
       "      <th></th>\n",
       "      <th>0</th>\n",
       "      <th>1</th>\n",
       "      <th>2</th>\n",
       "      <th>3</th>\n",
       "      <th>4</th>\n",
       "      <th>5</th>\n",
       "      <th>6</th>\n",
       "      <th>7</th>\n",
       "      <th>8</th>\n",
       "      <th>9</th>\n",
       "    </tr>\n",
       "  </thead>\n",
       "  <tbody>\n",
       "    <tr>\n",
       "      <th>0</th>\n",
       "      <td>1.578984e-16</td>\n",
       "      <td>0.000000e+00</td>\n",
       "      <td>0.030486</td>\n",
       "      <td>0.005837</td>\n",
       "      <td>0.000497</td>\n",
       "      <td>0.000000</td>\n",
       "      <td>1.614870e-16</td>\n",
       "      <td>0.063436</td>\n",
       "      <td>0.140572</td>\n",
       "      <td>0.000000</td>\n",
       "    </tr>\n",
       "    <tr>\n",
       "      <th>1</th>\n",
       "      <td>0.000000e+00</td>\n",
       "      <td>6.285570e-15</td>\n",
       "      <td>0.731283</td>\n",
       "      <td>1.000000</td>\n",
       "      <td>0.000909</td>\n",
       "      <td>0.000000</td>\n",
       "      <td>1.614870e-16</td>\n",
       "      <td>1.000000</td>\n",
       "      <td>1.000000</td>\n",
       "      <td>0.000000</td>\n",
       "    </tr>\n",
       "    <tr>\n",
       "      <th>2</th>\n",
       "      <td>1.578984e-16</td>\n",
       "      <td>5.367400e-08</td>\n",
       "      <td>1.000000</td>\n",
       "      <td>1.000000</td>\n",
       "      <td>0.001785</td>\n",
       "      <td>0.000000</td>\n",
       "      <td>1.776357e-16</td>\n",
       "      <td>1.000000</td>\n",
       "      <td>1.000000</td>\n",
       "      <td>0.000556</td>\n",
       "    </tr>\n",
       "    <tr>\n",
       "      <th>3</th>\n",
       "      <td>2.327516e-07</td>\n",
       "      <td>2.447820e-12</td>\n",
       "      <td>0.957951</td>\n",
       "      <td>1.000000</td>\n",
       "      <td>0.004570</td>\n",
       "      <td>0.000002</td>\n",
       "      <td>1.614870e-16</td>\n",
       "      <td>1.000000</td>\n",
       "      <td>1.000000</td>\n",
       "      <td>0.002938</td>\n",
       "    </tr>\n",
       "    <tr>\n",
       "      <th>4</th>\n",
       "      <td>2.863513e-10</td>\n",
       "      <td>6.986261e-03</td>\n",
       "      <td>0.957270</td>\n",
       "      <td>1.000000</td>\n",
       "      <td>1.000000</td>\n",
       "      <td>0.000000</td>\n",
       "      <td>2.660435e-03</td>\n",
       "      <td>1.000000</td>\n",
       "      <td>1.000000</td>\n",
       "      <td>1.000000</td>\n",
       "    </tr>\n",
       "  </tbody>\n",
       "</table>\n",
       "</div>"
      ],
      "text/plain": [
       "              0             1         2         3         4         5  \\\n",
       "0  1.578984e-16  0.000000e+00  0.030486  0.005837  0.000497  0.000000   \n",
       "1  0.000000e+00  6.285570e-15  0.731283  1.000000  0.000909  0.000000   \n",
       "2  1.578984e-16  5.367400e-08  1.000000  1.000000  0.001785  0.000000   \n",
       "3  2.327516e-07  2.447820e-12  0.957951  1.000000  0.004570  0.000002   \n",
       "4  2.863513e-10  6.986261e-03  0.957270  1.000000  1.000000  0.000000   \n",
       "\n",
       "              6         7         8         9  \n",
       "0  1.614870e-16  0.063436  0.140572  0.000000  \n",
       "1  1.614870e-16  1.000000  1.000000  0.000000  \n",
       "2  1.776357e-16  1.000000  1.000000  0.000556  \n",
       "3  1.614870e-16  1.000000  1.000000  0.002938  \n",
       "4  2.660435e-03  1.000000  1.000000  1.000000  "
      ]
     },
     "execution_count": 1708,
     "metadata": {},
     "output_type": "execute_result"
    }
   ],
   "source": [
    "i = 40\n",
    "pd.DataFrame((Pop_array[:,i:(i+10)] - lambda_N_res_array[4:,i:(i+10)]) / Pop_array[:,i:(i+10)])"
   ]
  },
  {
   "cell_type": "code",
   "execution_count": 1707,
   "metadata": {},
   "outputs": [
    {
     "data": {
      "text/html": [
       "<div>\n",
       "<style scoped>\n",
       "    .dataframe tbody tr th:only-of-type {\n",
       "        vertical-align: middle;\n",
       "    }\n",
       "\n",
       "    .dataframe tbody tr th {\n",
       "        vertical-align: top;\n",
       "    }\n",
       "\n",
       "    .dataframe thead th {\n",
       "        text-align: right;\n",
       "    }\n",
       "</style>\n",
       "<table border=\"1\" class=\"dataframe\">\n",
       "  <thead>\n",
       "    <tr style=\"text-align: right;\">\n",
       "      <th></th>\n",
       "      <th>0</th>\n",
       "      <th>1</th>\n",
       "      <th>2</th>\n",
       "      <th>3</th>\n",
       "      <th>4</th>\n",
       "      <th>5</th>\n",
       "      <th>6</th>\n",
       "      <th>7</th>\n",
       "      <th>8</th>\n",
       "      <th>9</th>\n",
       "    </tr>\n",
       "  </thead>\n",
       "  <tbody>\n",
       "    <tr>\n",
       "      <th>0</th>\n",
       "      <td>0.471827</td>\n",
       "      <td>0.420979</td>\n",
       "      <td>0.225040</td>\n",
       "      <td>0.000071</td>\n",
       "      <td>0.016205</td>\n",
       "      <td>0.737295</td>\n",
       "      <td>0.767586</td>\n",
       "      <td>0.029814</td>\n",
       "      <td>0.035364</td>\n",
       "      <td>0.031213</td>\n",
       "    </tr>\n",
       "    <tr>\n",
       "      <th>1</th>\n",
       "      <td>1.122641</td>\n",
       "      <td>0.816386</td>\n",
       "      <td>0.247031</td>\n",
       "      <td>0.028664</td>\n",
       "      <td>0.019818</td>\n",
       "      <td>1.715672</td>\n",
       "      <td>1.605638</td>\n",
       "      <td>0.051972</td>\n",
       "      <td>0.036812</td>\n",
       "      <td>0.039377</td>\n",
       "    </tr>\n",
       "    <tr>\n",
       "      <th>2</th>\n",
       "      <td>1.833535</td>\n",
       "      <td>1.378173</td>\n",
       "      <td>0.259167</td>\n",
       "      <td>0.054657</td>\n",
       "      <td>0.024722</td>\n",
       "      <td>2.198166</td>\n",
       "      <td>2.060626</td>\n",
       "      <td>0.100055</td>\n",
       "      <td>0.039707</td>\n",
       "      <td>0.050530</td>\n",
       "    </tr>\n",
       "    <tr>\n",
       "      <th>3</th>\n",
       "      <td>2.682802</td>\n",
       "      <td>1.883155</td>\n",
       "      <td>0.290291</td>\n",
       "      <td>0.074271</td>\n",
       "      <td>0.030171</td>\n",
       "      <td>2.932251</td>\n",
       "      <td>3.429799</td>\n",
       "      <td>0.118145</td>\n",
       "      <td>0.042805</td>\n",
       "      <td>0.077307</td>\n",
       "    </tr>\n",
       "    <tr>\n",
       "      <th>4</th>\n",
       "      <td>4.082834</td>\n",
       "      <td>2.750610</td>\n",
       "      <td>0.415330</td>\n",
       "      <td>0.138898</td>\n",
       "      <td>0.126306</td>\n",
       "      <td>4.155626</td>\n",
       "      <td>4.450112</td>\n",
       "      <td>0.699454</td>\n",
       "      <td>0.057760</td>\n",
       "      <td>0.854526</td>\n",
       "    </tr>\n",
       "  </tbody>\n",
       "</table>\n",
       "</div>"
      ],
      "text/plain": [
       "          0         1         2         3         4         5         6  \\\n",
       "0  0.471827  0.420979  0.225040  0.000071  0.016205  0.737295  0.767586   \n",
       "1  1.122641  0.816386  0.247031  0.028664  0.019818  1.715672  1.605638   \n",
       "2  1.833535  1.378173  0.259167  0.054657  0.024722  2.198166  2.060626   \n",
       "3  2.682802  1.883155  0.290291  0.074271  0.030171  2.932251  3.429799   \n",
       "4  4.082834  2.750610  0.415330  0.138898  0.126306  4.155626  4.450112   \n",
       "\n",
       "          7         8         9  \n",
       "0  0.029814  0.035364  0.031213  \n",
       "1  0.051972  0.036812  0.039377  \n",
       "2  0.100055  0.039707  0.050530  \n",
       "3  0.118145  0.042805  0.077307  \n",
       "4  0.699454  0.057760  0.854526  "
      ]
     },
     "execution_count": 1707,
     "metadata": {},
     "output_type": "execute_result"
    }
   ],
   "source": [
    "\n",
    "pd.DataFrame(MA_array[:,i:(i+10)])"
   ]
  },
  {
   "cell_type": "code",
   "execution_count": 1822,
   "metadata": {},
   "outputs": [],
   "source": [
    "def fp_N_fun(N_part_trans, income_weight, Pop_class, MA, VA, N):\n",
    "    N_part = 1e-16 + np.exp(np.minimum(N_part_trans, 50)) / (1 + np.exp(np.minimum(N_part_trans, 50))) * ((Pop_class - 1e-16) - 1e-16)\n",
    "\n",
    "    RA = VA / np.square(MA)\n",
    "    # variables under insurance\n",
    "    MI = income_weight / np.dot(income_weight, N_part) * np.dot(N_part, MA)\n",
    "    VI = np.square(income_weight / np.dot(income_weight, N_part)) * np.dot(N_part, VA)\n",
    "    RI = np.dot(N_part, VA) / np.square(np.dot(N_part, MA))\n",
    "    return((N_part / Pop_class - (1 - np.exp(np.minimum(- nu * (np.log(MI) - np.log(MA) + 1 / 2 * beta * RA - 1 / 2 * RI), 0)))))"
   ]
  },
  {
   "cell_type": "code",
   "execution_count": 1823,
   "metadata": {},
   "outputs": [],
   "source": [
    "def calculate_W(income_weight_trans, beta, MA, VA, Pop_class, N = N):\n",
    "    income_weight = MA[:(N - 1)] / MA[N - 1] + np.exp(np.minimum(income_weight_trans, 50)) / (1 + np.exp(np.minimum(income_weight_trans, 50))) * (1 - MA[:(N - 1)] / MA[N - 1])\n",
    "    income_weight = np.append(income_weight, 1)\n",
    "\n",
    "    fp_N_res = scipy.optimize.root(fp_N_fun, np.repeat(0, N), \n",
    "                                   args = (income_weight, Pop_class, MA, VA, N), method = 'hybr',\n",
    "                                  options = {'xtol': 1e-16}\n",
    "                                  )\n",
    "    print(fp_N_res.fun)\n",
    "    N_part = 1e-16 + np.exp(np.minimum(fp_N_res.x, 50)) / (1 + np.exp(np.minimum(fp_N_res.x, 50))) * ((Pop_class - 1e-16) - 1e-16)\n",
    "    \n",
    "    # variables under insurance\n",
    "    MI = income_weight / np.dot(income_weight, N_part) * np.dot(N_part, MA)\n",
    "    VI = np.square(income_weight / np.dot(income_weight, N_part)) * np.dot(N_part, VA)\n",
    "    RI = np.dot(N_part, VA) / np.square(np.dot(N_part, MA))\n",
    "    \n",
    "    # total surplus\n",
    "    epsilon_I = np.log(MI) - np.log(MA) + 1 / 2 * beta * RA - 1 / 2 * RI\n",
    "\n",
    "    if beta <= 1:\n",
    "        W = np.dot(N_part, epsilon_I) - np.dot(Pop_class, 1 / nu - (epsilon_I + 1 / nu) * np.exp(- nu * epsilon_I))\n",
    "    else:\n",
    "        epsilon_A = (beta - 1) / 2 * VA / np.square(MA)\n",
    "        N_A = Pop_class * (1 - np.exp(- nu * epsilon_A))\n",
    "        W = np.dot(N_part, epsilon_I) - np.dot(N_A, epsilon_A) - np.dot(Pop_class, (epsilon_A + 1 / nu) * np.exp(- nu * epsilon_A) - (epsilon_I + 1 / nu) * np.exp(- nu * epsilon_I))\n",
    "    return(-W)"
   ]
  },
  {
   "cell_type": "code",
   "execution_count": 1808,
   "metadata": {},
   "outputs": [
    {
     "data": {
      "text/plain": [
       "(array([22, 33, 42, 51, 62, 78, 80, 91, 94]),)"
      ]
     },
     "execution_count": 1808,
     "metadata": {},
     "output_type": "execute_result"
    }
   ],
   "source": [
    "np.where((np.abs(fp_N_res_array).sum(axis=0) > 1e-6))"
   ]
  },
  {
   "cell_type": "code",
   "execution_count": 1830,
   "metadata": {},
   "outputs": [
    {
     "name": "stdout",
     "output_type": "stream",
     "text": [
      "[-0.01960362 -0.01932347 -0.01919997  0.00115793  0.03653149]\n",
      "[-0.01960364 -0.01932349 -0.01919999  0.00115791  0.03653149]\n",
      "[-0.0196036  -0.01932345 -0.01919995  0.00115786  0.03653149]\n",
      "[-0.01960362 -0.01932347 -0.01919997  0.00115792  0.03653149]\n",
      "[-0.01960362 -0.01932347 -0.01919997  0.00115788  0.03653149]\n",
      "[-0.01960362 -0.01932347 -0.01919997  0.00115793  0.03653149]\n",
      "[0.00000000e+00 0.00000000e+00 0.00000000e+00 6.66666667e-18\n",
      " 6.66666667e-18]\n",
      "[0.00000000e+00 0.00000000e+00 0.00000000e+00 6.66666667e-18\n",
      " 6.66666667e-18]\n",
      "[0.00000000e+00 0.00000000e+00 0.00000000e+00 6.66666667e-18\n",
      " 6.66666667e-18]\n",
      "[0.00000000e+00 0.00000000e+00 0.00000000e+00 6.66666667e-18\n",
      " 6.66666667e-18]\n",
      "[0.00000000e+00 0.00000000e+00 0.00000000e+00 6.66666667e-18\n",
      " 6.66666667e-18]\n",
      "[0.00000000e+00 0.00000000e+00 0.00000000e+00 6.66666667e-18\n",
      " 6.66666667e-18]\n",
      "[-0.00928922 -0.009133   -0.0089016   0.00735038  0.04766997]\n",
      "[-0.00928922 -0.009133   -0.0089016   0.00735038  0.04766997]\n",
      "[-0.00930111 -0.00913896 -0.00889916  0.00109405  0.04791262]\n",
      "[-0.00931411 -0.00914816 -0.00890298 -0.00280865  0.04806652]\n",
      "[-0.00929288 -0.00913421 -0.00889932  0.00473122  0.04777096]\n",
      "[-0.00928923 -0.009133   -0.00890159  0.00733955  0.04767039]\n",
      "[-0.01952182 -0.01934535 -0.01883276  0.00543136  0.05476893]\n",
      "[-0.01952182 -0.01934535 -0.01883276  0.00543136  0.05476893]\n",
      "[-0.01952185 -0.01934538 -0.01883278  0.00543183  0.05476891]\n",
      "[-0.01952184 -0.01934537 -0.01883278  0.00543161  0.05476892]\n",
      "[-0.01952186 -0.01934539 -0.01883279  0.00543146  0.05476893]\n",
      "[-0.01952186 -0.01934539 -0.01883279  0.00543159  0.05476892]\n",
      "[-0.02336035 -0.023094   -0.02260188 -0.00076719  0.04978357]\n",
      "[-0.02336035 -0.023094   -0.02260188 -0.00076719  0.04978357]\n",
      "[-0.02336023 -0.02309389 -0.02260177 -0.00076705  0.04978357]\n",
      "[-0.02336032 -0.02309397 -0.02260185 -0.00076717  0.04978357]\n",
      "[-0.02336023 -0.02309389 -0.02260177 -0.00076703  0.04978357]\n",
      "[-0.02336031 -0.02309397 -0.02260185 -0.00076716  0.04978357]\n",
      "[-0.02607243 -0.025697   -0.0251001   0.00658502  0.04763357]\n",
      "[-0.02607243 -0.025697   -0.0251001   0.00658502  0.04763357]\n",
      "[-0.02607242 -0.02569699 -0.0251001   0.00658508  0.04763357]\n",
      "[-0.02607243 -0.025697   -0.0251001   0.00658522  0.04763357]\n",
      "[-0.02607242 -0.02569699 -0.0251001   0.00658512  0.04763357]\n",
      "[-0.02607242 -0.02569699 -0.02510009  0.00658523  0.04763357]\n",
      "[-0.01565047 -0.01547382 -0.01520266  0.00262762  0.04777836]\n",
      "[-0.01565047 -0.01547382 -0.01520266  0.00262762  0.04777836]\n",
      "[-0.01565046 -0.01547381 -0.01520265  0.00262761  0.04777836]\n",
      "[-0.01565025 -0.0154736  -0.01520244  0.00262744  0.04777838]\n",
      "[-0.01565038 -0.01547372 -0.01520256  0.00262751  0.04777837]\n",
      "[-0.01565047 -0.01547382 -0.01520266  0.00262763  0.04777836]\n",
      "[-0.01130363 -0.011135   -0.01088091  0.00221167  0.04784715]\n",
      "[-0.01130363 -0.011135   -0.01088091  0.00221167  0.04784715]\n",
      "[-0.01085499 -0.01069254 -0.01044801  0.00267535  0.04785191]\n",
      "[-0.01213633 -0.01197203 -0.01172316  0.00217282  0.04779251]\n",
      "[-0.01218131 -0.0120091  -0.01174832  0.00290016  0.04776358]\n",
      "[-0.01265629 -0.01248891 -0.01223491  0.00582612  0.04764184]\n",
      "[-0.01756037 -0.0173935  -0.01713893  0.00731513  0.04726485]\n",
      "[-0.01756037 -0.0173935  -0.01713893  0.00731513  0.04726485]\n",
      "[-0.01756042 -0.01739356 -0.01713898  0.00731353  0.04726491]\n",
      "[-0.01756039 -0.01739353 -0.01713895  0.00731466  0.04726487]\n",
      "[-0.01756032 -0.01739346 -0.01713889  0.0073173   0.04726478]\n",
      "[-0.01756038 -0.01739352 -0.01713894  0.00731483  0.04726486]\n",
      "[-0.01724599 -0.01706889 -0.01680151 -0.00047919  0.04753716]\n",
      "[-0.01724599 -0.01706889 -0.01680151 -0.00047919  0.04753716]\n",
      "[-0.01724509 -0.01706799 -0.01680062 -0.00048113  0.04753733]\n",
      "[-0.01724657 -0.01706947 -0.01680209 -0.00047796  0.04753706]\n",
      "[-0.0172453  -0.01706821 -0.01680083 -0.00048066  0.04753729]\n",
      "[-0.01724925 -0.01707214 -0.01680474 -0.00047204  0.04753656]\n",
      "[-0.01683791 -0.01665455 -0.01637902  0.00245186  0.04743722]\n",
      "[-0.01683791 -0.01665455 -0.01637902  0.00245186  0.04743722]\n",
      "[-0.01683988 -0.01665644 -0.01638078  0.00241949  0.04743834]\n",
      "[-0.01683749 -0.01665415 -0.01637865  0.00245871  0.04743699]\n",
      "[-0.01683687 -0.01665355 -0.01637809  0.00246853  0.04743665]\n",
      "[-0.01683812 -0.01665475 -0.01637921  0.0024489   0.04743732]\n",
      "[-0.01589064 -0.01570114 -0.01541772  0.00136021  0.04752251]\n",
      "[-0.01589064 -0.01570114 -0.01541772  0.00136021  0.04752251]\n",
      "[-0.01588978 -0.01570029 -0.01541687  0.00136087  0.04752253]\n",
      "[-0.01589    -0.01570051 -0.01541709  0.00136066  0.04752253]\n",
      "[-0.01589012 -0.01570062 -0.0154172   0.00136056  0.04752252]\n",
      "[-0.01589014 -0.01570064 -0.01541722  0.00136059  0.04752252]\n",
      "[-0.01702862 -0.01680999 -0.01648363  0.00066399  0.04756514]\n",
      "[-0.01702862 -0.01680999 -0.01648363  0.00066399  0.04756514]\n",
      "[-0.01702242 -0.0168039  -0.01647769  0.00066402  0.04756499]\n",
      "[-0.01702762 -0.01680901 -0.01648267  0.000664    0.04756512]\n",
      "[-0.01702545 -0.01680687 -0.01648059  0.000664    0.04756506]\n",
      "[-0.01702857 -0.01680994 -0.01648357  0.00066399  0.04756514]\n",
      "[-0.01541837 -0.01523395 -0.01495825  0.00120372  0.04755189]\n",
      "[-0.01541837 -0.01523395 -0.01495825  0.00120372  0.04755189]\n",
      "[-0.01541861 -0.0152342  -0.01495851  0.0012071   0.04755175]\n",
      "[-0.01541825 -0.01523383 -0.01495813  0.00120226  0.04755195]\n",
      "[-0.01541728 -0.01523284 -0.01495711  0.00118992  0.04755245]\n",
      "[-0.01541431 -0.01522981 -0.014954    0.00115283  0.04755395]\n",
      "[-0.01410558 -0.01392222 -0.01364927  0.00193124  0.04759714]\n",
      "[-0.01410558 -0.01392222 -0.01364927  0.00193124  0.04759714]\n",
      "[-0.0141059  -0.01392254 -0.0136496   0.00193947  0.0475968 ]\n",
      "[-0.01410601 -0.01392265 -0.01364971  0.00194232  0.04759668]\n",
      "[-0.01410605 -0.01392269 -0.01364976  0.00194355  0.04759663]\n",
      "[-0.01410587 -0.01392251 -0.01364957  0.00193821  0.04759685]\n",
      "[-0.01405374 -0.01386579 -0.01358645  0.00189108  0.04764554]\n",
      "[-0.01405374 -0.01386579 -0.01358645  0.00189108  0.04764554]\n",
      "[-0.01405386 -0.01386591 -0.01358656  0.00189145  0.04764552]\n",
      "[-0.01405355 -0.0138656  -0.01358627  0.00189048  0.04764556]\n",
      "[-0.01405352 -0.01386557 -0.01358624  0.00189042  0.04764556]\n",
      "[-0.01405352 -0.01386557 -0.01358624  0.00189045  0.04764556]\n",
      "[-0.00930593 -0.00914223 -0.00890023 -0.00051129  0.04797569]\n",
      "[-0.00930593 -0.00914223 -0.00890023 -0.00051129  0.04797569]\n",
      "[-0.0117796  -0.01161359 -0.01136635  0.00695775  0.047548  ]\n",
      "[-0.00929722 -0.00913653 -0.00889879  0.00261475  0.04785319]\n",
      "[-0.00929247 -0.00913402 -0.00889945  0.00496917  0.04776175]\n",
      "[-0.009315   -0.00914883 -0.00890334 -0.00303569  0.04807554]\n",
      "[-0.00929058 -0.0091333  -0.0089004   0.0062182   0.04771352]\n",
      "[-0.00929058 -0.0091333  -0.0089004   0.0062182   0.04771352]\n",
      "[-0.00928969 -0.00913307 -0.00890111  0.00692304  0.04768639]\n",
      "[-0.00928946 -0.00913304 -0.00890136  0.0071379   0.04767813]\n",
      "[-0.0092997  -0.00913805 -0.00889896  0.00161521  0.04789222]\n",
      "[-0.00934082 -0.00918227 -0.00894759  0.00897046  0.04774119]\n",
      "[-0.00929043 -0.00913326 -0.0089005   0.00633137  0.04770916]\n",
      "[-0.00929043 -0.00913326 -0.0089005   0.00633137  0.04770916]\n",
      "[-0.00929168 -0.00913369 -0.00889977  0.00545507  0.04774296]\n",
      "[-0.00929246 -0.00913402 -0.00889946  0.00497523  0.04776151]\n",
      "[-0.00929299 -0.00913426 -0.00889929  0.00467241  0.04777324]\n",
      "[-0.0092981  -0.00913706 -0.00889882  0.00224534  0.0478676 ]\n",
      "[-0.00929104 -0.00913344 -0.00890009  0.00587818  0.04772663]\n",
      "[-0.00929104 -0.00913344 -0.00890009  0.00587818  0.04772663]\n",
      "[-0.00930158 -0.00913926 -0.00889923  0.00092371  0.0479193 ]\n",
      "[-0.00928926 -0.00913301 -0.00890154  0.00730128  0.04767186]\n",
      "[-0.01177932 -0.01161323 -0.01136588  0.0068726   0.04755126]\n",
      "[-9.30409223e-03 -9.14095419e-03 -8.89975682e-03  7.09752981e-05\n",
      "  4.79527737e-02]\n",
      "[-0.00930803 -0.0091437  -0.00890083 -0.00114763  0.04800078]\n",
      "[-0.00930803 -0.0091437  -0.00890083 -0.00114763  0.04800078]\n",
      "[-0.00929356 -0.00913453 -0.00889914  0.00435697  0.04778546]\n",
      "[-0.00929081 -0.00913338 -0.00890025  0.00604721  0.04772011]\n",
      "[-0.00929256 -0.00913406 -0.00889943  0.00491963  0.04776367]\n",
      "[-0.00929834 -0.00913721 -0.00889884  0.00215087  0.04787129]\n",
      "[-0.00929607 -0.00913586 -0.00889881  0.00312252  0.04783341]\n",
      "[-0.00929607 -0.00913586 -0.00889881  0.00312252  0.04783341]\n",
      "[-0.00930515 -0.00914168 -0.00890002 -0.00026945  0.04796617]\n",
      "[-0.00928928 -0.00913301 -0.00890153  0.00728997  0.04767229]\n",
      "[-0.00928848 -0.00913299 -0.00890262  0.00812947  0.0476401 ]\n",
      "[-0.00929728 -0.00913656 -0.00889879  0.00258746  0.04785425]\n",
      "[-0.00929133 -0.00913356 -0.00889996  0.00569657  0.04773364]\n",
      "[-0.00929133 -0.00913356 -0.00889996  0.00569657  0.04773364]\n",
      "[-0.0093111  -0.00914592 -0.00890185 -0.00201621  0.04803511]\n",
      "[-0.009292   -0.00913383 -0.00889965  0.00526484  0.04775032]\n",
      "[-0.00926622 -0.00910786 -0.00887349  0.00775846  0.0477964 ]\n",
      "[-0.00929205 -0.00913383 -0.00889961  0.00522258  0.04775195]\n",
      "[-0.00930803 -0.0091437  -0.00890083 -0.00114763  0.04800078]\n",
      "[-0.00930803 -0.0091437  -0.00890083 -0.00114763  0.04800078]\n",
      "[-0.00929356 -0.00913453 -0.00889914  0.00435697  0.04778546]\n",
      "[-0.00929081 -0.00913338 -0.00890025  0.00604721  0.04772011]\n",
      "[-0.00929256 -0.00913406 -0.00889943  0.00491963  0.04776367]\n",
      "[-0.00929834 -0.00913721 -0.00889884  0.00215087  0.04787129]\n",
      "[0.00000000e+00 0.00000000e+00 0.00000000e+00 6.66666667e-18\n",
      " 6.66666667e-18]\n",
      "[-0.01748557 -0.01731543 -0.01690617  0.00442285  0.05307213]\n",
      "[-0.01748557 -0.01731543 -0.01690617  0.00442285  0.05307213]\n",
      "[-0.01748556 -0.01731541 -0.01690616  0.00442294  0.05307213]\n"
     ]
    },
    {
     "name": "stdout",
     "output_type": "stream",
     "text": [
      "[-0.01748557 -0.01731543 -0.01690617  0.00442293  0.05307213]\n",
      "[-0.01748557 -0.01731543 -0.01690617  0.00442292  0.05307213]\n",
      "[-0.01748556 -0.01731542 -0.01690616  0.00442294  0.05307213]\n",
      "[-0.01708674 -0.01691309 -0.01605509  0.00088052  0.06250356]\n",
      "[-0.01959941 -0.0194123  -0.01880425  0.00741193  0.05677716]\n",
      "[-0.01525515 -0.01509325 -0.01464295  0.00185121  0.05499362]\n",
      "[-0.01578519 -0.01562391 -0.01520846  0.00297233  0.05394967]\n",
      "[-0.01865438 -0.01847476 -0.01802728 -0.00367979  0.05365847]\n",
      "[-0.0180265  -0.01785378 -0.01743255  0.00311011  0.05320102]\n",
      "[-0.01265359 -0.01248911 -0.01210012  0.0027786   0.05344624]\n",
      "[-0.01265359 -0.01248911 -0.01210012  0.0027786   0.05344624]\n",
      "[-0.01265384 -0.01248936 -0.01210036  0.00277858  0.05344622]\n",
      "[-0.01265825 -0.01249372 -0.0121046   0.002778    0.05344595]\n",
      "[-0.01265603 -0.01249153 -0.01210247  0.00277822  0.05344609]\n",
      "[-0.01265696 -0.01249245 -0.01210337  0.00277811  0.05344603]\n",
      "[-0.01910071 -0.01890504 -0.01843044  0.00479867  0.05306171]\n",
      "[-0.01522507 -0.01506261 -0.01467082  0.00500666  0.05323128]\n",
      "[-0.01274668 -0.01258486 -0.01219751  0.00279924  0.05346212]\n"
     ]
    }
   ],
   "source": [
    "i = 51\n",
    "MA = MA_array[:, i]\n",
    "VA = VA_array[:, i]\n",
    "Pop_class = Pop_array[:, i]\n",
    "lambda_N_init = np.repeat(-0, (N - 1))\n",
    "lambda_N_res = scipy.optimize.minimize(calculate_W, lambda_N_init, \n",
    "                    args = (1.41, MA, VA, Pop_class),\n",
    "                    options = {'maxiter': 1000},\n",
    "#                         constraints = [{'fun': constraint_nonnegative_lambda, 'type': 'ineq'},\n",
    "#                                        {'fun': constraint_less_than_one_lambda, 'type': 'ineq'}]\n",
    "                                  )\n",
    "sss = MA[:(N - 1)] / MA[N - 1] + np.exp(np.minimum(lambda_N_res.x, 50)) / (1 + np.exp(np.minimum(lambda_N_res.x, 50))) * (1 - MA[:(N - 1)] / MA[N - 1])"
   ]
  },
  {
   "cell_type": "code",
   "execution_count": 1831,
   "metadata": {},
   "outputs": [
    {
     "data": {
      "text/plain": [
       "array([0.51826335, 0.5230405 , 0.52956588, 0.54523364])"
      ]
     },
     "execution_count": 1831,
     "metadata": {},
     "output_type": "execute_result"
    }
   ],
   "source": [
    "sss"
   ]
  },
  {
   "cell_type": "code",
   "execution_count": 1832,
   "metadata": {},
   "outputs": [
    {
     "name": "stdout",
     "output_type": "stream",
     "text": [
      "     fun: array([0.00000000e+00, 0.00000000e+00, 0.00000000e+00, 4.60671186e-09,\n",
      "       6.66666667e-18])\n",
      " message: 'successful convergence'\n",
      "    nfev: 353\n",
      "     nit: 118\n",
      " success: True\n",
      "       x: array([ 115.9803347 ,  115.9803347 ,  115.9803347 ,  -19.19575149,\n",
      "       -115.9803347 ])\n"
     ]
    },
    {
     "data": {
      "text/plain": [
       "array([1.60000000e+01, 1.50000000e+01, 1.60000000e+01, 6.91006779e-08,\n",
       "       1.00000000e-16])"
      ]
     },
     "execution_count": 1832,
     "metadata": {},
     "output_type": "execute_result"
    }
   ],
   "source": [
    "fp_N_res = scipy.optimize.root(fp_N_fun, np.repeat(0, N), \n",
    "                               args = (np.append(sss, 1), Pop_class, MA, VA, N), method = 'df-sane',\n",
    "#                               options = {'xtol': 1e-16, 'maxiter': 1000, 'factor':1}\n",
    "                              )\n",
    "print(fp_N_res)\n",
    "N_part = 1e-16 + np.exp(np.minimum(fp_N_res.x, 50)) / (1 + np.exp(np.minimum(fp_N_res.x, 50))) * ((Pop_class - 1e-16) - 1e-16)\n",
    "N_part"
   ]
  },
  {
   "cell_type": "code",
   "execution_count": 1645,
   "metadata": {},
   "outputs": [
    {
     "data": {
      "text/plain": [
       "array([-9.11057325e-04, -9.14977571e-04, -2.50917922e-03, -9.70382682e-04,\n",
       "        9.96791607e-01])"
      ]
     },
     "execution_count": 1645,
     "metadata": {},
     "output_type": "execute_result"
    }
   ],
   "source": [
    "ttt = Pop_class - np.array([9.62121E-07, 0.000614913, 0.002452125, 0.009021544, 0.043538069]) * Pop_class\n",
    "fp_N_fun(ttt, np.append(test, 1), Pop_class, MA, VA, N)"
   ]
  },
  {
   "cell_type": "code",
   "execution_count": 1519,
   "metadata": {},
   "outputs": [
    {
     "data": {
      "text/plain": [
       "    fjac: array([[-5.88780760e-01, -2.20515705e-04, -3.01365369e-03,\n",
       "        -3.18102624e-02, -8.07660940e-01],\n",
       "       [-4.12700848e-03, -9.99986108e-01,  1.30873216e-05,\n",
       "         1.35418721e-04,  3.27621228e-03],\n",
       "       [-3.31593668e-01,  2.15975274e-03, -9.11068494e-01,\n",
       "         9.64696655e-03,  2.44749075e-01],\n",
       "       [-4.08872207e-01,  2.65894535e-03,  2.28656213e-01,\n",
       "        -8.19734159e-01,  3.29497637e-01],\n",
       "       [-6.13342760e-01,  4.00014073e-03,  3.43018153e-01,\n",
       "         5.71778745e-01,  4.23322892e-01]])\n",
       "     fun: array([-7.02336123e-05, -4.04064718e-04, -5.97695076e-03, -9.88120929e-03,\n",
       "       -7.24461890e-03])\n",
       " message: 'The iteration is not making good progress, as measured by the \\n  improvement from the last ten iterations.'\n",
       "    nfev: 60\n",
       "     qtf: array([ 0.00636307,  0.00038385,  0.00340741,  0.00433516, -0.01072526])\n",
       "       r: array([-1.28140526e-04,  4.82389110e-06,  5.92498004e-03,  4.67181855e-02,\n",
       "       -1.14105460e-08, -6.88201639e-04, -2.20263573e-05, -1.73012836e-04,\n",
       "        9.09675979e-10, -1.05201748e-02, -1.39540142e-02,  2.25470627e-08,\n",
       "       -5.59563331e-02,  3.16557687e-10,  1.52510123e-10])\n",
       "  status: 5\n",
       " success: False\n",
       "       x: array([  9.5634661 ,   7.30129276,   4.6275574 ,   2.96586603,\n",
       "       -15.59339253])"
      ]
     },
     "execution_count": 1519,
     "metadata": {},
     "output_type": "execute_result"
    }
   ],
   "source": [
    "fp_N_res"
   ]
  },
  {
   "cell_type": "code",
   "execution_count": 1518,
   "metadata": {},
   "outputs": [
    {
     "data": {
      "text/plain": [
       "array([7.02439517e-05, 6.74211166e-04, 9.68391991e-03, 4.89919733e-02,\n",
       "       9.99999831e-01])"
      ]
     },
     "execution_count": 1518,
     "metadata": {},
     "output_type": "execute_result"
    }
   ],
   "source": [
    "(Pop_class - N_part) / Pop_class"
   ]
  },
  {
   "cell_type": "code",
   "execution_count": 1590,
   "metadata": {},
   "outputs": [
    {
     "data": {
      "text/plain": [
       "array([-0.94366382, -0.94366382, -0.94366382, -0.94366382,  3.43352967])"
      ]
     },
     "execution_count": 1590,
     "metadata": {},
     "output_type": "execute_result"
    }
   ],
   "source": [
    "c = fp_N_fun(fp_N_res.x, np.append(test, 1), Pop_class, MA, VA, N)\n",
    "c"
   ]
  },
  {
   "cell_type": "code",
   "execution_count": 1491,
   "metadata": {},
   "outputs": [
    {
     "data": {
      "text/plain": [
       "array([1.17906803, 1.00710903, 0.93455465, 0.93380064])"
      ]
     },
     "execution_count": 1491,
     "metadata": {},
     "output_type": "execute_result"
    }
   ],
   "source": [
    "test = - np.log((1 - np.array([0.816417389, 0.815886261, 0.817099392, 0.828402354])) / (np.array([0.816417389, 0.815886261, 0.817099392, 0.828402354]) - MA[:(N-1)] / MA[N-1]))"
   ]
  },
  {
   "cell_type": "code",
   "execution_count": 1531,
   "metadata": {},
   "outputs": [
    {
     "data": {
      "text/plain": [
       "array([7.9999923 , 6.99569561, 7.980383  , 6.93684919, 6.69523352])"
      ]
     },
     "execution_count": 1531,
     "metadata": {},
     "output_type": "execute_result"
    }
   ],
   "source": [
    "ttt = Pop_class - np.array([9.62121E-07, 0.000614913, 0.002452125, 0.009021544, 0.043538069]) * Pop_class\n",
    "ttt"
   ]
  },
  {
   "cell_type": "code",
   "execution_count": 1524,
   "metadata": {},
   "outputs": [
    {
     "data": {
      "text/plain": [
       "array([-9.60934490e-07, -5.83911956e-04, -2.02672643e-03, -4.53333208e-03,\n",
       "        7.03869819e-02])"
      ]
     },
     "execution_count": 1524,
     "metadata": {},
     "output_type": "execute_result"
    }
   ],
   "source": [
    "\n",
    "sss = - np.log((Pop_class - 1e-16 - ttt) / (ttt - 1e-16))\n",
    "fp_N_fun(sss, np.append(test, 1), Pop_class, MA, VA, N)"
   ]
  },
  {
   "cell_type": "code",
   "execution_count": 1416,
   "metadata": {},
   "outputs": [
    {
     "data": {
      "text/plain": [
       "array(['O', 'O', 'O', 'O', 'O', 'O', 'O', 'O', 'O', 'O', 'O', 'O', 'O',\n",
       "       'O', 'O', 'O', 'O', 'O', 'O', 'O', 'O', 'O', 'O', 'O', 'O', 'O',\n",
       "       'O', 'O', 'O', 'O', 'O', 'O', 'O', 'O', 'O', 'O', 'O', 'O', 'O',\n",
       "       'O', 'O', 'O', 'O', 'O', 'O', 'O', 'O', 'O', 'O', 'O', 'O', 'O',\n",
       "       'O', 'O', 'O', 'O', 'O', 'O', 'O', 'O', 'O', 'O', 'O', 'O', 'O',\n",
       "       'O', 'O', 'O', 'O', 'O', 'O', 'O', 'O', 'O', 'O', 'O', 'O', 'O',\n",
       "       'O', 'O', 'O', 'O', 'O', 'O', 'O', 'O', 'O', 'O', 'O', 'O', 'O',\n",
       "       'O', 'O', 'O', 'O', 'O', 'O', 'O', 'O', 'O'], dtype='<U1')"
      ]
     },
     "execution_count": 1416,
     "metadata": {},
     "output_type": "execute_result"
    }
   ],
   "source": [
    "optimization_res"
   ]
  },
  {
   "cell_type": "markdown",
   "metadata": {},
   "source": [
    "### ==================================="
   ]
  },
  {
   "cell_type": "code",
   "execution_count": 918,
   "metadata": {},
   "outputs": [],
   "source": [
    "def calculate_W(lambda_N, beta, MA, VA, Pop_class, N = N):\n",
    "    income_weight = lambda_N[:(N - 1)]\n",
    "    N_part = lambda_N[(N - 1):]\n",
    "    income_weight = np.append(income_weight, 1)\n",
    "    \n",
    "    # variables under insurance\n",
    "    MI = income_weight / np.dot(income_weight, N_part) * np.dot(N_part, MA)\n",
    "    VI = (income_weight / np.dot(income_weight, N_part)) ** 2 * np.dot(N_part, VA)\n",
    "    RI = np.dot(N_part, VA) / (np.dot(N_part, MA) ** 2)\n",
    "    \n",
    "    # total surplus\n",
    "    epsilon_I = - 1 / nu * np.log(1 - N_part / Pop_class + 1e-6)\n",
    "    if beta <= 1:\n",
    "        W = np.dot(N_part, epsilon_I) - np.dot(Pop_class, 1 / nu - (epsilon_I + 1 / nu) * np.exp(- nu * epsilon_I))\n",
    "    else:\n",
    "        epsilon_A = (beta - 1) / 2 * VA / (MA ** 2)\n",
    "        N_A = Pop_class * (1 - np.exp(- nu * epsilon_A))\n",
    "        W = np.dot(N_part, epsilon_I) - np.dot(N_A, epsilon_A) - np.dot(Pop_class, (epsilon_A + 1 / nu) * np.exp(- nu * epsilon_A) - (epsilon_I + 1 / nu) * np.exp(- nu * epsilon_I))\n",
    "    return(-W)"
   ]
  },
  {
   "cell_type": "code",
   "execution_count": 919,
   "metadata": {},
   "outputs": [],
   "source": [
    "def constraint_fixed_point(lambda_N):\n",
    "    income_weight = lambda_N[:(N - 1)]\n",
    "    N_part = lambda_N[(N - 1):]\n",
    "    income_weight = np.append(income_weight, 1)\n",
    "    \n",
    "    RA = VA / (MA ** 2)\n",
    "    # variables under insurance\n",
    "    MI = income_weight / np.dot(income_weight, N_part) * np.dot(N_part, MA)\n",
    "    VI = (income_weight / np.dot(income_weight, N_part)) ** 2 * np.dot(N_part, VA)\n",
    "    RI = np.dot(N_part, VA) / (np.dot(N_part, MA) ** 2)\n",
    "    \n",
    "    return(N_part / Pop_class - (1 - np.exp(- nu * (np.log(MI) - np.log(MA) + 1 / 2 * beta * RA - 1 / 2 * RI))))"
   ]
  },
  {
   "cell_type": "code",
   "execution_count": 920,
   "metadata": {},
   "outputs": [],
   "source": [
    "def constraint_less_than_one_lambda(lambda_N):\n",
    "    income_weight = lambda_N[:(N - 1)]\n",
    "    \n",
    "    return(1 - income_weight)"
   ]
  },
  {
   "cell_type": "code",
   "execution_count": 921,
   "metadata": {},
   "outputs": [],
   "source": [
    "def constraint_nonnegative_lambda(lambda_N):\n",
    "    income_weight = lambda_N[:(N - 1)]\n",
    "    \n",
    "    return(income_weight - MA[:(N - 1)] / MA[N - 1])"
   ]
  },
  {
   "cell_type": "code",
   "execution_count": 922,
   "metadata": {},
   "outputs": [],
   "source": [
    "def constraint_plausible_participant(lambda_N):\n",
    "    N_part = lambda_N[(N - 1):]\n",
    "    \n",
    "    return(Pop_class - N_part)"
   ]
  },
  {
   "cell_type": "code",
   "execution_count": 923,
   "metadata": {},
   "outputs": [],
   "source": [
    "def constraint_nonnegative_participant(lambda_N):\n",
    "    N_part = lambda_N[(N - 1):]\n",
    "    \n",
    "    return(N_part)"
   ]
  },
  {
   "cell_type": "code",
   "execution_count": 892,
   "metadata": {},
   "outputs": [],
   "source": [
    "lambda_N_init = np.append(income_weight * 1.1, Pop_class - 1)\n",
    "lambda_N_res = scipy.optimize.minimize(calculate_W, lambda_N_init, \n",
    "                        args = (beta, MA, VA, Pop_class),\n",
    "                        options = {'maxiter': 500, 'ftol': 1e-16},\n",
    "                        constraints = [{'fun': constraint_fixed_point, 'type': 'eq'},\n",
    "                                       {'fun': constraint_nonnegative_lambda, 'type': 'ineq'},\n",
    "                                       {'fun': constraint_nonnegative_participant, 'type': 'ineq'},\n",
    "                                       {'fun': constraint_plausible_participant, 'type': 'ineq'},\n",
    "                                       {'fun': constraint_less_than_one_lambda, 'type': 'ineq'}\n",
    "                                      ])"
   ]
  },
  {
   "cell_type": "code",
   "execution_count": 893,
   "metadata": {},
   "outputs": [
    {
     "data": {
      "text/plain": [
       "array([0.40234725, 0.46625517, 0.58987525, 0.82141372])"
      ]
     },
     "execution_count": 893,
     "metadata": {},
     "output_type": "execute_result"
    }
   ],
   "source": [
    "income_weight * 1.1"
   ]
  },
  {
   "cell_type": "code",
   "execution_count": 894,
   "metadata": {},
   "outputs": [
    {
     "data": {
      "text/plain": [
       "     fun: -30.952751961358704\n",
       "     jac: array([     0.        ,      0.        ,      0.        ,      0.        ,\n",
       "       -42399.20920014, -42401.60882783, -42399.20920014, -42401.60882783,\n",
       "       -42401.60882783])\n",
       " message: 'Optimization terminated successfully.'\n",
       "    nfev: 33\n",
       "     nit: 3\n",
       "    njev: 3\n",
       "  status: 0\n",
       " success: True\n",
       "       x: array([ 0.53908092,  0.65388631,  0.69524211,  0.82141372, 12.        ,\n",
       "       11.        , 12.        , 11.        , 11.        ])"
      ]
     },
     "execution_count": 894,
     "metadata": {},
     "output_type": "execute_result"
    }
   ],
   "source": [
    "lambda_N_res"
   ]
  },
  {
   "cell_type": "code",
   "execution_count": 926,
   "metadata": {},
   "outputs": [
    {
     "data": {
      "text/plain": [
       "array([[3.212530e-02, 3.926940e-02, 1.327450e-02, 2.781740e-02,\n",
       "        3.118540e-02, 3.498200e-02, 3.451910e-02, 9.093640e-02,\n",
       "        3.259670e-02, 3.931850e-02, 5.665900e-02, 3.451870e-02,\n",
       "        2.862620e-02, 4.693960e-02, 2.823370e-02, 3.245490e-02,\n",
       "        3.046140e-02, 3.279740e-02, 4.410000e-09, 3.327150e-02,\n",
       "        1.047982e-01, 2.655700e-02, 2.657430e-02, 2.314320e-02,\n",
       "        3.632090e-02, 4.624380e-02, 8.725430e-02, 8.405150e-02,\n",
       "        1.709350e-02, 3.370380e-02, 5.143760e-02, 2.679420e-02,\n",
       "        2.750280e-02, 4.139298e-01, 3.320560e-02, 5.296869e-01,\n",
       "        5.500730e-02, 3.100000e-05, 7.821701e-01, 2.481443e-01,\n",
       "        3.146700e-02, 6.512420e-02, 4.718272e-01, 4.209786e-01,\n",
       "        2.250396e-01, 7.130000e-05, 1.620460e-02, 7.372955e-01,\n",
       "        7.675860e-01, 2.981360e-02, 3.536370e-02, 3.121300e-02,\n",
       "        2.526285e-01, 4.717548e-01, 4.603530e-02, 3.939350e-02,\n",
       "        1.352993e-01, 6.010780e-02, 5.205050e-02, 6.651750e-02,\n",
       "        8.457530e-02, 4.792490e-02, 5.134550e-02, 6.775530e-02,\n",
       "        1.832300e-03, 5.911290e-02, 1.398559e-01, 1.764910e-02,\n",
       "        1.108990e-01, 1.444960e-02, 1.502510e-02, 2.010643e-01,\n",
       "        2.398600e-01, 4.621830e-02, 9.899300e-03, 1.117160e-02,\n",
       "        1.080890e-01, 1.548780e-02, 2.404770e-02, 2.084280e-02,\n",
       "        2.291210e-02, 2.341180e-02, 1.271631e-01, 1.636300e-01,\n",
       "        9.509200e-03, 5.510000e-05, 1.062690e-02, 1.730000e-06,\n",
       "        6.292280e-02, 1.668760e-02, 1.101369e-01, 1.491600e-02,\n",
       "        7.579860e-02, 9.644900e-03, 6.883720e-02, 1.059911e-01,\n",
       "        2.044080e-02, 1.756380e-02, 2.593250e-02, 1.769760e-02],\n",
       "       [3.637250e-02, 4.707410e-02, 1.641990e-02, 4.140660e-02,\n",
       "        3.782680e-02, 4.137450e-02, 3.782680e-02, 9.876750e-02,\n",
       "        3.777430e-02, 5.190670e-02, 6.815150e-02, 4.025930e-02,\n",
       "        3.796290e-02, 6.206460e-02, 3.701410e-02, 3.947160e-02,\n",
       "        3.940930e-02, 3.711170e-02, 6.580000e-09, 3.784360e-02,\n",
       "        1.333603e-01, 3.772470e-02, 4.288400e-02, 3.568180e-02,\n",
       "        4.060380e-02, 5.228730e-02, 9.588860e-02, 9.664690e-02,\n",
       "        1.888900e-02, 3.988040e-02, 1.158677e-01, 3.779510e-02,\n",
       "        3.770400e-02, 8.194808e-01, 4.125650e-02, 1.111284e+00,\n",
       "        2.472062e-01, 2.415000e-04, 1.709550e+00, 1.005923e+00,\n",
       "        4.063310e-02, 7.922190e-02, 1.122641e+00, 8.163856e-01,\n",
       "        2.470307e-01, 2.866410e-02, 1.981790e-02, 1.715672e+00,\n",
       "        1.605638e+00, 5.197230e-02, 3.681180e-02, 3.937740e-02,\n",
       "        2.793414e-01, 1.064194e+00, 5.103000e-02, 4.892930e-02,\n",
       "        1.496179e-01, 6.527060e-02, 5.956170e-02, 1.127034e-01,\n",
       "        1.360562e-01, 5.684020e-02, 6.926190e-02, 7.957960e-02,\n",
       "        2.107200e-03, 1.204397e-01, 1.689002e-01, 3.388090e-02,\n",
       "        1.367208e-01, 2.387760e-02, 2.295750e-02, 2.250784e-01,\n",
       "        2.617612e-01, 1.053091e-01, 1.350370e-02, 2.469230e-02,\n",
       "        1.200129e-01, 3.110280e-02, 1.288898e-01, 3.570140e-02,\n",
       "        2.406350e-02, 3.373350e-02, 1.846835e-01, 2.120092e-01,\n",
       "        1.148150e-02, 5.760000e-05, 1.410990e-02, 1.890000e-06,\n",
       "        9.295060e-02, 2.739240e-02, 1.221973e-01, 2.501300e-02,\n",
       "        9.095900e-02, 1.266320e-02, 1.120293e-01, 1.173878e-01,\n",
       "        2.285370e-02, 2.682360e-02, 2.871220e-02, 2.744050e-02],\n",
       "       [3.796190e-02, 5.156220e-02, 2.099930e-02, 4.864050e-02,\n",
       "        4.021920e-02, 4.747450e-02, 4.219160e-02, 1.065864e-01,\n",
       "        4.268440e-02, 7.003440e-02, 7.817150e-02, 4.440490e-02,\n",
       "        4.023630e-02, 7.100210e-02, 4.430680e-02, 4.477240e-02,\n",
       "        4.482250e-02, 3.924250e-02, 9.280000e-09, 4.080820e-02,\n",
       "        1.499881e-01, 4.251250e-02, 1.516349e-01, 4.023530e-02,\n",
       "        4.720790e-02, 5.283400e-02, 1.053870e-01, 1.041187e-01,\n",
       "        2.121040e-02, 4.538090e-02, 1.366983e-01, 4.553830e-02,\n",
       "        4.129530e-02, 1.554836e+00, 1.062561e-01, 1.754853e+00,\n",
       "        3.088438e-01, 9.419000e-04, 2.382462e+00, 1.675279e+00,\n",
       "        6.045130e-02, 9.374680e-02, 1.833535e+00, 1.378173e+00,\n",
       "        2.591671e-01, 5.465680e-02, 2.472200e-02, 2.198166e+00,\n",
       "        2.060626e+00, 1.000550e-01, 3.970710e-02, 5.052960e-02,\n",
       "        3.219329e-01, 1.644183e+00, 5.153650e-02, 6.145690e-02,\n",
       "        1.659669e-01, 6.985430e-02, 6.159600e-02, 1.288739e-01,\n",
       "        1.463379e-01, 6.974570e-02, 1.312902e-01, 1.417419e-01,\n",
       "        2.444600e-03, 1.776470e-01, 1.859345e-01, 9.173510e-02,\n",
       "        2.087773e-01, 3.206250e-02, 3.217960e-02, 2.420534e-01,\n",
       "        2.778522e-01, 1.132781e-01, 1.569610e-02, 2.900500e-02,\n",
       "        1.265506e-01, 6.612420e-02, 2.120540e-01, 8.161500e-02,\n",
       "        3.634410e-02, 3.898430e-02, 2.156913e-01, 2.214269e-01,\n",
       "        1.376980e-02, 6.270000e-05, 2.087040e-02, 1.960000e-06,\n",
       "        1.067121e-01, 5.051770e-02, 1.849415e-01, 6.135650e-02,\n",
       "        9.790500e-02, 1.741630e-02, 1.195121e-01, 1.229251e-01,\n",
       "        2.608120e-02, 3.251140e-02, 3.102180e-02, 4.302420e-02],\n",
       "       [4.274690e-02, 5.494270e-02, 3.783890e-02, 5.517860e-02,\n",
       "        4.441390e-02, 5.257200e-02, 4.558860e-02, 1.132255e-01,\n",
       "        4.668270e-02, 8.608990e-02, 8.681920e-02, 4.968330e-02,\n",
       "        4.359140e-02, 8.798910e-02, 5.311700e-02, 5.302290e-02,\n",
       "        5.125100e-02, 4.182260e-02, 1.240000e-08, 4.814620e-02,\n",
       "        1.669160e-01, 4.740110e-02, 2.044790e-01, 4.570980e-02,\n",
       "        5.277450e-02, 5.677390e-02, 1.118508e-01, 1.114817e-01,\n",
       "        2.719370e-02, 5.123340e-02, 1.689587e-01, 5.369960e-02,\n",
       "        4.565960e-02, 2.257549e+00, 3.032054e-01, 2.303283e+00,\n",
       "        4.061289e-01, 1.073400e-03, 3.256801e+00, 2.387472e+00,\n",
       "        8.801450e-02, 1.220869e-01, 2.682802e+00, 1.883155e+00,\n",
       "        2.902912e-01, 7.427130e-02, 3.017110e-02, 2.932251e+00,\n",
       "        3.429799e+00, 1.181452e-01, 4.280530e-02, 7.730660e-02,\n",
       "        4.027919e-01, 2.239053e+00, 5.356260e-02, 7.105700e-02,\n",
       "        1.906371e-01, 7.762650e-02, 8.715680e-02, 1.827383e-01,\n",
       "        1.570079e-01, 9.193750e-02, 2.212557e-01, 1.903235e-01,\n",
       "        2.718000e-03, 1.902173e-01, 2.042259e-01, 1.602104e-01,\n",
       "        2.278171e-01, 5.576340e-02, 4.523740e-02, 2.601764e-01,\n",
       "        2.982404e-01, 1.359104e-01, 2.875640e-02, 3.043730e-02,\n",
       "        1.344757e-01, 1.278064e-01, 2.264724e-01, 1.109206e-01,\n",
       "        5.456210e-02, 4.706470e-02, 2.306908e-01, 2.307330e-01,\n",
       "        1.917300e-02, 6.600000e-05, 2.850200e-02, 9.130000e-06,\n",
       "        1.581335e-01, 1.069932e-01, 2.408889e-01, 8.752380e-02,\n",
       "        1.065943e-01, 2.759970e-02, 1.484261e-01, 1.312113e-01,\n",
       "        3.159970e-02, 5.658360e-02, 3.349320e-02, 9.051950e-02],\n",
       "       [5.771350e-02, 6.959970e-02, 5.341380e-02, 1.131480e-01,\n",
       "        5.784920e-02, 8.495530e-02, 7.752610e-02, 1.438396e-01,\n",
       "        7.279970e-02, 1.240971e-01, 1.329951e-01, 6.693140e-02,\n",
       "        7.143750e-02, 1.253125e-01, 7.520610e-02, 1.618335e-01,\n",
       "        1.146674e-01, 4.425670e-02, 2.090000e-08, 1.163568e-01,\n",
       "        2.385878e-01, 1.209735e-01, 2.469029e-01, 5.741340e-02,\n",
       "        9.650050e-02, 8.863220e-02, 1.580231e-01, 1.304885e-01,\n",
       "        3.773600e-02, 1.171804e-01, 2.201913e-01, 8.551120e-02,\n",
       "        7.956460e-02, 3.536711e+00, 4.198285e-01, 3.651579e+00,\n",
       "        1.346654e+00, 1.359400e-03, 4.228484e+00, 3.791258e+00,\n",
       "        2.182639e-01, 2.511051e-01, 4.082834e+00, 2.750610e+00,\n",
       "        4.153295e-01, 1.388982e-01, 1.263060e-01, 4.155626e+00,\n",
       "        4.450112e+00, 6.994538e-01, 5.776010e-02, 8.545256e-01,\n",
       "        7.015046e-01, 3.531094e+00, 6.448700e-02, 9.657100e-02,\n",
       "        3.955691e-01, 1.003601e-01, 1.370606e-01, 3.589005e-01,\n",
       "        2.004252e-01, 1.231043e-01, 3.567597e-01, 2.863263e-01,\n",
       "        3.198700e-03, 3.050418e-01, 3.142138e-01, 2.807438e-01,\n",
       "        2.568820e-01, 9.011170e-02, 7.163300e-02, 3.183866e-01,\n",
       "        3.472526e-01, 2.543319e-01, 2.577383e-01, 4.071860e-02,\n",
       "        1.650128e-01, 2.533031e-01, 2.517949e-01, 2.124200e-01,\n",
       "        1.227746e-01, 7.274840e-02, 3.716714e-01, 2.566721e-01,\n",
       "        3.737160e-02, 6.930000e-05, 5.670290e-02, 4.506590e-02,\n",
       "        2.775042e-01, 2.424084e-01, 3.311205e-01, 1.539425e-01,\n",
       "        1.784960e-01, 4.920800e-02, 2.796668e-01, 1.429295e-01,\n",
       "        4.510600e-02, 1.012563e-01, 4.299880e-02, 2.539315e-01]])"
      ]
     },
     "execution_count": 926,
     "metadata": {},
     "output_type": "execute_result"
    }
   ],
   "source": [
    "np.copy(MA_array)"
   ]
  },
  {
   "cell_type": "code",
   "execution_count": 929,
   "metadata": {},
   "outputs": [],
   "source": [
    "lambda_N_res_array = np.zeros([(N - 1) + N, MA_array.shape[1]])"
   ]
  },
  {
   "cell_type": "code",
   "execution_count": 936,
   "metadata": {},
   "outputs": [
    {
     "name": "stderr",
     "output_type": "stream",
     "text": [
      "/Users/mizuhirosuzuki/anaconda/lib/python3.6/site-packages/ipykernel_launcher.py:12: RuntimeWarning: invalid value encountered in log\n",
      "  if sys.path[0] == '':\n"
     ]
    }
   ],
   "source": [
    "lambda_N_res_array = np.zeros([(N - 1) + N, MA_array.shape[1]])\n",
    "optimization_res = np.zeros(MA_array.shape[1])\n",
    "for i in range(MA_array.shape[1]):\n",
    "    MA = MA_array[:, i]\n",
    "    VA = VA_array[:, i]\n",
    "    Pop_class = Pop_array[:, i]\n",
    "    lambda_N_init = np.append(MA[:(N - 1)] / MA[N - 1], Pop_class - 1)\n",
    "    lambda_N_res = scipy.optimize.minimize(calculate_W, lambda_N_init, \n",
    "                        args = (1.41, MA, VA, Pop_class),\n",
    "                        options = {'maxiter': 500, 'ftol': 1e-16},\n",
    "                        constraints = [{'fun': constraint_fixed_point, 'type': 'eq'},\n",
    "                                       {'fun': constraint_nonnegative_lambda, 'type': 'ineq'},\n",
    "                                       {'fun': constraint_nonnegative_participant, 'type': 'ineq'},\n",
    "                                       {'fun': constraint_plausible_participant, 'type': 'ineq'},\n",
    "                                       {'fun': constraint_less_than_one_lambda, 'type': 'ineq'}\n",
    "                                      ])\n",
    "    optimization_res[i] = lambda_N_res.success\n",
    "    lambda_N_res_array[:, i] = lambda_N_res.x"
   ]
  },
  {
   "cell_type": "code",
   "execution_count": 940,
   "metadata": {},
   "outputs": [
    {
     "data": {
      "text/plain": [
       "array([1., 1., 1., 1., 1., 1., 1., 0., 1., 1., 0., 1., 1., 1., 1., 1., 1.,\n",
       "       1., 0., 1., 1., 1., 0., 1., 1., 1., 1., 1., 1., 1., 0., 1., 1., 1.,\n",
       "       0., 1., 0., 1., 0., 0., 1., 0., 1., 1., 0., 1., 1., 0., 0., 0., 0.,\n",
       "       0., 0., 0., 0., 1., 0., 1., 0., 0., 0., 1., 0., 0., 1., 0., 0., 0.,\n",
       "       0., 1., 1., 0., 0., 0., 0., 1., 1., 0., 0., 0., 0., 0., 0., 0., 1.,\n",
       "       0., 0., 0., 0., 0., 0., 0., 0., 1., 0., 1., 0., 0., 1., 0.])"
      ]
     },
     "execution_count": 940,
     "metadata": {},
     "output_type": "execute_result"
    }
   ],
   "source": [
    "optimization_res"
   ]
  },
  {
   "cell_type": "code",
   "execution_count": 367,
   "metadata": {},
   "outputs": [],
   "source": [
    "income_weight_res = np.append(lambda_N_res.x[:(N - 1)], 1)\n",
    "N_part_res = lambda_N_res.x[(N - 1):]"
   ]
  },
  {
   "cell_type": "code",
   "execution_count": 370,
   "metadata": {},
   "outputs": [
    {
     "name": "stdout",
     "output_type": "stream",
     "text": [
      "[0.02179919 0.02526172 0.03195946 0.04450422 0.05959803]\n",
      "[8.30545690e-06 1.11534382e-05 1.78517910e-05 3.46166739e-05\n",
      " 6.20793037e-05]\n",
      "0.0174776488821353\n"
     ]
    }
   ],
   "source": [
    "MI = income_weight_res / np.dot(income_weight_res, N_part_res) * np.dot(N_part_res, MA)\n",
    "VI = (income_weight_res / np.dot(income_weight_res, N_part_res)) ** 2 * np.dot(N_part_res, VA)\n",
    "RI = np.dot(N_part_res, VA) / (np.dot(N_part_res, MA) ** 2)\n",
    "\n",
    "print(MI)\n",
    "print(VI)\n",
    "print(RI)"
   ]
  },
  {
   "cell_type": "code",
   "execution_count": 277,
   "metadata": {},
   "outputs": [
    {
     "data": {
      "text/plain": [
       "array([0.99999996, 0.99999996, 0.99999996, 0.99999996, 0.99999996])"
      ]
     },
     "execution_count": 277,
     "metadata": {},
     "output_type": "execute_result"
    }
   ],
   "source": [
    "N_part_res / Pop_class"
   ]
  },
  {
   "cell_type": "code",
   "execution_count": null,
   "metadata": {},
   "outputs": [],
   "source": [
    "sim_data = pd.DataFrame({'Pop': Pop_class,\n",
    "                        'Class': range(N),\n",
    "                        'MA': MA,\n",
    "                        'VA': VA,\n",
    "                        'nu': np.repeat(nu, N),\n",
    "                        })"
   ]
  },
  {
   "cell_type": "code",
   "execution_count": 147,
   "metadata": {},
   "outputs": [
    {
     "name": "stdout",
     "output_type": "stream",
     "text": [
      "0.0950039413441 0.17183944596580006 0.2420777236928001 0.3296036684240001 0.5145493322089998\n",
      "0.15747270902302024 0.35168540601355713 0.5152704429578014 0.7361840803337188 1.0640387980211676\n",
      "0.04074292247037201 0.05010666158014501 0.050623472868269966 0.05709359035910002 0.115949197872\n",
      "0.060199696417541464 0.08456809633669621 0.08111210573895539 0.09521975827285432 0.15524086889135344\n"
     ]
    }
   ],
   "source": [
    "print(data_df[data_df.Class == 0].MA.mean(),\n",
    "    data_df[data_df.Class == 1].MA.mean(),\n",
    "    data_df[data_df.Class == 2].MA.mean(),\n",
    "    data_df[data_df.Class == 3].MA.mean(),\n",
    "    data_df[data_df.Class == 4].MA.mean())\n",
    "\n",
    "print(data_df[data_df.Class == 0].MA.std(),\n",
    "    data_df[data_df.Class == 1].MA.std(),\n",
    "    data_df[data_df.Class == 2].MA.std(),\n",
    "    data_df[data_df.Class == 3].MA.std(),\n",
    "    data_df[data_df.Class == 4].MA.std())\n",
    "\n",
    "print(data_df[data_df.Class == 0].VA.mean(),\n",
    "    data_df[data_df.Class == 1].VA.mean(),\n",
    "    data_df[data_df.Class == 2].VA.mean(),\n",
    "    data_df[data_df.Class == 3].VA.mean(),\n",
    "    data_df[data_df.Class == 4].VA.mean())\n",
    "\n",
    "print(data_df[data_df.Class == 0].VA.std(),\n",
    "    data_df[data_df.Class == 1].VA.std(),\n",
    "    data_df[data_df.Class == 2].VA.std(),\n",
    "    data_df[data_df.Class == 3].VA.std(),\n",
    "    data_df[data_df.Class == 4].VA.std())\n"
   ]
  },
  {
   "cell_type": "code",
   "execution_count": 125,
   "metadata": {},
   "outputs": [
    {
     "data": {
      "text/plain": [
       "array([0.17070069, 0.20777762, 0.28430258, 0.44209592, 0.65256556])"
      ]
     },
     "execution_count": 125,
     "metadata": {},
     "output_type": "execute_result"
    }
   ],
   "source": [
    "np.exp(MA_list)"
   ]
  },
  {
   "cell_type": "code",
   "execution_count": 126,
   "metadata": {},
   "outputs": [
    {
     "data": {
      "text/plain": [
       "array([0.05534199, 0.0816912 , 0.0974133 , 0.11886498, 0.14927417])"
      ]
     },
     "execution_count": 126,
     "metadata": {},
     "output_type": "execute_result"
    }
   ],
   "source": [
    "np.exp(VA_list)"
   ]
  },
  {
   "cell_type": "code",
   "execution_count": 149,
   "metadata": {},
   "outputs": [
    {
     "name": "stdout",
     "output_type": "stream",
     "text": [
      "[0.15859528 0.2148872  0.26743301 0.3337897  0.44070077]\n",
      "[0.0539736  0.06997951 0.08690548 0.11342976 0.15845954]\n",
      "[2.14585752 1.51547855 1.2151143  1.01807822 0.81588843]\n"
     ]
    }
   ],
   "source": [
    "MA_list = []\n",
    "for i in range(N):\n",
    "    MA_list.append(np.random.uniform(i / 4 - 2, (i + 1) / 4 - 2))\n",
    "MA = np.exp(MA_list)\n",
    "VA_list = []\n",
    "for i in range(N):\n",
    "    VA_list.append(np.random.uniform(i / 4 - 3, (i + 1) / 4 - 3))\n",
    "VA = np.exp(VA_list)\n",
    "RA = VA / (MA ** 2)\n",
    "\n",
    "print(MA)\n",
    "print(VA)\n",
    "print(RA)"
   ]
  },
  {
   "cell_type": "code",
   "execution_count": 564,
   "metadata": {},
   "outputs": [
    {
     "data": {
      "text/plain": [
       "0      21.915635\n",
       "1      17.978036\n",
       "2      14.834996\n",
       "3      12.241849\n",
       "4      12.774074\n",
       "         ...    \n",
       "495    29.958330\n",
       "496    10.912493\n",
       "497     5.782403\n",
       "498     5.300033\n",
       "499     0.565970\n",
       "Length: 500, dtype: float64"
      ]
     },
     "execution_count": 564,
     "metadata": {},
     "output_type": "execute_result"
    }
   ],
   "source": [
    "data_df.VA / (data_df.MA ** 2)"
   ]
  },
  {
   "cell_type": "code",
   "execution_count": 199,
   "metadata": {},
   "outputs": [
    {
     "name": "stdout",
     "output_type": "stream",
     "text": [
      "[0.09500394 0.17183945 0.24207772 0.32960367 0.51454933]\n",
      "[0.04074292 0.05010666 0.05062347 0.05709359 0.1159492 ]\n",
      "[4.51407668 1.69687457 0.86385784 0.52553698 0.43793909]\n"
     ]
    }
   ],
   "source": [
    "MA = np.array([data_df[data_df.Class == 0].MA.mean(),\n",
    "            data_df[data_df.Class == 1].MA.mean(),\n",
    "            data_df[data_df.Class == 2].MA.mean(),\n",
    "            data_df[data_df.Class == 3].MA.mean(),\n",
    "            data_df[data_df.Class == 4].MA.mean()])\n",
    "\n",
    "VA = np.array([data_df[data_df.Class == 0].VA.mean(),\n",
    "            data_df[data_df.Class == 1].VA.mean(),\n",
    "            data_df[data_df.Class == 2].VA.mean(),\n",
    "            data_df[data_df.Class == 3].VA.mean(),\n",
    "            data_df[data_df.Class == 4].VA.mean()])\n",
    "RA = VA / (MA ** 2)\n",
    "\n",
    "print(MA)\n",
    "print(VA)\n",
    "print(RA)"
   ]
  },
  {
   "cell_type": "markdown",
   "metadata": {},
   "source": [
    "##### ========================"
   ]
  },
  {
   "cell_type": "code",
   "execution_count": 941,
   "metadata": {},
   "outputs": [],
   "source": [
    "def fp_N_fun(N_part, income_weight, Pop_class, MA, VA, N):\n",
    "    \n",
    "    RA = VA / (MA ** 2)\n",
    "    # variables under insurance\n",
    "    MI = income_weight / np.dot(income_weight, N_part) * np.dot(N_part, MA)\n",
    "    VI = (income_weight / np.dot(income_weight, N_part)) ** 2 * np.dot(N_part, VA)\n",
    "    RI = np.dot(N_part, VA) / (np.dot(N_part, MA) ** 2)\n",
    "    print(MI)\n",
    "    print(MA)\n",
    "    print(RA)\n",
    "    print(RI)\n",
    "    return((N_part / Pop_class - (1 - np.exp(- nu * (np.log(MI) - np.log(MA) + 1 / 2 * beta * RA - 1 / 2 * RI)))))"
   ]
  },
  {
   "cell_type": "code",
   "execution_count": 942,
   "metadata": {},
   "outputs": [
    {
     "name": "stdout",
     "output_type": "stream",
     "text": [
      "[0.05149891 0.05967888 0.07550178 0.10513782 0.1407958 ]\n",
      "[0.0176976 0.0274405 0.0430242 0.0905195 0.2539315]\n",
      "[29.95832962 10.91249256  5.78240253  5.30003254  0.56596956]\n",
      "0.00578268898496053\n"
     ]
    },
    {
     "data": {
      "text/plain": [
       "array([1.32857143e+01, 1.32857143e+01, 1.56666667e+01, 1.32857143e+01,\n",
       "       4.20906471e+04])"
      ]
     },
     "execution_count": 942,
     "metadata": {},
     "output_type": "execute_result"
    }
   ],
   "source": [
    "fp_N_fun(aaa.x, np.append(income_weight,1), Pop_class, MA, VA, N)"
   ]
  }
 ],
 "metadata": {
  "kernelspec": {
   "display_name": "Python 3",
   "language": "python",
   "name": "python3"
  },
  "language_info": {
   "codemirror_mode": {
    "name": "ipython",
    "version": 3
   },
   "file_extension": ".py",
   "mimetype": "text/x-python",
   "name": "python",
   "nbconvert_exporter": "python",
   "pygments_lexer": "ipython3",
   "version": "3.6.9"
  },
  "toc": {
   "base_numbering": 1,
   "nav_menu": {},
   "number_sections": false,
   "sideBar": true,
   "skip_h1_title": false,
   "title_cell": "Table of Contents",
   "title_sidebar": "Contents",
   "toc_cell": false,
   "toc_position": {},
   "toc_section_display": true,
   "toc_window_display": false
  }
 },
 "nbformat": 4,
 "nbformat_minor": 2
}
