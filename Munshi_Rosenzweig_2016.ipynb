{
 "cells": [
  {
   "cell_type": "code",
   "execution_count": 1,
   "metadata": {},
   "outputs": [],
   "source": [
    "import pandas as pd\n",
    "import numpy as np"
   ]
  },
  {
   "cell_type": "markdown",
   "metadata": {},
   "source": [
    "## Benchmark (single $\\nu$)"
   ]
  },
  {
   "cell_type": "code",
   "execution_count": 50,
   "metadata": {},
   "outputs": [],
   "source": [
    "np.random.seed(123)\n",
    "P = 500\n",
    "N = 5\n",
    "MA = np.exp(np.random.normal(3, 3, N))\n",
    "VA = np.exp(np.random.normal(1, 1, N))\n",
    "epsilon = np.exp(np.random.normal(1, 1, P))\n",
    "\n",
    "beta = 0.9\n",
    "nu = 1.5"
   ]
  },
  {
   "cell_type": "code",
   "execution_count": 41,
   "metadata": {},
   "outputs": [],
   "source": [
    "income_weight = np.repeat(1 / N, N)\n",
    "income_weight[N-1] = 1"
   ]
  },
  {
   "cell_type": "code",
   "execution_count": 42,
   "metadata": {},
   "outputs": [],
   "source": [
    "N_part = np.repeat(P / N / 2, N)\n",
    "Pop_class = np.repeat(P/ N, N)"
   ]
  },
  {
   "cell_type": "code",
   "execution_count": 43,
   "metadata": {},
   "outputs": [],
   "source": [
    "MI = income_weight / np.dot(income_weight, N_part) * np.dot(N_part, MA)\n",
    "VI = (income_weight / np.dot(income_weight, N_part)) ** 2 * np.dot(N_part, VA)"
   ]
  },
  {
   "cell_type": "code",
   "execution_count": 44,
   "metadata": {},
   "outputs": [
    {
     "data": {
      "text/plain": [
       "array([0.00665861, 0.00665861, 0.00665861, 0.00665861, 0.16646527])"
      ]
     },
     "execution_count": 44,
     "metadata": {},
     "output_type": "execute_result"
    }
   ],
   "source": [
    "VI"
   ]
  },
  {
   "cell_type": "markdown",
   "metadata": {},
   "source": [
    "If $\\beta < 1$, then all households would send migrants to the city without insurance network.\n",
    "Hence, total surplus from insurance network is\n",
    "\n",
    "\\begin{equation*}\n",
    "    W = \\sum_k \\left[ P_k \\int_0^{\\epsilon_{Ik}} \\left\\{ \\left[ \\log(M_{Ik}) - \\frac{1}{2} R_I \\right] - \\left[ \\log(M_{Ak}) - \\frac{1}{2} \\beta R_{Ak} + \\epsilon \\right] \\right\\} f(\\epsilon) d \\epsilon \\right].\n",
    "\\end{equation*}\n",
    "\n",
    "Since $N_k = P_k \\int_0^{\\epsilon_{Ik}} f(\\epsilon) d \\epsilon$,\n",
    "\n",
    "\\begin{equation*}\n",
    "    W = \\sum_k \\left[ N_k \\epsilon_{Ik} - P_k \\int_0^{\\epsilon_{Ik}} \\epsilon f(\\epsilon) d \\epsilon \\right].\n",
    "\\end{equation*}\n",
    "\n",
    "When $F(\\epsilon) = 1 - \\exp(-\\nu \\epsilon)$, the above expression becomes\n",
    "\n",
    "\\begin{equation*}\n",
    "    W = \\sum_k \\left[ N_k \\epsilon_{Ik} - P_k \\left(\\frac{1}{\\nu} - \\left(\\epsilon_{Ik} + \\frac{1}{\\nu} \\right) \\exp(- \\nu \\epsilon_{Ik}) \\right) \\right].\n",
    "\\end{equation*}\n"
   ]
  },
  {
   "cell_type": "markdown",
   "metadata": {},
   "source": [
    "On the other hand, if $\\beta > 1$, then there exists a threshold $\\epsilon_{Ak}$ below which household do not send migrants to the city even when they do not benefit from insurance network, due to high risks of urban jobs (footnote 23).\n",
    "In this case, total surplus from insurance network is\n",
    "\n",
    "\\begin{equation*}\n",
    "    W = \\sum_k \\left[ P_k \\left[ \\int_0^{\\epsilon_{Ak}} \\left\\{ \\left[ \\log(M_{Ik}) - \\frac{1}{2} R_I \\right] - \\left[ \\log(M_{Ak}) - \\frac{1}{2} R_{Ak} \\right] \\right\\} f(\\epsilon) d \\epsilon + \\int_{\\epsilon_{Ak}}^{\\epsilon_{Ik}} \\left\\{ \\left[ \\log(M_{Ik}) - \\frac{1}{2} R_I \\right] - \\left[ \\log(M_{Ak}) - \\frac{1}{2} \\beta R_{Ak} + \\epsilon \\right] \\right\\} f(\\epsilon) d \\epsilon \\right] \\right] .\n",
    "\\end{equation*}\n",
    "\n",
    "The first integral is the surplus of those who would not send migrants even without insurance: utility under insurance net of utility under autarky in a village.\n",
    "The second integral is the surplus of those who would send migrants without insurance network: utility under insurance net of utility of sending migrants to the city.\n",
    "\n",
    "Letting $N_{Ak} = P_k \\int_0^{\\epsilon_{Ak}} f(\\epsilon) d \\epsilon$, we can simplify the total surplus to\n",
    "\n",
    "\\begin{equation*}\n",
    "    W = \\sum_k \\left[ N_{k} \\epsilon_{Ik} - N_{Ak} \\epsilon_{Ak} - P_k \\int_{\\epsilon_{Ak}}^{\\epsilon_{Ik}} \\epsilon f(\\epsilon) d \\epsilon \\right]  .\n",
    "\\end{equation*}\n",
    "\n",
    "When $F(\\epsilon) = 1 - \\exp(-\\nu \\epsilon)$, the above expression becomes\n",
    "\n",
    "\\begin{equation*}\n",
    "    W = \\sum_k \\left[ N_{k} \\epsilon_{Ik} - N_{Ak} \\epsilon_{Ak} - P_k \\left( \\left(\\epsilon_{Ak} + \\frac{1}{\\nu} \\right) \\exp(- \\nu \\epsilon_{Ak}) - \\left(\\epsilon_{Ik} + \\frac{1}{\\nu} \\right) \\exp(- \\nu \\epsilon_{Ik}) \\right) \\right]  .\n",
    "\\end{equation*}\n",
    "\n",
    "\n",
    "The threshold $\\epsilon_{Ak}$ is determined from the following equation equating the utility of staying in autarky and that of sending migrants:\n",
    "\n",
    "\\begin{equation*}\n",
    "    \\log(M_{Ak}) - \\frac{1}{2} \\beta R_{Ak} + \\epsilon_{Ak} = \\log(M_{Ak}) - \\frac{1}{2} R_{Ak}.\n",
    "\\end{equation*}\n",
    "\n",
    "Hence, $\\epsilon_{Ak} = \\frac{\\beta - 1}{2} R_{Ak}$."
   ]
  },
  {
   "cell_type": "code",
   "execution_count": 55,
   "metadata": {},
   "outputs": [],
   "source": [
    "epsilon_I = - 1 / nu * np.log(1 - N_part / Pop_class)\n",
    "epsilon_A = (beta - 1) / 2 * VA / (MA ** 2)"
   ]
  },
  {
   "cell_type": "code",
   "execution_count": 65,
   "metadata": {},
   "outputs": [],
   "source": [
    "beta = 0.9"
   ]
  },
  {
   "cell_type": "code",
   "execution_count": 67,
   "metadata": {},
   "outputs": [],
   "source": [
    "if beta <= 1:\n",
    "    W = np.dot(N_part, epsilon_I) - np.dot(Pop_class, 1 / nu - (epsilon_I + 1 / nu) * np.exp(- nu * epsilon_I))\n",
    "else:\n",
    "    W = np.dot(N_part, epsilon_I) - np.dot(N_A, epsilon_A) - np.dot(Pop_class, (epsilon_A + 1 / nu) * np.exp(- nu * epsilon_A) - (epsilon_I + 1 / nu) * np.exp(- nu * epsilon_I))"
   ]
  },
  {
   "cell_type": "code",
   "execution_count": 60,
   "metadata": {},
   "outputs": [
    {
     "data": {
      "text/plain": [
       "3327739490.5286856"
      ]
     },
     "execution_count": 60,
     "metadata": {},
     "output_type": "execute_result"
    }
   ],
   "source": [
    "W"
   ]
  },
  {
   "cell_type": "code",
   "execution_count": 48,
   "metadata": {},
   "outputs": [],
   "source": [
    "RI = np.dot(N_part, VA) / (np.dot(N_part, MA) ** 2)"
   ]
  },
  {
   "cell_type": "code",
   "execution_count": 49,
   "metadata": {},
   "outputs": [
    {
     "data": {
      "text/plain": [
       "2.643381235671514e-06"
      ]
     },
     "execution_count": 49,
     "metadata": {},
     "output_type": "execute_result"
    }
   ],
   "source": [
    "RI"
   ]
  },
  {
   "cell_type": "code",
   "execution_count": null,
   "metadata": {},
   "outputs": [],
   "source": []
  }
 ],
 "metadata": {
  "kernelspec": {
   "display_name": "Python 3",
   "language": "python",
   "name": "python3"
  },
  "language_info": {
   "codemirror_mode": {
    "name": "ipython",
    "version": 3
   },
   "file_extension": ".py",
   "mimetype": "text/x-python",
   "name": "python",
   "nbconvert_exporter": "python",
   "pygments_lexer": "ipython3",
   "version": "3.6.9"
  },
  "toc": {
   "base_numbering": 1,
   "nav_menu": {},
   "number_sections": false,
   "sideBar": true,
   "skip_h1_title": false,
   "title_cell": "Table of Contents",
   "title_sidebar": "Contents",
   "toc_cell": false,
   "toc_position": {},
   "toc_section_display": true,
   "toc_window_display": false
  }
 },
 "nbformat": 4,
 "nbformat_minor": 2
}
