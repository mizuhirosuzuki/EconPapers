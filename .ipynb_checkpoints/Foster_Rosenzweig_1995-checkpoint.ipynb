{
 "cells": [
  {
   "cell_type": "markdown",
   "metadata": {},
   "source": [
    "# Foster and Rosenzweig (1995): \"Learning by doing and learning from others: Human capital and technical change in agriculture\""
   ]
  },
  {
   "cell_type": "markdown",
   "metadata": {},
   "source": [
    "## Derivation of equation (3)"
   ]
  },
  {
   "cell_type": "markdown",
   "metadata": {},
   "source": [
    "The equation (3) in the paper indicates profits at time $t$.\n",
    "(The paper says this equation indicates \"expected profits,\" but this is incorrect: this is a profit with a random variable $\\epsilon_{ijt}$, whose mean is 0 as shown below.\n",
    "Also, in the paper the subscripts of $\\epsilon$ are $pjt$, but they should be $ijt$, where $i$, $j$, and $t$ indicate a parcel of land, a farmer, and time, respectively.)\n",
    "\n",
    "A farmer $j$ owns $A_j$ total parcels of land, and some are used for HYV seeds and the others are used for traditional seeds.\n",
    "Here, it is assumed that each parcel of land has suitability for HYV seeds, and the suitability is represented by the index of parcels, $i$.\n",
    "The land $i = 1$ is most suitable for HYV seeds, and the land $i = A_j$ is least suitable.\n",
    "\n",
    "Yield per parcel from tranditional seeds is $\\eta_a$.\n",
    "The (per parcel) yield from HYV seeds on the plot $i$ is given by the equation (2) in the paper:\n",
    "\\begin{equation*}\n",
    "    \\eta_a + \\eta_h - \\eta_{ha} \\frac{i}{A_j} - (\\theta_{ijt} - \\tilde{\\theta}_{ijt})^2.\n",
    "\\end{equation*}\n",
    "One restriction imposed in this equation is the relationship in yield between parcels.\n",
    "The difference in expected yield between on the third most suitable parcel ($i = 3$) and the second most suitable parcel ($i = 2$) is assumed to equal the difference between on the second most suitable parcel ($i = 2$) and the most suitable parcel ($i = 1$).\n",
    "\n",
    "The optimal or target-input use on $i$'s parcel, $\\tilde{\\theta}_{ijt}$ is, according to the equation (1) in the paper, $\\tilde{\\theta}_{ijt} = \\theta^* + u_{ijt}$.\n",
    "The farmer knows that $u_{ijt} \\sim_{iid} N(0, \\sigma_u^2)$ , and his prior over $\\theta^*$ before deciding his input use is $N(\\widehat{\\theta}_{jt}, \\sigma_{\\theta j t}^2)$.\n",
    "(In the paper, the prior over $\\theta^*$ is represend as $N(\\widehat{\\theta}_{j0}, \\sigma_{\\theta j 0}^2)$, but this should be the prior over $\\theta^*$ at time $0$, in which the farmer has never experienced to use HYV seeds and his neighbors has never experienced to used HYV seeds either.)\n",
    "Therefore, from the farmer's perspective, the probability distribution of $\\tilde{\\theta}_{ijt}$ is $N(\\widehat{\\theta}_{jt}, \\sigma_{\\theta j t}^2 + \\sigma_u^2)$ (as $u_{ijt}$ is iid).\n",
    "\n",
    "\n",
    "Suppose that the farmer uses $H_{jt}$ parcels for HYV seeds.\n",
    "As there is no cost difference, to maximize his profits, it is optimal for the farmer to use the first $H_{jt}$'th most suitable parcels for HYV seeds and the remaining parcels for traditional seeds.\n",
    "Then, profits $\\tilde{\\pi}_{jt}$ are represented as\n",
    "\n",
    "\\begin{equation*}\n",
    "    \\tilde{\\pi}_{jt} = \\sum_{i = 1}^{H_{jt}} (\\eta_a + \\eta_h - \\eta_{ha} \\frac{i}{A_j} - (\\theta_{ijt} - \\tilde{\\theta}_{ijt})^2) + \\sum_{i = H_{jt} + 1}^{A_j} \\eta_a.\n",
    "\\end{equation*}\n",
    "\n",
    "The expected profits are\n",
    "\\begin{align*}\n",
    "    E[\\tilde{\\pi}_{jt}] &= E\\left[\\sum_{i = 1}^{H_{jt}} (\\eta_a + \\eta_h - \\eta_{ha} \\frac{i}{A_j} - (\\theta_{ijt} - \\tilde{\\theta}_{ijt})^2) + \\sum_{i = H_{jt} + 1}^{A_j} \\eta_a \\right] \\\\\n",
    "    &= \\sum_{i = 1}^{H_{jt}} (\\eta_a + \\eta_h - \\eta_{ha} \\frac{i}{A_j} - E \\left[ (\\theta_{ijt} - \\tilde{\\theta}_{ijt})^2 \\right]) + \\sum_{i = H_{jt} + 1}^{A_j} \\eta_a \\\\\n",
    "    &= \\sum_{i = 1}^{H_{jt}} (\\eta_a + \\eta_h - \\eta_{ha} \\frac{i}{A_j} -  (\\theta_{ijt}^2 - 2 \\theta_{ijt} E \\left[\\tilde{\\theta}_{ijt} \\right] + E \\left[\\tilde{\\theta}_{ijt}^2 \\right]) ) + \\sum_{i = H_{jt} + 1}^{A_j} \\eta_a,\n",
    "\\end{align*}\n",
    "\n",
    "where expectations are taken over the distribution of $\\tilde{\\theta}_{ijt}$ from the farmer's perspective.\n",
    "The first order conditions for the optimal input use for parcels $i = 1, \\dots, H_{jt}$ are $\\theta_{ijt} = E \\left[\\tilde{\\theta}_{ijt} \\right] = \\widehat{\\theta}_{jt}$.\n",
    "\n",
    "Then, profits with the optimal input $\\theta_{ijt} = \\widehat{\\theta}_{jt}$, $\\pi_{jt}$, are\n",
    "\\begin{align*}\n",
    "    \\pi_{jt} &= \\sum_{i = 1}^{H_{jt}} (\\eta_a + \\eta_h - \\eta_{ha} \\frac{i}{A_j} - (\\widehat{\\theta}_{jt} - \\tilde{\\theta}_{ijt})^2) + \\sum_{i = H_{jt} + 1}^{A_j} \\eta_a \\\\\n",
    "    &= \\sum_{i = 1}^{H_{jt}} (\\eta_h - \\eta_{ha} \\frac{i}{A_j} - \\sigma_{\\theta j t}^2 - \\sigma_u^2 ) + \\eta_a A_j + \\sum_{i = 1}^{H_{jt}} (- (\\widehat{\\theta}_{jt} - \\tilde{\\theta}_{ijt})^2 + ( \\sigma_{\\theta j t}^2 + \\sigma_u^2 )) \\\\\n",
    "    &= \\sum_{i = 1}^{H_{jt}} (\\eta_h - \\eta_{ha} \\frac{i}{A_j} - \\sigma_{\\theta j t}^2 - \\sigma_u^2 ) + \\eta_a A_j + (- \\sum_{i = 1}^{H_{jt}} (\\widehat{\\theta}_{jt} - (\\theta^* + u_{ijt}))^2 + H_{jt} ( \\sigma_{\\theta j t}^2 + \\sigma_u^2 )) \\\\\n",
    "    &= (\\eta_h - \\sigma_{\\theta j t}^2 - \\sigma_u^2 ) H_{jt} - \\sum_{i = 1}^{H_{jt}} \\eta_{ha} \\frac{i}{A_j} + \\eta_a A_j + \\epsilon_{ijt} \\quad (\\epsilon_{ijt} \\equiv - \\sum_{i = 1}^{H_{jt}} (\\widehat{\\theta}_{jt} - \\theta^* - u_{ijt})^2 + H_{jt} ( \\sigma_{\\theta j t}^2 + \\sigma_u^2 ))\\\\\n",
    "    &= (\\eta_h - \\sigma_{\\theta j t}^2 - \\sigma_u^2 ) H_{jt} - \\eta_{ha} \\frac{H_{jt} (H_{jt} + 1)}{2 A_j} + \\eta_a A_j + \\epsilon_{ijt} \\quad \\left(\\text{since } \\sum_{i = 1}^{H_{jt}} = \\frac{H_{jt} (H_{jt} + 1)}{2} \\right) \\\\\n",
    "    &\\approx (\\eta_h - \\sigma_{\\theta j t}^2 - \\sigma_u^2 ) H_{jt} - \\eta_{ha} \\frac{H_{jt}^2}{2 A_j} + \\eta_a A_j + \\epsilon_{ijt} \\quad \\left(\\text{see foornote 5 in the paper} \\right) \\\\\n",
    "    &= (\\eta_h - \\eta_{ha} \\frac{H_{jt}}{2 A_j} - \\sigma_{\\theta j t}^2 - \\sigma_u^2 ) H_{jt} + \\eta_a A_j + \\epsilon_{ijt}.\n",
    "\\end{align*}\n",
    "\n",
    "Here,\n",
    "\n",
    "\\begin{align*}\n",
    "    E[\\epsilon_{ijt}] &= E \\left[ - \\sum_{i = 1}^{H_{jt}} (\\widehat{\\theta}_{jt} - \\theta^* - u_{ijt})^2 + H_{jt} ( \\sigma_{\\theta j t}^2 + \\sigma_u^2 ) \\right] \\\\\n",
    "    &= - \\sum_{i = 1}^{H_{jt}} E \\left[ (\\widehat{\\theta}_{jt} - \\theta^* - u_{ijt})^2 \\right]  + H_{jt} ( \\sigma_{\\theta j t}^2 + \\sigma_u^2 ) \\\\\n",
    "    &= - \\sum_{i = 1}^{H_{jt}} E \\left[ (\\tilde{\\theta}_{ijt} - \\widehat{\\theta}_{jt})^2 \\right]  + H_{jt} ( \\sigma_{\\theta j t}^2 + \\sigma_u^2 ) \\\\\n",
    "    &= - \\sum_{i = 1}^{H_{jt}} E \\left[ (\\tilde{\\theta}_{ijt} - E[\\tilde{\\theta}_{ijt}])^2 \\right]  + H_{jt} ( \\sigma_{\\theta j t}^2 + \\sigma_u^2 ) \\quad (\\text{since } \\tilde{\\theta}_{ijt} \\sim N(\\widehat{\\theta}_{jt}, \\sigma_{\\theta j t}^2 + \\sigma_u^2)) \\\\\n",
    "    &= - \\sum_{i = 1}^{H_{jt}} Var (\\tilde{\\theta}_{ijt}) + H_{jt} ( \\sigma_{\\theta j t}^2 + \\sigma_u^2 ) \\\\\n",
    "    &= - \\sum_{i = 1}^{H_{jt}} (\\sigma_{\\theta j t}^2 + \\sigma_u^2) + H_{jt} ( \\sigma_{\\theta j t}^2 + \\sigma_u^2 ) \\\\\n",
    "    &= - H_{jt} (\\sigma_{\\theta j t}^2 + \\sigma_u^2) + H_{jt} ( \\sigma_{\\theta j t}^2 + \\sigma_u^2 ) = 0,\n",
    "\\end{align*}\n",
    "where expectations are taken over the distribution of $\\tilde{\\theta}_{ijt}$ from the farmer's perspective, $\\tilde{\\theta}_{ijt} \\sim N(\\widehat{\\theta}_{jt}, \\sigma_{\\theta j t}^2 + \\sigma_u^2)$.\n",
    "\n"
   ]
  },
  {
   "cell_type": "markdown",
   "metadata": {},
   "source": [
    "### Comments"
   ]
  },
  {
   "cell_type": "markdown",
   "metadata": {},
   "source": [
    "- In the equation (2) in the paper, the subscript of total parcels of land $A$ is just $j$, but in the empirical part of the paper, accounting for the possibility of land investment, $A$ is allowed to vary over time. If we want to take this possibility into account, it should be $A_{jt}$.\n",
    "- Notice that the profits derived above are slightly different from the profits in the paper (equation (3)) since the profits above do not have $\\mu_j$, which captures variation in overall productivity among farmers. One way to reconcile this differences is to use $\\eta_a + \\eta_j$ instead of $\\eta_a$ for yields of HYV seeds and traditional seeds. Then, since this does not change optimal inputs, profits with optimal inputs become \\begin{align*}\n",
    "    \\pi_{jt} &= \\sum_{i = 1}^{H_{jt}} (\\eta_a + \\eta_j + \\eta_h - \\eta_{ha} \\frac{i}{A_j} - (\\widehat{\\theta}_{jt} - \\tilde{\\theta}_{ijt})^2) + \\sum_{i = H_{jt} + 1}^{A_j} (\\eta_a + \\eta_j) \\\\\n",
    "    &= \\dots \\quad (\\text{same steps as above}) \\\\\n",
    "    &= (\\eta_h - \\eta_{ha} \\frac{H_{jt}}{2 A_j} - \\sigma_{\\theta j t}^2 - \\sigma_u^2 ) H_{jt} + \\eta_a A_j + \\eta_j A_j + \\epsilon_{ijt}, \\end{align*} and, __if $A_j$ does not vary over time__, letting $\\eta_j A_j \\equiv \\mu_j$, we obtain \\begin{equation*}\n",
    "    \\pi_{jt} = (\\eta_h - \\eta_{ha} \\frac{H_{jt}}{2 A_j} - \\sigma_{\\theta j t}^2 - \\sigma_u^2 ) H_{jt} + \\eta_a A_j + \\mu_j + \\epsilon_{ijt}. \\end{equation*} However, if total parcels of land change over time, this does not give us the equation (3).\n",
    "- The optimal inputs, $\\theta^*$, are assumed to be common for all plots. Although this may be true, given that the suitability of HYV seeds is different across plots, this seems like a restrictive assumption."
   ]
  },
  {
   "cell_type": "markdown",
   "metadata": {},
   "source": [
    "## Derivation of equation (4)"
   ]
  },
  {
   "cell_type": "code",
   "execution_count": null,
   "metadata": {},
   "outputs": [],
   "source": []
  }
 ],
 "metadata": {
  "kernelspec": {
   "display_name": "Python 3",
   "language": "python",
   "name": "python3"
  },
  "language_info": {
   "codemirror_mode": {
    "name": "ipython",
    "version": 3
   },
   "file_extension": ".py",
   "mimetype": "text/x-python",
   "name": "python",
   "nbconvert_exporter": "python",
   "pygments_lexer": "ipython3",
   "version": "3.6.8"
  },
  "toc": {
   "base_numbering": 1,
   "nav_menu": {},
   "number_sections": false,
   "sideBar": true,
   "skip_h1_title": false,
   "title_cell": "Table of Contents",
   "title_sidebar": "Contents",
   "toc_cell": false,
   "toc_position": {},
   "toc_section_display": true,
   "toc_window_display": false
  }
 },
 "nbformat": 4,
 "nbformat_minor": 2
}
