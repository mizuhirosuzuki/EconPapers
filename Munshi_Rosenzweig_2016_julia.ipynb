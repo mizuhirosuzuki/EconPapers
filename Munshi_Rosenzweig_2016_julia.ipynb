{
 "cells": [
  {
   "cell_type": "markdown",
   "metadata": {},
   "source": [
    "# Partial replication of Munshi and Rosenzweig (2016)"
   ]
  },
  {
   "cell_type": "markdown",
   "metadata": {},
   "source": [
    "In this document, I try to replicate the baseline result in [Munshi and Rosenzweig (2016), \"Networks and Misallocation: Insurance, Migration, and the Rural-Urban Wage Gap\"](https://www.aeaweb.org/articles?id=10.1257/aer.20131365).\n",
    "The original codes are written in Maple scripts, and I write the code in Julia."
   ]
  },
  {
   "cell_type": "markdown",
   "metadata": {},
   "source": [
    "## Benchmark (single $\\nu$)"
   ]
  },
  {
   "cell_type": "markdown",
   "metadata": {},
   "source": [
    "Here I only replicate the result where the income parameter $\\nu$ is common for income class and each caste."
   ]
  },
  {
   "cell_type": "markdown",
   "metadata": {},
   "source": [
    "### Run Stata do file"
   ]
  },
  {
   "cell_type": "markdown",
   "metadata": {},
   "source": [
    "Before diving into the structural estimation, I run the Stata do file to create the data containing information on migration and population of each income class of each caste:"
   ]
  },
  {
   "cell_type": "code",
   "execution_count": 1,
   "metadata": {
    "collapsed": true
   },
   "outputs": [
    {
     "name": "stdout",
     "output_type": "stream",
     "text": [
      "/Users/mizuhirosuzuki/Documents/GitHub/EconPapers/MR16_data/replication files\n"
     ]
    }
   ],
   "source": [
    ";cd MR16_data/replication\\ files"
   ]
  },
  {
   "cell_type": "code",
   "execution_count": 2,
   "metadata": {},
   "outputs": [],
   "source": [
    ";stata-se -b do wage_gap_one_nu.do"
   ]
  },
  {
   "cell_type": "markdown",
   "metadata": {},
   "source": [
    "Then I import this dataset:"
   ]
  },
  {
   "cell_type": "code",
   "execution_count": 3,
   "metadata": {},
   "outputs": [],
   "source": [
    "using Random, Distributions, LinearAlgebra\n",
    "using CSV\n",
    "using DataFrames\n",
    "using FreqTables\n",
    "using StatsBase\n",
    "using BenchmarkTools\n",
    "using DelimitedFiles\n",
    "using JuMP, Ipopt\n",
    "using Optim\n",
    "using Plots"
   ]
  },
  {
   "cell_type": "code",
   "execution_count": 4,
   "metadata": {},
   "outputs": [
    {
     "data": {
      "text/html": [
       "<table class=\"data-frame\"><thead><tr><th></th><th>Pop</th><th>Class</th><th>MA</th><th>VA</th><th>Migration</th><th>notsure1</th><th>notsure2</th><th>nu</th></tr><tr><th></th><th>Float64</th><th>Float64</th><th>Float64</th><th>Float64</th><th>Float64</th><th>Float64</th><th>Float64</th><th>Float64</th></tr></thead><tbody><p>10 rows × 10 columns (omitted printing of 2 columns)</p><tr><th>1</th><td>156.0</td><td>0.0</td><td>0.0321253</td><td>0.0226177</td><td>0.0</td><td>1.0</td><td>1.0</td><td>23.6203</td></tr><tr><th>2</th><td>156.0</td><td>1.0</td><td>0.0363725</td><td>0.0237842</td><td>0.0</td><td>1.0</td><td>1.0</td><td>23.6203</td></tr><tr><th>3</th><td>155.0</td><td>2.0</td><td>0.0379619</td><td>0.0213788</td><td>0.0064516</td><td>1.0</td><td>1.0</td><td>23.6203</td></tr><tr><th>4</th><td>156.0</td><td>3.0</td><td>0.0427469</td><td>0.0223695</td><td>0.0064103</td><td>1.0</td><td>1.0</td><td>23.6203</td></tr><tr><th>5</th><td>155.0</td><td>4.0</td><td>0.0577135</td><td>0.0425485</td><td>0.0129032</td><td>1.0</td><td>1.0</td><td>23.6203</td></tr><tr><th>6</th><td>161.0</td><td>0.0</td><td>0.0392694</td><td>0.0267857</td><td>0.0</td><td>3.0</td><td>1.0</td><td>23.6203</td></tr><tr><th>7</th><td>161.0</td><td>1.0</td><td>0.0470741</td><td>0.031024</td><td>0.0</td><td>3.0</td><td>1.0</td><td>23.6203</td></tr><tr><th>8</th><td>161.0</td><td>2.0</td><td>0.0515622</td><td>0.0278028</td><td>0.0</td><td>3.0</td><td>1.0</td><td>23.6203</td></tr><tr><th>9</th><td>161.0</td><td>3.0</td><td>0.0549427</td><td>0.0302724</td><td>0.0</td><td>3.0</td><td>1.0</td><td>23.6203</td></tr><tr><th>10</th><td>161.0</td><td>4.0</td><td>0.0695997</td><td>0.0390596</td><td>0.0</td><td>3.0</td><td>1.0</td><td>23.6203</td></tr></tbody></table>"
      ],
      "text/latex": [
       "\\begin{tabular}{r|ccccccccc}\n",
       "\t& Pop & Class & MA & VA & Migration & notsure1 & notsure2 & nu & \\\\\n",
       "\t\\hline\n",
       "\t& Float64 & Float64 & Float64 & Float64 & Float64 & Float64 & Float64 & Float64 & \\\\\n",
       "\t\\hline\n",
       "\t1 & 156.0 & 0.0 & 0.0321253 & 0.0226177 & 0.0 & 1.0 & 1.0 & 23.6203 & $\\dots$ \\\\\n",
       "\t2 & 156.0 & 1.0 & 0.0363725 & 0.0237842 & 0.0 & 1.0 & 1.0 & 23.6203 & $\\dots$ \\\\\n",
       "\t3 & 155.0 & 2.0 & 0.0379619 & 0.0213788 & 0.0064516 & 1.0 & 1.0 & 23.6203 & $\\dots$ \\\\\n",
       "\t4 & 156.0 & 3.0 & 0.0427469 & 0.0223695 & 0.0064103 & 1.0 & 1.0 & 23.6203 & $\\dots$ \\\\\n",
       "\t5 & 155.0 & 4.0 & 0.0577135 & 0.0425485 & 0.0129032 & 1.0 & 1.0 & 23.6203 & $\\dots$ \\\\\n",
       "\t6 & 161.0 & 0.0 & 0.0392694 & 0.0267857 & 0.0 & 3.0 & 1.0 & 23.6203 & $\\dots$ \\\\\n",
       "\t7 & 161.0 & 1.0 & 0.0470741 & 0.031024 & 0.0 & 3.0 & 1.0 & 23.6203 & $\\dots$ \\\\\n",
       "\t8 & 161.0 & 2.0 & 0.0515622 & 0.0278028 & 0.0 & 3.0 & 1.0 & 23.6203 & $\\dots$ \\\\\n",
       "\t9 & 161.0 & 3.0 & 0.0549427 & 0.0302724 & 0.0 & 3.0 & 1.0 & 23.6203 & $\\dots$ \\\\\n",
       "\t10 & 161.0 & 4.0 & 0.0695997 & 0.0390596 & 0.0 & 3.0 & 1.0 & 23.6203 & $\\dots$ \\\\\n",
       "\\end{tabular}\n"
      ],
      "text/plain": [
       "10×10 DataFrame. Omitted printing of 4 columns\n",
       "│ Row │ Pop     │ Class   │ MA        │ VA        │ Migration │ notsure1 │\n",
       "│     │ \u001b[90mFloat64\u001b[39m │ \u001b[90mFloat64\u001b[39m │ \u001b[90mFloat64\u001b[39m   │ \u001b[90mFloat64\u001b[39m   │ \u001b[90mFloat64\u001b[39m   │ \u001b[90mFloat64\u001b[39m  │\n",
       "├─────┼─────────┼─────────┼───────────┼───────────┼───────────┼──────────┤\n",
       "│ 1   │ 156.0   │ 0.0     │ 0.0321253 │ 0.0226177 │ 0.0       │ 1.0      │\n",
       "│ 2   │ 156.0   │ 1.0     │ 0.0363725 │ 0.0237842 │ 0.0       │ 1.0      │\n",
       "│ 3   │ 155.0   │ 2.0     │ 0.0379619 │ 0.0213788 │ 0.0064516 │ 1.0      │\n",
       "│ 4   │ 156.0   │ 3.0     │ 0.0427469 │ 0.0223695 │ 0.0064103 │ 1.0      │\n",
       "│ 5   │ 155.0   │ 4.0     │ 0.0577135 │ 0.0425485 │ 0.0129032 │ 1.0      │\n",
       "│ 6   │ 161.0   │ 0.0     │ 0.0392694 │ 0.0267857 │ 0.0       │ 3.0      │\n",
       "│ 7   │ 161.0   │ 1.0     │ 0.0470741 │ 0.031024  │ 0.0       │ 3.0      │\n",
       "│ 8   │ 161.0   │ 2.0     │ 0.0515622 │ 0.0278028 │ 0.0       │ 3.0      │\n",
       "│ 9   │ 161.0   │ 3.0     │ 0.0549427 │ 0.0302724 │ 0.0       │ 3.0      │\n",
       "│ 10  │ 161.0   │ 4.0     │ 0.0695997 │ 0.0390596 │ 0.0       │ 3.0      │"
      ]
     },
     "execution_count": 4,
     "metadata": {},
     "output_type": "execute_result"
    }
   ],
   "source": [
    "data_df = DataFrame(readdlm(\"data.raw\"));\n",
    "rename!(\n",
    "    data_df,\n",
    "    [\n",
    "        \"Pop\", \"Class\", \"MA\", \"VA\", \"Migration\", \n",
    "        \"notsure1\", \"notsure2\", \"nu\", \"num_nomig\", \"income_weight\"\n",
    "    ]);\n",
    "first(data_df, 10)"
   ]
  },
  {
   "cell_type": "code",
   "execution_count": 5,
   "metadata": {},
   "outputs": [],
   "source": [
    "Pop_array = reshape(data_df[:, :Pop], (5, 100));\n",
    "MA_array = reshape(data_df[:, :MA], (5, 100));\n",
    "VA_array = reshape(data_df[:, :VA], (5, 100));\n",
    "num_nomig_array = reshape(data_df[:, :num_nomig], (5, 100));\n",
    "income_weight_array = reshape(data_df[:, :income_weight], (5, 100));"
   ]
  },
  {
   "cell_type": "markdown",
   "metadata": {},
   "source": [
    "Below, I consider the case where there are 5 income classes and the income distribution parameter ($\\nu$) is $23.620298$, which is derived from the income data."
   ]
  },
  {
   "cell_type": "code",
   "execution_count": 6,
   "metadata": {},
   "outputs": [],
   "source": [
    "N = 5;\n",
    "nu = 23.620298;"
   ]
  },
  {
   "cell_type": "markdown",
   "metadata": {},
   "source": [
    "## Structural estimation"
   ]
  },
  {
   "cell_type": "markdown",
   "metadata": {},
   "source": [
    "In the structural estimation, I take the following steps:\n",
    "\n",
    "1. Given parameter values, obtain the model income weights and migration of each income class. These are determined so that the total surplus (welfare under risk-sharing minus welfare under autarky) is maximized subject to the constraint that the migration level of each income class is in the equilibrium.\n",
    "2. Calculate the difference between the average migration level obtained from the model and from the data.\n",
    "3. By varying the parameter values, minimize the difference."
   ]
  },
  {
   "cell_type": "markdown",
   "metadata": {},
   "source": [
    "### Total surplus"
   ]
  },
  {
   "cell_type": "markdown",
   "metadata": {},
   "source": [
    "If $\\beta < 1$, then all households would send migrants to the city without insurance network.\n",
    "Hence, total surplus from insurance network is\n",
    "\n",
    "\\begin{equation*}\n",
    "    W = \\sum_k \\left[ P_k \\int_0^{\\epsilon_{Ik}} \\left\\{ \\left[ \\log(M_{Ik}) - \\frac{1}{2} R_I \\right] - \\left[ \\log(M_{Ak}) - \\frac{1}{2} \\beta R_{Ak} + \\epsilon \\right] \\right\\} f(\\epsilon) d \\epsilon \\right].\n",
    "\\end{equation*}\n",
    "\n",
    "Since $N_k = P_k \\int_0^{\\epsilon_{Ik}} f(\\epsilon) d \\epsilon$,\n",
    "\n",
    "\\begin{equation*}\n",
    "    W = \\sum_k \\left[ N_k \\epsilon_{Ik} - P_k \\int_0^{\\epsilon_{Ik}} \\epsilon f(\\epsilon) d \\epsilon \\right].\n",
    "\\end{equation*}\n",
    "\n",
    "When $F(\\epsilon) = 1 - \\exp(-\\nu \\epsilon)$, the above expression becomes\n",
    "\n",
    "\\begin{equation*}\n",
    "    W = \\sum_k \\left[ N_k \\epsilon_{Ik} - P_k \\left(\\frac{1}{\\nu} - \\left(\\epsilon_{Ik} + \\frac{1}{\\nu} \\right) \\exp(- \\nu \\epsilon_{Ik}) \\right) \\right].\n",
    "\\end{equation*}\n"
   ]
  },
  {
   "cell_type": "markdown",
   "metadata": {},
   "source": [
    "On the other hand, if $\\beta > 1$, then there exists a threshold $\\epsilon_{Ak}$ below which household do not send migrants to the city even when they do not benefit from insurance network, due to high risks of urban jobs (footnote 23).\n",
    "In this case, total surplus from insurance network is\n",
    "\n",
    "\\begin{equation*}\n",
    "    W = \\sum_k \\left[ P_k \\left[ \\int_0^{\\epsilon_{Ak}} \\left\\{ \\left[ \\log(M_{Ik}) - \\frac{1}{2} R_I \\right] - \\left[ \\log(M_{Ak}) - \\frac{1}{2} R_{Ak} \\right] \\right\\} f(\\epsilon) d \\epsilon + \\int_{\\epsilon_{Ak}}^{\\epsilon_{Ik}} \\left\\{ \\left[ \\log(M_{Ik}) - \\frac{1}{2} R_I \\right] - \\left[ \\log(M_{Ak}) - \\frac{1}{2} \\beta R_{Ak} + \\epsilon \\right] \\right\\} f(\\epsilon) d \\epsilon \\right] \\right] .\n",
    "\\end{equation*}\n",
    "\n",
    "The first integral is the surplus of those who would not send migrants even without insurance: utility under insurance net of utility under autarky in a caste group.\n",
    "The second integral is the surplus of those who would send migrants without insurance network: utility under insurance net of utility of sending migrants to the city.\n",
    "\n",
    "Letting $N_{Ak} = P_k \\int_0^{\\epsilon_{Ak}} f(\\epsilon) d \\epsilon$, we can simplify the total surplus to\n",
    "\n",
    "\\begin{equation*}\n",
    "    W = \\sum_k \\left[ N_{k} \\epsilon_{Ik} - N_{Ak} \\epsilon_{Ak} - P_k \\int_{\\epsilon_{Ak}}^{\\epsilon_{Ik}} \\epsilon f(\\epsilon) d \\epsilon \\right]  .\n",
    "\\end{equation*}\n",
    "\n",
    "When $F(\\epsilon) = 1 - \\exp(-\\nu \\epsilon)$, the above expression becomes\n",
    "\n",
    "\\begin{equation*}\n",
    "    W = \\sum_k \\left[ N_{k} \\epsilon_{Ik} - N_{Ak} \\epsilon_{Ak} - P_k \\left( \\left(\\epsilon_{Ak} + \\frac{1}{\\nu} \\right) \\exp(- \\nu \\epsilon_{Ak}) - \\left(\\epsilon_{Ik} + \\frac{1}{\\nu} \\right) \\exp(- \\nu \\epsilon_{Ik}) \\right) \\right]  .\n",
    "\\end{equation*}\n",
    "\n",
    "\n",
    "The threshold $\\epsilon_{Ak}$ is determined from the following equation equating the utility of staying in autarky and that of sending migrants:\n",
    "\n",
    "\\begin{equation*}\n",
    "    \\log(M_{Ak}) - \\frac{1}{2} \\beta R_{Ak} + \\epsilon_{Ak} = \\log(M_{Ak}) - \\frac{1}{2} R_{Ak}.\n",
    "\\end{equation*}\n",
    "\n",
    "Hence, $\\epsilon_{Ak} = \\frac{\\beta - 1}{2} R_{Ak}$."
   ]
  },
  {
   "cell_type": "markdown",
   "metadata": {},
   "source": [
    "### Function to get equilibrium migration and income weights when $\\beta < 1$"
   ]
  },
  {
   "cell_type": "code",
   "execution_count": 7,
   "metadata": {},
   "outputs": [
    {
     "data": {
      "text/plain": [
       "get_income_weight_beta_lt1 (generic function with 1 method)"
      ]
     },
     "execution_count": 7,
     "metadata": {},
     "output_type": "execute_result"
    }
   ],
   "source": [
    "function get_income_weight_beta_lt1(\n",
    "        Pop_class,\n",
    "        MA,\n",
    "        VA,\n",
    "        beta,\n",
    "        nu;\n",
    "        N = N\n",
    "    )\n",
    "    \n",
    "    model = JuMP.Model(\n",
    "        with_optimizer(\n",
    "            Ipopt.Optimizer, \n",
    "            max_cpu_time = 300.0,\n",
    "            print_level = 0\n",
    "        )\n",
    "        );\n",
    "    @variable(model, 0.5 <= N_part[i=1:N] <= Pop_class[i]);\n",
    "    for i in 1:N\n",
    "        set_start_value(N_part[i], Pop_class[i]);\n",
    "    end\n",
    "    @variable(model, 0.01 <= income_weight[i=1:N] <= 1.0);\n",
    "    \n",
    "    @NLconstraint(model, income_weight[N] == 1.0);\n",
    "    # normalized risk under autarky\n",
    "    JuMP.@NLexpression(\n",
    "        model, RA[i=1:N],\n",
    "        VA[i] / (MA[i]^2)\n",
    "    );\n",
    "    # variables under insurance\n",
    "    JuMP.@NLexpression(\n",
    "        model, MI[i=1:N],\n",
    "        income_weight[i] / sum(income_weight[i] * N_part[i] for i in 1:N) *\n",
    "        sum(MA[i] * N_part[i] for i in 1:N)\n",
    "    );\n",
    "    JuMP.@NLexpression(\n",
    "        model, VI[i=1:N],\n",
    "        (income_weight[i] / sum(income_weight[i] * N_part[i] for i in 1:N))^2 *\n",
    "        sum(VA[i] * N_part[i] for i in 1:N)\n",
    "    );\n",
    "    JuMP.@NLexpression(\n",
    "        model, RI,\n",
    "        sum(VA[i] * N_part[i] for i in 1:N) / (\n",
    "            sum(MA[i] * N_part[i] for i in 1:N)^2\n",
    "        )\n",
    "    );\n",
    "\n",
    "    # equilibrium condition for number of migrants\n",
    "    JuMP.@NLexpression(\n",
    "        model, N_eq[i=1:N],\n",
    "        N_part[i] / Pop_class[i] - (\n",
    "            1.0 - exp(\n",
    "                -nu * (\n",
    "                    log(MI[i]) - log(MA[i]) + \n",
    "                    (1. / 2.) * beta * RA[i] - (1. / 2.) * RI\n",
    "                )\n",
    "            )\n",
    "        )\n",
    "    );\n",
    "    @NLconstraint(model, [i=1:N], N_eq[i] == 0);\n",
    "            \n",
    "    # total surplus\n",
    "    JuMP.@NLexpression(\n",
    "        model, epsilon_I[i=1:N],\n",
    "        log(MI[i]) - log(MA[i]) + 1. / 2. * beta * RA[i] - 1. / 2. * RI\n",
    "    );\n",
    "    JuMP.@NLexpression(\n",
    "        model, W,\n",
    "        sum(N_part[i] * epsilon_I[i] for i in 1:N) - \n",
    "        sum(\n",
    "            Pop_class[i] * (\n",
    "                1. / nu - (epsilon_I[i] + 1. / nu) * exp(- nu * epsilon_I[i])\n",
    "            ) for i in 1:N\n",
    "        )\n",
    "    );\n",
    "    \n",
    "    JuMP.@NLobjective(model, Max, W);\n",
    "    JuMP.optimize!(model)\n",
    "    \n",
    "    return JuMP.value.(N_part), JuMP.value.(income_weight)\n",
    "    \n",
    "end"
   ]
  },
  {
   "cell_type": "markdown",
   "metadata": {},
   "source": [
    "### Function to get equilibrium migration and income weights when $\\beta \\ge 1$"
   ]
  },
  {
   "cell_type": "code",
   "execution_count": 8,
   "metadata": {},
   "outputs": [
    {
     "data": {
      "text/plain": [
       "get_income_weight_beta_gt1 (generic function with 1 method)"
      ]
     },
     "execution_count": 8,
     "metadata": {},
     "output_type": "execute_result"
    }
   ],
   "source": [
    "function get_income_weight_beta_gt1(\n",
    "        Pop_class,\n",
    "        MA,\n",
    "        VA,\n",
    "        beta,\n",
    "        nu;\n",
    "        N = N\n",
    "    )\n",
    "    \n",
    "    model = JuMP.Model(\n",
    "        with_optimizer(\n",
    "            Ipopt.Optimizer, \n",
    "            max_cpu_time = 300.0,\n",
    "            print_level = 0\n",
    "        )\n",
    "        );\n",
    "    @variable(model, 0.5 <= N_part[i=1:N] <= Pop_class[i]);\n",
    "    for i in 1:N\n",
    "        set_start_value(N_part[i], Pop_class[i]);\n",
    "    end\n",
    "    @variable(model, 0.01 <= income_weight[i=1:N] <= 1.0);\n",
    "    \n",
    "    @constraint(model, income_weight[N] == 1.0);\n",
    "    # normalized risk under autarky\n",
    "    JuMP.@NLexpression(\n",
    "        model, RA[i=1:N],\n",
    "        VA[i] / (MA[i]^2)\n",
    "    );\n",
    "    # variables under insurance\n",
    "    JuMP.@NLexpression(\n",
    "        model, MI[i=1:N],\n",
    "        income_weight[i] / sum(income_weight[i] * N_part[i] for i in 1:N) *\n",
    "        sum(MA[i] * N_part[i] for i in 1:N)\n",
    "    );\n",
    "    JuMP.@NLexpression(\n",
    "        model, VI[i=1:N],\n",
    "        (income_weight[i] / sum(income_weight[i] * N_part[i] for i in 1:N))^2 *\n",
    "        sum(VA[i] * N_part[i] for i in 1:N)\n",
    "    );\n",
    "    JuMP.@NLexpression(\n",
    "        model, RI,\n",
    "        sum(VA[i] * N_part[i] for i in 1:N) / (\n",
    "            sum(MA[i] * N_part[i] for i in 1:N)^2\n",
    "        )\n",
    "    );\n",
    "\n",
    "    # equilibrium condition for number of migrants\n",
    "    JuMP.@NLexpression(\n",
    "        model, N_eq[i=1:N],\n",
    "        N_part[i] / Pop_class[i] - (\n",
    "            1.0 - exp(\n",
    "                -nu * (\n",
    "                    log(MI[i]) - log(MA[i]) + \n",
    "                    (1. / 2.) * beta * RA[i] - (1. / 2.) * RI\n",
    "                )\n",
    "            )\n",
    "        )\n",
    "    );\n",
    "    @NLconstraint(model, [i=1:N], N_eq[i] == 0);\n",
    "            \n",
    "    # total surplus\n",
    "    JuMP.@NLexpression(\n",
    "        model, epsilon_I[i=1:N],\n",
    "        log(MI[i]) - log(MA[i]) + 1. / 2. * beta * RA[i] - 1. / 2. * RI\n",
    "    );\n",
    "\n",
    "    JuMP.@NLexpression(\n",
    "        model, epsilon_A[i=1:N],\n",
    "        (beta - 1.0) / 2.0 * VA[i] / (MA[i])^2\n",
    "    );\n",
    "    JuMP.@NLexpression(\n",
    "        model, N_A[i=1:N],\n",
    "        Pop_class[i] * (1.0 - exp(- nu * epsilon_A[i]))\n",
    "    );    \n",
    "\n",
    "    JuMP.@NLexpression(\n",
    "        model, W,\n",
    "        sum(N_part[i] * epsilon_I[i] for i in 1:N) - \n",
    "        sum(N_A[i] * epsilon_A[i] for i in 1:N) - \n",
    "        sum(\n",
    "            Pop_class[i] * (\n",
    "                (epsilon_A[i] + 1. / nu) * exp(- nu * epsilon_A[i]) -\n",
    "                (epsilon_I[i] + 1. / nu) * exp(- nu * epsilon_I[i])\n",
    "            ) for i in 1:N            \n",
    "        )\n",
    "    );\n",
    "    \n",
    "    JuMP.@NLobjective(model, Max, W);\n",
    "    JuMP.optimize!(model)\n",
    "    \n",
    "    return JuMP.value.(N_part), JuMP.value.(income_weight), termination_status(model)\n",
    "    \n",
    "end"
   ]
  },
  {
   "cell_type": "markdown",
   "metadata": {},
   "source": [
    "### Objective function of minimum distance estimator"
   ]
  },
  {
   "cell_type": "code",
   "execution_count": 10,
   "metadata": {},
   "outputs": [
    {
     "data": {
      "text/plain": [
       "obj_func (generic function with 1 method)"
      ]
     },
     "execution_count": 10,
     "metadata": {},
     "output_type": "execute_result"
    }
   ],
   "source": [
    "function obj_func(\n",
    "    beta,\n",
    "    Pop_array,\n",
    "    MA_array,\n",
    "    VA_array,\n",
    "    num_nomig_array,\n",
    "    nu,\n",
    "    N\n",
    "    )\n",
    "    \n",
    "    beta = beta[1];\n",
    "    \n",
    "    N_part_res = zeros(N, 100);\n",
    "    income_weight_res = zeros(N, 100);\n",
    "\n",
    "    if beta >= 1.0\n",
    "        for vil in 1:100\n",
    "            res = get_income_weight_beta_gt1(\n",
    "                Pop_array[:, vil],\n",
    "                MA_array[:, vil],\n",
    "                VA_array[:, vil],\n",
    "                beta,\n",
    "                nu\n",
    "            );\n",
    "            N_part_res[:, vil] = res[1];\n",
    "            income_weight_res[:, vil] = res[2];\n",
    "        end\n",
    "    elseif beta < 1.0\n",
    "        for vil in 1:100\n",
    "            res = get_income_weight_beta_lt1(\n",
    "                Pop_array[:, vil],\n",
    "                MA_array[:, vil],\n",
    "                VA_array[:, vil],\n",
    "                beta,\n",
    "                nu\n",
    "            );\n",
    "            N_part_res[:, vil] = res[1];\n",
    "            income_weight_res[:, vil] = res[2];\n",
    "        end\n",
    "    end\n",
    "\n",
    "    obj = (\n",
    "        mean((Pop_array .- num_nomig_array) ./ Pop_array) -\n",
    "        mean((Pop_array .- N_part_res) ./ Pop_array)\n",
    "    ).^2;\n",
    "\n",
    "    return(obj)\n",
    "    \n",
    "end"
   ]
  },
  {
   "cell_type": "code",
   "execution_count": 12,
   "metadata": {},
   "outputs": [
    {
     "name": "stdout",
     "output_type": "stream",
     "text": [
      "119.310077 seconds (72.10 M allocations: 6.157 GiB, 1.96% gc time)\n"
     ]
    },
    {
     "data": {
      "text/plain": [
       " * Status: success\n",
       "\n",
       " * Candidate solution\n",
       "    Minimizer: [1.49e+00]\n",
       "    Minimum:   6.236305e-16\n",
       "\n",
       " * Found with\n",
       "    Algorithm:     BFGS\n",
       "    Initial Point: [1.00e+00]\n",
       "\n",
       " * Convergence measures\n",
       "    |x - x'|               = 3.42e-03 ≰ 0.0e+00\n",
       "    |x - x'|/|x'|          = 2.29e-03 ≰ 0.0e+00\n",
       "    |f(x) - f(x')|         = 2.67e-09 ≰ 0.0e+00\n",
       "    |f(x) - f(x')|/|f(x')| = 4.29e+06 ≰ 0.0e+00\n",
       "    |g(x)|                 = 7.56e-10 ≤ 1.0e-08\n",
       "\n",
       " * Work counters\n",
       "    Seconds run:   100  (vs limit Inf)\n",
       "    Iterations:    4\n",
       "    f(x) calls:    15\n",
       "    ∇f(x) calls:   15\n"
      ]
     },
     "execution_count": 12,
     "metadata": {},
     "output_type": "execute_result"
    }
   ],
   "source": [
    "beta_init = [1.0];\n",
    "@time optim_res = Optim.optimize(\n",
    "    x -> obj_func(\n",
    "        x, Pop_array, MA_array, VA_array,\n",
    "        num_nomig_array, nu, N\n",
    "    ),\n",
    "    beta_init,\n",
    "    BFGS()\n",
    ")"
   ]
  },
  {
   "cell_type": "code",
   "execution_count": 13,
   "metadata": {},
   "outputs": [
    {
     "data": {
      "text/plain": [
       "1.4913369753742671"
      ]
     },
     "execution_count": 13,
     "metadata": {},
     "output_type": "execute_result"
    }
   ],
   "source": [
    "beta_est = optim_res.minimizer[1]"
   ]
  },
  {
   "cell_type": "code",
   "execution_count": 14,
   "metadata": {},
   "outputs": [
    {
     "data": {
      "image/svg+xml": [
       "<?xml version=\"1.0\" encoding=\"utf-8\"?>\n",
       "<svg xmlns=\"http://www.w3.org/2000/svg\" xmlns:xlink=\"http://www.w3.org/1999/xlink\" width=\"600\" height=\"400\" viewBox=\"0 0 2400 1600\">\n",
       "<defs>\n",
       "  <clipPath id=\"clip750\">\n",
       "    <rect x=\"0\" y=\"0\" width=\"2400\" height=\"1600\"/>\n",
       "  </clipPath>\n",
       "</defs>\n",
       "<path clip-path=\"url(#clip750)\" d=\"\n",
       "M0 1600 L2400 1600 L2400 0 L0 0  Z\n",
       "  \" fill=\"#ffffff\" fill-rule=\"evenodd\" fill-opacity=\"1\"/>\n",
       "<defs>\n",
       "  <clipPath id=\"clip751\">\n",
       "    <rect x=\"480\" y=\"0\" width=\"1681\" height=\"1600\"/>\n",
       "  </clipPath>\n",
       "</defs>\n",
       "<path clip-path=\"url(#clip750)\" d=\"\n",
       "M255.903 1486.45 L2352.76 1486.45 L2352.76 47.2441 L255.903 47.2441  Z\n",
       "  \" fill=\"#ffffff\" fill-rule=\"evenodd\" fill-opacity=\"1\"/>\n",
       "<defs>\n",
       "  <clipPath id=\"clip752\">\n",
       "    <rect x=\"255\" y=\"47\" width=\"2098\" height=\"1440\"/>\n",
       "  </clipPath>\n",
       "</defs>\n",
       "<polyline clip-path=\"url(#clip752)\" style=\"stroke:#000000; stroke-width:2; stroke-opacity:0.1; fill:none\" points=\"\n",
       "  467.415,1486.45 467.415,47.2441 \n",
       "  \"/>\n",
       "<polyline clip-path=\"url(#clip752)\" style=\"stroke:#000000; stroke-width:2; stroke-opacity:0.1; fill:none\" points=\"\n",
       "  771.747,1486.45 771.747,47.2441 \n",
       "  \"/>\n",
       "<polyline clip-path=\"url(#clip752)\" style=\"stroke:#000000; stroke-width:2; stroke-opacity:0.1; fill:none\" points=\"\n",
       "  1076.08,1486.45 1076.08,47.2441 \n",
       "  \"/>\n",
       "<polyline clip-path=\"url(#clip752)\" style=\"stroke:#000000; stroke-width:2; stroke-opacity:0.1; fill:none\" points=\"\n",
       "  1380.41,1486.45 1380.41,47.2441 \n",
       "  \"/>\n",
       "<polyline clip-path=\"url(#clip752)\" style=\"stroke:#000000; stroke-width:2; stroke-opacity:0.1; fill:none\" points=\"\n",
       "  1684.75,1486.45 1684.75,47.2441 \n",
       "  \"/>\n",
       "<polyline clip-path=\"url(#clip752)\" style=\"stroke:#000000; stroke-width:2; stroke-opacity:0.1; fill:none\" points=\"\n",
       "  1989.08,1486.45 1989.08,47.2441 \n",
       "  \"/>\n",
       "<polyline clip-path=\"url(#clip752)\" style=\"stroke:#000000; stroke-width:2; stroke-opacity:0.1; fill:none\" points=\"\n",
       "  2293.41,1486.45 2293.41,47.2441 \n",
       "  \"/>\n",
       "<polyline clip-path=\"url(#clip752)\" style=\"stroke:#000000; stroke-width:2; stroke-opacity:0.1; fill:none\" points=\"\n",
       "  255.903,1445.74 2352.76,1445.74 \n",
       "  \"/>\n",
       "<polyline clip-path=\"url(#clip752)\" style=\"stroke:#000000; stroke-width:2; stroke-opacity:0.1; fill:none\" points=\"\n",
       "  255.903,1146.41 2352.76,1146.41 \n",
       "  \"/>\n",
       "<polyline clip-path=\"url(#clip752)\" style=\"stroke:#000000; stroke-width:2; stroke-opacity:0.1; fill:none\" points=\"\n",
       "  255.903,847.082 2352.76,847.082 \n",
       "  \"/>\n",
       "<polyline clip-path=\"url(#clip752)\" style=\"stroke:#000000; stroke-width:2; stroke-opacity:0.1; fill:none\" points=\"\n",
       "  255.903,547.755 2352.76,547.755 \n",
       "  \"/>\n",
       "<polyline clip-path=\"url(#clip752)\" style=\"stroke:#000000; stroke-width:2; stroke-opacity:0.1; fill:none\" points=\"\n",
       "  255.903,248.428 2352.76,248.428 \n",
       "  \"/>\n",
       "<polyline clip-path=\"url(#clip750)\" style=\"stroke:#000000; stroke-width:4; stroke-opacity:1; fill:none\" points=\"\n",
       "  255.903,1486.45 2352.76,1486.45 \n",
       "  \"/>\n",
       "<polyline clip-path=\"url(#clip750)\" style=\"stroke:#000000; stroke-width:4; stroke-opacity:1; fill:none\" points=\"\n",
       "  255.903,1486.45 255.903,47.2441 \n",
       "  \"/>\n",
       "<polyline clip-path=\"url(#clip750)\" style=\"stroke:#000000; stroke-width:4; stroke-opacity:1; fill:none\" points=\"\n",
       "  467.415,1486.45 467.415,1469.18 \n",
       "  \"/>\n",
       "<polyline clip-path=\"url(#clip750)\" style=\"stroke:#000000; stroke-width:4; stroke-opacity:1; fill:none\" points=\"\n",
       "  771.747,1486.45 771.747,1469.18 \n",
       "  \"/>\n",
       "<polyline clip-path=\"url(#clip750)\" style=\"stroke:#000000; stroke-width:4; stroke-opacity:1; fill:none\" points=\"\n",
       "  1076.08,1486.45 1076.08,1469.18 \n",
       "  \"/>\n",
       "<polyline clip-path=\"url(#clip750)\" style=\"stroke:#000000; stroke-width:4; stroke-opacity:1; fill:none\" points=\"\n",
       "  1380.41,1486.45 1380.41,1469.18 \n",
       "  \"/>\n",
       "<polyline clip-path=\"url(#clip750)\" style=\"stroke:#000000; stroke-width:4; stroke-opacity:1; fill:none\" points=\"\n",
       "  1684.75,1486.45 1684.75,1469.18 \n",
       "  \"/>\n",
       "<polyline clip-path=\"url(#clip750)\" style=\"stroke:#000000; stroke-width:4; stroke-opacity:1; fill:none\" points=\"\n",
       "  1989.08,1486.45 1989.08,1469.18 \n",
       "  \"/>\n",
       "<polyline clip-path=\"url(#clip750)\" style=\"stroke:#000000; stroke-width:4; stroke-opacity:1; fill:none\" points=\"\n",
       "  2293.41,1486.45 2293.41,1469.18 \n",
       "  \"/>\n",
       "<polyline clip-path=\"url(#clip750)\" style=\"stroke:#000000; stroke-width:4; stroke-opacity:1; fill:none\" points=\"\n",
       "  255.903,1445.74 281.065,1445.74 \n",
       "  \"/>\n",
       "<polyline clip-path=\"url(#clip750)\" style=\"stroke:#000000; stroke-width:4; stroke-opacity:1; fill:none\" points=\"\n",
       "  255.903,1146.41 281.065,1146.41 \n",
       "  \"/>\n",
       "<polyline clip-path=\"url(#clip750)\" style=\"stroke:#000000; stroke-width:4; stroke-opacity:1; fill:none\" points=\"\n",
       "  255.903,847.082 281.065,847.082 \n",
       "  \"/>\n",
       "<polyline clip-path=\"url(#clip750)\" style=\"stroke:#000000; stroke-width:4; stroke-opacity:1; fill:none\" points=\"\n",
       "  255.903,547.755 281.065,547.755 \n",
       "  \"/>\n",
       "<polyline clip-path=\"url(#clip750)\" style=\"stroke:#000000; stroke-width:4; stroke-opacity:1; fill:none\" points=\"\n",
       "  255.903,248.428 281.065,248.428 \n",
       "  \"/>\n",
       "<path clip-path=\"url(#clip750)\" d=\"M 0 0 M448.85 1508.44 Q445.239 1508.44 443.41 1512 Q441.604 1515.55 441.604 1522.67 Q441.604 1529.78 443.41 1533.35 Q445.239 1536.89 448.85 1536.89 Q452.484 1536.89 454.29 1533.35 Q456.118 1529.78 456.118 1522.67 Q456.118 1515.55 454.29 1512 Q452.484 1508.44 448.85 1508.44 M448.85 1504.73 Q454.66 1504.73 457.715 1509.34 Q460.794 1513.92 460.794 1522.67 Q460.794 1531.4 457.715 1536.01 Q454.66 1540.59 448.85 1540.59 Q443.04 1540.59 439.961 1536.01 Q436.905 1531.4 436.905 1522.67 Q436.905 1513.92 439.961 1509.34 Q443.04 1504.73 448.85 1504.73 Z\" fill=\"#000000\" fill-rule=\"evenodd\" fill-opacity=\"1\" /><path clip-path=\"url(#clip750)\" d=\"M 0 0 M465.864 1534.04 L470.748 1534.04 L470.748 1539.92 L465.864 1539.92 L465.864 1534.04 Z\" fill=\"#000000\" fill-rule=\"evenodd\" fill-opacity=\"1\" /><path clip-path=\"url(#clip750)\" d=\"M 0 0 M486.396 1520.78 Q483.248 1520.78 481.396 1522.93 Q479.567 1525.08 479.567 1528.83 Q479.567 1532.56 481.396 1534.73 Q483.248 1536.89 486.396 1536.89 Q489.544 1536.89 491.373 1534.73 Q493.225 1532.56 493.225 1528.83 Q493.225 1525.08 491.373 1522.93 Q489.544 1520.78 486.396 1520.78 M495.678 1506.12 L495.678 1510.38 Q493.919 1509.55 492.113 1509.11 Q490.331 1508.67 488.572 1508.67 Q483.942 1508.67 481.489 1511.8 Q479.058 1514.92 478.711 1521.24 Q480.076 1519.23 482.137 1518.16 Q484.197 1517.07 486.674 1517.07 Q491.882 1517.07 494.891 1520.24 Q497.924 1523.39 497.924 1528.83 Q497.924 1534.16 494.775 1537.37 Q491.627 1540.59 486.396 1540.59 Q480.401 1540.59 477.229 1536.01 Q474.058 1531.4 474.058 1522.67 Q474.058 1514.48 477.947 1509.62 Q481.836 1504.73 488.387 1504.73 Q490.146 1504.73 491.928 1505.08 Q493.734 1505.43 495.678 1506.12 Z\" fill=\"#000000\" fill-rule=\"evenodd\" fill-opacity=\"1\" /><path clip-path=\"url(#clip750)\" d=\"M 0 0 M753.31 1508.44 Q749.699 1508.44 747.87 1512 Q746.065 1515.55 746.065 1522.67 Q746.065 1529.78 747.87 1533.35 Q749.699 1536.89 753.31 1536.89 Q756.944 1536.89 758.75 1533.35 Q760.578 1529.78 760.578 1522.67 Q760.578 1515.55 758.75 1512 Q756.944 1508.44 753.31 1508.44 M753.31 1504.73 Q759.12 1504.73 762.176 1509.34 Q765.254 1513.92 765.254 1522.67 Q765.254 1531.4 762.176 1536.01 Q759.12 1540.59 753.31 1540.59 Q747.5 1540.59 744.421 1536.01 Q741.365 1531.4 741.365 1522.67 Q741.365 1513.92 744.421 1509.34 Q747.5 1504.73 753.31 1504.73 Z\" fill=\"#000000\" fill-rule=\"evenodd\" fill-opacity=\"1\" /><path clip-path=\"url(#clip750)\" d=\"M 0 0 M770.324 1534.04 L775.208 1534.04 L775.208 1539.92 L770.324 1539.92 L770.324 1534.04 Z\" fill=\"#000000\" fill-rule=\"evenodd\" fill-opacity=\"1\" /><path clip-path=\"url(#clip750)\" d=\"M 0 0 M790.277 1523.51 Q786.944 1523.51 785.023 1525.29 Q783.125 1527.07 783.125 1530.2 Q783.125 1533.32 785.023 1535.11 Q786.944 1536.89 790.277 1536.89 Q793.611 1536.89 795.532 1535.11 Q797.453 1533.3 797.453 1530.2 Q797.453 1527.07 795.532 1525.29 Q793.634 1523.51 790.277 1523.51 M785.601 1521.52 Q782.592 1520.78 780.902 1518.72 Q779.236 1516.66 779.236 1513.69 Q779.236 1509.55 782.175 1507.14 Q785.138 1504.73 790.277 1504.73 Q795.439 1504.73 798.379 1507.14 Q801.319 1509.55 801.319 1513.69 Q801.319 1516.66 799.629 1518.72 Q797.962 1520.78 794.976 1521.52 Q798.356 1522.3 800.231 1524.6 Q802.129 1526.89 802.129 1530.2 Q802.129 1535.22 799.05 1537.91 Q795.995 1540.59 790.277 1540.59 Q784.56 1540.59 781.481 1537.91 Q778.425 1535.22 778.425 1530.2 Q778.425 1526.89 780.324 1524.6 Q782.222 1522.3 785.601 1521.52 M783.888 1514.13 Q783.888 1516.82 785.555 1518.32 Q787.245 1519.83 790.277 1519.83 Q793.287 1519.83 794.976 1518.32 Q796.689 1516.82 796.689 1514.13 Q796.689 1511.45 794.976 1509.94 Q793.287 1508.44 790.277 1508.44 Q787.245 1508.44 785.555 1509.94 Q783.888 1511.45 783.888 1514.13 Z\" fill=\"#000000\" fill-rule=\"evenodd\" fill-opacity=\"1\" /><path clip-path=\"url(#clip750)\" d=\"M 0 0 M1047.98 1535.98 L1055.62 1535.98 L1055.62 1509.62 L1047.31 1511.29 L1047.31 1507.03 L1055.57 1505.36 L1060.25 1505.36 L1060.25 1535.98 L1067.89 1535.98 L1067.89 1539.92 L1047.98 1539.92 L1047.98 1535.98 Z\" fill=\"#000000\" fill-rule=\"evenodd\" fill-opacity=\"1\" /><path clip-path=\"url(#clip750)\" d=\"M 0 0 M1072.96 1534.04 L1077.84 1534.04 L1077.84 1539.92 L1072.96 1539.92 L1072.96 1534.04 Z\" fill=\"#000000\" fill-rule=\"evenodd\" fill-opacity=\"1\" /><path clip-path=\"url(#clip750)\" d=\"M 0 0 M1092.91 1508.44 Q1089.3 1508.44 1087.47 1512 Q1085.66 1515.55 1085.66 1522.67 Q1085.66 1529.78 1087.47 1533.35 Q1089.3 1536.89 1092.91 1536.89 Q1096.54 1536.89 1098.35 1533.35 Q1100.18 1529.78 1100.18 1522.67 Q1100.18 1515.55 1098.35 1512 Q1096.54 1508.44 1092.91 1508.44 M1092.91 1504.73 Q1098.72 1504.73 1101.77 1509.34 Q1104.85 1513.92 1104.85 1522.67 Q1104.85 1531.4 1101.77 1536.01 Q1098.72 1540.59 1092.91 1540.59 Q1087.1 1540.59 1084.02 1536.01 Q1080.96 1531.4 1080.96 1522.67 Q1080.96 1513.92 1084.02 1509.34 Q1087.1 1504.73 1092.91 1504.73 Z\" fill=\"#000000\" fill-rule=\"evenodd\" fill-opacity=\"1\" /><path clip-path=\"url(#clip750)\" d=\"M 0 0 M1353.11 1535.98 L1360.75 1535.98 L1360.75 1509.62 L1352.44 1511.29 L1352.44 1507.03 L1360.7 1505.36 L1365.38 1505.36 L1365.38 1535.98 L1373.02 1535.98 L1373.02 1539.92 L1353.11 1539.92 L1353.11 1535.98 Z\" fill=\"#000000\" fill-rule=\"evenodd\" fill-opacity=\"1\" /><path clip-path=\"url(#clip750)\" d=\"M 0 0 M1378.09 1534.04 L1382.97 1534.04 L1382.97 1539.92 L1378.09 1539.92 L1378.09 1534.04 Z\" fill=\"#000000\" fill-rule=\"evenodd\" fill-opacity=\"1\" /><path clip-path=\"url(#clip750)\" d=\"M 0 0 M1392.07 1535.98 L1408.39 1535.98 L1408.39 1539.92 L1386.44 1539.92 L1386.44 1535.98 Q1389.1 1533.23 1393.69 1528.6 Q1398.29 1523.95 1399.48 1522.61 Q1401.72 1520.08 1402.6 1518.35 Q1403.5 1516.59 1403.5 1514.9 Q1403.5 1512.14 1401.56 1510.41 Q1399.64 1508.67 1396.54 1508.67 Q1394.34 1508.67 1391.88 1509.43 Q1389.45 1510.2 1386.67 1511.75 L1386.67 1507.03 Q1389.5 1505.89 1391.95 1505.31 Q1394.41 1504.73 1396.44 1504.73 Q1401.81 1504.73 1405.01 1507.42 Q1408.2 1510.11 1408.2 1514.6 Q1408.2 1516.73 1407.39 1518.65 Q1406.6 1520.54 1404.5 1523.14 Q1403.92 1523.81 1400.82 1527.03 Q1397.72 1530.22 1392.07 1535.98 Z\" fill=\"#000000\" fill-rule=\"evenodd\" fill-opacity=\"1\" /><path clip-path=\"url(#clip750)\" d=\"M 0 0 M1656.4 1535.98 L1664.04 1535.98 L1664.04 1509.62 L1655.73 1511.29 L1655.73 1507.03 L1663.99 1505.36 L1668.67 1505.36 L1668.67 1535.98 L1676.31 1535.98 L1676.31 1539.92 L1656.4 1539.92 L1656.4 1535.98 Z\" fill=\"#000000\" fill-rule=\"evenodd\" fill-opacity=\"1\" /><path clip-path=\"url(#clip750)\" d=\"M 0 0 M1681.38 1534.04 L1686.26 1534.04 L1686.26 1539.92 L1681.38 1539.92 L1681.38 1534.04 Z\" fill=\"#000000\" fill-rule=\"evenodd\" fill-opacity=\"1\" /><path clip-path=\"url(#clip750)\" d=\"M 0 0 M1704.18 1509.43 L1692.37 1527.88 L1704.18 1527.88 L1704.18 1509.43 M1702.95 1505.36 L1708.83 1505.36 L1708.83 1527.88 L1713.76 1527.88 L1713.76 1531.77 L1708.83 1531.77 L1708.83 1539.92 L1704.18 1539.92 L1704.18 1531.77 L1688.58 1531.77 L1688.58 1527.26 L1702.95 1505.36 Z\" fill=\"#000000\" fill-rule=\"evenodd\" fill-opacity=\"1\" /><path clip-path=\"url(#clip750)\" d=\"M 0 0 M1960.9 1535.98 L1968.53 1535.98 L1968.53 1509.62 L1960.22 1511.29 L1960.22 1507.03 L1968.49 1505.36 L1973.16 1505.36 L1973.16 1535.98 L1980.8 1535.98 L1980.8 1539.92 L1960.9 1539.92 L1960.9 1535.98 Z\" fill=\"#000000\" fill-rule=\"evenodd\" fill-opacity=\"1\" /><path clip-path=\"url(#clip750)\" d=\"M 0 0 M1985.87 1534.04 L1990.76 1534.04 L1990.76 1539.92 L1985.87 1539.92 L1985.87 1534.04 Z\" fill=\"#000000\" fill-rule=\"evenodd\" fill-opacity=\"1\" /><path clip-path=\"url(#clip750)\" d=\"M 0 0 M2006.4 1520.78 Q2003.26 1520.78 2001.4 1522.93 Q1999.58 1525.08 1999.58 1528.83 Q1999.58 1532.56 2001.4 1534.73 Q2003.26 1536.89 2006.4 1536.89 Q2009.55 1536.89 2011.38 1534.73 Q2013.23 1532.56 2013.23 1528.83 Q2013.23 1525.08 2011.38 1522.93 Q2009.55 1520.78 2006.4 1520.78 M2015.69 1506.12 L2015.69 1510.38 Q2013.93 1509.55 2012.12 1509.11 Q2010.34 1508.67 2008.58 1508.67 Q2003.95 1508.67 2001.5 1511.8 Q1999.07 1514.92 1998.72 1521.24 Q2000.09 1519.23 2002.15 1518.16 Q2004.21 1517.07 2006.68 1517.07 Q2011.89 1517.07 2014.9 1520.24 Q2017.93 1523.39 2017.93 1528.83 Q2017.93 1534.16 2014.78 1537.37 Q2011.64 1540.59 2006.4 1540.59 Q2000.41 1540.59 1997.24 1536.01 Q1994.07 1531.4 1994.07 1522.67 Q1994.07 1514.48 1997.96 1509.62 Q2001.84 1504.73 2008.4 1504.73 Q2010.15 1504.73 2011.94 1505.08 Q2013.74 1505.43 2015.69 1506.12 Z\" fill=\"#000000\" fill-rule=\"evenodd\" fill-opacity=\"1\" /><path clip-path=\"url(#clip750)\" d=\"M 0 0 M2265.36 1535.98 L2272.99 1535.98 L2272.99 1509.62 L2264.68 1511.29 L2264.68 1507.03 L2272.95 1505.36 L2277.62 1505.36 L2277.62 1535.98 L2285.26 1535.98 L2285.26 1539.92 L2265.36 1539.92 L2265.36 1535.98 Z\" fill=\"#000000\" fill-rule=\"evenodd\" fill-opacity=\"1\" /><path clip-path=\"url(#clip750)\" d=\"M 0 0 M2290.33 1534.04 L2295.22 1534.04 L2295.22 1539.92 L2290.33 1539.92 L2290.33 1534.04 Z\" fill=\"#000000\" fill-rule=\"evenodd\" fill-opacity=\"1\" /><path clip-path=\"url(#clip750)\" d=\"M 0 0 M2310.29 1523.51 Q2306.95 1523.51 2305.03 1525.29 Q2303.13 1527.07 2303.13 1530.2 Q2303.13 1533.32 2305.03 1535.11 Q2306.95 1536.89 2310.29 1536.89 Q2313.62 1536.89 2315.54 1535.11 Q2317.46 1533.3 2317.46 1530.2 Q2317.46 1527.07 2315.54 1525.29 Q2313.64 1523.51 2310.29 1523.51 M2305.61 1521.52 Q2302.6 1520.78 2300.91 1518.72 Q2299.24 1516.66 2299.24 1513.69 Q2299.24 1509.55 2302.18 1507.14 Q2305.15 1504.73 2310.29 1504.73 Q2315.45 1504.73 2318.39 1507.14 Q2321.33 1509.55 2321.33 1513.69 Q2321.33 1516.66 2319.64 1518.72 Q2317.97 1520.78 2314.98 1521.52 Q2318.36 1522.3 2320.24 1524.6 Q2322.14 1526.89 2322.14 1530.2 Q2322.14 1535.22 2319.06 1537.91 Q2316 1540.59 2310.29 1540.59 Q2304.57 1540.59 2301.49 1537.91 Q2298.43 1535.22 2298.43 1530.2 Q2298.43 1526.89 2300.33 1524.6 Q2302.23 1522.3 2305.61 1521.52 M2303.9 1514.13 Q2303.9 1516.82 2305.56 1518.32 Q2307.25 1519.83 2310.29 1519.83 Q2313.3 1519.83 2314.98 1518.32 Q2316.7 1516.82 2316.7 1514.13 Q2316.7 1511.45 2314.98 1509.94 Q2313.3 1508.44 2310.29 1508.44 Q2307.25 1508.44 2305.56 1509.94 Q2303.9 1511.45 2303.9 1514.13 Z\" fill=\"#000000\" fill-rule=\"evenodd\" fill-opacity=\"1\" /><path clip-path=\"url(#clip750)\" d=\"M 0 0 M74.9365 1431.53 Q71.3254 1431.53 69.4967 1435.1 Q67.6912 1438.64 67.6912 1445.77 Q67.6912 1452.88 69.4967 1456.44 Q71.3254 1459.98 74.9365 1459.98 Q78.5707 1459.98 80.3763 1456.44 Q82.205 1452.88 82.205 1445.77 Q82.205 1438.64 80.3763 1435.1 Q78.5707 1431.53 74.9365 1431.53 M74.9365 1427.83 Q80.7467 1427.83 83.8022 1432.44 Q86.8809 1437.02 86.8809 1445.77 Q86.8809 1454.5 83.8022 1459.1 Q80.7467 1463.69 74.9365 1463.69 Q69.1264 1463.69 66.0477 1459.1 Q62.9921 1454.5 62.9921 1445.77 Q62.9921 1437.02 66.0477 1432.44 Q69.1264 1427.83 74.9365 1427.83 Z\" fill=\"#000000\" fill-rule=\"evenodd\" fill-opacity=\"1\" /><path clip-path=\"url(#clip750)\" d=\"M 0 0 M91.9503 1457.14 L96.8345 1457.14 L96.8345 1463.02 L91.9503 1463.02 L91.9503 1457.14 Z\" fill=\"#000000\" fill-rule=\"evenodd\" fill-opacity=\"1\" /><path clip-path=\"url(#clip750)\" d=\"M 0 0 M111.904 1431.53 Q108.293 1431.53 106.464 1435.1 Q104.659 1438.64 104.659 1445.77 Q104.659 1452.88 106.464 1456.44 Q108.293 1459.98 111.904 1459.98 Q115.538 1459.98 117.344 1456.44 Q119.172 1452.88 119.172 1445.77 Q119.172 1438.64 117.344 1435.1 Q115.538 1431.53 111.904 1431.53 M111.904 1427.83 Q117.714 1427.83 120.77 1432.44 Q123.848 1437.02 123.848 1445.77 Q123.848 1454.5 120.77 1459.1 Q117.714 1463.69 111.904 1463.69 Q106.094 1463.69 103.015 1459.1 Q99.9595 1454.5 99.9595 1445.77 Q99.9595 1437.02 103.015 1432.44 Q106.094 1427.83 111.904 1427.83 Z\" fill=\"#000000\" fill-rule=\"evenodd\" fill-opacity=\"1\" /><path clip-path=\"url(#clip750)\" d=\"M 0 0 M138.918 1431.53 Q135.307 1431.53 133.478 1435.1 Q131.672 1438.64 131.672 1445.77 Q131.672 1452.88 133.478 1456.44 Q135.307 1459.98 138.918 1459.98 Q142.552 1459.98 144.357 1456.44 Q146.186 1452.88 146.186 1445.77 Q146.186 1438.64 144.357 1435.1 Q142.552 1431.53 138.918 1431.53 M138.918 1427.83 Q144.728 1427.83 147.783 1432.44 Q150.862 1437.02 150.862 1445.77 Q150.862 1454.5 147.783 1459.1 Q144.728 1463.69 138.918 1463.69 Q133.107 1463.69 130.029 1459.1 Q126.973 1454.5 126.973 1445.77 Q126.973 1437.02 130.029 1432.44 Q133.107 1427.83 138.918 1427.83 Z\" fill=\"#000000\" fill-rule=\"evenodd\" fill-opacity=\"1\" /><path clip-path=\"url(#clip750)\" d=\"M 0 0 M165.931 1431.53 Q162.32 1431.53 160.492 1435.1 Q158.686 1438.64 158.686 1445.77 Q158.686 1452.88 160.492 1456.44 Q162.32 1459.98 165.931 1459.98 Q169.566 1459.98 171.371 1456.44 Q173.2 1452.88 173.2 1445.77 Q173.2 1438.64 171.371 1435.1 Q169.566 1431.53 165.931 1431.53 M165.931 1427.83 Q171.742 1427.83 174.797 1432.44 Q177.876 1437.02 177.876 1445.77 Q177.876 1454.5 174.797 1459.1 Q171.742 1463.69 165.931 1463.69 Q160.121 1463.69 157.043 1459.1 Q153.987 1454.5 153.987 1445.77 Q153.987 1437.02 157.043 1432.44 Q160.121 1427.83 165.931 1427.83 Z\" fill=\"#000000\" fill-rule=\"evenodd\" fill-opacity=\"1\" /><path clip-path=\"url(#clip750)\" d=\"M 0 0 M192.945 1431.53 Q189.334 1431.53 187.505 1435.1 Q185.7 1438.64 185.7 1445.77 Q185.7 1452.88 187.505 1456.44 Q189.334 1459.98 192.945 1459.98 Q196.579 1459.98 198.385 1456.44 Q200.214 1452.88 200.214 1445.77 Q200.214 1438.64 198.385 1435.1 Q196.579 1431.53 192.945 1431.53 M192.945 1427.83 Q198.755 1427.83 201.811 1432.44 Q204.89 1437.02 204.89 1445.77 Q204.89 1454.5 201.811 1459.1 Q198.755 1463.69 192.945 1463.69 Q187.135 1463.69 184.056 1459.1 Q181.001 1454.5 181.001 1445.77 Q181.001 1437.02 184.056 1432.44 Q187.135 1427.83 192.945 1427.83 Z\" fill=\"#000000\" fill-rule=\"evenodd\" fill-opacity=\"1\" /><path clip-path=\"url(#clip750)\" d=\"M 0 0 M219.959 1431.53 Q216.348 1431.53 214.519 1435.1 Q212.714 1438.64 212.714 1445.77 Q212.714 1452.88 214.519 1456.44 Q216.348 1459.98 219.959 1459.98 Q223.593 1459.98 225.399 1456.44 Q227.227 1452.88 227.227 1445.77 Q227.227 1438.64 225.399 1435.1 Q223.593 1431.53 219.959 1431.53 M219.959 1427.83 Q225.769 1427.83 228.825 1432.44 Q231.903 1437.02 231.903 1445.77 Q231.903 1454.5 228.825 1459.1 Q225.769 1463.69 219.959 1463.69 Q214.149 1463.69 211.07 1459.1 Q208.014 1454.5 208.014 1445.77 Q208.014 1437.02 211.07 1432.44 Q214.149 1427.83 219.959 1427.83 Z\" fill=\"#000000\" fill-rule=\"evenodd\" fill-opacity=\"1\" /><path clip-path=\"url(#clip750)\" d=\"M 0 0 M77.5291 1132.21 Q73.918 1132.21 72.0893 1135.77 Q70.2838 1139.31 70.2838 1146.44 Q70.2838 1153.55 72.0893 1157.12 Q73.918 1160.66 77.5291 1160.66 Q81.1633 1160.66 82.9689 1157.12 Q84.7976 1153.55 84.7976 1146.44 Q84.7976 1139.31 82.9689 1135.77 Q81.1633 1132.21 77.5291 1132.21 M77.5291 1128.5 Q83.3392 1128.5 86.3948 1133.11 Q89.4735 1137.69 89.4735 1146.44 Q89.4735 1155.17 86.3948 1159.78 Q83.3392 1164.36 77.5291 1164.36 Q71.7189 1164.36 68.6402 1159.78 Q65.5847 1155.17 65.5847 1146.44 Q65.5847 1137.69 68.6402 1133.11 Q71.7189 1128.5 77.5291 1128.5 Z\" fill=\"#000000\" fill-rule=\"evenodd\" fill-opacity=\"1\" /><path clip-path=\"url(#clip750)\" d=\"M 0 0 M94.5429 1157.81 L99.4271 1157.81 L99.4271 1163.69 L94.5429 1163.69 L94.5429 1157.81 Z\" fill=\"#000000\" fill-rule=\"evenodd\" fill-opacity=\"1\" /><path clip-path=\"url(#clip750)\" d=\"M 0 0 M114.496 1132.21 Q110.885 1132.21 109.057 1135.77 Q107.251 1139.31 107.251 1146.44 Q107.251 1153.55 109.057 1157.12 Q110.885 1160.66 114.496 1160.66 Q118.131 1160.66 119.936 1157.12 Q121.765 1153.55 121.765 1146.44 Q121.765 1139.31 119.936 1135.77 Q118.131 1132.21 114.496 1132.21 M114.496 1128.5 Q120.307 1128.5 123.362 1133.11 Q126.441 1137.69 126.441 1146.44 Q126.441 1155.17 123.362 1159.78 Q120.307 1164.36 114.496 1164.36 Q108.686 1164.36 105.608 1159.78 Q102.552 1155.17 102.552 1146.44 Q102.552 1137.69 105.608 1133.11 Q108.686 1128.5 114.496 1128.5 Z\" fill=\"#000000\" fill-rule=\"evenodd\" fill-opacity=\"1\" /><path clip-path=\"url(#clip750)\" d=\"M 0 0 M141.51 1132.21 Q137.899 1132.21 136.07 1135.77 Q134.265 1139.31 134.265 1146.44 Q134.265 1153.55 136.07 1157.12 Q137.899 1160.66 141.51 1160.66 Q145.144 1160.66 146.95 1157.12 Q148.779 1153.55 148.779 1146.44 Q148.779 1139.31 146.95 1135.77 Q145.144 1132.21 141.51 1132.21 M141.51 1128.5 Q147.32 1128.5 150.376 1133.11 Q153.455 1137.69 153.455 1146.44 Q153.455 1155.17 150.376 1159.78 Q147.32 1164.36 141.51 1164.36 Q135.7 1164.36 132.621 1159.78 Q129.566 1155.17 129.566 1146.44 Q129.566 1137.69 132.621 1133.11 Q135.7 1128.5 141.51 1128.5 Z\" fill=\"#000000\" fill-rule=\"evenodd\" fill-opacity=\"1\" /><path clip-path=\"url(#clip750)\" d=\"M 0 0 M168.524 1132.21 Q164.913 1132.21 163.084 1135.77 Q161.279 1139.31 161.279 1146.44 Q161.279 1153.55 163.084 1157.12 Q164.913 1160.66 168.524 1160.66 Q172.158 1160.66 173.964 1157.12 Q175.792 1153.55 175.792 1146.44 Q175.792 1139.31 173.964 1135.77 Q172.158 1132.21 168.524 1132.21 M168.524 1128.5 Q174.334 1128.5 177.39 1133.11 Q180.468 1137.69 180.468 1146.44 Q180.468 1155.17 177.39 1159.78 Q174.334 1164.36 168.524 1164.36 Q162.714 1164.36 159.635 1159.78 Q156.58 1155.17 156.58 1146.44 Q156.58 1137.69 159.635 1133.11 Q162.714 1128.5 168.524 1128.5 Z\" fill=\"#000000\" fill-rule=\"evenodd\" fill-opacity=\"1\" /><path clip-path=\"url(#clip750)\" d=\"M 0 0 M189.566 1159.75 L205.885 1159.75 L205.885 1163.69 L183.941 1163.69 L183.941 1159.75 Q186.603 1157 191.186 1152.37 Q195.792 1147.72 196.973 1146.37 Q199.218 1143.85 200.098 1142.12 Q201.001 1140.36 201.001 1138.67 Q201.001 1135.91 199.056 1134.18 Q197.135 1132.44 194.033 1132.44 Q191.834 1132.44 189.38 1133.2 Q186.95 1133.97 184.172 1135.52 L184.172 1130.8 Q186.996 1129.66 189.45 1129.08 Q191.903 1128.5 193.94 1128.5 Q199.311 1128.5 202.505 1131.19 Q205.7 1133.87 205.7 1138.37 Q205.7 1140.49 204.89 1142.42 Q204.102 1144.31 201.996 1146.91 Q201.417 1147.58 198.315 1150.8 Q195.214 1153.99 189.566 1159.75 Z\" fill=\"#000000\" fill-rule=\"evenodd\" fill-opacity=\"1\" /><path clip-path=\"url(#clip750)\" d=\"M 0 0 M211.001 1129.13 L229.357 1129.13 L229.357 1133.06 L215.283 1133.06 L215.283 1141.54 Q216.301 1141.19 217.32 1141.03 Q218.339 1140.84 219.357 1140.84 Q225.144 1140.84 228.524 1144.01 Q231.903 1147.18 231.903 1152.6 Q231.903 1158.18 228.431 1161.28 Q224.959 1164.36 218.639 1164.36 Q216.464 1164.36 214.195 1163.99 Q211.95 1163.62 209.542 1162.88 L209.542 1158.18 Q211.626 1159.31 213.848 1159.87 Q216.07 1160.43 218.547 1160.43 Q222.551 1160.43 224.889 1158.32 Q227.227 1156.21 227.227 1152.6 Q227.227 1148.99 224.889 1146.88 Q222.551 1144.78 218.547 1144.78 Q216.672 1144.78 214.797 1145.19 Q212.945 1145.61 211.001 1146.49 L211.001 1129.13 Z\" fill=\"#000000\" fill-rule=\"evenodd\" fill-opacity=\"1\" /><path clip-path=\"url(#clip750)\" d=\"M 0 0 M75.9319 832.881 Q72.3208 832.881 70.4921 836.446 Q68.6865 839.987 68.6865 847.117 Q68.6865 854.223 70.4921 857.788 Q72.3208 861.33 75.9319 861.33 Q79.5661 861.33 81.3717 857.788 Q83.2004 854.223 83.2004 847.117 Q83.2004 839.987 81.3717 836.446 Q79.5661 832.881 75.9319 832.881 M75.9319 829.177 Q81.742 829.177 84.7976 833.784 Q87.8763 838.367 87.8763 847.117 Q87.8763 855.844 84.7976 860.45 Q81.742 865.033 75.9319 865.033 Q70.1217 865.033 67.043 860.45 Q63.9875 855.844 63.9875 847.117 Q63.9875 838.367 67.043 833.784 Q70.1217 829.177 75.9319 829.177 Z\" fill=\"#000000\" fill-rule=\"evenodd\" fill-opacity=\"1\" /><path clip-path=\"url(#clip750)\" d=\"M 0 0 M92.9457 858.483 L97.8299 858.483 L97.8299 864.362 L92.9457 864.362 L92.9457 858.483 Z\" fill=\"#000000\" fill-rule=\"evenodd\" fill-opacity=\"1\" /><path clip-path=\"url(#clip750)\" d=\"M 0 0 M112.899 832.881 Q109.288 832.881 107.459 836.446 Q105.654 839.987 105.654 847.117 Q105.654 854.223 107.459 857.788 Q109.288 861.33 112.899 861.33 Q116.534 861.33 118.339 857.788 Q120.168 854.223 120.168 847.117 Q120.168 839.987 118.339 836.446 Q116.534 832.881 112.899 832.881 M112.899 829.177 Q118.709 829.177 121.765 833.784 Q124.844 838.367 124.844 847.117 Q124.844 855.844 121.765 860.45 Q118.709 865.033 112.899 865.033 Q107.089 865.033 104.01 860.45 Q100.955 855.844 100.955 847.117 Q100.955 838.367 104.01 833.784 Q107.089 829.177 112.899 829.177 Z\" fill=\"#000000\" fill-rule=\"evenodd\" fill-opacity=\"1\" /><path clip-path=\"url(#clip750)\" d=\"M 0 0 M139.913 832.881 Q136.302 832.881 134.473 836.446 Q132.668 839.987 132.668 847.117 Q132.668 854.223 134.473 857.788 Q136.302 861.33 139.913 861.33 Q143.547 861.33 145.353 857.788 Q147.181 854.223 147.181 847.117 Q147.181 839.987 145.353 836.446 Q143.547 832.881 139.913 832.881 M139.913 829.177 Q145.723 829.177 148.779 833.784 Q151.857 838.367 151.857 847.117 Q151.857 855.844 148.779 860.45 Q145.723 865.033 139.913 865.033 Q134.103 865.033 131.024 860.45 Q127.969 855.844 127.969 847.117 Q127.969 838.367 131.024 833.784 Q134.103 829.177 139.913 829.177 Z\" fill=\"#000000\" fill-rule=\"evenodd\" fill-opacity=\"1\" /><path clip-path=\"url(#clip750)\" d=\"M 0 0 M166.927 832.881 Q163.316 832.881 161.487 836.446 Q159.681 839.987 159.681 847.117 Q159.681 854.223 161.487 857.788 Q163.316 861.33 166.927 861.33 Q170.561 861.33 172.367 857.788 Q174.195 854.223 174.195 847.117 Q174.195 839.987 172.367 836.446 Q170.561 832.881 166.927 832.881 M166.927 829.177 Q172.737 829.177 175.792 833.784 Q178.871 838.367 178.871 847.117 Q178.871 855.844 175.792 860.45 Q172.737 865.033 166.927 865.033 Q161.117 865.033 158.038 860.45 Q154.982 855.844 154.982 847.117 Q154.982 838.367 158.038 833.784 Q161.117 829.177 166.927 829.177 Z\" fill=\"#000000\" fill-rule=\"evenodd\" fill-opacity=\"1\" /><path clip-path=\"url(#clip750)\" d=\"M 0 0 M183.987 829.802 L202.343 829.802 L202.343 833.737 L188.269 833.737 L188.269 842.21 Q189.288 841.862 190.306 841.7 Q191.325 841.515 192.343 841.515 Q198.13 841.515 201.51 844.686 Q204.89 847.858 204.89 853.274 Q204.89 858.853 201.417 861.955 Q197.945 865.033 191.626 865.033 Q189.45 865.033 187.181 864.663 Q184.936 864.293 182.529 863.552 L182.529 858.853 Q184.612 859.987 186.834 860.543 Q189.056 861.098 191.533 861.098 Q195.538 861.098 197.876 858.992 Q200.214 856.885 200.214 853.274 Q200.214 849.663 197.876 847.557 Q195.538 845.45 191.533 845.45 Q189.658 845.45 187.783 845.867 Q185.931 846.284 183.987 847.163 L183.987 829.802 Z\" fill=\"#000000\" fill-rule=\"evenodd\" fill-opacity=\"1\" /><path clip-path=\"url(#clip750)\" d=\"M 0 0 M219.959 832.881 Q216.348 832.881 214.519 836.446 Q212.714 839.987 212.714 847.117 Q212.714 854.223 214.519 857.788 Q216.348 861.33 219.959 861.33 Q223.593 861.33 225.399 857.788 Q227.227 854.223 227.227 847.117 Q227.227 839.987 225.399 836.446 Q223.593 832.881 219.959 832.881 M219.959 829.177 Q225.769 829.177 228.825 833.784 Q231.903 838.367 231.903 847.117 Q231.903 855.844 228.825 860.45 Q225.769 865.033 219.959 865.033 Q214.149 865.033 211.07 860.45 Q208.014 855.844 208.014 847.117 Q208.014 838.367 211.07 833.784 Q214.149 829.177 219.959 829.177 Z\" fill=\"#000000\" fill-rule=\"evenodd\" fill-opacity=\"1\" /><path clip-path=\"url(#clip750)\" d=\"M 0 0 M76.8346 533.554 Q73.2236 533.554 71.3949 537.119 Q69.5893 540.66 69.5893 547.79 Q69.5893 554.896 71.3949 558.461 Q73.2236 562.003 76.8346 562.003 Q80.4689 562.003 82.2744 558.461 Q84.1031 554.896 84.1031 547.79 Q84.1031 540.66 82.2744 537.119 Q80.4689 533.554 76.8346 533.554 M76.8346 529.85 Q82.6448 529.85 85.7003 534.457 Q88.779 539.04 88.779 547.79 Q88.779 556.517 85.7003 561.123 Q82.6448 565.707 76.8346 565.707 Q71.0245 565.707 67.9458 561.123 Q64.8903 556.517 64.8903 547.79 Q64.8903 539.04 67.9458 534.457 Q71.0245 529.85 76.8346 529.85 Z\" fill=\"#000000\" fill-rule=\"evenodd\" fill-opacity=\"1\" /><path clip-path=\"url(#clip750)\" d=\"M 0 0 M93.8484 559.156 L98.7327 559.156 L98.7327 565.035 L93.8484 565.035 L93.8484 559.156 Z\" fill=\"#000000\" fill-rule=\"evenodd\" fill-opacity=\"1\" /><path clip-path=\"url(#clip750)\" d=\"M 0 0 M113.802 533.554 Q110.191 533.554 108.362 537.119 Q106.557 540.66 106.557 547.79 Q106.557 554.896 108.362 558.461 Q110.191 562.003 113.802 562.003 Q117.436 562.003 119.242 558.461 Q121.071 554.896 121.071 547.79 Q121.071 540.66 119.242 537.119 Q117.436 533.554 113.802 533.554 M113.802 529.85 Q119.612 529.85 122.668 534.457 Q125.746 539.04 125.746 547.79 Q125.746 556.517 122.668 561.123 Q119.612 565.707 113.802 565.707 Q107.992 565.707 104.913 561.123 Q101.858 556.517 101.858 547.79 Q101.858 539.04 104.913 534.457 Q107.992 529.85 113.802 529.85 Z\" fill=\"#000000\" fill-rule=\"evenodd\" fill-opacity=\"1\" /><path clip-path=\"url(#clip750)\" d=\"M 0 0 M140.816 533.554 Q137.205 533.554 135.376 537.119 Q133.57 540.66 133.57 547.79 Q133.57 554.896 135.376 558.461 Q137.205 562.003 140.816 562.003 Q144.45 562.003 146.256 558.461 Q148.084 554.896 148.084 547.79 Q148.084 540.66 146.256 537.119 Q144.45 533.554 140.816 533.554 M140.816 529.85 Q146.626 529.85 149.681 534.457 Q152.76 539.04 152.76 547.79 Q152.76 556.517 149.681 561.123 Q146.626 565.707 140.816 565.707 Q135.006 565.707 131.927 561.123 Q128.871 556.517 128.871 547.79 Q128.871 539.04 131.927 534.457 Q135.006 529.85 140.816 529.85 Z\" fill=\"#000000\" fill-rule=\"evenodd\" fill-opacity=\"1\" /><path clip-path=\"url(#clip750)\" d=\"M 0 0 M167.83 533.554 Q164.218 533.554 162.39 537.119 Q160.584 540.66 160.584 547.79 Q160.584 554.896 162.39 558.461 Q164.218 562.003 167.83 562.003 Q171.464 562.003 173.269 558.461 Q175.098 554.896 175.098 547.79 Q175.098 540.66 173.269 537.119 Q171.464 533.554 167.83 533.554 M167.83 529.85 Q173.64 529.85 176.695 534.457 Q179.774 539.04 179.774 547.79 Q179.774 556.517 176.695 561.123 Q173.64 565.707 167.83 565.707 Q162.019 565.707 158.941 561.123 Q155.885 556.517 155.885 547.79 Q155.885 539.04 158.941 534.457 Q162.019 529.85 167.83 529.85 Z\" fill=\"#000000\" fill-rule=\"evenodd\" fill-opacity=\"1\" /><path clip-path=\"url(#clip750)\" d=\"M 0 0 M183.663 530.475 L205.885 530.475 L205.885 532.466 L193.339 565.035 L188.454 565.035 L200.26 534.41 L183.663 534.41 L183.663 530.475 Z\" fill=\"#000000\" fill-rule=\"evenodd\" fill-opacity=\"1\" /><path clip-path=\"url(#clip750)\" d=\"M 0 0 M211.001 530.475 L229.357 530.475 L229.357 534.41 L215.283 534.41 L215.283 542.883 Q216.301 542.535 217.32 542.373 Q218.339 542.188 219.357 542.188 Q225.144 542.188 228.524 545.359 Q231.903 548.531 231.903 553.947 Q231.903 559.526 228.431 562.628 Q224.959 565.707 218.639 565.707 Q216.464 565.707 214.195 565.336 Q211.95 564.966 209.542 564.225 L209.542 559.526 Q211.626 560.66 213.848 561.216 Q216.07 561.771 218.547 561.771 Q222.551 561.771 224.889 559.665 Q227.227 557.558 227.227 553.947 Q227.227 550.336 224.889 548.23 Q222.551 546.123 218.547 546.123 Q216.672 546.123 214.797 546.54 Q212.945 546.957 211.001 547.836 L211.001 530.475 Z\" fill=\"#000000\" fill-rule=\"evenodd\" fill-opacity=\"1\" /><path clip-path=\"url(#clip750)\" d=\"M 0 0 M76.1634 234.227 Q72.5523 234.227 70.7236 237.792 Q68.918 241.333 68.918 248.463 Q68.918 255.569 70.7236 259.134 Q72.5523 262.676 76.1634 262.676 Q79.7976 262.676 81.6031 259.134 Q83.4318 255.569 83.4318 248.463 Q83.4318 241.333 81.6031 237.792 Q79.7976 234.227 76.1634 234.227 M76.1634 230.523 Q81.9735 230.523 85.029 235.13 Q88.1077 239.713 88.1077 248.463 Q88.1077 257.19 85.029 261.796 Q81.9735 266.38 76.1634 266.38 Q70.3532 266.38 67.2745 261.796 Q64.219 257.19 64.219 248.463 Q64.219 239.713 67.2745 235.13 Q70.3532 230.523 76.1634 230.523 Z\" fill=\"#000000\" fill-rule=\"evenodd\" fill-opacity=\"1\" /><path clip-path=\"url(#clip750)\" d=\"M 0 0 M93.1771 259.829 L98.0614 259.829 L98.0614 265.708 L93.1771 265.708 L93.1771 259.829 Z\" fill=\"#000000\" fill-rule=\"evenodd\" fill-opacity=\"1\" /><path clip-path=\"url(#clip750)\" d=\"M 0 0 M113.131 234.227 Q109.52 234.227 107.691 237.792 Q105.885 241.333 105.885 248.463 Q105.885 255.569 107.691 259.134 Q109.52 262.676 113.131 262.676 Q116.765 262.676 118.571 259.134 Q120.399 255.569 120.399 248.463 Q120.399 241.333 118.571 237.792 Q116.765 234.227 113.131 234.227 M113.131 230.523 Q118.941 230.523 121.996 235.13 Q125.075 239.713 125.075 248.463 Q125.075 257.19 121.996 261.796 Q118.941 266.38 113.131 266.38 Q107.321 266.38 104.242 261.796 Q101.186 257.19 101.186 248.463 Q101.186 239.713 104.242 235.13 Q107.321 230.523 113.131 230.523 Z\" fill=\"#000000\" fill-rule=\"evenodd\" fill-opacity=\"1\" /><path clip-path=\"url(#clip750)\" d=\"M 0 0 M140.144 234.227 Q136.533 234.227 134.705 237.792 Q132.899 241.333 132.899 248.463 Q132.899 255.569 134.705 259.134 Q136.533 262.676 140.144 262.676 Q143.779 262.676 145.584 259.134 Q147.413 255.569 147.413 248.463 Q147.413 241.333 145.584 237.792 Q143.779 234.227 140.144 234.227 M140.144 230.523 Q145.955 230.523 149.01 235.13 Q152.089 239.713 152.089 248.463 Q152.089 257.19 149.01 261.796 Q145.955 266.38 140.144 266.38 Q134.334 266.38 131.256 261.796 Q128.2 257.19 128.2 248.463 Q128.2 239.713 131.256 235.13 Q134.334 230.523 140.144 230.523 Z\" fill=\"#000000\" fill-rule=\"evenodd\" fill-opacity=\"1\" /><path clip-path=\"url(#clip750)\" d=\"M 0 0 M157.968 261.773 L165.607 261.773 L165.607 235.408 L157.297 237.074 L157.297 232.815 L165.561 231.148 L170.237 231.148 L170.237 261.773 L177.876 261.773 L177.876 265.708 L157.968 265.708 L157.968 261.773 Z\" fill=\"#000000\" fill-rule=\"evenodd\" fill-opacity=\"1\" /><path clip-path=\"url(#clip750)\" d=\"M 0 0 M192.945 234.227 Q189.334 234.227 187.505 237.792 Q185.7 241.333 185.7 248.463 Q185.7 255.569 187.505 259.134 Q189.334 262.676 192.945 262.676 Q196.579 262.676 198.385 259.134 Q200.214 255.569 200.214 248.463 Q200.214 241.333 198.385 237.792 Q196.579 234.227 192.945 234.227 M192.945 230.523 Q198.755 230.523 201.811 235.13 Q204.89 239.713 204.89 248.463 Q204.89 257.19 201.811 261.796 Q198.755 266.38 192.945 266.38 Q187.135 266.38 184.056 261.796 Q181.001 257.19 181.001 248.463 Q181.001 239.713 184.056 235.13 Q187.135 230.523 192.945 230.523 Z\" fill=\"#000000\" fill-rule=\"evenodd\" fill-opacity=\"1\" /><path clip-path=\"url(#clip750)\" d=\"M 0 0 M219.959 234.227 Q216.348 234.227 214.519 237.792 Q212.714 241.333 212.714 248.463 Q212.714 255.569 214.519 259.134 Q216.348 262.676 219.959 262.676 Q223.593 262.676 225.399 259.134 Q227.227 255.569 227.227 248.463 Q227.227 241.333 225.399 237.792 Q223.593 234.227 219.959 234.227 M219.959 230.523 Q225.769 230.523 228.825 235.13 Q231.903 239.713 231.903 248.463 Q231.903 257.19 228.825 261.796 Q225.769 266.38 219.959 266.38 Q214.149 266.38 211.07 261.796 Q208.014 257.19 208.014 248.463 Q208.014 239.713 211.07 235.13 Q214.149 230.523 219.959 230.523 Z\" fill=\"#000000\" fill-rule=\"evenodd\" fill-opacity=\"1\" /><polyline clip-path=\"url(#clip752)\" style=\"stroke:#009af9; stroke-width:4; stroke-opacity:1; fill:none\" points=\"\n",
       "  315.248,87.9763 391.331,401.605 467.415,631.522 543.498,807.741 619.581,943.832 695.664,1050.15 771.747,1134.09 847.83,1200.94 923.914,1253.78 999.997,1296.2 \n",
       "  1076.08,1330.91 1152.16,1359.16 1228.25,1381.94 1304.33,1400.12 1380.41,1414.41 1456.5,1425.41 1532.58,1433.63 1608.66,1439.46 1684.75,1443.24 1760.83,1445.25 \n",
       "  1836.91,1445.72 1913,1444.84 1989.08,1442.79 2065.16,1439.71 2141.24,1435.72 2217.33,1430.92 2293.41,1425.41 \n",
       "  \"/>\n",
       "<path clip-path=\"url(#clip750)\" d=\"\n",
       "M1989.74 251.724 L2280.76 251.724 L2280.76 130.764 L1989.74 130.764  Z\n",
       "  \" fill=\"#ffffff\" fill-rule=\"evenodd\" fill-opacity=\"1\"/>\n",
       "<polyline clip-path=\"url(#clip750)\" style=\"stroke:#000000; stroke-width:4; stroke-opacity:1; fill:none\" points=\"\n",
       "  1989.74,251.724 2280.76,251.724 2280.76,130.764 1989.74,130.764 1989.74,251.724 \n",
       "  \"/>\n",
       "<polyline clip-path=\"url(#clip750)\" style=\"stroke:#009af9; stroke-width:4; stroke-opacity:1; fill:none\" points=\"\n",
       "  2013.74,191.244 2157.74,191.244 \n",
       "  \"/>\n",
       "<path clip-path=\"url(#clip750)\" d=\"M 0 0 M2195.58 210.931 Q2193.77 215.561 2192.06 216.973 Q2190.35 218.385 2187.48 218.385 L2184.08 218.385 L2184.08 214.82 L2186.58 214.82 Q2188.33 214.82 2189.31 213.987 Q2190.28 213.154 2191.46 210.052 L2192.22 208.107 L2181.74 182.598 L2186.25 182.598 L2194.35 202.876 L2202.46 182.598 L2206.97 182.598 L2195.58 210.931 Z\" fill=\"#000000\" fill-rule=\"evenodd\" fill-opacity=\"1\" /><path clip-path=\"url(#clip750)\" d=\"M 0 0 M2212.85 204.589 L2220.49 204.589 L2220.49 178.223 L2212.18 179.89 L2212.18 175.631 L2220.44 173.964 L2225.12 173.964 L2225.12 204.589 L2232.76 204.589 L2232.76 208.524 L2212.85 208.524 L2212.85 204.589 Z\" fill=\"#000000\" fill-rule=\"evenodd\" fill-opacity=\"1\" /></svg>\n"
      ]
     },
     "execution_count": 14,
     "metadata": {},
     "output_type": "execute_result"
    }
   ],
   "source": [
    "beta_grid = 0.5:0.05:1.8;\n",
    "obj_grid = zeros(length(beta_grid));\n",
    "for (i, beta) in enumerate(beta_grid)\n",
    "    obj_grid[i] = obj_func(\n",
    "        beta, \n",
    "        Pop_array,\n",
    "        MA_array,\n",
    "        VA_array,\n",
    "        num_nomig_array,\n",
    "        nu,\n",
    "        N\n",
    "    );\n",
    "end\n",
    "plot(beta_grid, obj_grid)"
   ]
  },
  {
   "cell_type": "markdown",
   "metadata": {},
   "source": [
    "## Replication of Table 7A"
   ]
  },
  {
   "cell_type": "markdown",
   "metadata": {},
   "source": [
    "Based on the estimate, I replicate Table 7A which compares the actual consumption and migration with predicted consumption and migration."
   ]
  },
  {
   "cell_type": "code",
   "execution_count": 15,
   "metadata": {},
   "outputs": [],
   "source": [
    "N_part_res = zeros(N, 100);\n",
    "income_weight_res = zeros(N, 100);\n",
    "\n",
    "if beta_est >= 1.0\n",
    "    for vil in 1:100\n",
    "        res = get_income_weight_beta_gt1(\n",
    "            Pop_array[:, vil],\n",
    "            MA_array[:, vil],\n",
    "            VA_array[:, vil],\n",
    "            beta_est,\n",
    "            nu\n",
    "        );\n",
    "        N_part_res[:, vil] = res[1];\n",
    "        income_weight_res[:, vil] = res[2];\n",
    "    end\n",
    "elseif beta_est < 1.0\n",
    "    for vil in 1:100\n",
    "        res = get_income_weight_beta_gt1(\n",
    "            Pop_array[:, vil],\n",
    "            MA_array[:, vil],\n",
    "            VA_array[:, vil],\n",
    "            beta_est,\n",
    "            nu\n",
    "        );\n",
    "        N_part_res[:, vil] = res[1];\n",
    "        income_weight_res[:, vil] = res[2];\n",
    "    end\n",
    "end\n"
   ]
  },
  {
   "cell_type": "code",
   "execution_count": 16,
   "metadata": {},
   "outputs": [
    {
     "data": {
      "text/html": [
       "<table class=\"data-frame\"><thead><tr><th></th><th>Rel. Cons. (Actual)</th><th>Migration (Actual)</th><th>Rel. Cons. (Predicted)</th><th>Migration (Predicted)</th></tr><tr><th></th><th>Float64</th><th>Float64</th><th>Float64</th><th>Float64</th></tr></thead><tbody><p>5 rows × 4 columns</p><tr><th>1</th><td>0.842618</td><td>0.0319968</td><td>0.815735</td><td>5.46224e-6</td></tr><tr><th>2</th><td>0.854317</td><td>0.0340246</td><td>0.82554</td><td>0.0206282</td></tr><tr><th>3</th><td>0.870559</td><td>0.0504584</td><td>0.842215</td><td>0.0454476</td></tr><tr><th>4</th><td>0.886547</td><td>0.0462231</td><td>0.868263</td><td>0.0618535</td></tr><tr><th>5</th><td>1.0</td><td>0.0507197</td><td>1.0</td><td>0.0854878</td></tr></tbody></table>"
      ],
      "text/latex": [
       "\\begin{tabular}{r|cccc}\n",
       "\t& Rel. Cons. (Actual) & Migration (Actual) & Rel. Cons. (Predicted) & Migration (Predicted)\\\\\n",
       "\t\\hline\n",
       "\t& Float64 & Float64 & Float64 & Float64\\\\\n",
       "\t\\hline\n",
       "\t1 & 0.842618 & 0.0319968 & 0.815735 & 5.46224e-6 \\\\\n",
       "\t2 & 0.854317 & 0.0340246 & 0.82554 & 0.0206282 \\\\\n",
       "\t3 & 0.870559 & 0.0504584 & 0.842215 & 0.0454476 \\\\\n",
       "\t4 & 0.886547 & 0.0462231 & 0.868263 & 0.0618535 \\\\\n",
       "\t5 & 1.0 & 0.0507197 & 1.0 & 0.0854878 \\\\\n",
       "\\end{tabular}\n"
      ],
      "text/plain": [
       "5×4 DataFrame. Omitted printing of 1 columns\n",
       "│ Row │ Rel. Cons. (Actual) │ Migration (Actual) │ Rel. Cons. (Predicted) │\n",
       "│     │ \u001b[90mFloat64\u001b[39m             │ \u001b[90mFloat64\u001b[39m            │ \u001b[90mFloat64\u001b[39m                │\n",
       "├─────┼─────────────────────┼────────────────────┼────────────────────────┤\n",
       "│ 1   │ 0.842618            │ 0.0319968          │ 0.815735               │\n",
       "│ 2   │ 0.854317            │ 0.0340246          │ 0.82554                │\n",
       "│ 3   │ 0.870559            │ 0.0504584          │ 0.842215               │\n",
       "│ 4   │ 0.886547            │ 0.0462231          │ 0.868263               │\n",
       "│ 5   │ 1.0                 │ 0.0507197          │ 1.0                    │"
      ]
     },
     "execution_count": 16,
     "metadata": {},
     "output_type": "execute_result"
    }
   ],
   "source": [
    "table7a_rep = DataFrame(\n",
    "    actual_rel_cons = vec(mean(income_weight_array, dims = 2)),\n",
    "    actual_mig_rate = vec(mean((Pop_array .- num_nomig_array) ./ Pop_array, dims = 2)),\n",
    "    pred_rel_cons = vec(mean(income_weight_res, dims = 2)),\n",
    "    pred_mig_rate = vec(mean((Pop_array .- N_part_res) ./ Pop_array, dims = 2))\n",
    ");\n",
    "rename!(\n",
    "    table7a_rep,\n",
    "    [\n",
    "        \"Rel. Cons. (Actual)\",\n",
    "        \"Migration (Actual)\",\n",
    "        \"Rel. Cons. (Predicted)\",\n",
    "        \"Migration (Predicted)\",\n",
    "    ]);\n",
    "table7a_rep\n"
   ]
  },
  {
   "cell_type": "code",
   "execution_count": null,
   "metadata": {},
   "outputs": [],
   "source": []
  }
 ],
 "metadata": {
  "kernelspec": {
   "display_name": "Julia 1.4.1",
   "language": "julia",
   "name": "julia-1.4"
  },
  "language_info": {
   "file_extension": ".jl",
   "mimetype": "application/julia",
   "name": "julia",
   "version": "1.4.1"
  },
  "toc": {
   "base_numbering": 1,
   "nav_menu": {},
   "number_sections": false,
   "sideBar": true,
   "skip_h1_title": false,
   "title_cell": "Table of Contents",
   "title_sidebar": "Contents",
   "toc_cell": false,
   "toc_position": {},
   "toc_section_display": true,
   "toc_window_display": false
  }
 },
 "nbformat": 4,
 "nbformat_minor": 2
}
