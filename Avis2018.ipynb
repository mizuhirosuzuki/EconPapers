{
 "cells": [
  {
   "cell_type": "markdown",
   "metadata": {},
   "source": [
    "## The model without learning"
   ]
  },
  {
   "cell_type": "markdown",
   "metadata": {},
   "source": [
    "In this model, audits reduce future corruption through a selection effect by changing the expected ability of reelected mayors."
   ]
  },
  {
   "cell_type": "markdown",
   "metadata": {},
   "source": [
    "### The mayor"
   ]
  },
  {
   "cell_type": "markdown",
   "metadata": {},
   "source": [
    "The ability of the mayor is a function of \n",
    "- observable characteristics $X_i$, which are common knowledge to both mayors and voters, and\n",
    "- an unobservable characteristic $\\epsilon_i \\sim N(0, \\sigma^2_{\\epsilon})$, which is private information that voters do not observe and the mayor observes **after** he chooses his action:\n",
    "\n",
    "$$\n",
    "\\text{Ability}_i = X_i' \\alpha + \\epsilon_i.\n",
    "$$"
   ]
  },
  {
   "cell_type": "markdown",
   "metadata": {},
   "source": [
    "Mayors face a two-term limit: \n",
    "Let $T \\in \\{F, S \\}$ denote whether the mayor is in his first term ($F$) or second term ($S$).\n",
    "Rents in term $T$ is given by the sum of mayor's rent extraction effort $e^T_i$ and his ability:\n",
    "\n",
    "$$\n",
    "    r^T_i = e^T_i + X_i' \\alpha + \\epsilon_i.\n",
    "$$"
   ]
  },
  {
   "cell_type": "markdown",
   "metadata": {},
   "source": [
    "In each term, after the mayor chooses $e^T_i$, an audit is randomly drawn.\n",
    "Letting $a^T_i$ represent an audit status, $a^T_i = Bernoulli(q_i)$."
   ]
  },
  {
   "cell_type": "markdown",
   "metadata": {},
   "source": [
    "The mayor seeks to maximize the discounted sum of rents $r$, net of the costs of rent extraction $c$ over his tenure.\n",
    "The mayor's per-period utility in term $T$ is \n",
    "\n",
    "$$\n",
    "    u^T(\\epsilon^T_i, X_i, \\epsilon_i, a^T_i) = e_i^T + X'_i \\alpha + \\epsilon_i - c(e^T_i, a^T_i).\n",
    "$$\n",
    "\n",
    "Here it is assumed that\n",
    "- the probability that a legal action is taken is $(\\gamma_0 + \\gamma_1 a^T_i) e^T_i$, and\n",
    "- the cost of the legal action is $b_0 + b_1 e^T_i$.\n",
    "\n",
    "This results in $c(e^T_i, a^T_i) = b_0 (\\gamma_0 + \\gamma_1 a^T_i) e^T_i + b_1 (\\gamma_0 + \\gamma_1 a^T_i) \\left(e^T_i\\right)^2$."
   ]
  },
  {
   "cell_type": "markdown",
   "metadata": {},
   "source": [
    "### The voter"
   ]
  },
  {
   "cell_type": "markdown",
   "metadata": {},
   "source": [
    "It is assumed that a representative voter chooses an action only if the mayor is in his first term $(T = F)$.\n",
    "The voter's decision depends on\n",
    "- the mayor's observable characteristics,\n",
    "- the voter's belief about the mayor's unobservable characteristics $\\tilde{\\epsilon}_i$, and\n",
    "- the mayor's popularity, $X'_i \\xi + \\delta_i$, where $\\delta_i \\sim U[\\mu_d - \\frac{1}{2 \\sigma_d}, \\mu_d + \\frac{1}{2 \\sigma_d}]$.\n",
    "\n",
    "The voter's per-period utility is\n",
    "- $v^F_i = -r^F_i$ if the mayor is in his first term, with the added popularity shock, $X'_i \\xi + \\delta_i$, if the mayor is reelected, and\n",
    "- $v^S_i = -r^S_i$ if the mayor is in his second term."
   ]
  },
  {
   "cell_type": "markdown",
   "metadata": {},
   "source": [
    "The voter observes contemporaneous rents with probability $\\chi^T_i = \\chi_0 + \\chi_1 a^T_i$.\n",
    "Let $s^T_i$ be an indicator for whether the voter observed the rent in term $T$.\n",
    "Then, $s^T_i = Bernoulli (\\chi^T_i)$. \n",
    "After observing the popularity shocks and, possibly, rents, the voter chooses whether to reelect the incumbent or select a challenger who is drawn at random from the pool of candidates."
   ]
  },
  {
   "cell_type": "markdown",
   "metadata": {},
   "source": [
    "### The equilibrium"
   ]
  },
  {
   "cell_type": "markdown",
   "metadata": {},
   "source": [
    "The game proceeds as follows:\n",
    "\n",
    "1. The first-term incumbent chooses his effort level ($e^F_i$) given his observable characteristics;\n",
    "2. his unobserved ability ($\\epsilon_i$) is realized and first-term rents ($r^F_i$) are extracted;\n",
    "3. the audit draw ($a^F_i$), the voter's rent signal draw (??), and the incumbent's popularity shock ($\\delta_i$) are realized;\n",
    "4. elections are held; if the incumbent loses, the game continues with step 1 with a randomly drawn first-term mayor, and otherwise, proceed to step 5;\n",
    "5. the second-term incumbent chooses his effort level ($e^S_i$), the second-term audit draw ($a^S_i$) is realized, and the second-term rents ($r^S_i$) are extracted.\n",
    "\n",
    "The game continues with step 1 with a randomly drawn first-term mayor.\n",
    "\n"
   ]
  },
  {
   "cell_type": "markdown",
   "metadata": {},
   "source": [
    "The problem is solved for the perfect Bayesian equilibrium in pure strategies.\n",
    "A strategy for the mayor is a sequence of choices, $e^T_i(q_i, X_i)$ for each term $T$.\n",
    "A strategy for the voter is the choice $R_i(\\tilde{\\epsilon_i}, \\delta_i, q_i, X_i)$ of whether to reelect the mayor.\n",
    "\n",
    "A perfect Bayesian equilibrium is a sequence of mayor and voter strategies and voter beliefs such that\n",
    "\n",
    "1. the mayor's strategy is optimal given the voter's strategy,\n",
    "2. the voter's strategy is optimal given the mayor's startegy, and\n",
    "3. the voter's beliefs are consistent with the mayor's strategy on the equilibrium path."
   ]
  },
  {
   "cell_type": "markdown",
   "metadata": {},
   "source": [
    "The second-term mayor just maximizes his expected second-term utility.\n",
    "Assuming $1 > b_0(\\gamma_0 + \\gamma_1 q_i)$ so that there is a unique interior solution, the second-term mayor's equilibrium strategy is \n",
    "\n",
    "$$\n",
    "    e^{S*} = \\frac{1 - b_0 (\\gamma_0 + \\gamma_1 q_i)}{2 b_1 (\\gamma_0 + \\gamma_1 q_i)}.\n",
    "$$"
   ]
  },
  {
   "cell_type": "markdown",
   "metadata": {},
   "source": [
    "Given the voter's belief over the mayor's unobserved characteristic, he chooses whether or not to reelect the incumbent by considering which option maximizes his expected lifetime utility.\n",
    "\n",
    "The voter's value function when selecting a random first-term mayor is \n",
    "\n",
    "$$\n",
    "    V(q_i) = \\int v^{F*} (X_i, \\epsilon_i, q_i, \\delta_i) + \\beta \\left\\{ p(X_i, \\epsilon_i, a^F_i, q_i) [v^{S*}(X_i, \\epsilon_i, q_i) + \\beta V(q_i) ] + [1 - p(X_i, \\epsilon_i, a^F_i, q_i)] V(q_i) \\right\\} dF.\n",
    "$$\n",
    "\n",
    "Here, \n",
    "- $\\beta$ is the discount factor,\n",
    "- $p$ is the equilibrium probability of reelection, \n",
    "- $v^{F*}$ and $v^{S*}$ denote equilibrium per-period voter utilities, and\n",
    "- $F$ is the joint distribution of $(X_i, \\epsilon_i, \\delta_i, a^F_i)$.\n",
    "\n",
    "Given his belief, the voter reelects the incumbent if \n",
    "\n",
    "$$\n",
    "    X'_i \\xi + \\delta_i - \\beta r^{S*}_i + \\beta^2 V(q_i) \\ge \\beta V(q_i) \\\\\n",
    "    \\Leftrightarrow X'_i \\xi + \\delta_i - \\beta \\left(e^{S*}_i + X'_i \\alpha + \\tilde{\\epsilon}_i \\right) + \\beta^2 V(q_i)\\ge \\beta V(q_i) \\\\\n",
    "    \\Leftrightarrow \\delta_i \\ge - h(X_i) + \\beta \\left[ (1 - \\beta) V(q_i) + e^{S*}_i + \\tilde{\\epsilon}_i \\right],\n",
    "$$\n",
    "\n",
    "where $h(X_i) = X'_i \\xi - \\beta X'_i \\alpha$."
   ]
  },
  {
   "cell_type": "markdown",
   "metadata": {},
   "source": [
    "Next, the probability that a mayor of type $(\\epsilon_i, X_i)$ is reelected in equilibrium will be derived.\n",
    "For this, first consider the case where the voter observes the rent $(s^F_i = 1)$.\n",
    "Suppose that the actual unobserved mayor characteristic and the actual first-term effort are $(\\epsilon_i, e^F_i)$.\n",
    "Suppose further that the voter's belief over the mayor's unobserved characteristic after observing the extracted rent is $\\tilde{\\epsilon}_i$.\n",
    "Then $\\tilde{\\epsilon}_i = \\epsilon_i + e^F_i - e^{F*}_i$ _(I do not understand this part, especially why the belief depends on the equilibrium first-term effort)_. \n",
    "The probability that the voter reelects an incumbent conditional on the mayor's type and his action $e^F_i$ is given by\n",
    "\n",
    "$$\n",
    "    P(R_t = 1 | s^F_t = 1, X_i, \\epsilon_i, e^F_i, q_t) = Pr(\\delta_i \\ge - h(X_i) + \\beta \\left[ (1 - \\beta) V(q_i) + e^{S*}_i + \\tilde{\\epsilon}_i \\right] | s^F_t = 1, X_i, \\epsilon_i, e^F_i, q_t) \\\\\n",
    "    = \n",
    "    \\begin{cases}\n",
    "    1 & \\text{if}\\ - h(X_i) + \\beta \\left[ (1 - \\beta) V(q_i) + e^{S*}_i + \\tilde{\\epsilon}_i \\right] \\le \\mu_D - \\frac{1}{2 \\sigma_0} \\\\\n",
    "    0 & \\text{if}\\ - h(X_i) + \\beta \\left[ (1 - \\beta) V(q_i) + e^{S*}_i + \\tilde{\\epsilon}_i \\right] \\ge \\mu_D + \\frac{1}{2 \\sigma_0} \\\\\n",
    "    \\sigma_D \\left[ \\mu_D + \\frac{1}{2 \\sigma_0} - \\left( - h(X_i) + \\beta \\left[ (1 - \\beta) V(q_i) + e^{S*}_i + \\tilde{\\epsilon}_i \\right] \\right) \\right] & \\text{otherwise}\n",
    "    \\end{cases}.\n",
    "$$\n",
    "\n",
    "$$\n",
    "p(X_i, \\epsilon_i, a^F_i, q_i) = \n",
    "$$"
   ]
  },
  {
   "cell_type": "markdown",
   "metadata": {},
   "source": []
  }
 ],
 "metadata": {
  "kernelspec": {
   "display_name": "Julia 1.4.1",
   "language": "julia",
   "name": "julia-1.4"
  },
  "language_info": {
   "file_extension": ".jl",
   "mimetype": "application/julia",
   "name": "julia",
   "version": "1.4.1"
  },
  "toc": {
   "base_numbering": 1,
   "nav_menu": {},
   "number_sections": false,
   "sideBar": true,
   "skip_h1_title": false,
   "title_cell": "Table of Contents",
   "title_sidebar": "Contents",
   "toc_cell": false,
   "toc_position": {},
   "toc_section_display": true,
   "toc_window_display": false
  }
 },
 "nbformat": 4,
 "nbformat_minor": 4
}
