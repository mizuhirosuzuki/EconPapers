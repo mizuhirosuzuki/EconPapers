{
 "cells": [
  {
   "cell_type": "markdown",
   "metadata": {},
   "source": [
    "# Fafchamps (1993): \"Sequential Labor Decisions Under Uncertainty: An Estimable Household Model of West-African Farmers\""
   ]
  },
  {
   "cell_type": "markdown",
   "metadata": {},
   "source": [
    "In this notebook, I solve the dynamic model in [Fafchamps (1993)](https://www.jstor.org/stable/2951497?seq=1#metadata_info_tab_contents) and simulate the model.\n",
    "I am responsible for all errors in this document."
   ]
  },
  {
   "cell_type": "markdown",
   "metadata": {},
   "source": [
    "## Research questions"
   ]
  },
  {
   "cell_type": "markdown",
   "metadata": {},
   "source": [
    "In Burkina Faso, it has been observed that, while farmers complain that they face labor shortages, the level of agricultural labor effort is low.\n",
    "The author hypothesizes that farmers suppress their labor input in one season (planting season) since too much labor input in this season leads to too much crop growth and hence to labor shortages in the following season (weeding season).\n",
    "To corroborate this hypothesis, this paper answers the following questions:\n",
    "\n",
    "- How flexible is agricultural production (ie. how much is the elasticity of substitution between labor and crop growth)?\n",
    "- How much is the intertemporal substitutability in consumption and leisure?"
   ]
  },
  {
   "cell_type": "markdown",
   "metadata": {},
   "source": [
    "## Model"
   ]
  },
  {
   "cell_type": "markdown",
   "metadata": {},
   "source": [
    "\\begin{equation*}\n",
    "    \\max_{l_1} E_{\\theta_1} \\left[ \\max_{l_2} E_{\\theta_2} \\left[ \\frac{1}{1 - R} \\left\\{ \\delta \\left(\\gamma \\left(1 - l_1 \\right)^{\\sigma} + (1 - \\gamma) \\left(1 - l_2 \\right)^{\\sigma} \\right)^{\\frac{\\rho}{\\sigma}} + (1 - \\delta) y_3^{\\rho} \\right\\}^{\\frac{1 - R}{\\rho}} \\right] \\right]\n",
    "\\end{equation*}\n",
    "\n",
    "subject to the stochastic laws of motion\n",
    "\n",
    "\\begin{align*}\n",
    "    y_1 &= A e^{\\theta_0} \\\\\n",
    "    y_2 &= \\left(\\alpha y_1^{r_1} + (1 - \\alpha) l_1^{r_1} \\right)^{\\frac{1}{r_1}} e^{\\theta_1} \\\\\n",
    "    y_3 &= b \\left(\\beta y_2^{r_2} + (1 - \\beta) l_2^{r_2} \\right)^{\\frac{1}{r_2}} e^{\\theta_2}.\n",
    "\\end{align*}"
   ]
  },
  {
   "cell_type": "markdown",
   "metadata": {},
   "source": [
    "Euler equations are\n",
    "\n",
    "\\begin{align}\n",
    "    E_{\\theta_1} \\left[ E_{\\theta_2} \\left[ \\left\\{ \\delta \\left(\\gamma \\left(1 - l_1(A, \\theta_0) \\right)^{\\sigma} + (1 - \\gamma) \\left(1 - l_2(A, \\theta_0, l_1, \\theta_1) \\right)^{\\sigma} \\right)^{\\frac{\\rho}{\\sigma}} + (1 - \\delta) y_3^{\\rho} \\right\\}^{\\frac{1 - R}{\\rho} - 1} \\cdot\n",
    "    \\left\\{ - \\delta \\left(\\gamma \\left(1 - l_1(A, \\theta_0) \\right)^{\\sigma} + (1 - \\gamma) \\left(1 - l_2(A, \\theta_0, l_1, \\theta_1) \\right)^{\\sigma} \\right)^{\\frac{\\rho}{\\sigma} - 1} \\gamma (1 - l_1(A, \\theta_0))^{\\sigma - 1} + (1 - \\delta) y_3^{\\rho - 1} \\frac{\\partial y_3}{\\partial y_2} \\frac{\\partial y_2}{\\partial l_1} \\right\\} \\right] \\right] = 0 \\\\\n",
    "    E_{\\theta_2} \\left[ \\left\\{ \\delta \\left(\\gamma \\left(1 - l_1(A, \\theta_0) \\right)^{\\sigma} + (1 - \\gamma) \\left(1 - l_2(A, \\theta_0, l_1, \\theta_1) \\right)^{\\sigma} \\right)^{\\frac{\\rho}{\\sigma}} + (1 - \\delta) y_3^{\\rho} \\right\\}^{\\frac{1 - R}{\\rho} - 1} \\cdot \n",
    "    \\left\\{ - \\delta \\left(\\gamma \\left(1 - l_1(A, \\theta_0) \\right)^{\\sigma} + (1 - \\gamma) \\left(1 - l_2(A, \\theta_0, l_1, \\theta_1) \\right)^{\\sigma} \\right)^{\\frac{\\rho}{\\sigma} - 1} (1 - \\gamma) (1 - l_2(A, \\theta_0, l_1, \\theta_1))^{\\sigma - 1} + (1 - \\delta) y_3^{\\rho - 1} \\frac{\\partial y_3}{\\partial l_2} \\right\\} \\right] = 0,\n",
    "\\end{align}\n",
    "\n",
    "where\n",
    "\n",
    "\\begin{align*}\n",
    "    \\frac{\\partial y_3}{\\partial y_2} &= b \\left(\\beta y_2^{r_2} + (1 - \\beta) l_2^{r_2} \\right)^{\\frac{1}{r_2} - 1} \\beta y_2^{r_2 - 1} e^{\\theta_2} \\\\\n",
    "    \\frac{\\partial y_2}{\\partial l_1} &= \\left(\\alpha y_1^{r_1} + (1 - \\alpha) l_1^{r_1} \\right)^{\\frac{1}{r_1} - 1} \\alpha y_1^{r_1 - 1} e^{\\theta_1} \\\\\n",
    "    \\frac{\\partial y_3}{\\partial l_2} &= b \\left(\\beta y_2^{r_2} + (1 - \\beta) l_2^{r_2} \\right)^{\\frac{1}{r_2} - 1} (1 - \\beta) l_2^{r_2 - 1} e^{\\theta_2}.\n",
    "\\end{align*}\n"
   ]
  },
  {
   "cell_type": "markdown",
   "metadata": {},
   "source": [
    "### What does the model ignore?"
   ]
  },
  {
   "cell_type": "markdown",
   "metadata": {},
   "source": [
    "- Dynamism across agricultural seasons (eg. saving, land investment, etc.)\n",
    "- Serial correlations of shocks"
   ]
  },
  {
   "cell_type": "markdown",
   "metadata": {},
   "source": [
    "## Identification (and additional assumptions)"
   ]
  },
  {
   "cell_type": "markdown",
   "metadata": {},
   "source": [
    "## Simulating data"
   ]
  },
  {
   "cell_type": "markdown",
   "metadata": {},
   "source": [
    "To simulate data, I need to find optimal policies satisfying Euler equations above.\n",
    "For this, I need to evaluate expectations.\n",
    "As in the paper, I use a Gauss-Hermite quadrature with six nodes for each random shock to evaluate each expectation.\n",
    "\n",
    "Given $\\theta_0$ (and $A$), the first-period labor input $l_1$ is determined as follows:\n",
    "\n",
    "- At each $\\theta_1$ node, with some $l_1$, I obtain $l_2(A, \\theta_0, l_1, \\theta_1)$ from (2);\n",
    "- I then substitute these $l_1$ and $l_2(A, \\theta_0, l_1, \\theta_1)$ into (1);\n",
    "- Find $l_1$ with which the steps above make the left-hand side of (1) zero.\n",
    "\n",
    "As in the data, the information that farmers have includes the followings:\n",
    "\n",
    "- Land ($A$);\n",
    "- Labor inputs in the first period ($l_1$) and in the second period ($l_2$);\n",
    "- Final output ($y_3$).\n",
    "\n",
    "As argued in the paper, I assume that farmers' priors are the same as true variances of shocks.\n",
    "Hence, in the expectation calculations, I use the true variances."
   ]
  },
  {
   "cell_type": "code",
   "execution_count": 4,
   "metadata": {},
   "outputs": [],
   "source": [
    "import numpy as np\n",
    "import quantecon\n",
    "import scipy\n",
    "import scipy.optimize\n",
    "import pandas as pd\n",
    "import matplotlib.pyplot as plt\n",
    "\n",
    "%matplotlib inline"
   ]
  },
  {
   "cell_type": "code",
   "execution_count": 5,
   "metadata": {},
   "outputs": [],
   "source": [
    "delta = 0.76839\n",
    "sigma = 0.95534\n",
    "rho = 0.72795\n",
    "gamma = 0.5\n",
    "R = 0.5\n",
    "alpha = 0.999\n",
    "r1 = -4.32815\n",
    "beta = 0.46377\n",
    "r2 = -0.05717\n",
    "b = 2.95781\n",
    "\n",
    "sigma0 = 0.86582\n",
    "sigma1 = 1.15954\n",
    "sigma2 = 0.62278\n"
   ]
  },
  {
   "cell_type": "code",
   "execution_count": 3,
   "metadata": {},
   "outputs": [],
   "source": [
    "# param = [delta, sigma, rho, alpha, r1, beta, r2, b, sigma0, sigma1, sigma2]"
   ]
  },
  {
   "cell_type": "code",
   "execution_count": 6,
   "metadata": {},
   "outputs": [],
   "source": [
    "# Set parameters of the distribution of A so that the mean is 0.82, the average area/head (ha) in Sahelian Zone, Woure\n",
    "mu_A = -0.3\n",
    "sigma_A = np.sqrt(2 * (np.log(0.82) - mu_A))"
   ]
  },
  {
   "cell_type": "code",
   "execution_count": 7,
   "metadata": {},
   "outputs": [],
   "source": [
    "N = 1000\n",
    "np.random.seed(123)"
   ]
  },
  {
   "cell_type": "markdown",
   "metadata": {},
   "source": [
    "For ease, I use standard normal random variables $u_0$, $u_1$, and $u_2$ that are related to shocks by $\\theta_0 = \\sigma_0 u_0$, $\\theta_1 = \\sigma_1 u_1$, and $\\theta_2 = \\sigma_2 u_2$."
   ]
  },
  {
   "cell_type": "code",
   "execution_count": 9,
   "metadata": {},
   "outputs": [],
   "source": [
    "A = np.exp(np.random.normal(mu_A, sigma_A, N))\n",
    "u0 = np.random.normal(0, 1, N)\n",
    "u1 = np.random.normal(0, 1, N)\n",
    "u2 = np.random.normal(0, 1, N)"
   ]
  },
  {
   "cell_type": "code",
   "execution_count": 10,
   "metadata": {},
   "outputs": [],
   "source": [
    "def Euler2_function(l2, u1, l1, u0, A, param):\n",
    "\n",
    "    delta, sigma, rho, alpha, r1, beta, r2, b, sigma0, sigma1, sigma2 = param\n",
    "\n",
    "    node, weight = quantecon.quad.qnwnorm(6)\n",
    "    y1 = A * np.exp(u0 * sigma0)\n",
    "    y2 = (alpha * y1 ** r1 + (1 - alpha) * l1 ** r1) ** (1 / r1) * np.exp(u1 * sigma1)\n",
    "    y3 = b * (beta * y2 ** r2 + (1 - beta) * l2 ** r2) ** (1 / r2) * np.exp(node * sigma2)\n",
    "    dy3_dl2 = b * (beta * y2 ** r2 + (1 - beta) * l2 ** r2) ** (1 / r2 - 1) * \\\n",
    "        (1 - beta) * l2 ** (r2 - 1) * np.exp(node * sigma2)\n",
    "\n",
    "    return(\n",
    "        np.dot(\n",
    "            weight, \n",
    "            (\n",
    "                delta * (gamma * (1 - l1) ** sigma + (1 - gamma) * (1 - l2) ** sigma) ** (rho / sigma) + \\\n",
    "                (1 - delta) * y3 ** rho\n",
    "            ) ** ((1 - R) / rho - 1) * (\n",
    "                - delta * (gamma * (1 - l1) ** sigma + (1 - gamma) * (1 - l2) ** sigma) ** (rho / sigma - 1) * \\\n",
    "                (1 - gamma) * (1 - l2) ** (sigma - 1) + (1 - delta) * y3 ** (rho - 1) * dy3_dl2\n",
    "            )\n",
    "        )\n",
    "    )\n",
    "\n",
    "def Euler1_function(l1, A, u0, param):\n",
    "\n",
    "    delta, sigma, rho, alpha, r1, beta, r2, b, sigma0, sigma1, sigma2 = param\n",
    "\n",
    "    node, weight = quantecon.quad.qnwnorm(6)\n",
    "    l2_node = np.zeros(6)\n",
    "    for u1_node, i in zip(node, range(6)):\n",
    "        l2_node[i] = scipy.optimize.brentq(Euler2_function, 1e-14, 1 - 1e-14, args = (u1_node, l1, u0, A, param))\n",
    "\n",
    "    node, weight = quantecon.quad.qnwnorm((6, 6))\n",
    "\n",
    "    u1 = node[:,0]\n",
    "    u2 = node[:,1]\n",
    "    l2_node_ext = np.tile(l2_node, 6)\n",
    "\n",
    "    y1 = A * np.exp(u0 * sigma0)\n",
    "    y2 = (alpha * y1 ** r1 + (1 - alpha) * l1 ** r1) ** (1 / r1) * np.exp(u1 * sigma1)\n",
    "    y3 = b * (beta * y2 ** r2 + (1 - beta) * l2_node_ext ** r2) ** (1 / r2) * np.exp(u2 * sigma2)\n",
    "    dy3_dy2 = b * (beta * y2 ** r2 + (1 - beta) * l2_node_ext ** r2) ** (1 / r2 - 1) * \\\n",
    "        beta * y2 ** (r2 - 1) * np.exp(u2 * sigma2)\n",
    "    dy2_dl1 = (alpha * y1 ** r1 + (1 - alpha) * l1 ** r1) ** (1 / r1 - 1) * \\\n",
    "        (1 - alpha) * l1 ** (r1 - 1) * np.exp(u1 * sigma1)\n",
    "\n",
    "    return(\n",
    "        np.dot(\n",
    "            weight, \n",
    "            (\n",
    "                delta * (gamma * (1 - l1) ** sigma + (1 - gamma) * (1 - l2_node_ext) ** sigma) ** (rho / sigma) + \\\n",
    "                (1 - delta) * y3 ** rho\n",
    "            ) ** ((1 - R) / rho - 1) * (\n",
    "                - delta * (\n",
    "                    gamma * (1 - l1) ** sigma + (1 - gamma) * (1 - l2_node_ext) ** sigma\n",
    "                ) ** (rho / sigma - 1) * gamma * (1 - l1) ** (sigma - 1) + \\\n",
    "                (1 - delta) * y3 ** (rho - 1) * dy3_dy2 * dy2_dl1\n",
    "            )\n",
    "        )\n",
    "    )\n"
   ]
  },
  {
   "cell_type": "code",
   "execution_count": 11,
   "metadata": {},
   "outputs": [],
   "source": [
    "def simulate_l1_l2(A, u0, u1, param):\n",
    "    \n",
    "    l1 = scipy.optimize.brentq(Euler1_function, 1e-14, 1 - 1e-14, args = (A, u0, param))\n",
    "    l2 = scipy.optimize.brentq(Euler2_function, 1e-14, 1 - 1e-14, args = (u1, l1, u0, A, param))\n",
    "    \n",
    "    return(l1, l2)"
   ]
  },
  {
   "cell_type": "code",
   "execution_count": 12,
   "metadata": {},
   "outputs": [],
   "source": [
    "simulate_l1_l2_vec = np.vectorize(\n",
    "    lambda A, u0, u1: simulate_l1_l2(\n",
    "        A, u0, u1, param = [delta, sigma, rho, alpha, r1, beta, r2, b, sigma0, sigma1, sigma2]\n",
    "    )\n",
    ")"
   ]
  },
  {
   "cell_type": "code",
   "execution_count": 13,
   "metadata": {
    "scrolled": false
   },
   "outputs": [
    {
     "name": "stdout",
     "output_type": "stream",
     "text": [
      "CPU times: user 49.4 s, sys: 551 ms, total: 50 s\n",
      "Wall time: 50.3 s\n"
     ]
    }
   ],
   "source": [
    "%%time\n",
    "l1, l2 = simulate_l1_l2_vec(A, u0, u1)"
   ]
  },
  {
   "cell_type": "code",
   "execution_count": 14,
   "metadata": {},
   "outputs": [],
   "source": [
    "y1 = A * np.exp(u0 * sigma0)\n",
    "y2 = (alpha * y1 ** r1 + (1 - alpha) * l1 ** r1) ** (1 / r1) * np.exp(u1 * sigma1)\n",
    "y3 = b * (beta * y2 ** r2 + (1 - beta) * l2 ** r2) ** (1 / r2) * np.exp(u2 * sigma2)"
   ]
  },
  {
   "cell_type": "code",
   "execution_count": 15,
   "metadata": {},
   "outputs": [],
   "source": [
    "sim_data = pd.DataFrame({\n",
    "    'A': A,\n",
    "    'l1': l1,\n",
    "    'l2': l2,\n",
    "    'y3': y3\n",
    "})"
   ]
  },
  {
   "cell_type": "code",
   "execution_count": 16,
   "metadata": {},
   "outputs": [
    {
     "data": {
      "text/html": [
       "<div>\n",
       "<style scoped>\n",
       "    .dataframe tbody tr th:only-of-type {\n",
       "        vertical-align: middle;\n",
       "    }\n",
       "\n",
       "    .dataframe tbody tr th {\n",
       "        vertical-align: top;\n",
       "    }\n",
       "\n",
       "    .dataframe thead th {\n",
       "        text-align: right;\n",
       "    }\n",
       "</style>\n",
       "<table border=\"1\" class=\"dataframe\">\n",
       "  <thead>\n",
       "    <tr style=\"text-align: right;\">\n",
       "      <th></th>\n",
       "      <th>A</th>\n",
       "      <th>l1</th>\n",
       "      <th>l2</th>\n",
       "      <th>y3</th>\n",
       "    </tr>\n",
       "  </thead>\n",
       "  <tbody>\n",
       "    <tr>\n",
       "      <th>0</th>\n",
       "      <td>0.454183</td>\n",
       "      <td>0.062982</td>\n",
       "      <td>0.085255</td>\n",
       "      <td>0.113624</td>\n",
       "    </tr>\n",
       "    <tr>\n",
       "      <th>1</th>\n",
       "      <td>1.161216</td>\n",
       "      <td>0.341026</td>\n",
       "      <td>0.320850</td>\n",
       "      <td>1.491355</td>\n",
       "    </tr>\n",
       "    <tr>\n",
       "      <th>2</th>\n",
       "      <td>0.841582</td>\n",
       "      <td>0.297253</td>\n",
       "      <td>0.908771</td>\n",
       "      <td>11.619369</td>\n",
       "    </tr>\n",
       "    <tr>\n",
       "      <th>3</th>\n",
       "      <td>0.375749</td>\n",
       "      <td>0.044128</td>\n",
       "      <td>0.357493</td>\n",
       "      <td>1.933960</td>\n",
       "    </tr>\n",
       "    <tr>\n",
       "      <th>4</th>\n",
       "      <td>0.570778</td>\n",
       "      <td>0.186870</td>\n",
       "      <td>0.191758</td>\n",
       "      <td>1.548811</td>\n",
       "    </tr>\n",
       "  </tbody>\n",
       "</table>\n",
       "</div>"
      ],
      "text/plain": [
       "          A        l1        l2         y3\n",
       "0  0.454183  0.062982  0.085255   0.113624\n",
       "1  1.161216  0.341026  0.320850   1.491355\n",
       "2  0.841582  0.297253  0.908771  11.619369\n",
       "3  0.375749  0.044128  0.357493   1.933960\n",
       "4  0.570778  0.186870  0.191758   1.548811"
      ]
     },
     "execution_count": 16,
     "metadata": {},
     "output_type": "execute_result"
    }
   ],
   "source": [
    "sim_data.head()"
   ]
  },
  {
   "cell_type": "markdown",
   "metadata": {},
   "source": [
    "### Simulation of Figure 1 and Figure 2"
   ]
  },
  {
   "cell_type": "markdown",
   "metadata": {},
   "source": [
    "#### Figure 1"
   ]
  },
  {
   "cell_type": "code",
   "execution_count": 17,
   "metadata": {},
   "outputs": [],
   "source": [
    "theta0_grid = np.arange(-4, 4, 0.1)\n",
    "l1_fig1 = np.zeros((len(theta0_grid), 4))\n",
    "for i, A_fig1 in enumerate([0.5, 1, 2, 4]):\n",
    "    for j, theta0_fig1 in enumerate(theta0_grid):\n",
    "        l1_fig1[j, i] = scipy.optimize.brentq(\n",
    "            Euler1_function, \n",
    "            1e-14, 1 - 1e-14, args = (\n",
    "                A_fig1, theta0_fig1 / sigma0, \n",
    "                [delta, sigma, rho, alpha, r1, beta, r2, b, sigma0, sigma1, sigma2]\n",
    "            )\n",
    "        )\n"
   ]
  },
  {
   "cell_type": "code",
   "execution_count": 18,
   "metadata": {},
   "outputs": [
    {
     "data": {
      "image/png": "[encoded data removed]",
      "text/plain": [
       "<Figure size 432x288 with 1 Axes>"
      ]
     },
     "metadata": {
      "needs_background": "light"
     },
     "output_type": "display_data"
    }
   ],
   "source": [
    "fig, ax = plt.subplots()\n",
    "ax.plot(theta0_grid, l1_fig1[:,0], label = 'Small Acreage ($A = 0.5$)')\n",
    "ax.plot(theta0_grid, l1_fig1[:,1])\n",
    "ax.plot(theta0_grid, l1_fig1[:,2])\n",
    "ax.plot(theta0_grid, l1_fig1[:,3], label = 'Large Acreage ($A = 4$)')\n",
    "ax.set_xlabel(xlabel = '$\\\\theta_0$', fontsize = 18)\n",
    "ax.set_ylabel(ylabel = '$l_1$', fontsize = 18)\n",
    "fig.suptitle(\n",
    "    'Planting labor as a function of land and $\\\\theta_0$ (Figure 1 in the paper, but in a different region)',\n",
    "    fontsize = 15\n",
    ")\n",
    "ax.legend(bbox_to_anchor = (1.05, 1), loc = 'upper left', borderaxespad = 0.)\n",
    "plt.show()"
   ]
  },
  {
   "cell_type": "markdown",
   "metadata": {},
   "source": [
    "#### Figure 2"
   ]
  },
  {
   "cell_type": "code",
   "execution_count": 19,
   "metadata": {},
   "outputs": [],
   "source": [
    "theta1_grid = np.arange(-3, 3, 0.1)\n",
    "A_fig2 = 1\n",
    "l2_fig2 = np.zeros((len(theta1_grid), 4))\n",
    "for i, theta0_fig2 in enumerate([-2, -1, 1, 2]):\n",
    "    l1_fig2 = scipy.optimize.brentq(\n",
    "        Euler1_function, 1e-14, 1 - 1e-14, \n",
    "        args = (\n",
    "            A_fig2, theta0_fig2 / sigma0, \n",
    "            [delta, sigma, rho, alpha, r1, beta, r2, b, sigma0, sigma1, sigma2]\n",
    "        )\n",
    "    )\n",
    "    for j, theta1_fig2 in enumerate(theta1_grid):\n",
    "        l2_fig2[j, i] = scipy.optimize.brentq(\n",
    "            Euler2_function, \n",
    "            1e-14, 1 - 1e-14, \n",
    "            args = (\n",
    "                theta1_fig2 / sigma1, l1_fig2, theta0_fig2 / sigma0, A_fig2, \n",
    "                [delta, sigma, rho, alpha, r1, beta, r2, b, sigma0, sigma1, sigma2]\n",
    "            )\n",
    "        )"
   ]
  },
  {
   "cell_type": "code",
   "execution_count": 20,
   "metadata": {},
   "outputs": [
    {
     "data": {
      "image/png": "[encoded data removed]",
      "text/plain": [
       "<Figure size 432x288 with 1 Axes>"
      ]
     },
     "metadata": {
      "needs_background": "light"
     },
     "output_type": "display_data"
    }
   ],
   "source": [
    "fig, ax = plt.subplots()\n",
    "ax.plot(theta1_grid, l2_fig2[:,0], label = 'Low $\\\\theta_0$ ($\\\\theta_0 = -2$)')\n",
    "ax.plot(theta1_grid, l2_fig2[:,1])\n",
    "ax.plot(theta1_grid, l2_fig2[:,2])\n",
    "ax.plot(theta1_grid, l2_fig2[:,3], label = 'High $\\\\theta_0$ ($\\\\theta_0 = 2$)')\n",
    "ax.set_xlabel(xlabel = '$\\\\theta_1$', fontsize = 18)\n",
    "ax.set_ylabel(ylabel = '$l_2$', fontsize = 18)\n",
    "fig.suptitle(\n",
    "    'Weeding labor as a function of $\\\\theta_0$ and $\\\\theta_1$ (Figure 2 in the paper, but in a different region)',\n",
    "    fontsize = 15\n",
    ")\n",
    "ax.legend(bbox_to_anchor = (1.05, 1), loc = 'upper left', borderaxespad = 0.)\n",
    "plt.show()"
   ]
  },
  {
   "cell_type": "code",
   "execution_count": null,
   "metadata": {},
   "outputs": [],
   "source": []
  }
 ],
 "metadata": {
  "kernelspec": {
   "display_name": "Python 3",
   "language": "python",
   "name": "python3"
  },
  "language_info": {
   "codemirror_mode": {
    "name": "ipython",
    "version": 3
   },
   "file_extension": ".py",
   "mimetype": "text/x-python",
   "name": "python",
   "nbconvert_exporter": "python",
   "pygments_lexer": "ipython3",
   "version": "3.8.8"
  },
  "toc": {
   "base_numbering": 1,
   "nav_menu": {},
   "number_sections": false,
   "sideBar": true,
   "skip_h1_title": false,
   "title_cell": "Table of Contents",
   "title_sidebar": "Contents",
   "toc_cell": false,
   "toc_position": {},
   "toc_section_display": true,
   "toc_window_display": false
  }
 },
 "nbformat": 4,
 "nbformat_minor": 2
}
