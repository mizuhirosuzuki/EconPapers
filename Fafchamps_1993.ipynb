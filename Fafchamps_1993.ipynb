{
 "cells": [
  {
   "cell_type": "markdown",
   "metadata": {},
   "source": [
    "# Fafchamps (1993): \"Sequential Labor Decisions Under Uncertainty: An Estimable Household Model of West-African Farmers\""
   ]
  },
  {
   "cell_type": "markdown",
   "metadata": {},
   "source": [
    "In this notebook, I try to understand structural estimation in [Fafchamps (1993)](https://www.jstor.org/stable/2951497?seq=1#metadata_info_tab_contents)."
   ]
  },
  {
   "cell_type": "markdown",
   "metadata": {},
   "source": [
    "## Research questions"
   ]
  },
  {
   "cell_type": "markdown",
   "metadata": {},
   "source": [
    "In Burkina Faso, it has been observed that, while farmers complain that they face labor shortages, the level of agricultural labor effort is low.\n",
    "The author hypothesizes that farmers suppress their labor input in one season (planting season) since too much labor input in this season leads to too much crop growth and hence to labor shortages in the following season (weeding season).\n",
    "To corroborate this hypothesis, this paper answers the following questions:\n",
    "\n",
    "- How flexible is agricultural production (ie. how much is the elasticity of substitution between labor and crop growth)?\n",
    "- How much is the intertemporal substitutability in consumption and leisure?"
   ]
  },
  {
   "cell_type": "markdown",
   "metadata": {},
   "source": [
    "### Why structural estimation?"
   ]
  },
  {
   "cell_type": "markdown",
   "metadata": {},
   "source": [
    "The author is interested in structural parameters (flexibility in production and intertemporal substitutability in consumption)."
   ]
  },
  {
   "cell_type": "markdown",
   "metadata": {},
   "source": [
    "## Model"
   ]
  },
  {
   "cell_type": "markdown",
   "metadata": {},
   "source": [
    "\\begin{equation*}\n",
    "    \\max_{l_1} E_{\\theta_1} \\left[ \\max_{l_2} E_{\\theta_2} \\left[ \\frac{1}{1 - R} \\left\\{ \\delta \\left(\\gamma \\left(1 - l_1 \\right)^{\\sigma} + (1 - \\gamma) \\left(1 - l_2 \\right)^{\\sigma} \\right)^{\\frac{\\rho}{\\sigma}} + (1 - \\delta) y_3^{\\rho} \\right\\}^{\\frac{1 - R}{\\rho}} \\right] \\right]\n",
    "\\end{equation*}\n",
    "\n",
    "subject to the stochastic laws of motion\n",
    "\n",
    "\\begin{align*}\n",
    "    y_1 &= A e^{\\theta_0} \\\\\n",
    "    y_2 &= \\left(\\alpha y_1^{r_1} + (1 - \\alpha) l_1^{r_1} \\right)^{\\frac{1}{r_1}} e^{\\theta_1} \\\\\n",
    "    y_3 &= b \\left(\\beta y_2^{r_2} + (1 - \\beta) l_2^{r_2} \\right)^{\\frac{1}{r_2}} e^{\\theta_2}.\n",
    "\\end{align*}"
   ]
  },
  {
   "cell_type": "markdown",
   "metadata": {},
   "source": [
    "Euler equations are\n",
    "\n",
    "\\begin{align}\n",
    "    E_{\\theta_1} \\left[ E_{\\theta_2} \\left[ \\left\\{ \\delta \\left(\\gamma \\left(1 - l_1(A, \\theta_0) \\right)^{\\sigma} + (1 - \\gamma) \\left(1 - l_2(A, \\theta_0, l_1, \\theta_1) \\right)^{\\sigma} \\right)^{\\frac{\\rho}{\\sigma}} + (1 - \\delta) y_3^{\\rho} \\right\\}^{\\frac{1 - R}{\\rho} - 1} \\cdot\n",
    "    \\left\\{ - \\delta \\left(\\gamma \\left(1 - l_1(A, \\theta_0) \\right)^{\\sigma} + (1 - \\gamma) \\left(1 - l_2(A, \\theta_0, l_1, \\theta_1) \\right)^{\\sigma} \\right)^{\\frac{\\rho}{\\sigma} - 1} \\gamma (1 - l_1(A, \\theta_0))^{\\sigma - 1} + (1 - \\delta) y_3^{\\rho - 1} \\frac{\\partial y_3}{\\partial y_2} \\frac{\\partial y_2}{\\partial l_1} \\right\\} \\right] \\right] = 0 \\\\\n",
    "    E_{\\theta_2} \\left[ \\left\\{ \\delta \\left(\\gamma \\left(1 - l_1(A, \\theta_0) \\right)^{\\sigma} + (1 - \\gamma) \\left(1 - l_2(A, \\theta_0, l_1, \\theta_1) \\right)^{\\sigma} \\right)^{\\frac{\\rho}{\\sigma}} + (1 - \\delta) y_3^{\\rho} \\right\\}^{\\frac{1 - R}{\\rho} - 1} \\cdot \n",
    "    \\left\\{ - \\delta \\left(\\gamma \\left(1 - l_1(A, \\theta_0) \\right)^{\\sigma} + (1 - \\gamma) \\left(1 - l_2(A, \\theta_0, l_1, \\theta_1) \\right)^{\\sigma} \\right)^{\\frac{\\rho}{\\sigma} - 1} (1 - \\gamma) (1 - l_2(A, \\theta_0, l_1, \\theta_1))^{\\sigma - 1} + (1 - \\delta) y_3^{\\rho - 1} \\frac{\\partial y_3}{\\partial l_2} \\right\\} \\right] = 0,\n",
    "\\end{align}\n",
    "\n",
    "where\n",
    "\n",
    "\\begin{align*}\n",
    "    \\frac{\\partial y_3}{\\partial y_2} &= b \\left(\\beta y_2^{r_2} + (1 - \\beta) l_2^{r_2} \\right)^{\\frac{1}{r_2} - 1} \\beta y_2^{r_2 - 1} e^{\\theta_2} \\\\\n",
    "    \\frac{\\partial y_2}{\\partial l_1} &= \\left(\\alpha y_1^{r_1} + (1 - \\alpha) l_1^{r_1} \\right)^{\\frac{1}{r_1} - 1} \\alpha y_1^{r_1 - 1} e^{\\theta_1} \\\\\n",
    "    \\frac{\\partial y_3}{\\partial l_2} &= b \\left(\\beta y_2^{r_2} + (1 - \\beta) l_2^{r_2} \\right)^{\\frac{1}{r_2} - 1} (1 - \\beta) l_2^{r_2 - 1} e^{\\theta_2}.\n",
    "\\end{align*}\n"
   ]
  },
  {
   "cell_type": "markdown",
   "metadata": {},
   "source": [
    "### What does the model ignore?"
   ]
  },
  {
   "cell_type": "markdown",
   "metadata": {},
   "source": [
    "- Dynamism across agricultural seasons (eg. saving, land investment, etc.)\n",
    "- Serial correlations of shocks"
   ]
  },
  {
   "cell_type": "markdown",
   "metadata": {},
   "source": [
    "## Identification (and additional assumptions)"
   ]
  },
  {
   "cell_type": "markdown",
   "metadata": {},
   "source": [
    "## Simulating data"
   ]
  },
  {
   "cell_type": "markdown",
   "metadata": {},
   "source": [
    "To simulate data, I need to find optimal policies satisfying Euler equations above.\n",
    "For this, I need to evaluate expectations.\n",
    "As in the paper, I use a Gauss-Hermite quadrature with six nodes for each random shock to evaluate each expectation.\n",
    "\n",
    "Given $\\theta_0$ (and $A$), the first-period labor input $l_1$ is determined as follows:\n",
    "\n",
    "- At each $\\theta_1$ node, with some $l_1$, I obtain $l_2(A, \\theta_0, l_1, \\theta_1)$ from (2);\n",
    "- I then substitute these $l_1$ and $l_2(A, \\theta_0, l_1, \\theta_1)$ into (1);\n",
    "- Find $l_1$ with which the steps above make the left-hand side of (1) zero.\n",
    "\n",
    "As in the data, the information that farmers have includes the followings:\n",
    "\n",
    "- Land ($A$);\n",
    "- Labor inputs in the first period ($l_1$) and in the second period ($l_2$);\n",
    "- Final output ($y_3$).\n",
    "\n",
    "As argued in the paper, I assume that farmers' priors are the same as true variances of shocks.\n",
    "Hence, in the expectation calculations, I use the true variances."
   ]
  },
  {
   "cell_type": "code",
   "execution_count": 619,
   "metadata": {},
   "outputs": [],
   "source": [
    "import numpy as np\n",
    "import quantecon\n",
    "import scipy\n",
    "import pandas as pd\n",
    "import matplotlib.pyplot as plt\n",
    "\n",
    "%matplotlib inline"
   ]
  },
  {
   "cell_type": "code",
   "execution_count": 592,
   "metadata": {},
   "outputs": [],
   "source": [
    "delta = 0.76839\n",
    "sigma = 0.95534\n",
    "rho = 0.72795\n",
    "gamma = 0.5\n",
    "R = 0.5\n",
    "alpha = 0.999\n",
    "r1 = -4.32815\n",
    "beta = 0.46377\n",
    "r2 = -0.05717\n",
    "b = 2.95781\n",
    "\n",
    "sigma0 = 0.86582\n",
    "sigma1 = 1.15954\n",
    "sigma2 = 0.62278\n"
   ]
  },
  {
   "cell_type": "code",
   "execution_count": 593,
   "metadata": {},
   "outputs": [],
   "source": [
    "# Set parameters of the distribution of A so that the mean is 0.82, the average area/head (ha) in Sahelian Zone, Woure\n",
    "mu_A = -0.3\n",
    "sigma_A = np.sqrt(2 * (np.log(0.82) - mu_A))"
   ]
  },
  {
   "cell_type": "code",
   "execution_count": 695,
   "metadata": {},
   "outputs": [],
   "source": [
    "N = 1000\n",
    "np.random.seed(123)"
   ]
  },
  {
   "cell_type": "code",
   "execution_count": 696,
   "metadata": {},
   "outputs": [],
   "source": [
    "# A = np.exp(np.random.normal(mu_A, sigma_A, N))\n",
    "# theta0 = np.random.normal(0, sigma0, N)\n",
    "# theta1 = np.random.normal(0, sigma1, N)\n",
    "# theta2 = np.random.normal(0, sigma2, N)"
   ]
  },
  {
   "cell_type": "markdown",
   "metadata": {},
   "source": [
    "For ease, I use standard normal random variables $u_0$, $u_1$, and $u_2$ that are related to shocks by $\\theta_0 = \\sigma_0 u_0$, $\\theta_1 = \\sigma_1 u_1$, and $\\theta_2 = \\sigma_2 u_2$."
   ]
  },
  {
   "cell_type": "code",
   "execution_count": 750,
   "metadata": {},
   "outputs": [],
   "source": [
    "A = np.exp(np.random.normal(mu_A, sigma_A, N))\n",
    "u0 = np.random.normal(0, 1, N)\n",
    "u1 = np.random.normal(0, 1, N)\n",
    "u2 = np.random.normal(0, 1, N)"
   ]
  },
  {
   "cell_type": "code",
   "execution_count": 751,
   "metadata": {},
   "outputs": [],
   "source": [
    "def Euler2_function(l2, u1, l1, u0, A):\n",
    "    node, weight = quantecon.quad.qnwnorm(6)\n",
    "    y1 = A * np.exp(u0 * sigma0)\n",
    "    y2 = (alpha * y1 ** r1 + (1 - alpha) * l1 ** r1) ** (1 / r1) * np.exp(u1 * sigma1)\n",
    "    y3 = b * (beta * y2 ** r2 + (1 - beta) * l2 ** r2) ** (1 / r2) * np.exp(node * sigma2)\n",
    "    dy3_dl2 = b * (beta * y2 ** r2 + (1 - beta) * l2 ** r2) ** (1 / r2 - 1) * (1 - beta) * l2 ** (r2 - 1) * np.exp(node * sigma2)\n",
    "\n",
    "    return(np.dot(weight, (delta * (gamma * (1 - l1) ** sigma + (1 - gamma) * (1 - l2) ** sigma) ** (rho / sigma) + (1 - delta) * y3 ** rho) ** ((1 - R) / rho - 1) * (\n",
    "        - delta * (gamma * (1 - l1) ** sigma + (1 - gamma) * (1 - l2) ** sigma) ** (rho / sigma - 1) * (1 - gamma) * (1 - l2) ** (sigma - 1) + (1 - delta) * y3 ** (rho - 1) * dy3_dl2)))\n",
    "\n",
    "def Euler1_function(l1, A, u0):\n",
    "\n",
    "    node, weight = quantecon.quad.qnwnorm(6)\n",
    "    l2_node = np.zeros(6)\n",
    "    for u1, i in zip(node, range(6)):\n",
    "        l2_node[i] = scipy.optimize.brentq(Euler2_function, 1e-14, 1 - 1e-14, args = (u1, l1, u0, A))\n",
    "\n",
    "    node, weight = quantecon.quad.qnwnorm((6, 6))\n",
    "\n",
    "    u1 = node[:,0]\n",
    "    u2 = node[:,1]\n",
    "    l2_node_ext = np.tile(l2_node, 6)\n",
    "\n",
    "    y1 = A * np.exp(u0 * sigma0)\n",
    "    y2 = (alpha * y1 ** r1 + (1 - alpha) * l1 ** r1) ** (1 / r1) * np.exp(u1 * sigma1)\n",
    "    y3 = b * (beta * y2 ** r2 + (1 - beta) * l2_node_ext ** r2) ** (1 / r2) * np.exp(u2 * sigma2)\n",
    "    dy3_dy2 = b * (beta * y2 ** r2 + (1 - beta) * l2_node_ext ** r2) ** (1 / r2 - 1) * beta * y2 ** (r2 - 1) * np.exp(u2 * sigma2)\n",
    "    dy2_dl1 = (alpha * y1 ** r1 + (1 - alpha) * l1 ** r1) ** (1 / r1 - 1) * (1 - alpha) * l1 ** (r1 - 1) * np.exp(u1 * sigma1)\n",
    "\n",
    "    return(np.dot(weight, (delta * (gamma * (1 - l1) ** sigma + (1 - gamma) * (1 - l2_node_ext) ** sigma) ** (rho / sigma) + (1 - delta) * y3 ** rho) ** ((1 - R) / rho - 1) * (\n",
    "             - delta * (gamma * (1 - l1) ** sigma + (1 - gamma) * (1 - l2_node_ext) ** sigma) ** (rho / sigma - 1) * gamma * (1 - l1) ** (sigma - 1) + (1 - delta) * y3 ** (rho - 1) * dy3_dy2 * dy2_dl1)))\n"
   ]
  },
  {
   "cell_type": "code",
   "execution_count": 752,
   "metadata": {},
   "outputs": [],
   "source": [
    "def simulate_l1_l2(A, u0, u1):\n",
    "    \n",
    "    l1 = scipy.optimize.brentq(Euler1_function, 1e-14, 1 - 1e-14, args = (A, u0))\n",
    "    l2 = scipy.optimize.brentq(Euler2_function, 1e-14, 1 - 1e-14, args = (u1, l1, u0, A))\n",
    "    \n",
    "    return(l1, l2)"
   ]
  },
  {
   "cell_type": "code",
   "execution_count": 753,
   "metadata": {},
   "outputs": [
    {
     "data": {
      "text/plain": [
       "(0.3161812675959267, 0.3018673844308561)"
      ]
     },
     "execution_count": 753,
     "metadata": {},
     "output_type": "execute_result"
    }
   ],
   "source": [
    "simulate_l1_l2(A[0], u0[0], u1[0])"
   ]
  },
  {
   "cell_type": "code",
   "execution_count": 754,
   "metadata": {},
   "outputs": [],
   "source": [
    "simulate_l1_l2_vec = np.vectorize(test_function3)"
   ]
  },
  {
   "cell_type": "code",
   "execution_count": 755,
   "metadata": {
    "scrolled": false
   },
   "outputs": [
    {
     "name": "stdout",
     "output_type": "stream",
     "text": [
      "CPU times: user 1min 31s, sys: 554 ms, total: 1min 32s\n",
      "Wall time: 1min 34s\n"
     ]
    }
   ],
   "source": [
    "%%time\n",
    "l1, l2 = simulate_l1_l2_vec(A, u0, u1)"
   ]
  },
  {
   "cell_type": "code",
   "execution_count": 756,
   "metadata": {},
   "outputs": [],
   "source": [
    "y1 = A * np.exp(u0 * sigma0)\n",
    "y2 = (alpha * y1 ** r1 + (1 - alpha) * l1 ** r1) ** (1 / r1) * np.exp(u1 * sigma1)\n",
    "y3 = b * (beta * y2 ** r2 + (1 - beta) * l2 ** r2) ** (1 / r2) * np.exp(u2 * sigma2)"
   ]
  },
  {
   "cell_type": "code",
   "execution_count": 757,
   "metadata": {},
   "outputs": [],
   "source": [
    "sim_data = pd.DataFrame({'A': A,\n",
    "                        'l1': l1,\n",
    "                        'l2': l2,\n",
    "                        'y3': y3})"
   ]
  },
  {
   "cell_type": "code",
   "execution_count": 758,
   "metadata": {},
   "outputs": [
    {
     "data": {
      "text/html": [
       "<div>\n",
       "<style scoped>\n",
       "    .dataframe tbody tr th:only-of-type {\n",
       "        vertical-align: middle;\n",
       "    }\n",
       "\n",
       "    .dataframe tbody tr th {\n",
       "        vertical-align: top;\n",
       "    }\n",
       "\n",
       "    .dataframe thead th {\n",
       "        text-align: right;\n",
       "    }\n",
       "</style>\n",
       "<table border=\"1\" class=\"dataframe\">\n",
       "  <thead>\n",
       "    <tr style=\"text-align: right;\">\n",
       "      <th></th>\n",
       "      <th>A</th>\n",
       "      <th>l1</th>\n",
       "      <th>l2</th>\n",
       "      <th>y3</th>\n",
       "    </tr>\n",
       "  </thead>\n",
       "  <tbody>\n",
       "    <tr>\n",
       "      <th>0</th>\n",
       "      <td>0.640486</td>\n",
       "      <td>0.316181</td>\n",
       "      <td>0.301867</td>\n",
       "      <td>1.884963</td>\n",
       "    </tr>\n",
       "    <tr>\n",
       "      <th>1</th>\n",
       "      <td>0.928537</td>\n",
       "      <td>0.158395</td>\n",
       "      <td>0.361051</td>\n",
       "      <td>1.438594</td>\n",
       "    </tr>\n",
       "    <tr>\n",
       "      <th>2</th>\n",
       "      <td>0.787619</td>\n",
       "      <td>0.228034</td>\n",
       "      <td>0.320619</td>\n",
       "      <td>1.539139</td>\n",
       "    </tr>\n",
       "    <tr>\n",
       "      <th>3</th>\n",
       "      <td>0.885963</td>\n",
       "      <td>0.130025</td>\n",
       "      <td>0.996550</td>\n",
       "      <td>10.219988</td>\n",
       "    </tr>\n",
       "    <tr>\n",
       "      <th>4</th>\n",
       "      <td>0.656836</td>\n",
       "      <td>0.048753</td>\n",
       "      <td>0.335389</td>\n",
       "      <td>3.695256</td>\n",
       "    </tr>\n",
       "  </tbody>\n",
       "</table>\n",
       "</div>"
      ],
      "text/plain": [
       "          A        l1        l2         y3\n",
       "0  0.640486  0.316181  0.301867   1.884963\n",
       "1  0.928537  0.158395  0.361051   1.438594\n",
       "2  0.787619  0.228034  0.320619   1.539139\n",
       "3  0.885963  0.130025  0.996550  10.219988\n",
       "4  0.656836  0.048753  0.335389   3.695256"
      ]
     },
     "execution_count": 758,
     "metadata": {},
     "output_type": "execute_result"
    }
   ],
   "source": [
    "sim_data.head()"
   ]
  },
  {
   "cell_type": "markdown",
   "metadata": {},
   "source": [
    "### Simulation of Figure 1 and Figure 2"
   ]
  },
  {
   "cell_type": "markdown",
   "metadata": {},
   "source": [
    "#### Figure 1"
   ]
  },
  {
   "cell_type": "code",
   "execution_count": 759,
   "metadata": {},
   "outputs": [],
   "source": [
    "theta0_grid = np.arange(-4, 4, 0.1)\n",
    "l1_fig1 = np.zeros((len(theta0_grid), 4))\n",
    "for i, A_fig1 in enumerate([0.5, 1, 2, 4]):\n",
    "    for j, theta0_fig1 in enumerate(theta0_grid):\n",
    "        l1_fig1[j, i] = scipy.optimize.brentq(Euler1_function, 1e-14, 1 - 1e-14, args = (A_fig1, theta0_fig1 / sigma0))\n"
   ]
  },
  {
   "cell_type": "code",
   "execution_count": 760,
   "metadata": {},
   "outputs": [
    {
     "data": {
      "image/png": "[encoded data removed]",
      "text/plain": [
       "<Figure size 432x288 with 1 Axes>"
      ]
     },
     "metadata": {
      "needs_background": "light"
     },
     "output_type": "display_data"
    }
   ],
   "source": [
    "fig, ax = plt.subplots()\n",
    "ax.plot(theta0_grid, l1_fig1[:,0], label = 'Small Acreage ($A = 0.5$)')\n",
    "ax.plot(theta0_grid, l1_fig1[:,1])\n",
    "ax.plot(theta0_grid, l1_fig1[:,2])\n",
    "ax.plot(theta0_grid, l1_fig1[:,3], label = 'Large Acreage ($A = 4$)')\n",
    "ax.set_xlabel(xlabel = '$\\\\theta_0$', fontsize = 18)\n",
    "ax.set_ylabel(ylabel = '$l_1$', fontsize = 18)\n",
    "fig.suptitle('Planting labor as a function of land and $\\\\theta_0$ (Figure 1 in the paper, but in a different region)',\n",
    "            fontsize = 15)\n",
    "ax.legend(bbox_to_anchor = (1.05, 1), loc = 'upper left', borderaxespad = 0.)\n",
    "plt.show()"
   ]
  },
  {
   "cell_type": "markdown",
   "metadata": {},
   "source": [
    "#### Figure 2"
   ]
  },
  {
   "cell_type": "code",
   "execution_count": 761,
   "metadata": {},
   "outputs": [],
   "source": [
    "theta1_grid = np.arange(-3, 3, 0.1)\n",
    "A_fig2 = 1\n",
    "l2_fig2 = np.zeros((len(theta1_grid), 4))\n",
    "for i, theta0_fig2 in enumerate([-2, -1, 1, 2]):\n",
    "    l1_fig2 = scipy.optimize.brentq(Euler1_function, 1e-14, 1 - 1e-14, args = (A_fig2, theta0_fig2 / sigma0))\n",
    "    for j, theta1_fig2 in enumerate(theta1_grid):\n",
    "        l2_fig2[j, i] = scipy.optimize.brentq(Euler2_function, 1e-14, 1 - 1e-14, args = (theta1_fig2 / sigma1, l1_fig2, theta0_fig2 / sigma0, A_fig2))"
   ]
  },
  {
   "cell_type": "code",
   "execution_count": 762,
   "metadata": {},
   "outputs": [
    {
     "data": {
      "image/png": "[encoded data removed]",
      "text/plain": [
       "<Figure size 432x288 with 1 Axes>"
      ]
     },
     "metadata": {
      "needs_background": "light"
     },
     "output_type": "display_data"
    }
   ],
   "source": [
    "fig, ax = plt.subplots()\n",
    "ax.plot(theta1_grid, l2_fig2[:,0], label = 'Low $\\\\theta_0$ ($\\\\theta_0 = -2$)')\n",
    "ax.plot(theta1_grid, l2_fig2[:,1])\n",
    "ax.plot(theta1_grid, l2_fig2[:,2])\n",
    "ax.plot(theta1_grid, l2_fig2[:,3], label = 'High $\\\\theta_0$ ($\\\\theta_0 = 2$)')\n",
    "ax.set_xlabel(xlabel = '$\\\\theta_1$', fontsize = 18)\n",
    "ax.set_ylabel(ylabel = '$l_2$', fontsize = 18)\n",
    "fig.suptitle('Weeding labor as a function of $\\\\theta_0$ and $\\\\theta_1$ (Figure 2 in the paper, but in a different region)',\n",
    "            fontsize = 15)\n",
    "ax.legend(bbox_to_anchor = (1.05, 1), loc = 'upper left', borderaxespad = 0.)\n",
    "plt.show()"
   ]
  },
  {
   "cell_type": "markdown",
   "metadata": {},
   "source": [
    "## Estimation"
   ]
  },
  {
   "cell_type": "markdown",
   "metadata": {},
   "source": [
    "### Full Information Maximum Likelihood (FIML)"
   ]
  },
  {
   "cell_type": "markdown",
   "metadata": {},
   "source": [
    "The outline of the estimation procedure is as follows:\n",
    "Given the parameter vector $\\lambda$, I can obtain $\\theta_0$, $\\theta_1$, and $\\theta_2$ for each observation.\n",
    "Using these values, I can calculate the likelihood function, and I search for the parameters that maximize the likelihood function."
   ]
  },
  {
   "cell_type": "markdown",
   "metadata": {},
   "source": [
    "### Obtain $\\theta_0$, $\\theta_1$, and $\\theta_2$ from observed data"
   ]
  },
  {
   "cell_type": "markdown",
   "metadata": {},
   "source": [
    "Notice that this process should reproduce shock values that I simulated to generate data."
   ]
  },
  {
   "cell_type": "code",
   "execution_count": 774,
   "metadata": {},
   "outputs": [],
   "source": [
    "def Euler2_function(l2, u1, l1, u0, A):\n",
    "    node, weight = quantecon.quad.qnwnorm(6)\n",
    "    y1 = A * np.exp(u0 * sigma0)\n",
    "    y2 = (alpha * y1 ** r1 + (1 - alpha) * l1 ** r1) ** (1 / r1) * np.exp(u1 * sigma1)\n",
    "    y3 = b * (beta * y2 ** r2 + (1 - beta) * l2 ** r2) ** (1 / r2) * np.exp(node * sigma2)\n",
    "    dy3_dl2 = b * (beta * y2 ** r2 + (1 - beta) * l2 ** r2) ** (1 / r2 - 1) * (1 - beta) * l2 ** (r2 - 1) * np.exp(node * sigma2)\n",
    "\n",
    "    return(np.dot(weight, (delta * (gamma * (1 - l1) ** sigma + (1 - gamma) * (1 - l2) ** sigma) ** (rho / sigma) + (1 - delta) * y3 ** rho) ** ((1 - R) / rho - 1) * (\n",
    "        - delta * (gamma * (1 - l1) ** sigma + (1 - gamma) * (1 - l2) ** sigma) ** (rho / sigma - 1) * (1 - gamma) * (1 - l2) ** (sigma - 1) + (1 - delta) * y3 ** (rho - 1) * dy3_dl2)))\n",
    "\n",
    "def Euler2_function_inv(u1, l2, l1, u0, A):\n",
    "    node, weight = quantecon.quad.qnwnorm(6)\n",
    "    y1 = A * np.exp(u0 * sigma0)\n",
    "    y2 = (alpha * y1 ** r1 + (1 - alpha) * l1 ** r1) ** (1 / r1) * np.exp(u1 * sigma1)\n",
    "    y3 = b * (beta * y2 ** r2 + (1 - beta) * l2 ** r2) ** (1 / r2) * np.exp(node * sigma2)\n",
    "    dy3_dl2 = b * (beta * y2 ** r2 + (1 - beta) * l2 ** r2) ** (1 / r2 - 1) * (1 - beta) * l2 ** (r2 - 1) * np.exp(node * sigma2)\n",
    "\n",
    "    return(np.dot(weight, (delta * (gamma * (1 - l1) ** sigma + (1 - gamma) * (1 - l2) ** sigma) ** (rho / sigma) + (1 - delta) * y3 ** rho) ** ((1 - R) / rho - 1) * (\n",
    "        - delta * (gamma * (1 - l1) ** sigma + (1 - gamma) * (1 - l2) ** sigma) ** (rho / sigma - 1) * (1 - gamma) * (1 - l2) ** (sigma - 1) + (1 - delta) * y3 ** (rho - 1) * dy3_dl2)))\n",
    "\n",
    "def Euler1_function_inv(u0, A, l1):\n",
    "\n",
    "    node, weight = quantecon.quad.qnwnorm(6)\n",
    "    l2_node = np.zeros(6)\n",
    "    for u1, i in zip(node, range(6)):\n",
    "        l2_node[i] = scipy.optimize.brentq(Euler2_function, 1e-14, 1 - 1e-14, args = (u1, l1, u0, A))\n",
    "\n",
    "    node, weight = quantecon.quad.qnwnorm((6, 6))\n",
    "\n",
    "    u1 = node[:,0]\n",
    "    u2 = node[:,1]\n",
    "    l2_node_ext = np.tile(l2_node, 6)\n",
    "\n",
    "    y1 = A * np.exp(u0 * sigma0)\n",
    "    y2 = (alpha * y1 ** r1 + (1 - alpha) * l1 ** r1) ** (1 / r1) * np.exp(u1 * sigma1)\n",
    "    y3 = b * (beta * y2 ** r2 + (1 - beta) * l2_node_ext ** r2) ** (1 / r2) * np.exp(u2 * sigma2)\n",
    "    dy3_dy2 = b * (beta * y2 ** r2 + (1 - beta) * l2_node_ext ** r2) ** (1 / r2 - 1) * beta * y2 ** (r2 - 1) * np.exp(u2 * sigma2)\n",
    "    dy2_dl1 = (alpha * y1 ** r1 + (1 - alpha) * l1 ** r1) ** (1 / r1 - 1) * (1 - alpha) * l1 ** (r1 - 1) * np.exp(u1 * sigma1)\n",
    "\n",
    "    return(np.dot(weight, (delta * (gamma * (1 - l1) ** sigma + (1 - gamma) * (1 - l2_node_ext) ** sigma) ** (rho / sigma) + (1 - delta) * y3 ** rho) ** ((1 - R) / rho - 1) * (\n",
    "             - delta * (gamma * (1 - l1) ** sigma + (1 - gamma) * (1 - l2_node_ext) ** sigma) ** (rho / sigma - 1) * gamma * (1 - l1) ** (sigma - 1) + (1 - delta) * y3 ** (rho - 1) * dy3_dy2 * dy2_dl1)))\n",
    "\n",
    "def find_theta2(y3, u0, u1, A, l1, l2):\n",
    "    y1 = A * np.exp(u0 * sigma0)\n",
    "    y2 = (alpha * y1 ** r1 + (1 - alpha) * l1 ** r1) ** (1 / r1) * np.exp(u1 * sigma1)\n",
    "    theta2 = np.log(y3 / (b * (beta * y2 ** r2 + (1 - beta) * l2 ** r2) ** (1 / r2)))\n",
    "    return(theta2)\n",
    "\n",
    "def find_theta(l1, l2, y3, A):\n",
    "    u0 = scipy.optimize.brentq(Euler1_function_inv, -5, 5, args = (A, l1))\n",
    "    u1 = scipy.optimize.brentq(Euler2_function_inv, -5, 5, args = (l2, l1, u0, A))\n",
    "    theta0 = u0 * sigma0\n",
    "    theta1 = u1 * sigma1\n",
    "    theta2 = find_theta2(y3, u0, u1, A, l1, l2)\n",
    "    return(theta0, theta1, theta2)"
   ]
  },
  {
   "cell_type": "code",
   "execution_count": 775,
   "metadata": {},
   "outputs": [
    {
     "data": {
      "text/plain": [
       "(0.979708632440075, -1.4389539737143215, 0.7084062343623532)"
      ]
     },
     "execution_count": 775,
     "metadata": {},
     "output_type": "execute_result"
    }
   ],
   "source": [
    "find_theta(sim_data.l1[0], sim_data.l2[0], sim_data.y3[0], sim_data.A[0])"
   ]
  },
  {
   "cell_type": "markdown",
   "metadata": {},
   "source": [
    "### Construct the likelihood function"
   ]
  },
  {
   "cell_type": "markdown",
   "metadata": {},
   "source": [
    "With the shocks obtained above, I can compute the likelihood function as\n",
    "\n",
    "\\begin{equation*}\n",
    "    h_{l_1, l_2, y_3}(l_1, l_2, y_3) = |J| h_{\\theta_0, \\theta_1, \\theta_2}(\\theta_0, \\theta_1, \\theta_2),\n",
    "\\end{equation*}\n",
    "\n",
    "where $|J|$ is the absolute value of the determinant of the Jacobian matrix:\n",
    "\n",
    "\\begin{equation*}\n",
    "    |J| = \\left| \\begin{matrix}\n",
    "    \\frac{\\partial \\theta_0}{\\partial l_1} & \\frac{\\partial \\theta_0}{\\partial l_2} & \\frac{\\partial \\theta_0}{\\partial y_3} \\\\\n",
    "    \\frac{\\partial \\theta_1}{\\partial l_1} & \\frac{\\partial \\theta_1}{\\partial l_2} & \\frac{\\partial \\theta_1}{\\partial y_3} \\\\\n",
    "    \\frac{\\partial \\theta_2}{\\partial l_1} & \\frac{\\partial \\theta_2}{\\partial l_2} & \\frac{\\partial \\theta_2}{\\partial y_3}\n",
    "    \\end{matrix} \\right|.\n",
    "\\end{equation*}\n",
    "\n",
    "By the sequential decision makings, $\\frac{\\partial \\theta_1}{\\partial l_1} = 0$, $\\frac{\\partial \\theta_2}{\\partial l_1} = 0$, and $\\frac{\\partial \\theta_2}{\\partial l_2} = 0$.\n",
    "Therefore, $|J| = \\left| \\frac{\\partial \\theta_0}{\\partial l_1} \\frac{\\partial \\theta_1}{\\partial l_2} \\frac{\\partial \\theta_2}{\\partial y_3} \\right|$."
   ]
  },
  {
   "cell_type": "markdown",
   "metadata": {},
   "source": [
    "From $y_3 = b \\left(\\beta y_2^{r_2} + (1 - \\beta) l_2^{r_2} \\right)^{\\frac{1}{r_2}} e^{\\theta_2}$, we obtain $\\theta_2 = \\log(y_3) - \\log\\left(b \\left(\\beta y_2^{r_2} + (1 - \\beta) l_2^{r_2} \\right)^{\\frac{1}{r_2}}\\right)$ and hence $\\frac{\\partial \\theta_2}{\\partial y_3} = - \\frac{1}{y_3}$.\n",
    "\n",
    "Also, letting the insides of expectation operations in equations (1) and (2) be $m^1(l_1, l_2, \\theta_0)$ and $m^2(l_1, l_2, \\theta_0, \\theta_1)$, respectively. \n",
    "Then, by the implicit function theorem, we obtain\n",
    "\n",
    "\\begin{align*}\n",
    "    \\frac{\\partial \\theta_1}{\\partial l_2} \n",
    "        &= - \\frac{E_{\\theta_2} \\left[m_{l_2}^2 \\right]}{E_{\\theta_2} \\left[m_{\\theta_1}^2 \\right]}, \\\\\n",
    "    \\frac{\\partial \\theta_0}{\\partial l_1}\n",
    "        &= - \\frac{E_{\\theta_1} \\left[ E_{\\theta_2} \\left[m_{l_1}^1 + m_{l_2}^1 \\frac{\\partial l_2}{\\partial l_1} \\right]\\right]}{E_{\\theta_1} \\left[ E_{\\theta_2} \\left[m_{\\theta_0}^1 + m_{l_2}^1 \\frac{\\partial l_2}{\\partial \\theta_0}\\right] \\right]} \\\\\n",
    "        &= - \\frac{E_{\\theta_1} \\left[ E_{\\theta_2} \\left[m_{l_1}^1 - m_{l_2}^1 \\frac{E_{\\theta_2} \\left[m_{l_1}^2 \\right]}{E_{\\theta_2} \\left[m_{l_2}^2 \\right]} \\right]\\right]}{E_{\\theta_1} \\left[ E_{\\theta_2} \\left[m_{\\theta_0}^1 - m_{l_2}^1 \\frac{E_{\\theta_2} \\left[m_{\\theta_0}^2 \\right]}{E_{\\theta_2} \\left[m_{l_2}^2 \\right]} \\right] \\right]}.\n",
    "\\end{align*}\n",
    "\n"
   ]
  },
  {
   "cell_type": "markdown",
   "metadata": {},
   "source": [
    "Therefore, to calculate $|J|$, we need to obtain $m_{l_1}^1$, $m_{l_2}^1$, $m_{\\theta_0}^1$, $m_{l_1}^2$, $m_{l_2}^2$, $m_{\\theta_0}^2$, and $m_{\\theta_1}^2$. \n",
    "\n",
    "\\begin{align*}\n",
    "    m_{l_1}^1\n",
    "        &= \\frac{\\partial}{\\partial l_1} \\left[ \\left\\{ \\delta \\left(\\gamma \\left(1 - l_1 \\right)^{\\sigma} + (1 - \\gamma) \\left(1 - l_2 \\right)^{\\sigma} \\right)^{\\frac{\\rho}{\\sigma}} + (1 - \\delta) y_3^{\\rho} \\right\\}^{\\frac{1 - R}{\\rho} - 1} \\left\\{ - \\delta \\left(\\gamma \\left(1 - l_1 \\right)^{\\sigma} + (1 - \\gamma) \\left(1 - l_2 \\right)^{\\sigma} \\right)^{\\frac{\\rho}{\\sigma} - 1} \\gamma (1 - l_1)^{\\sigma - 1} + (1 - \\delta) y_3^{\\rho - 1} \\frac{\\partial y_3}{\\partial y_2} \\frac{\\partial y_2}{\\partial l_1} \\right\\} \\right] \\\\\n",
    "        &= \\left[\\frac{\\partial}{\\partial l_1} \\left\\{ \\delta \\left(\\gamma \\left(1 - l_1 \\right)^{\\sigma} + (1 - \\gamma) \\left(1 - l_2 \\right)^{\\sigma} \\right)^{\\frac{\\rho}{\\sigma}} + (1 - \\delta) y_3^{\\rho} \\right\\}^{\\frac{1 - R}{\\rho} - 1} \\right] \\cdot \\\\\n",
    "        &\\quad \\left\\{ - \\delta \\left(\\gamma \\left(1 - l_1 \\right)^{\\sigma} + (1 - \\gamma) \\left(1 - l_2 \\right)^{\\sigma} \\right)^{\\frac{\\rho}{\\sigma} - 1} \\gamma (1 - l_1)^{\\sigma - 1} + (1 - \\delta) y_3^{\\rho - 1} \\frac{\\partial y_3}{\\partial y_2} \\frac{\\partial y_2}{\\partial l_1} \\right\\} + \\\\\n",
    "        &\\quad \\left\\{ \\delta \\left(\\gamma \\left(1 - l_1 \\right)^{\\sigma} + (1 - \\gamma) \\left(1 - l_2 \\right)^{\\sigma} \\right)^{\\frac{\\rho}{\\sigma}} + (1 - \\delta) y_3^{\\rho} \\right\\}^{\\frac{1 - R}{\\rho} - 1} \\cdot \\\\\n",
    "        &\\quad \\left[ \\frac{\\partial}{\\partial l_1} \\left\\{ - \\delta \\left(\\gamma \\left(1 - l_1 \\right)^{\\sigma} + (1 - \\gamma) \\left(1 - l_2 \\right)^{\\sigma} \\right)^{\\frac{\\rho}{\\sigma} - 1} \\gamma (1 - l_1)^{\\sigma - 1} + (1 - \\delta) y_3^{\\rho - 1} \\frac{\\partial y_3}{\\partial y_2} \\frac{\\partial y_2}{\\partial l_1} \\right\\} \\right] \\\\\n",
    "        &= \\left( 1 - R - \\rho \\right) \\left\\{ \\delta \\left(\\gamma \\left(1 - l_1 \\right)^{\\sigma} + (1 - \\gamma) \\left(1 - l_2 \\right)^{\\sigma} \\right)^{\\frac{\\rho}{\\sigma}} + (1 - \\delta) y_3^{\\rho} \\right\\}^{\\frac{1 - R}{\\rho} - 2} \\cdot \\\\\n",
    "        &\\quad \\left\\{ - \\delta \\left(\\gamma \\left(1 - l_1 \\right)^{\\sigma} + (1 - \\gamma) \\left(1 - l_2 \\right)^{\\sigma} \\right)^{\\frac{\\rho}{\\sigma} - 1} \\gamma (1 - l_1)^{\\sigma - 1} + (1 - \\delta) y_3^{\\rho - 1} \\frac{\\partial y_3}{\\partial y_2} \\frac{\\partial y_2}{\\partial l_1} \\right\\}^2 + \\\\\n",
    "        &\\quad \\left\\{ \\delta \\left(\\gamma \\left(1 - l_1 \\right)^{\\sigma} + (1 - \\gamma) \\left(1 - l_2 \\right)^{\\sigma} \\right)^{\\frac{\\rho}{\\sigma}} + (1 - \\delta) y_3^{\\rho} \\right\\}^{\\frac{1 - R}{\\rho} - 1} \\cdot \\\\\n",
    "        &\\quad \\left\\{\\delta \\left(\\rho - \\sigma \\right) \\left(\\gamma (1 - l_1)^{\\sigma} + (1 - \\gamma) (1 - l_2)^{\\sigma} \\right)^{\\frac{\\rho}{\\sigma} - 2} \\gamma^2 (1 - l_1)^{2 \\sigma - 2} + \\delta \\left(\\gamma (1 - l_1)^{\\sigma} + (1 - \\gamma) (1 - l_2)^{\\sigma} \\right)^{\\frac{\\rho}{\\sigma} - 1} \\gamma (\\sigma - 1) (1 - l_1)^{\\sigma - 2} + (1 - \\delta) \\left\\{ (\\rho - 1) y_3^{\\rho - 2} \\left(\\frac{\\partial y_3}{\\partial y_2} \\right)^2 \\left(\\frac{\\partial y_2}{\\partial l_1} \\right)^2 + y_3^{\\rho - 1} \\frac{\\partial^2 y_3}{\\partial y_2^2} \\left(\\frac{\\partial y_2}{\\partial l_1} \\right)^2 + y_3^{\\rho - 1} \\frac{\\partial y_3}{\\partial y_2} \\frac{\\partial^2 y_2}{\\partial l_1^2} \\right\\} \\right\\},\n",
    "\\end{align*}\n",
    "\n",
    "\\begin{align*}\n",
    "    m_{l_2}^1\n",
    "        &= \\frac{\\partial}{\\partial l_2} \\left[ \\left\\{ \\delta \\left(\\gamma \\left(1 - l_1 \\right)^{\\sigma} + (1 - \\gamma) \\left(1 - l_2 \\right)^{\\sigma} \\right)^{\\frac{\\rho}{\\sigma}} + (1 - \\delta) y_3^{\\rho} \\right\\}^{\\frac{1 - R}{\\rho} - 1} \\left\\{ - \\delta \\left(\\gamma \\left(1 - l_1 \\right)^{\\sigma} + (1 - \\gamma) \\left(1 - l_2 \\right)^{\\sigma} \\right)^{\\frac{\\rho}{\\sigma} - 1} \\gamma (1 - l_1)^{\\sigma - 1} + (1 - \\delta) y_3^{\\rho - 1} \\frac{\\partial y_3}{\\partial y_2} \\frac{\\partial y_2}{\\partial l_1} \\right\\} \\right] \\\\\n",
    "        &= \\left[\\frac{\\partial}{\\partial l_2} \\left\\{ \\delta \\left(\\gamma \\left(1 - l_1 \\right)^{\\sigma} + (1 - \\gamma) \\left(1 - l_2 \\right)^{\\sigma} \\right)^{\\frac{\\rho}{\\sigma}} + (1 - \\delta) y_3^{\\rho} \\right\\}^{\\frac{1 - R}{\\rho} - 1} \\right] \\cdot \\\\\n",
    "        &\\quad \\left\\{ - \\delta \\left(\\gamma \\left(1 - l_1 \\right)^{\\sigma} + (1 - \\gamma) \\left(1 - l_2 \\right)^{\\sigma} \\right)^{\\frac{\\rho}{\\sigma} - 1} \\gamma (1 - l_1)^{\\sigma - 1} + (1 - \\delta) y_3^{\\rho - 1} \\frac{\\partial y_3}{\\partial y_2} \\frac{\\partial y_2}{\\partial l_1} \\right\\} + \\\\\n",
    "        &\\quad \\left\\{ \\delta \\left(\\gamma \\left(1 - l_1 \\right)^{\\sigma} + (1 - \\gamma) \\left(1 - l_2 \\right)^{\\sigma} \\right)^{\\frac{\\rho}{\\sigma}} + (1 - \\delta) y_3^{\\rho} \\right\\}^{\\frac{1 - R}{\\rho} - 1} \\cdot \\\\\n",
    "        &\\quad \\left[ \\frac{\\partial}{\\partial l_2} \\left\\{ - \\delta \\left(\\gamma \\left(1 - l_1 \\right)^{\\sigma} + (1 - \\gamma) \\left(1 - l_2 \\right)^{\\sigma} \\right)^{\\frac{\\rho}{\\sigma} - 1} \\gamma (1 - l_1)^{\\sigma - 1} + (1 - \\delta) y_3^{\\rho - 1} \\frac{\\partial y_3}{\\partial y_2} \\frac{\\partial y_2}{\\partial l_1} \\right\\} \\right] \\\\\n",
    "        &= \\left( 1 - R - \\rho \\right) \\left\\{ \\delta \\left(\\gamma \\left(1 - l_1 \\right)^{\\sigma} + (1 - \\gamma) \\left(1 - l_2 \\right)^{\\sigma} \\right)^{\\frac{\\rho}{\\sigma}} + (1 - \\delta) y_3^{\\rho} \\right\\}^{\\frac{1 - R}{\\rho} - 2} \\cdot \\\\\n",
    "        &\\quad \\left\\{ - \\delta \\left(\\gamma \\left(1 - l_1 \\right)^{\\sigma} + (1 - \\gamma) \\left(1 - l_2 \\right)^{\\sigma} \\right)^{\\frac{\\rho}{\\sigma} - 1} \\gamma (1 - l_1)^{\\sigma - 1} + (1 - \\delta) y_3^{\\rho - 1} \\frac{\\partial y_3}{\\partial y_2} \\frac{\\partial y_2}{\\partial l_1} \\right\\} \\cdot \\\\\n",
    "        &\\quad \\left\\{ - \\delta \\left(\\gamma \\left(1 - l_1 \\right)^{\\sigma} + (1 - \\gamma) \\left(1 - l_2 \\right)^{\\sigma} \\right)^{\\frac{\\rho}{\\sigma} - 1} (1 - \\gamma) (1 - l_2)^{\\sigma - 1} + (1 - \\delta) y_3^{\\rho - 1} \\frac{\\partial y_3}{\\partial l_2} \\right\\} + \\\\\n",
    "        &\\quad \\left\\{ \\delta \\left(\\gamma \\left(1 - l_1 \\right)^{\\sigma} + (1 - \\gamma) \\left(1 - l_2 \\right)^{\\sigma} \\right)^{\\frac{\\rho}{\\sigma}} + (1 - \\delta) y_3^{\\rho} \\right\\}^{\\frac{1 - R}{\\rho} - 1} \\cdot \\\\\n",
    "        &\\quad \\left\\{\\delta \\left(\\rho - \\sigma \\right) \\left(\\gamma (1 - l_1)^{\\sigma} + (1 - \\gamma) (1 - l_2)^{\\sigma} \\right)^{\\frac{\\rho}{\\sigma} - 2} \\gamma (1 - \\gamma) (1 - l_1)^{\\sigma - 1} (1 - l_2)^{\\sigma - 1} + (1 - \\delta) \\left\\{ (\\rho - 1) y_3^{\\rho - 2} \\frac{\\partial y_3}{\\partial l_2} \\frac{\\partial y_3}{\\partial y_2} \\frac{\\partial y_2}{\\partial l_1} + y_3^{\\rho - 1} \\frac{\\partial^2 y_3}{\\partial y_2 \\partial l_2} \\frac{\\partial y_2}{\\partial l_1} \\right\\} \\right\\},\n",
    "\\end{align*}\n",
    "\n",
    "\\begin{align*}\n",
    "    m_{\\theta_0}^1\n",
    "        &= \\frac{\\partial}{\\partial \\theta_0} \\left[ \\left\\{ \\delta \\left(\\gamma \\left(1 - l_1 \\right)^{\\sigma} + (1 - \\gamma) \\left(1 - l_2 \\right)^{\\sigma} \\right)^{\\frac{\\rho}{\\sigma}} + (1 - \\delta) y_3^{\\rho} \\right\\}^{\\frac{1 - R}{\\rho} - 1} \\left\\{ - \\delta \\left(\\gamma \\left(1 - l_1 \\right)^{\\sigma} + (1 - \\gamma) \\left(1 - l_2 \\right)^{\\sigma} \\right)^{\\frac{\\rho}{\\sigma} - 1} \\gamma (1 - l_1)^{\\sigma - 1} + (1 - \\delta) y_3^{\\rho - 1} \\frac{\\partial y_3}{\\partial y_2} \\frac{\\partial y_2}{\\partial l_1} \\right\\} \\right] \\\\\n",
    "        &= \\left[\\frac{\\partial}{\\partial \\theta_0} \\left\\{ \\delta \\left(\\gamma \\left(1 - l_1 \\right)^{\\sigma} + (1 - \\gamma) \\left(1 - l_2 \\right)^{\\sigma} \\right)^{\\frac{\\rho}{\\sigma}} + (1 - \\delta) y_3^{\\rho} \\right\\}^{\\frac{1 - R}{\\rho} - 1} \\right] \\cdot \\\\\n",
    "        &\\quad \\left\\{ - \\delta \\left(\\gamma \\left(1 - l_1 \\right)^{\\sigma} + (1 - \\gamma) \\left(1 - l_2 \\right)^{\\sigma} \\right)^{\\frac{\\rho}{\\sigma} - 1} \\gamma (1 - l_1)^{\\sigma - 1} + (1 - \\delta) y_3^{\\rho - 1} \\frac{\\partial y_3}{\\partial y_2} \\frac{\\partial y_2}{\\partial l_1} \\right\\} + \\\\\n",
    "        &\\quad \\left\\{ \\delta \\left(\\gamma \\left(1 - l_1 \\right)^{\\sigma} + (1 - \\gamma) \\left(1 - l_2 \\right)^{\\sigma} \\right)^{\\frac{\\rho}{\\sigma}} + (1 - \\delta) y_3^{\\rho} \\right\\}^{\\frac{1 - R}{\\rho} - 1} \\cdot \\\\\n",
    "        &\\quad \\left[ \\frac{\\partial}{\\partial \\theta_0} \\left\\{ - \\delta \\left(\\gamma \\left(1 - l_1 \\right)^{\\sigma} + (1 - \\gamma) \\left(1 - l_2 \\right)^{\\sigma} \\right)^{\\frac{\\rho}{\\sigma} - 1} \\gamma (1 - l_1)^{\\sigma - 1} + (1 - \\delta) y_3^{\\rho - 1} \\frac{\\partial y_3}{\\partial y_2} \\frac{\\partial y_2}{\\partial l_1} \\right\\} \\right] \\\\\n",
    "        &= \\left( 1 - R - \\rho \\right) \\left\\{ \\delta \\left(\\gamma \\left(1 - l_1 \\right)^{\\sigma} + (1 - \\gamma) \\left(1 - l_2 \\right)^{\\sigma} \\right)^{\\frac{\\rho}{\\sigma}} + (1 - \\delta) y_3^{\\rho} \\right\\}^{\\frac{1 - R}{\\rho} - 2} (1 - \\delta) y_3^{\\rho - 1} \\frac{\\partial y_3}{\\partial y_2} \\frac{\\partial y_2}{\\partial y_1} \\frac{\\partial y_1}{\\partial \\theta_0} \\cdot \\\\\n",
    "        &\\quad \\left\\{ - \\delta \\left(\\gamma \\left(1 - l_1 \\right)^{\\sigma} + (1 - \\gamma) \\left(1 - l_2 \\right)^{\\sigma} \\right)^{\\frac{\\rho}{\\sigma} - 1} \\gamma (1 - l_1)^{\\sigma - 1} + (1 - \\delta) y_3^{\\rho - 1} \\frac{\\partial y_3}{\\partial y_2} \\frac{\\partial y_2}{\\partial l_1} \\right\\} + \\\\\n",
    "        &\\quad \\left\\{ \\delta \\left(\\gamma \\left(1 - l_1 \\right)^{\\sigma} + (1 - \\gamma) \\left(1 - l_2 \\right)^{\\sigma} \\right)^{\\frac{\\rho}{\\sigma}} + (1 - \\delta) y_3^{\\rho} \\right\\}^{\\frac{1 - R}{\\rho} - 1} \\cdot \\\\\n",
    "        &\\quad (1 - \\delta) \\left\\{ (\\rho - 1) y_3^{\\rho - 2} \\left( \\frac{\\partial y_3}{\\partial y_2} \\right)^2 \\frac{\\partial y_2}{\\partial l_1} \\frac{\\partial y_2}{\\partial y_1} \\frac{\\partial y_1}{\\partial \\theta_0} + y_3^{\\rho - 1} \\frac{\\partial^2 y_3}{\\partial y_2^2} \\frac{\\partial y_2}{\\partial y_1} \\frac{\\partial y_1}{\\partial \\theta_0} \\frac{\\partial y_2}{\\partial l_1} + y_3^{\\rho - 1} \\frac{\\partial y_3}{\\partial y_2} \\frac{\\partial^2 y_2}{\\partial y_1 \\partial l_1} \\frac{\\partial y_1}{\\partial \\theta_0} \\right\\},\n",
    "\\end{align*}\n"
   ]
  },
  {
   "cell_type": "markdown",
   "metadata": {},
   "source": [
    "\n",
    "\\begin{align*}\n",
    "    m_{l_1}^2 \n",
    "    &= \\frac{\\partial}{\\partial l_1} \\left[ \\left\\{ \\delta \\left(\\gamma \\left(1 - l_1 \\right)^{\\sigma} + (1 - \\gamma) \\left(1 - l_2 \\right)^{\\sigma} \\right)^{\\frac{\\rho}{\\sigma}} + (1 - \\delta) y_3^{\\rho} \\right\\}^{\\frac{1 - R}{\\rho} - 1} \\cdot \n",
    "    \\left\\{ - \\delta \\left(\\gamma \\left(1 - l_1 \\right)^{\\sigma} + (1 - \\gamma) \\left(1 - l_2 \\right)^{\\sigma} \\right)^{\\frac{\\rho}{\\sigma} - 1} (1 - \\gamma) (1 - l_2)^{\\sigma - 1} + (1 - \\delta) y_3^{\\rho - 1} \\frac{\\partial y_3}{\\partial l_2} \\right\\} \\right] \\\\\n",
    "    &= \\left[ \\frac{\\partial}{\\partial l_1} \\left\\{ \\delta \\left(\\gamma \\left(1 - l_1 \\right)^{\\sigma} + (1 - \\gamma) \\left(1 - l_2 \\right)^{\\sigma} \\right)^{\\frac{\\rho}{\\sigma}} + (1 - \\delta) y_3^{\\rho} \\right\\}^{\\frac{1 - R}{\\rho} - 1} \\right] \\cdot \\\\\n",
    "    &\\quad \\left\\{ - \\delta \\left(\\gamma \\left(1 - l_1 \\right)^{\\sigma} + (1 - \\gamma) \\left(1 - l_2 \\right)^{\\sigma} \\right)^{\\frac{\\rho}{\\sigma} - 1} (1 - \\gamma) (1 - l_2)^{\\sigma - 1} + (1 - \\delta) y_3^{\\rho - 1} \\frac{\\partial y_3}{\\partial l_2} \\right\\} + \\\\\n",
    "    &\\quad \\left\\{ \\delta \\left(\\gamma \\left(1 - l_1 \\right)^{\\sigma} + (1 - \\gamma) \\left(1 - l_2 \\right)^{\\sigma} \\right)^{\\frac{\\rho}{\\sigma}} + (1 - \\delta) y_3^{\\rho} \\right\\}^{\\frac{1 - R}{\\rho} - 1} \\cdot \\\\\n",
    "    &\\quad \\left[ \\frac{\\partial}{\\partial l_1} \\left\\{ - \\delta \\left(\\gamma \\left(1 - l_1 \\right)^{\\sigma} + (1 - \\gamma) \\left(1 - l_2 \\right)^{\\sigma} \\right)^{\\frac{\\rho}{\\sigma} - 1} (1 - \\gamma) (1 - l_2)^{\\sigma - 1} + (1 - \\delta) y_3^{\\rho - 1} \\frac{\\partial y_3}{\\partial l_2} \\right\\} \\right] \\\\\n",
    "    &= \\left( 1 - R - \\rho \\right) \\left\\{ \\delta \\left(\\gamma \\left(1 - l_1 \\right)^{\\sigma} + (1 - \\gamma) \\left(1 - l_2 \\right)^{\\sigma} \\right)^{\\frac{\\rho}{\\sigma}} + (1 - \\delta) y_3^{\\rho} \\right\\}^{\\frac{1 - R}{\\rho} - 2} \\cdot \\\\\n",
    "    &\\quad \\left\\{ - \\delta \\left(\\gamma \\left(1 - l_1 \\right)^{\\sigma} + (1 - \\gamma) \\left(1 - l_2 \\right)^{\\sigma} \\right)^{\\frac{\\rho}{\\sigma} - 1} \\gamma (1 - l_1)^{\\sigma - 1} + (1 - \\delta) y_3^{\\rho - 1} \\frac{\\partial y_3}{\\partial y_2} \\frac{\\partial y_2}{\\partial l_1} \\right\\} \\cdot \\\\\n",
    "    &\\quad \\left\\{ - \\delta \\left(\\gamma \\left(1 - l_1 \\right)^{\\sigma} + (1 - \\gamma) \\left(1 - l_2 \\right)^{\\sigma} \\right)^{\\frac{\\rho}{\\sigma} - 1} (1 - \\gamma) (1 - l_2)^{\\sigma - 1} + (1 - \\delta) y_3^{\\rho - 1} \\frac{\\partial y_3}{\\partial l_2} \\right\\} + \\\\\n",
    "    &\\quad \\left\\{ \\delta \\left(\\gamma \\left(1 - l_1 \\right)^{\\sigma} + (1 - \\gamma) \\left(1 - l_2 \\right)^{\\sigma} \\right)^{\\frac{\\rho}{\\sigma}} + (1 - \\delta) y_3^{\\rho} \\right\\}^{\\frac{1 - R}{\\rho} - 1} \\cdot \\\\\n",
    "    &\\quad \\left\\{ \\delta (\\rho - \\sigma) \\left(\\gamma \\left(1 - l_1 \\right)^{\\sigma} + (1 - \\gamma) \\left(1 - l_2 \\right)^{\\sigma} \\right)^{\\frac{\\rho}{\\sigma} - 2} \\gamma (1 - \\gamma) (1 - l_1)^{\\sigma - 1} (1 - l_2)^{\\sigma - 1} + (1 - \\delta) \\left\\{ (\\rho - 1) y_3^{\\rho - 2} \\frac{\\partial y_3}{\\partial y_2} \\frac{\\partial y_2}{\\partial l_1} \\frac{\\partial y_3}{\\partial l_2} + y_3^{\\rho - 1} \\frac{\\partial^2 y_3}{\\partial l_2 \\partial y_2} \\frac{\\partial y_2}{\\partial l_1} \\right\\} \\right\\},\n",
    "\\end{align*}\n",
    "\n",
    "\\begin{align*}\n",
    "    m_{l_2}^2 \n",
    "    &= \\frac{\\partial}{\\partial l_2} \\left[ \\left\\{ \\delta \\left(\\gamma \\left(1 - l_1 \\right)^{\\sigma} + (1 - \\gamma) \\left(1 - l_2 \\right)^{\\sigma} \\right)^{\\frac{\\rho}{\\sigma}} + (1 - \\delta) y_3^{\\rho} \\right\\}^{\\frac{1 - R}{\\rho} - 1} \\cdot \n",
    "    \\left\\{ - \\delta \\left(\\gamma \\left(1 - l_1 \\right)^{\\sigma} + (1 - \\gamma) \\left(1 - l_2 \\right)^{\\sigma} \\right)^{\\frac{\\rho}{\\sigma} - 1} (1 - \\gamma) (1 - l_2)^{\\sigma - 1} + (1 - \\delta) y_3^{\\rho - 1} \\frac{\\partial y_3}{\\partial l_2} \\right\\} \\right] \\\\\n",
    "    &= \\left[ \\frac{\\partial}{\\partial l_2} \\left\\{ \\delta \\left(\\gamma \\left(1 - l_1 \\right)^{\\sigma} + (1 - \\gamma) \\left(1 - l_2 \\right)^{\\sigma} \\right)^{\\frac{\\rho}{\\sigma}} + (1 - \\delta) y_3^{\\rho} \\right\\}^{\\frac{1 - R}{\\rho} - 1} \\right] \\cdot \\\\\n",
    "    &\\quad \\left\\{ - \\delta \\left(\\gamma \\left(1 - l_1 \\right)^{\\sigma} + (1 - \\gamma) \\left(1 - l_2 \\right)^{\\sigma} \\right)^{\\frac{\\rho}{\\sigma} - 1} (1 - \\gamma) (1 - l_2)^{\\sigma - 1} + (1 - \\delta) y_3^{\\rho - 1} \\frac{\\partial y_3}{\\partial l_2} \\right\\} + \\\\\n",
    "    &\\quad \\left\\{ \\delta \\left(\\gamma \\left(1 - l_1 \\right)^{\\sigma} + (1 - \\gamma) \\left(1 - l_2 \\right)^{\\sigma} \\right)^{\\frac{\\rho}{\\sigma}} + (1 - \\delta) y_3^{\\rho} \\right\\}^{\\frac{1 - R}{\\rho} - 1} \\cdot \\\\\n",
    "    &\\quad \\left[ \\frac{\\partial}{\\partial l_2} \\left\\{ - \\delta \\left(\\gamma \\left(1 - l_1 \\right)^{\\sigma} + (1 - \\gamma) \\left(1 - l_2 \\right)^{\\sigma} \\right)^{\\frac{\\rho}{\\sigma} - 1} (1 - \\gamma) (1 - l_2)^{\\sigma - 1} + (1 - \\delta) y_3^{\\rho - 1} \\frac{\\partial y_3}{\\partial l_2} \\right\\} \\right] \\\\\n",
    "    &= \\left( 1 - R - \\rho \\right) \\left\\{ \\delta \\left(\\gamma \\left(1 - l_1 \\right)^{\\sigma} + (1 - \\gamma) \\left(1 - l_2 \\right)^{\\sigma} \\right)^{\\frac{\\rho}{\\sigma}} + (1 - \\delta) y_3^{\\rho} \\right\\}^{\\frac{1 - R}{\\rho} - 2} \\cdot \\\\\n",
    "    &\\quad \\left\\{ - \\delta \\left(\\gamma \\left(1 - l_1 \\right)^{\\sigma} + (1 - \\gamma) \\left(1 - l_2 \\right)^{\\sigma} \\right)^{\\frac{\\rho}{\\sigma} - 1} (1 - \\gamma) (1 - l_2)^{\\sigma - 1} + (1 - \\delta) y_3^{\\rho - 1} \\frac{\\partial y_3}{\\partial l_2} \\right\\}^2 + \\\\\n",
    "    &\\quad \\left\\{ \\delta \\left(\\gamma \\left(1 - l_1 \\right)^{\\sigma} + (1 - \\gamma) \\left(1 - l_2 \\right)^{\\sigma} \\right)^{\\frac{\\rho}{\\sigma}} + (1 - \\delta) y_3^{\\rho} \\right\\}^{\\frac{1 - R}{\\rho} - 1} \\cdot \\\\\n",
    "    &\\quad \\left\\{ \\delta (\\rho - \\sigma) \\left(\\gamma \\left(1 - l_1 \\right)^{\\sigma} + (1 - \\gamma) \\left(1 - l_2 \\right)^{\\sigma} \\right)^{\\frac{\\rho}{\\sigma} - 2} (1 - \\gamma)^2 (1 - l_2)^{2 \\sigma - 2} + \\delta \\left(\\gamma \\left(1 - l_1 \\right)^{\\sigma} + (1 - \\gamma) \\left(1 - l_2 \\right)^{\\sigma} \\right)^{\\frac{\\rho}{\\sigma} - 1} (1 - \\gamma) (\\sigma - 1) (1 - l_2)^{\\sigma - 2} + (1 - \\delta) \\left\\{ (\\rho - 1) y_3^{\\rho - 2} \\left(\\frac{\\partial y_3}{\\partial l_2}\\right)^2 + y_3^{\\rho - 1} \\frac{\\partial^2 y_3}{\\partial l_2^2} \\right\\} \\right\\},\n",
    "\\end{align*}\n",
    "\n",
    "\\begin{align*}\n",
    "    m_{\\theta_0}^2 \n",
    "    &= \\frac{\\partial}{\\partial \\theta_0} \\left[ \\left\\{ \\delta \\left(\\gamma \\left(1 - l_1 \\right)^{\\sigma} + (1 - \\gamma) \\left(1 - l_2 \\right)^{\\sigma} \\right)^{\\frac{\\rho}{\\sigma}} + (1 - \\delta) y_3^{\\rho} \\right\\}^{\\frac{1 - R}{\\rho} - 1} \\cdot \n",
    "    \\left\\{ - \\delta \\left(\\gamma \\left(1 - l_1 \\right)^{\\sigma} + (1 - \\gamma) \\left(1 - l_2 \\right)^{\\sigma} \\right)^{\\frac{\\rho}{\\sigma} - 1} (1 - \\gamma) (1 - l_2)^{\\sigma - 1} + (1 - \\delta) y_3^{\\rho - 1} \\frac{\\partial y_3}{\\partial l_2} \\right\\} \\right] \\\\\n",
    "    &= \\left[ \\frac{\\partial}{\\partial \\theta_0} \\left\\{ \\delta \\left(\\gamma \\left(1 - l_1 \\right)^{\\sigma} + (1 - \\gamma) \\left(1 - l_2 \\right)^{\\sigma} \\right)^{\\frac{\\rho}{\\sigma}} + (1 - \\delta) y_3^{\\rho} \\right\\}^{\\frac{1 - R}{\\rho} - 1} \\right] \\cdot \\\\\n",
    "    &\\quad \\left\\{ - \\delta \\left(\\gamma \\left(1 - l_1 \\right)^{\\sigma} + (1 - \\gamma) \\left(1 - l_2 \\right)^{\\sigma} \\right)^{\\frac{\\rho}{\\sigma} - 1} (1 - \\gamma) (1 - l_2)^{\\sigma - 1} + (1 - \\delta) y_3^{\\rho - 1} \\frac{\\partial y_3}{\\partial l_2} \\right\\} + \\\\\n",
    "    &\\quad \\left\\{ \\delta \\left(\\gamma \\left(1 - l_1 \\right)^{\\sigma} + (1 - \\gamma) \\left(1 - l_2 \\right)^{\\sigma} \\right)^{\\frac{\\rho}{\\sigma}} + (1 - \\delta) y_3^{\\rho} \\right\\}^{\\frac{1 - R}{\\rho} - 1} \\cdot \\\\\n",
    "    &\\quad \\left[ \\frac{\\partial}{\\partial \\theta_0} \\left\\{ - \\delta \\left(\\gamma \\left(1 - l_1 \\right)^{\\sigma} + (1 - \\gamma) \\left(1 - l_2 \\right)^{\\sigma} \\right)^{\\frac{\\rho}{\\sigma} - 1} (1 - \\gamma) (1 - l_2)^{\\sigma - 1} + (1 - \\delta) y_3^{\\rho - 1} \\frac{\\partial y_3}{\\partial l_2} \\right\\} \\right] \\\\\n",
    "    &= \\left( 1 - R - \\rho \\right) \\left\\{ \\delta \\left(\\gamma \\left(1 - l_1 \\right)^{\\sigma} + (1 - \\gamma) \\left(1 - l_2 \\right)^{\\sigma} \\right)^{\\frac{\\rho}{\\sigma}} + (1 - \\delta) y_3^{\\rho} \\right\\}^{\\frac{1 - R}{\\rho} - 2} (1 - \\delta) y_3^{\\rho - 1} \\frac{\\partial y_3}{\\partial y_2} \\frac{\\partial y_2}{\\partial y_1} \\frac{\\partial y_1}{\\partial \\theta_0} \\cdot \\\\\n",
    "    &\\quad \\left\\{ - \\delta \\left(\\gamma \\left(1 - l_1 \\right)^{\\sigma} + (1 - \\gamma) \\left(1 - l_2 \\right)^{\\sigma} \\right)^{\\frac{\\rho}{\\sigma} - 1} (1 - \\gamma) (1 - l_2)^{\\sigma - 1} + (1 - \\delta) y_3^{\\rho - 1} \\frac{\\partial y_3}{\\partial l_2} \\right\\} + \\\\\n",
    "    &\\quad \\left\\{ \\delta \\left(\\gamma \\left(1 - l_1 \\right)^{\\sigma} + (1 - \\gamma) \\left(1 - l_2 \\right)^{\\sigma} \\right)^{\\frac{\\rho}{\\sigma}} + (1 - \\delta) y_3^{\\rho} \\right\\}^{\\frac{1 - R}{\\rho} - 1} \\cdot \\\\\n",
    "    &\\quad (1 - \\delta) \\left\\{ (\\rho - 1) y_3^{\\rho - 2} \\frac{\\partial y_3}{\\partial y_2} \\frac{\\partial y_2}{\\partial y_1} \\frac{\\partial y_1}{\\partial \\theta_0} \\frac{\\partial y_3}{\\partial l_2} + y_3^{\\rho - 1} \\frac{\\partial^2 y_3}{\\partial l_2 \\partial y_2} \\frac{\\partial y_2}{\\partial y_1} \\frac{\\partial y_1}{\\partial \\theta_0} \\right\\},\n",
    "\\end{align*}\n",
    "\n",
    "\\begin{align*}\n",
    "    m_{\\theta_1}^2 \n",
    "    &= \\frac{\\partial}{\\partial \\theta_1} \\left[ \\left\\{ \\delta \\left(\\gamma \\left(1 - l_1 \\right)^{\\sigma} + (1 - \\gamma) \\left(1 - l_2 \\right)^{\\sigma} \\right)^{\\frac{\\rho}{\\sigma}} + (1 - \\delta) y_3^{\\rho} \\right\\}^{\\frac{1 - R}{\\rho} - 1} \\cdot \n",
    "    \\left\\{ - \\delta \\left(\\gamma \\left(1 - l_1 \\right)^{\\sigma} + (1 - \\gamma) \\left(1 - l_2 \\right)^{\\sigma} \\right)^{\\frac{\\rho}{\\sigma} - 1} (1 - \\gamma) (1 - l_2)^{\\sigma - 1} + (1 - \\delta) y_3^{\\rho - 1} \\frac{\\partial y_3}{\\partial l_2} \\right\\} \\right] \\\\\n",
    "    &= \\left[ \\frac{\\partial}{\\partial \\theta_1} \\left\\{ \\delta \\left(\\gamma \\left(1 - l_1 \\right)^{\\sigma} + (1 - \\gamma) \\left(1 - l_2 \\right)^{\\sigma} \\right)^{\\frac{\\rho}{\\sigma}} + (1 - \\delta) y_3^{\\rho} \\right\\}^{\\frac{1 - R}{\\rho} - 1} \\right] \\cdot \\\\\n",
    "    &\\quad \\left\\{ - \\delta \\left(\\gamma \\left(1 - l_1 \\right)^{\\sigma} + (1 - \\gamma) \\left(1 - l_2 \\right)^{\\sigma} \\right)^{\\frac{\\rho}{\\sigma} - 1} (1 - \\gamma) (1 - l_2)^{\\sigma - 1} + (1 - \\delta) y_3^{\\rho - 1} \\frac{\\partial y_3}{\\partial l_2} \\right\\} + \\\\\n",
    "    &\\quad \\left\\{ \\delta \\left(\\gamma \\left(1 - l_1 \\right)^{\\sigma} + (1 - \\gamma) \\left(1 - l_2 \\right)^{\\sigma} \\right)^{\\frac{\\rho}{\\sigma}} + (1 - \\delta) y_3^{\\rho} \\right\\}^{\\frac{1 - R}{\\rho} - 1} \\cdot \\\\\n",
    "    &\\quad \\left[ \\frac{\\partial}{\\partial \\theta_1} \\left\\{ - \\delta \\left(\\gamma \\left(1 - l_1 \\right)^{\\sigma} + (1 - \\gamma) \\left(1 - l_2 \\right)^{\\sigma} \\right)^{\\frac{\\rho}{\\sigma} - 1} (1 - \\gamma) (1 - l_2)^{\\sigma - 1} + (1 - \\delta) y_3^{\\rho - 1} \\frac{\\partial y_3}{\\partial l_2} \\right\\} \\right] \\\\\n",
    "    &= \\left( 1 - R - \\rho \\right) \\left\\{ \\delta \\left(\\gamma \\left(1 - l_1 \\right)^{\\sigma} + (1 - \\gamma) \\left(1 - l_2 \\right)^{\\sigma} \\right)^{\\frac{\\rho}{\\sigma}} + (1 - \\delta) y_3^{\\rho} \\right\\}^{\\frac{1 - R}{\\rho} - 2} (1 - \\delta) y_3^{\\rho - 1} \\frac{\\partial y_3}{\\partial y_2} \\frac{\\partial y_2}{\\partial \\theta_1} \\cdot \\\\\n",
    "    &\\quad \\left\\{ - \\delta \\left(\\gamma \\left(1 - l_1 \\right)^{\\sigma} + (1 - \\gamma) \\left(1 - l_2 \\right)^{\\sigma} \\right)^{\\frac{\\rho}{\\sigma} - 1} (1 - \\gamma) (1 - l_2)^{\\sigma - 1} + (1 - \\delta) y_3^{\\rho - 1} \\frac{\\partial y_3}{\\partial l_2} \\right\\} + \\\\\n",
    "    &\\quad \\left\\{ \\delta \\left(\\gamma \\left(1 - l_1 \\right)^{\\sigma} + (1 - \\gamma) \\left(1 - l_2 \\right)^{\\sigma} \\right)^{\\frac{\\rho}{\\sigma}} + (1 - \\delta) y_3^{\\rho} \\right\\}^{\\frac{1 - R}{\\rho} - 1} \\cdot \\\\\n",
    "    &\\quad (1 - \\delta) \\left\\{ (\\rho - 1) y_3^{\\rho - 2} \\frac{\\partial y_3}{\\partial y_2} \\frac{\\partial y_2}{\\partial \\theta_1} \\frac{\\partial y_3}{\\partial l_2} + y_3^{\\rho - 1} \\frac{\\partial^2 y_3}{\\partial l_2 \\partial y_2} \\frac{\\partial y_2}{\\partial \\theta_1} \\right\\}.\n",
    "\\end{align*}\n",
    "\n",
    "Done!"
   ]
  },
  {
   "cell_type": "markdown",
   "metadata": {},
   "source": [
    "With the parameter vector to be estimated $\\lambda$, we obtain the likelihood function\n",
    "\n",
    "\\begin{align*}\n",
    "    L(\\lambda | A, l_1, l_2, y_3) \n",
    "    &= \\prod_{i = 1}^N |J_i| \\left[ (2 \\pi)^{-\\frac{3}{2}} det\\left(\\Sigma \\right)^{- \\frac{1}{2}} \\exp \\left(- \\frac{1}{2} \\theta_i' \\Sigma^{-1} \\theta_i \\right) \\right] \\\\\n",
    "    &= \\prod_{i = 1}^N |J_i| \\left[ (2 \\pi)^{-\\frac{3}{2}} \\frac{1}{\\sigma_1 \\sigma_2 \\sigma_3} \\exp \\left(- \\frac{1}{2} \\sum_{j = 1}^3 \\frac{\\theta_{ij}^2}{\\sigma_j^2} \\right) \\right]\n",
    "\\end{align*}\n",
    "\n",
    "and the log-likelihood function is\n",
    "\n",
    "\\begin{align*}\n",
    "    l(\\lambda | A, l_1, l_2, y_3) \n",
    "    &= \\sum_{i = 1}^N \\left[ \\log\\left(|J_i|\\right) - \\frac{3}{2} \\log(2 \\pi) - \\log(\\sigma_1 \\sigma_2 \\sigma_3) - \\frac{1}{2} \\sum_{j = 1}^3 \\frac{\\theta_{ij}^2}{\\sigma_j^2} \\right]\n",
    "\\end{align*}\n"
   ]
  },
  {
   "cell_type": "code",
   "execution_count": 794,
   "metadata": {},
   "outputs": [],
   "source": [
    "def log_likelihood(param, data):\n",
    "\n",
    "    y1 = A * np.exp(u0 * sigma0)\n",
    "    y2 = (alpha * y1 ** r1 + (1 - alpha) * l1 ** r1) ** (1 / r1) * np.exp(u1 * sigma1)\n",
    "    y3 = b * (beta * y2 ** r2 + (1 - beta) * l2 ** r2) ** (1 / r2) * np.exp(u2 * sigma2)\n",
    "    dy3_dl2 = b * (beta * y2 ** r2 + (1 - beta) * l2 ** r2) ** (1 / r2 - 1) * (1 - beta) * l2 ** (r2 - 1) * np.exp(u2 * sigma2)\n",
    "    dy3_dy2 = b * (beta * y2 ** r2 + (1 - beta) * l2 ** r2) ** (1 / r2 - 1) * beta * y2 ** (r2 - 1) * np.exp(u2 * sigma2)\n",
    "    dy2_dl1 = (alpha * y1 ** r1 + (1 - alpha) * l1 ** r1) ** (1 / r1 - 1) * (1 - alpha) * l1 ** (r1 - 1) * np.exp(u1 * sigma1)\n",
    "    d2y3_dy22 = b * (1 - r2) * (beta * y2 ** r2 + (1 - beta) * l2 ** r2) ** (1 / r2 - 2) * beta ** 2 * y2 ** (2 * r2 - 2) * np.exp(u2 * sigma2) + \\\n",
    "                b * (beta * y2 ** r2 + (1 - beta) * l2 ** r2) ** (1 / r2 - 1) * beta * (r2 - 1) * y2 ** (r2 - 2) * np.exp(u2 * sigma2)\n",
    "    d2y2_dl12 = \n",
    "    \n",
    "    m1_l1 = (1 - R - rho) * (delta * (gamma * (1 - l1) ** sigma + (1 - gamma) * (1 - l_2) ** sigma) ** (rho / sigma) + (1 - delta) * y3 ** rho) ** ((1 - R) / rho - 2) * \\\n",
    "            (- delta * (gamma * (1 - l1) ** sigma + (1 - gamma) * (1 - l2) ** sigma) ** (rho / sigma - 1) * gamma * (1 - l1) ** (sigma - 1) + (1 - delta) * y3 ** (rho - 1) * dy3_dy2 * dy2_dl1) ** 2 + \\\n",
    "            (delta * (gamma * (1 - l1) ** sigma + (1 - gamma) * (1 - l2) ** sigma) ** (rho / sigma) + (1 - delta) * y3 ** rho) ** ((1 - R) / rho - 1) * \\\n",
    "            (delta * (rho - sigma) * (gamma * (1 - l1) ** sigma + (1 - gamma) * (1 - l2) ** sigma) ** (rho / sigma - 2) * gamma ** 2 * (1 - l1) ** (2 * sigma - 2) + delta * (gamma * (1 - l1) ** sigma + (1 - gamma) * (1 - l2) ** sigma) ** (rho / sigma - 1) * gamma * (sigma - 1) * (1 - l1) ** (sigma - 2) + \\\n",
    "             (1 - delta) * ((rho - 1) * y3 ** (rho - 2) * dy3_dy2 ** 2 * dy2_dl1 ** 2 + y3 ** (rho - 1) * d2y3_dy22 * dy2_dl1 ** 2 + y3 ** (rho - 1) * dy3_dy2 * d2y2_dl12))\n",
    "    \n",
    "    m1_l2 = (1 - R - rho) * (delta * (gamma * (1 - l1) ** sigma + (1 - gamma) * (1 - l_2) ** sigma) ** (rho / sigma) + (1 - delta) * y3 ** rho) ** ((1 - R) / rho - 2) * \\\n",
    "            (- delta * (gamma * (1 - l1) ** sigma + (1 - gamma) * (1 - l2) ** sigma) ** (rho / sigma - 1) * gamma * (1 - l1) ** (sigma - 1) + (1 - delta) * y3 ** (rho - 1) * dy3_dy2 * dy2_dl1) + \\\n",
    "            (- delta * (gamma * (1 - l1) ** sigma + (1 - gamma) * (1 - l2) ** sigma) ** (rho / sigma - 1) * (1 - gamma) * (1 - l2) ** (sigma - 1) + (1 - delta) * y3 ** (rho - 1) * dy3_dl2) + \\\n",
    "            (delta * (gamma * (1 - l1) ** sigma + (1 - gamma) * (1 - l2) ** sigma) ** (rho / sigma) + (1 - delta) * y3 ** rho) ** ((1 - R) / rho - 1) * \\\n",
    "            (delta * (rho - sigma) * (gamma * (1 - l1) ** sigma + (1 - gamma) * (1 - l2) ** sigma) ** (rho / sigma - 2) * gamma * (1 - gamma) * (1 - l1) ** (sigma - 1) * (1 - l2) ** (sigma - 1) + \\\n",
    "             (1 - delta) * ((rho - 1) * y3 ** (rho - 2) * dy3_dl2 * dy3_dy2 * dy2_dl1 + y3 ** (rho - 1) * d2y3_dy2dl2 * dy2_dl1))\n",
    "    \n",
    "    m1_theta0 = (1 - R - rho) * (delta * (gamma * (1 - l1) ** sigma + (1 - gamma) * (1 - l_2) ** sigma) ** (rho / sigma) + (1 - delta) * y3 ** rho) ** ((1 - R) / rho - 2) * (1 - delta) * y3 ** (rho - 1) * dy3_dy2 * dy2_dy1 * dy1_dtheta0 * \\\n",
    "                (- delta * (gamma * (1 - l1) ** sigma + (1 - gamma) * (1 - l2) ** sigma) ** (rho / sigma - 1) * gamma * (1 - l1) ** (sigma - 1) + (1 - delta) * y3 ** (rho - 1) * dy3_dy2 * dy2_dl1) + \\\n",
    "                (delta * (gamma * (1 - l1) ** sigma + (1 - gamma) * (1 - l2) ** sigma) ** (rho / sigma) + (1 - delta) * y3 ** rho) ** ((1 - R) / rho - 1) * \\\n",
    "                ((1 - delta) * ((rho - 1) * y3 ** (rho - 2) * dy3_dy2 ** 2 * dy2_dl1 * dy2_dy1 * dy1_dtheta0 + y3 ** (rho - 1) * d2y_dy22 * dy2_dy1 * dy1_dtheta0 * dy2_dl1 + y3 ** (rho - 1) * dy3_dy2 * d2y_dy1dl1 * dy1_dtheta0))\n",
    "\n",
    "    m2_l1 = (1 - R - rho) * (delta * (gamma * (1 - l1) ** sigma + (1 - gamma) * (1 - l_2) ** sigma) ** (rho / sigma) + (1 - delta) * y3 ** rho) ** ((1 - R) / rho - 2) * \\\n",
    "            (- delta * (gamma * (1 - l1) ** sigma + (1 - gamma) * (1 - l2) ** sigma) ** (rho / sigma - 1) * gamma * (1 - l1) ** (sigma - 1) + (1 - delta) * y3 ** (rho - 1) * dy3_dy2 * dy2_dl1) + \\\n",
    "            (- delta * (gamma * (1 - l1) ** sigma + (1 - gamma) * (1 - l2) ** sigma) ** (rho / sigma - 1) * (1 - gamma) * (1 - l2) ** (sigma - 1) + (1 - delta) * y3 ** (rho - 1) * dy3_dl2) + \\\n",
    "            (delta * (gamma * (1 - l1) ** sigma + (1 - gamma) * (1 - l2) ** sigma) ** (rho / sigma) + (1 - delta) * y3 ** rho) ** ((1 - R) / rho - 1) * \\\n",
    "            (delta * (rho - sigma) * (gamma * (1 - l1) ** sigma + (1 - gamma) * (1 - l2) ** sigma) ** (rho / sigma - 2) * gamma * (1 - gamma) * (1 - l1) ** (sigma - 1) * (1 - l2) ** (sigma - 1) + \\\n",
    "             (1 - delta) * ((rho - 1) * y3 ** (rho - 2) * dy3_dy2 * dy2_dl1 * dy3_dl2 + y3 ** (rho - 1) * d2y3_dl2dy2 * dy2_dl1))\n",
    "\n",
    "    m2_l2 = (1 - R - rho) * (delta * (gamma * (1 - l1) ** sigma + (1 - gamma) * (1 - l_2) ** sigma) ** (rho / sigma) + (1 - delta) * y3 ** rho) ** ((1 - R) / rho - 2) * \\\n",
    "            (- delta * (gamma * (1 - l1) ** sigma + (1 - gamma) * (1 - l2) ** sigma) ** (rho / sigma - 1) * (1 - gamma) * (1 - l2) ** (sigma - 1) + (1 - delta) * y3 ** (rho - 1) * dy3_dl2) ** 2 + \\\n",
    "            (delta * (gamma * (1 - l1) ** sigma + (1 - gamma) * (1 - l2) ** sigma) ** (rho / sigma) + (1 - delta) * y3 ** rho) ** ((1 - R) / rho - 1) * \\\n",
    "            (delta * (rho - sigma) * (gamma * (1 - l1) ** sigma + (1 - gamma) * (1 - l2) ** sigma) ** (rho / sigma - 2) * (1 - gamma) ** 2 * (1 - l2) ** (2 * sigma - 2) + delta * (gamma * (1 - l1) ** sigma + (1 - gamma) * (1 - l2) ** sigma) ** (rho / sigma - 1) * (1 - gamma) * (sigma - 1) * (1 - l2) ** (sigma - 2) + \\\n",
    "             (1 - delta) * ((rho - 1) * y3 ** (rho - 2) * dy3_dl2 ** 2 + y3 ** (rho - 1) * d2y3_dl22))\n",
    "\n",
    "    m2_theta0 = (1 - R - rho) * (delta * (gamma * (1 - l1) ** sigma + (1 - gamma) * (1 - l_2) ** sigma) ** (rho / sigma) + (1 - delta) * y3 ** rho) ** ((1 - R) / rho - 2) * (1 - delta) * y3 ** (rho - 1) * dy3_dy2 * dy2_dy1 * dy1_dtheta0 * \\\n",
    "                (- delta * (gamma * (1 - l1) ** sigma + (1 - gamma) * (1 - l2) ** sigma) ** (rho / sigma - 1) * (1 - gamma) * (1 - l2) ** (sigma - 1) + (1 - delta) * y3 ** (rho - 1) * dy3_dl2) + \\\n",
    "                (delta * (gamma * (1 - l1) ** sigma + (1 - gamma) * (1 - l2) ** sigma) ** (rho / sigma) + (1 - delta) * y3 ** rho) ** ((1 - R) / rho - 1) * \\\n",
    "                ((1 - delta) * ((rho - 1) * y3 ** (rho - 2) * dy3_dy2 * dy2_dy1 * dy1_dtheta0 * dy3_dl2 + y3 ** (rho - 1) * d2y3_dl2dy2 * dy2_dy1 * dy1_dtheta0))\n",
    "    \n",
    "    m2_theta1 = (1 - R - rho) * (delta * (gamma * (1 - l1) ** sigma + (1 - gamma) * (1 - l_2) ** sigma) ** (rho / sigma) + (1 - delta) * y3 ** rho) ** ((1 - R) / rho - 2) * (1 - delta) * y3 ** (rho - 1) * dy3_dy2 * dy2_dtheta1 * \\\n",
    "                (- delta * (gamma * (1 - l1) ** sigma + (1 - gamma) * (1 - l2) ** sigma) ** (rho / sigma - 1) * (1 - gamma) * (1 - l2) ** (sigma - 1) + (1 - delta) * y3 ** (rho - 1) * dy3_dl2) + \\\n",
    "                (delta * (gamma * (1 - l1) ** sigma + (1 - gamma) * (1 - l2) ** sigma) ** (rho / sigma) + (1 - delta) * y3 ** rho) ** ((1 - R) / rho - 1) * \\\n",
    "                ((1 - delta) * ((rho - 1) * y3 ** (rho - 2) * dy3_dy2 * dy2_dtheta1 * dy3_dl2 + y3 ** (rho - 1) * d2y3_dl2dy2 * dy2_dtheta1))\n",
    "\n",
    "    \n",
    "#     dtheta1_dl2 = - \n",
    "    \n",
    "    output = np.sum(log(np.abs(J)) - np.log(sigma1 * sigma2 * sigma3) - 1 / 2 * (theta0 ** 2 / sigma0 ** 2 + theta1 ** 2 / sigma1 ** 2 + theta2 ** 2 / sigma2 **2))\n",
    "    return(output)"
   ]
  },
  {
   "cell_type": "markdown",
   "metadata": {},
   "source": [
    "\\begin{align*}\n",
    "    \\frac{\\partial \\theta_1}{\\partial l_2} \n",
    "        &= - \\frac{E_{\\theta_2} \\left[m_{l_2}^2 \\right]}{E_{\\theta_2} \\left[m_{\\theta_1}^2 \\right]}, \\\\\n",
    "    \\frac{\\partial \\theta_0}{\\partial l_1}\n",
    "        &= - \\frac{E_{\\theta_1} \\left[ E_{\\theta_2} \\left[m_{l_1}^1 + m_{l_2}^1 \\frac{\\partial l_2}{\\partial l_1} \\right]\\right]}{E_{\\theta_1} \\left[ E_{\\theta_2} \\left[m_{\\theta_0}^1 + m_{l_2}^1 \\frac{\\partial l_2}{\\partial \\theta_0}\\right] \\right]} \\\\\n",
    "        &= - \\frac{E_{\\theta_1} \\left[ E_{\\theta_2} \\left[m_{l_1}^1 - m_{l_2}^1 \\frac{E_{\\theta_2} \\left[m_{l_1}^2 \\right]}{E_{\\theta_2} \\left[m_{l_2}^2 \\right]} \\right]\\right]}{E_{\\theta_1} \\left[ E_{\\theta_2} \\left[m_{\\theta_0}^1 - m_{l_2}^1 \\frac{E_{\\theta_2} \\left[m_{\\theta_0}^2 \\right]}{E_{\\theta_2} \\left[m_{l_2}^2 \\right]} \\right] \\right]}.\n",
    "\\end{align*}\n",
    "\n"
   ]
  },
  {
   "cell_type": "code",
   "execution_count": null,
   "metadata": {},
   "outputs": [],
   "source": []
  }
 ],
 "metadata": {
  "kernelspec": {
   "display_name": "Python 3",
   "language": "python",
   "name": "python3"
  },
  "language_info": {
   "codemirror_mode": {
    "name": "ipython",
    "version": 3
   },
   "file_extension": ".py",
   "mimetype": "text/x-python",
   "name": "python",
   "nbconvert_exporter": "python",
   "pygments_lexer": "ipython3",
   "version": "3.6.9"
  },
  "toc": {
   "base_numbering": 1,
   "nav_menu": {},
   "number_sections": false,
   "sideBar": true,
   "skip_h1_title": false,
   "title_cell": "Table of Contents",
   "title_sidebar": "Contents",
   "toc_cell": false,
   "toc_position": {},
   "toc_section_display": true,
   "toc_window_display": true
  }
 },
 "nbformat": 4,
 "nbformat_minor": 2
}
